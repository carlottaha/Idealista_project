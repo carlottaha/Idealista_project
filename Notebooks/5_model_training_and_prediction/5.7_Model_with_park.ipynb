{
 "cells": [
  {
   "cell_type": "markdown",
   "metadata": {},
   "source": [
    "# Notebook 5.7 - Testing the feature \"Park\""
   ]
  },
  {
   "cell_type": "markdown",
   "source": [
    "# Import libraries"
   ],
   "metadata": {
    "collapsed": false
   }
  },
  {
   "cell_type": "code",
   "execution_count": 1,
   "outputs": [],
   "source": [
    "import xgboost as xgb\n",
    "from sklearn.metrics import mean_absolute_error, mean_squared_error, mean_absolute_percentage_error\n",
    "import numpy as np\n",
    "import pandas as pd\n",
    "from sklearn.model_selection import train_test_split\n",
    "from scipy import stats\n",
    "from scipy.special import inv_boxcox"
   ],
   "metadata": {
    "collapsed": false,
    "ExecuteTime": {
     "end_time": "2024-07-10T15:06:15.071135100Z",
     "start_time": "2024-07-10T15:06:03.925882500Z"
    }
   }
  },
  {
   "cell_type": "markdown",
   "metadata": {},
   "source": [
    "# Choose the city"
   ]
  },
  {
   "cell_type": "code",
   "execution_count": 2,
   "outputs": [],
   "source": [
    "# Choose the city ('Madrid', 'Barcelona', 'Valencia', or 'Combined')\n",
    "city = 'Combined'"
   ],
   "metadata": {
    "collapsed": false,
    "ExecuteTime": {
     "end_time": "2024-07-10T15:06:15.091011400Z",
     "start_time": "2024-07-10T15:06:15.078292100Z"
    }
   }
  },
  {
   "cell_type": "markdown",
   "source": [
    "# Load the cleaned data set incl. the feature \"type of road\""
   ],
   "metadata": {
    "collapsed": false
   }
  },
  {
   "cell_type": "code",
   "execution_count": 3,
   "metadata": {
    "ExecuteTime": {
     "end_time": "2024-07-10T15:06:17.731430300Z",
     "start_time": "2024-07-10T15:06:15.087777300Z"
    }
   },
   "outputs": [],
   "source": [
    "if city.lower() == 'madrid':\n",
    "    data = pd.read_csv('../../data/5_cleaned_and_feature_engineering/feature_parks/madrid_cleaned_incl_parks.csv')\n",
    "elif city.lower() == 'barcelona':\n",
    "    data = pd.read_csv('../../data/5_cleaned_and_feature_engineering/feature_parks/barcelona_cleaned_incl_parks.csv')\n",
    "elif city.lower() == 'valencia':\n",
    "    data = pd.read_csv('../../data/5_cleaned_and_feature_engineering/feature_parks/valencia_cleaned_incl_parks.csv')\n",
    "elif city.lower() == 'combined':\n",
    "    #Read all 3 datasets and add a column to indicate source dataset\n",
    "    madrid_df = pd.read_csv('../../data/5_cleaned_and_feature_engineering/feature_parks/madrid_cleaned_incl_parks.csv')\n",
    "    valencia_df = pd.read_csv('../../data/5_cleaned_and_feature_engineering/feature_parks/valencia_cleaned_incl_parks.csv')\n",
    "    barcelona_df = pd.read_csv('../../data/5_cleaned_and_feature_engineering/feature_parks/barcelona_cleaned_incl_parks.csv')\n",
    "    madrid_df['Madrid'] = True\n",
    "    madrid_df['Valencia'] = False\n",
    "    madrid_df['Barcelona'] = False    \n",
    "    valencia_df['Madrid'] = False\n",
    "    valencia_df['Valencia'] = True\n",
    "    valencia_df['Barcelona'] = False    \n",
    "    barcelona_df['Madrid'] = False\n",
    "    barcelona_df['Valencia'] = False\n",
    "    barcelona_df['Barcelona'] = True\n",
    "    data = pd.concat([madrid_df, valencia_df, barcelona_df], ignore_index=True)"
   ]
  },
  {
   "cell_type": "code",
   "execution_count": 4,
   "outputs": [
    {
     "data": {
      "text/plain": "                 ASSETID   PRICE  CONSTRUCTEDAREA  ROOMNUMBER  BATHNUMBER  \\\n0  A10000037964896093228  255000               97           3           2   \n1  A10000072440601830803   82000               62           2           1   \n2  A10000538600815177437  133000               67           3           1   \n3  A10000654405436195291  204000              180           3           2   \n4  A10000872160480475600  161000               54           2           1   \n\n   AMENITYID  HASPARKINGSPACE  PARKINGSPACEPRICE  HASTERRACE  HASLIFT  ...  \\\n0          3                0                1.0           0        1  ...   \n1          3                0                1.0           0        1  ...   \n2          3                0                1.0           1        0  ...   \n3          3                0                1.0           0        1  ...   \n4          3                0                1.0           0        0  ...   \n\n        NEIGHBORHOOD  ZIP_CODE  PERIOD_201803  PERIOD_201806  PERIOD_201809  \\\n0      Pinar del Rey     28033              0              0              1   \n1  Palomeras sureste     28018              0              1              0   \n2          San Diego     28018              1              0              0   \n3             Ventas     28017              1              0              0   \n4        Buena Vista     28019              0              0              0   \n\n   PERIOD_201812  park_area_percentage  Madrid  Valencia  Barcelona  \n0              0              8.733098    True     False      False  \n1              0             18.516480    True     False      False  \n2              0             10.185739    True     False      False  \n3              0              0.000000    True     False      False  \n4              1             13.537461    True     False      False  \n\n[5 rows x 47 columns]",
      "text/html": "<div>\n<style scoped>\n    .dataframe tbody tr th:only-of-type {\n        vertical-align: middle;\n    }\n\n    .dataframe tbody tr th {\n        vertical-align: top;\n    }\n\n    .dataframe thead th {\n        text-align: right;\n    }\n</style>\n<table border=\"1\" class=\"dataframe\">\n  <thead>\n    <tr style=\"text-align: right;\">\n      <th></th>\n      <th>ASSETID</th>\n      <th>PRICE</th>\n      <th>CONSTRUCTEDAREA</th>\n      <th>ROOMNUMBER</th>\n      <th>BATHNUMBER</th>\n      <th>AMENITYID</th>\n      <th>HASPARKINGSPACE</th>\n      <th>PARKINGSPACEPRICE</th>\n      <th>HASTERRACE</th>\n      <th>HASLIFT</th>\n      <th>...</th>\n      <th>NEIGHBORHOOD</th>\n      <th>ZIP_CODE</th>\n      <th>PERIOD_201803</th>\n      <th>PERIOD_201806</th>\n      <th>PERIOD_201809</th>\n      <th>PERIOD_201812</th>\n      <th>park_area_percentage</th>\n      <th>Madrid</th>\n      <th>Valencia</th>\n      <th>Barcelona</th>\n    </tr>\n  </thead>\n  <tbody>\n    <tr>\n      <th>0</th>\n      <td>A10000037964896093228</td>\n      <td>255000</td>\n      <td>97</td>\n      <td>3</td>\n      <td>2</td>\n      <td>3</td>\n      <td>0</td>\n      <td>1.0</td>\n      <td>0</td>\n      <td>1</td>\n      <td>...</td>\n      <td>Pinar del Rey</td>\n      <td>28033</td>\n      <td>0</td>\n      <td>0</td>\n      <td>1</td>\n      <td>0</td>\n      <td>8.733098</td>\n      <td>True</td>\n      <td>False</td>\n      <td>False</td>\n    </tr>\n    <tr>\n      <th>1</th>\n      <td>A10000072440601830803</td>\n      <td>82000</td>\n      <td>62</td>\n      <td>2</td>\n      <td>1</td>\n      <td>3</td>\n      <td>0</td>\n      <td>1.0</td>\n      <td>0</td>\n      <td>1</td>\n      <td>...</td>\n      <td>Palomeras sureste</td>\n      <td>28018</td>\n      <td>0</td>\n      <td>1</td>\n      <td>0</td>\n      <td>0</td>\n      <td>18.516480</td>\n      <td>True</td>\n      <td>False</td>\n      <td>False</td>\n    </tr>\n    <tr>\n      <th>2</th>\n      <td>A10000538600815177437</td>\n      <td>133000</td>\n      <td>67</td>\n      <td>3</td>\n      <td>1</td>\n      <td>3</td>\n      <td>0</td>\n      <td>1.0</td>\n      <td>1</td>\n      <td>0</td>\n      <td>...</td>\n      <td>San Diego</td>\n      <td>28018</td>\n      <td>1</td>\n      <td>0</td>\n      <td>0</td>\n      <td>0</td>\n      <td>10.185739</td>\n      <td>True</td>\n      <td>False</td>\n      <td>False</td>\n    </tr>\n    <tr>\n      <th>3</th>\n      <td>A10000654405436195291</td>\n      <td>204000</td>\n      <td>180</td>\n      <td>3</td>\n      <td>2</td>\n      <td>3</td>\n      <td>0</td>\n      <td>1.0</td>\n      <td>0</td>\n      <td>1</td>\n      <td>...</td>\n      <td>Ventas</td>\n      <td>28017</td>\n      <td>1</td>\n      <td>0</td>\n      <td>0</td>\n      <td>0</td>\n      <td>0.000000</td>\n      <td>True</td>\n      <td>False</td>\n      <td>False</td>\n    </tr>\n    <tr>\n      <th>4</th>\n      <td>A10000872160480475600</td>\n      <td>161000</td>\n      <td>54</td>\n      <td>2</td>\n      <td>1</td>\n      <td>3</td>\n      <td>0</td>\n      <td>1.0</td>\n      <td>0</td>\n      <td>0</td>\n      <td>...</td>\n      <td>Buena Vista</td>\n      <td>28019</td>\n      <td>0</td>\n      <td>0</td>\n      <td>0</td>\n      <td>1</td>\n      <td>13.537461</td>\n      <td>True</td>\n      <td>False</td>\n      <td>False</td>\n    </tr>\n  </tbody>\n</table>\n<p>5 rows × 47 columns</p>\n</div>"
     },
     "execution_count": 4,
     "metadata": {},
     "output_type": "execute_result"
    }
   ],
   "source": [
    "data.head()"
   ],
   "metadata": {
    "collapsed": false,
    "ExecuteTime": {
     "end_time": "2024-07-10T15:06:17.829627300Z",
     "start_time": "2024-07-10T15:06:17.737682Z"
    }
   }
  },
  {
   "cell_type": "markdown",
   "source": [
    "# Defining X and y"
   ],
   "metadata": {
    "collapsed": false
   }
  },
  {
   "cell_type": "markdown",
   "source": [
    "__Transform target variable PRICE as optimized in notebook 5.1__"
   ],
   "metadata": {
    "collapsed": false
   }
  },
  {
   "cell_type": "code",
   "execution_count": 5,
   "outputs": [],
   "source": [
    "# Define the lambda value\n",
    "specified_lambda = 0\n",
    "\n",
    "# Apply Box-Cox transformation using the specified lambda value\n",
    "price_transformed = stats.boxcox(data['PRICE'], lmbda=specified_lambda)\n",
    "\n",
    "# Add the transformed PRICE back to the DataFrame\n",
    "data['PRICE_TRANSFORMED'] = price_transformed"
   ],
   "metadata": {
    "collapsed": false,
    "ExecuteTime": {
     "end_time": "2024-07-10T15:06:18.110462800Z",
     "start_time": "2024-07-10T15:06:17.808382100Z"
    }
   }
  },
  {
   "cell_type": "markdown",
   "source": [
    "__Assign features as X and target as Y__"
   ],
   "metadata": {
    "collapsed": false
   }
  },
  {
   "cell_type": "code",
   "execution_count": 6,
   "outputs": [],
   "source": [
    "X = data.drop(columns=['PRICE', 'PRICE_TRANSFORMED'])\n",
    "y = data['PRICE_TRANSFORMED']"
   ],
   "metadata": {
    "collapsed": false,
    "ExecuteTime": {
     "end_time": "2024-07-10T15:06:18.110462800Z",
     "start_time": "2024-07-10T15:06:17.981739800Z"
    }
   }
  },
  {
   "cell_type": "markdown",
   "source": [
    "# Drop features not relevant for modelling"
   ],
   "metadata": {
    "collapsed": false
   }
  },
  {
   "cell_type": "code",
   "execution_count": 7,
   "outputs": [],
   "source": [
    "#Drop ASSETID as it is only an identifier, drop ZIP_CODE as the base model only includes base features\n",
    "X = X.drop(columns=['ASSETID', 'ZIP_CODE'])"
   ],
   "metadata": {
    "collapsed": false,
    "ExecuteTime": {
     "end_time": "2024-07-10T15:06:18.235338100Z",
     "start_time": "2024-07-10T15:06:18.090092800Z"
    }
   }
  },
  {
   "cell_type": "markdown",
   "source": [
    "# Splitting the data into training and test set"
   ],
   "metadata": {
    "collapsed": false
   }
  },
  {
   "cell_type": "code",
   "execution_count": 8,
   "outputs": [
    {
     "name": "stdout",
     "output_type": "stream",
     "text": [
      "X_train shape: (104827, 44)\n",
      "X_test shape: (44927, 44)\n",
      "y_train shape: (104827,)\n",
      "y_test shape: (44927,)\n"
     ]
    }
   ],
   "source": [
    "# Split the dataset into training and testing set with 7:3 ratio\n",
    "X_train, X_test, y_train, y_test = train_test_split(X, y, test_size=0.3, random_state=42)\n",
    "\n",
    "# Check the shapes of the resulting datasets\n",
    "print(f\"X_train shape: {X_train.shape}\")\n",
    "print(f\"X_test shape: {X_test.shape}\")\n",
    "print(f\"y_train shape: {y_train.shape}\")\n",
    "print(f\"y_test shape: {y_test.shape}\")"
   ],
   "metadata": {
    "collapsed": false,
    "ExecuteTime": {
     "end_time": "2024-07-10T15:06:18.423771300Z",
     "start_time": "2024-07-10T15:06:18.194321800Z"
    }
   }
  },
  {
   "cell_type": "markdown",
   "source": [
    "# Target encoding of base feature NEIGHBORHOOD"
   ],
   "metadata": {
    "collapsed": false
   }
  },
  {
   "cell_type": "code",
   "execution_count": 9,
   "outputs": [],
   "source": [
    "# Calculate average LOG_PRICE for each NEIGHBORHOOD only with training set\n",
    "neighborhood_means = y_train.groupby(X_train['NEIGHBORHOOD']).mean()\n",
    "\n",
    "# Assign average means to both training and test set\n",
    "X_train['NEIGHBORHOOD_ENCODED'] = X_train['NEIGHBORHOOD'].map(neighborhood_means)\n",
    "X_test['NEIGHBORHOOD_ENCODED'] = X_test['NEIGHBORHOOD'].map(neighborhood_means)\n",
    "\n",
    "# Drop the NEIGHBORHOOD column from both training and testing sets\n",
    "X_train = X_train.drop(columns=['NEIGHBORHOOD'])\n",
    "X_test = X_test.drop(columns=['NEIGHBORHOOD'])"
   ],
   "metadata": {
    "collapsed": false,
    "ExecuteTime": {
     "end_time": "2024-07-10T15:06:18.546894600Z",
     "start_time": "2024-07-10T15:06:18.403701600Z"
    }
   }
  },
  {
   "cell_type": "markdown",
   "source": [
    "# Inspect data before running the model"
   ],
   "metadata": {
    "collapsed": false
   }
  },
  {
   "cell_type": "code",
   "execution_count": 10,
   "outputs": [
    {
     "data": {
      "text/plain": "        CONSTRUCTEDAREA  ROOMNUMBER  BATHNUMBER  AMENITYID  HASPARKINGSPACE  \\\n55930                82           3           2          3                0   \n110070               86           3           1          3                0   \n133225               93           4           1          3                0   \n57088                40           1           1          3                1   \n103352               84           3           2          3                0   \n\n        PARKINGSPACEPRICE  HASTERRACE  HASLIFT  HASAIRCONDITIONING  \\\n55930                 1.0           0        1                   0   \n110070                1.0           1        1                   1   \n133225                1.0           1        1                   0   \n57088                 1.0           0        1                   1   \n103352                1.0           0        0                   0   \n\n        HASNORTHORIENTATION  ...   LATITUDE  PERIOD_201803  PERIOD_201806  \\\n55930                     0  ...  40.406918              0              1   \n110070                    0  ...  41.416478              0              0   \n133225                    0  ...  41.419345              0              0   \n57088                     0  ...  40.358942              0              0   \n103352                    0  ...  41.377668              1              0   \n\n        PERIOD_201809  PERIOD_201812  park_area_percentage  Madrid  Valencia  \\\n55930               0              0              2.296912    True     False   \n110070              1              0              9.028562   False     False   \n133225              1              0              2.359327   False     False   \n57088               0              1             21.774896    True     False   \n103352              0              0              2.398357   False     False   \n\n        Barcelona  NEIGHBORHOOD_ENCODED  \n55930       False             13.275478  \n110070       True             12.368969  \n133225       True             12.092169  \n57088       False             12.247304  \n103352       True             12.413428  \n\n[5 rows x 44 columns]",
      "text/html": "<div>\n<style scoped>\n    .dataframe tbody tr th:only-of-type {\n        vertical-align: middle;\n    }\n\n    .dataframe tbody tr th {\n        vertical-align: top;\n    }\n\n    .dataframe thead th {\n        text-align: right;\n    }\n</style>\n<table border=\"1\" class=\"dataframe\">\n  <thead>\n    <tr style=\"text-align: right;\">\n      <th></th>\n      <th>CONSTRUCTEDAREA</th>\n      <th>ROOMNUMBER</th>\n      <th>BATHNUMBER</th>\n      <th>AMENITYID</th>\n      <th>HASPARKINGSPACE</th>\n      <th>PARKINGSPACEPRICE</th>\n      <th>HASTERRACE</th>\n      <th>HASLIFT</th>\n      <th>HASAIRCONDITIONING</th>\n      <th>HASNORTHORIENTATION</th>\n      <th>...</th>\n      <th>LATITUDE</th>\n      <th>PERIOD_201803</th>\n      <th>PERIOD_201806</th>\n      <th>PERIOD_201809</th>\n      <th>PERIOD_201812</th>\n      <th>park_area_percentage</th>\n      <th>Madrid</th>\n      <th>Valencia</th>\n      <th>Barcelona</th>\n      <th>NEIGHBORHOOD_ENCODED</th>\n    </tr>\n  </thead>\n  <tbody>\n    <tr>\n      <th>55930</th>\n      <td>82</td>\n      <td>3</td>\n      <td>2</td>\n      <td>3</td>\n      <td>0</td>\n      <td>1.0</td>\n      <td>0</td>\n      <td>1</td>\n      <td>0</td>\n      <td>0</td>\n      <td>...</td>\n      <td>40.406918</td>\n      <td>0</td>\n      <td>1</td>\n      <td>0</td>\n      <td>0</td>\n      <td>2.296912</td>\n      <td>True</td>\n      <td>False</td>\n      <td>False</td>\n      <td>13.275478</td>\n    </tr>\n    <tr>\n      <th>110070</th>\n      <td>86</td>\n      <td>3</td>\n      <td>1</td>\n      <td>3</td>\n      <td>0</td>\n      <td>1.0</td>\n      <td>1</td>\n      <td>1</td>\n      <td>1</td>\n      <td>0</td>\n      <td>...</td>\n      <td>41.416478</td>\n      <td>0</td>\n      <td>0</td>\n      <td>1</td>\n      <td>0</td>\n      <td>9.028562</td>\n      <td>False</td>\n      <td>False</td>\n      <td>True</td>\n      <td>12.368969</td>\n    </tr>\n    <tr>\n      <th>133225</th>\n      <td>93</td>\n      <td>4</td>\n      <td>1</td>\n      <td>3</td>\n      <td>0</td>\n      <td>1.0</td>\n      <td>1</td>\n      <td>1</td>\n      <td>0</td>\n      <td>0</td>\n      <td>...</td>\n      <td>41.419345</td>\n      <td>0</td>\n      <td>0</td>\n      <td>1</td>\n      <td>0</td>\n      <td>2.359327</td>\n      <td>False</td>\n      <td>False</td>\n      <td>True</td>\n      <td>12.092169</td>\n    </tr>\n    <tr>\n      <th>57088</th>\n      <td>40</td>\n      <td>1</td>\n      <td>1</td>\n      <td>3</td>\n      <td>1</td>\n      <td>1.0</td>\n      <td>0</td>\n      <td>1</td>\n      <td>1</td>\n      <td>0</td>\n      <td>...</td>\n      <td>40.358942</td>\n      <td>0</td>\n      <td>0</td>\n      <td>0</td>\n      <td>1</td>\n      <td>21.774896</td>\n      <td>True</td>\n      <td>False</td>\n      <td>False</td>\n      <td>12.247304</td>\n    </tr>\n    <tr>\n      <th>103352</th>\n      <td>84</td>\n      <td>3</td>\n      <td>2</td>\n      <td>3</td>\n      <td>0</td>\n      <td>1.0</td>\n      <td>0</td>\n      <td>0</td>\n      <td>0</td>\n      <td>0</td>\n      <td>...</td>\n      <td>41.377668</td>\n      <td>1</td>\n      <td>0</td>\n      <td>0</td>\n      <td>0</td>\n      <td>2.398357</td>\n      <td>False</td>\n      <td>False</td>\n      <td>True</td>\n      <td>12.413428</td>\n    </tr>\n  </tbody>\n</table>\n<p>5 rows × 44 columns</p>\n</div>"
     },
     "execution_count": 10,
     "metadata": {},
     "output_type": "execute_result"
    }
   ],
   "source": [
    "X_test.head()"
   ],
   "metadata": {
    "collapsed": false,
    "ExecuteTime": {
     "end_time": "2024-07-10T15:06:18.592442900Z",
     "start_time": "2024-07-10T15:06:18.546894600Z"
    }
   }
  },
  {
   "cell_type": "markdown",
   "source": [
    "# Test the model with new feature"
   ],
   "metadata": {
    "collapsed": false
   }
  },
  {
   "cell_type": "markdown",
   "source": [
    "__Define the best parameters found by GridSearchCV in Notebook 5.1__"
   ],
   "metadata": {
    "collapsed": false
   }
  },
  {
   "cell_type": "code",
   "execution_count": 11,
   "outputs": [],
   "source": [
    "best_params = {\n",
    "    'colsample_bytree': 0.8,\n",
    "    'learning_rate': 0.1,\n",
    "    'max_depth': 10,\n",
    "    'n_estimators': 500,\n",
    "    'subsample': 0.9\n",
    "}"
   ],
   "metadata": {
    "collapsed": false,
    "ExecuteTime": {
     "end_time": "2024-07-10T15:06:18.592442900Z",
     "start_time": "2024-07-10T15:06:18.587520100Z"
    }
   }
  },
  {
   "cell_type": "markdown",
   "source": [
    "__Running the optimized model new feature__"
   ],
   "metadata": {
    "collapsed": false
   }
  },
  {
   "cell_type": "code",
   "execution_count": 12,
   "outputs": [
    {
     "name": "stdout",
     "output_type": "stream",
     "text": [
      "Metrics on the original PRICE scale:\n",
      "MAE: 43759.7532\n",
      "MSE: 8720744755.8811\n",
      "RMSE: 93384.9279\n",
      "MAPE: 0.1297\n",
      "\n",
      "Metrics on the Box-Cox transformed scale:\n",
      "MAE: 0.1255\n",
      "MSE: 0.0320\n",
      "RMSE: 0.1788\n",
      "MAPE: 0.0101\n"
     ]
    }
   ],
   "source": [
    "# Initialize XGBoost model with the best parameters\n",
    "xgb_model = xgb.XGBRegressor(**best_params)\n",
    "\n",
    "# Train the model on the Box-Cox transformed target\n",
    "xgb_model.fit(X_train, y_train)\n",
    "\n",
    "# Predictions in Box-Cox transformed scale\n",
    "y_pred_boxcox_xgb = xgb_model.predict(X_test)\n",
    "\n",
    "# Transform predictions back to the original scale\n",
    "y_pred_xgb = inv_boxcox(y_pred_boxcox_xgb, specified_lambda)\n",
    "y_test_price = inv_boxcox(y_test, specified_lambda)\n",
    "\n",
    "# Evaluation metrics on the original scale\n",
    "mae_xgb = mean_absolute_error(y_test_price, y_pred_xgb)\n",
    "mse_xgb = mean_squared_error(y_test_price, y_pred_xgb)\n",
    "rmse_xgb = np.sqrt(mse_xgb)\n",
    "mape_xgb = mean_absolute_percentage_error(y_test_price, y_pred_xgb)\n",
    "\n",
    "# Evaluation metrics on the Box-Cox transformed scale\n",
    "mae_boxcox_xgb = mean_absolute_error(y_test, y_pred_boxcox_xgb)\n",
    "mse_boxcox_xgb = mean_squared_error(y_test, y_pred_boxcox_xgb)\n",
    "rmse_boxcox_xgb = np.sqrt(mse_boxcox_xgb)\n",
    "mape_boxcox_xgb = mean_absolute_percentage_error(y_test, y_pred_boxcox_xgb)\n",
    "\n",
    "# Print the metrics\n",
    "print(\"Metrics on the original PRICE scale:\")\n",
    "print(f\"MAE: {mae_xgb:.4f}\")\n",
    "print(f\"MSE: {mse_xgb:.4f}\")\n",
    "print(f\"RMSE: {rmse_xgb:.4f}\")\n",
    "print(f\"MAPE: {mape_xgb:.4f}\")\n",
    "\n",
    "print(\"\\nMetrics on the Box-Cox transformed scale:\")\n",
    "print(f\"MAE: {mae_boxcox_xgb:.4f}\")\n",
    "print(f\"MSE: {mse_boxcox_xgb:.4f}\")\n",
    "print(f\"RMSE: {rmse_boxcox_xgb:.4f}\")\n",
    "print(f\"MAPE: {mape_boxcox_xgb:.4f}\")"
   ],
   "metadata": {
    "collapsed": false,
    "ExecuteTime": {
     "end_time": "2024-07-10T15:06:52.533630Z",
     "start_time": "2024-07-10T15:06:18.600426200Z"
    }
   }
  }
 ],
 "metadata": {
  "kernelspec": {
   "display_name": "Python 3",
   "language": "python",
   "name": "python3"
  },
  "language_info": {
   "codemirror_mode": {
    "name": "ipython",
    "version": 3
   },
   "file_extension": ".py",
   "mimetype": "text/x-python",
   "name": "python",
   "nbconvert_exporter": "python",
   "pygments_lexer": "ipython3",
   "version": "3.11.1"
  }
 },
 "nbformat": 4,
 "nbformat_minor": 2
}
