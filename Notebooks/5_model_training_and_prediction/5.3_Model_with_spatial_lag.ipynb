{
 "cells": [
  {
   "cell_type": "markdown",
   "metadata": {},
   "source": [
    "# Notebook 5.3 - Testing spatial lag as a feature"
   ]
  },
  {
   "cell_type": "markdown",
   "source": [
    "# Import libraries"
   ],
   "metadata": {
    "collapsed": false
   }
  },
  {
   "cell_type": "code",
   "execution_count": 97,
   "outputs": [],
   "source": [
    "import xgboost as xgb\n",
    "from sklearn.metrics import mean_absolute_error, mean_squared_error, mean_absolute_percentage_error\n",
    "import numpy as np\n",
    "import pandas as pd\n",
    "from libpysal.weights import KNN, lag_spatial\n",
    "from scipy.spatial import cKDTree\n",
    "from sklearn.model_selection import train_test_split\n",
    "from scipy import stats\n",
    "from scipy.special import inv_boxcox"
   ],
   "metadata": {
    "collapsed": false,
    "ExecuteTime": {
     "end_time": "2024-07-04T07:34:20.960204Z",
     "start_time": "2024-07-04T07:34:20.844442500Z"
    }
   }
  },
  {
   "cell_type": "markdown",
   "metadata": {},
   "source": [
    "# Choosing the city"
   ]
  },
  {
   "cell_type": "code",
   "execution_count": 98,
   "outputs": [],
   "source": [
    "# Choose the city ('Madrid', 'Barcelona', 'Valencia', or 'Combined')\n",
    "city = 'Combined'"
   ],
   "metadata": {
    "collapsed": false,
    "ExecuteTime": {
     "end_time": "2024-07-04T07:34:21.029317100Z",
     "start_time": "2024-07-04T07:34:20.856654900Z"
    }
   }
  },
  {
   "cell_type": "markdown",
   "source": [
    "# Load the cleaned data sets"
   ],
   "metadata": {
    "collapsed": false
   }
  },
  {
   "cell_type": "code",
   "execution_count": 99,
   "metadata": {
    "ExecuteTime": {
     "end_time": "2024-07-04T07:34:21.398067400Z",
     "start_time": "2024-07-04T07:34:20.861591200Z"
    }
   },
   "outputs": [],
   "source": [
    "if city.lower() == 'madrid':\n",
    "    data = pd.read_csv('../../data/4_data_cleaned/madrid_cleaned_base_features.csv')\n",
    "elif city.lower() == 'barcelona':\n",
    "    data = pd.read_csv('../../data/4_data_cleaned/barcelona_cleaned_base_features.csv')\n",
    "elif city.lower() == 'valencia':\n",
    "    data = pd.read_csv('../../data/4_data_cleaned/valencia_cleaned_base_features.csv')\n",
    "elif city.lower() == 'combined':\n",
    "    # Read all 3 datasets and add a column to indicate source dataset\n",
    "    madrid_df = pd.read_csv('../../data/4_data_cleaned/madrid_cleaned_base_features.csv')\n",
    "    valencia_df = pd.read_csv('../../data/4_data_cleaned/valencia_cleaned_base_features.csv')\n",
    "    barcelona_df = pd.read_csv('../../data/4_data_cleaned/barcelona_cleaned_base_features.csv')\n",
    "    madrid_df['Madrid'] = True\n",
    "    madrid_df['Valencia'] = False\n",
    "    madrid_df['Barcelona'] = False    \n",
    "    valencia_df['Madrid'] = False\n",
    "    valencia_df['Valencia'] = True\n",
    "    valencia_df['Barcelona'] = False    \n",
    "    barcelona_df['Madrid'] = False\n",
    "    barcelona_df['Valencia'] = False\n",
    "    barcelona_df['Barcelona'] = True\n",
    "    data = pd.concat([madrid_df, valencia_df, barcelona_df], ignore_index=True)"
   ]
  },
  {
   "cell_type": "code",
   "execution_count": 100,
   "outputs": [
    {
     "data": {
      "text/plain": "                 ASSETID   PRICE  CONSTRUCTEDAREA  ROOMNUMBER  BATHNUMBER  \\\n0  A10000037964896093228  255000               97           3           2   \n1  A10000072440601830803   82000               62           2           1   \n2  A10000538600815177437  133000               67           3           1   \n3  A10000654405436195291  204000              180           3           2   \n4  A10000872160480475600  161000               54           2           1   \n\n   AMENITYID  HASPARKINGSPACE  PARKINGSPACEPRICE  HASTERRACE  HASLIFT  ...  \\\n0          3                0                1.0           0        1  ...   \n1          3                0                1.0           0        1  ...   \n2          3                0                1.0           1        0  ...   \n3          3                0                1.0           0        1  ...   \n4          3                0                1.0           0        0  ...   \n\n    LATITUDE       NEIGHBORHOOD  ZIP_CODE  PERIOD_201803  PERIOD_201806  \\\n0  40.473921      Pinar del Rey     28033              0              0   \n1  40.384968  Palomeras sureste     28018              0              1   \n2  40.384547          San Diego     28018              1              0   \n3  40.430336             Ventas     28017              1              0   \n4  40.384103        Buena Vista     28019              0              0   \n\n   PERIOD_201809  PERIOD_201812  Madrid  Valencia  Barcelona  \n0              1              0    True     False      False  \n1              0              0    True     False      False  \n2              0              0    True     False      False  \n3              0              0    True     False      False  \n4              0              1    True     False      False  \n\n[5 rows x 46 columns]",
      "text/html": "<div>\n<style scoped>\n    .dataframe tbody tr th:only-of-type {\n        vertical-align: middle;\n    }\n\n    .dataframe tbody tr th {\n        vertical-align: top;\n    }\n\n    .dataframe thead th {\n        text-align: right;\n    }\n</style>\n<table border=\"1\" class=\"dataframe\">\n  <thead>\n    <tr style=\"text-align: right;\">\n      <th></th>\n      <th>ASSETID</th>\n      <th>PRICE</th>\n      <th>CONSTRUCTEDAREA</th>\n      <th>ROOMNUMBER</th>\n      <th>BATHNUMBER</th>\n      <th>AMENITYID</th>\n      <th>HASPARKINGSPACE</th>\n      <th>PARKINGSPACEPRICE</th>\n      <th>HASTERRACE</th>\n      <th>HASLIFT</th>\n      <th>...</th>\n      <th>LATITUDE</th>\n      <th>NEIGHBORHOOD</th>\n      <th>ZIP_CODE</th>\n      <th>PERIOD_201803</th>\n      <th>PERIOD_201806</th>\n      <th>PERIOD_201809</th>\n      <th>PERIOD_201812</th>\n      <th>Madrid</th>\n      <th>Valencia</th>\n      <th>Barcelona</th>\n    </tr>\n  </thead>\n  <tbody>\n    <tr>\n      <th>0</th>\n      <td>A10000037964896093228</td>\n      <td>255000</td>\n      <td>97</td>\n      <td>3</td>\n      <td>2</td>\n      <td>3</td>\n      <td>0</td>\n      <td>1.0</td>\n      <td>0</td>\n      <td>1</td>\n      <td>...</td>\n      <td>40.473921</td>\n      <td>Pinar del Rey</td>\n      <td>28033</td>\n      <td>0</td>\n      <td>0</td>\n      <td>1</td>\n      <td>0</td>\n      <td>True</td>\n      <td>False</td>\n      <td>False</td>\n    </tr>\n    <tr>\n      <th>1</th>\n      <td>A10000072440601830803</td>\n      <td>82000</td>\n      <td>62</td>\n      <td>2</td>\n      <td>1</td>\n      <td>3</td>\n      <td>0</td>\n      <td>1.0</td>\n      <td>0</td>\n      <td>1</td>\n      <td>...</td>\n      <td>40.384968</td>\n      <td>Palomeras sureste</td>\n      <td>28018</td>\n      <td>0</td>\n      <td>1</td>\n      <td>0</td>\n      <td>0</td>\n      <td>True</td>\n      <td>False</td>\n      <td>False</td>\n    </tr>\n    <tr>\n      <th>2</th>\n      <td>A10000538600815177437</td>\n      <td>133000</td>\n      <td>67</td>\n      <td>3</td>\n      <td>1</td>\n      <td>3</td>\n      <td>0</td>\n      <td>1.0</td>\n      <td>1</td>\n      <td>0</td>\n      <td>...</td>\n      <td>40.384547</td>\n      <td>San Diego</td>\n      <td>28018</td>\n      <td>1</td>\n      <td>0</td>\n      <td>0</td>\n      <td>0</td>\n      <td>True</td>\n      <td>False</td>\n      <td>False</td>\n    </tr>\n    <tr>\n      <th>3</th>\n      <td>A10000654405436195291</td>\n      <td>204000</td>\n      <td>180</td>\n      <td>3</td>\n      <td>2</td>\n      <td>3</td>\n      <td>0</td>\n      <td>1.0</td>\n      <td>0</td>\n      <td>1</td>\n      <td>...</td>\n      <td>40.430336</td>\n      <td>Ventas</td>\n      <td>28017</td>\n      <td>1</td>\n      <td>0</td>\n      <td>0</td>\n      <td>0</td>\n      <td>True</td>\n      <td>False</td>\n      <td>False</td>\n    </tr>\n    <tr>\n      <th>4</th>\n      <td>A10000872160480475600</td>\n      <td>161000</td>\n      <td>54</td>\n      <td>2</td>\n      <td>1</td>\n      <td>3</td>\n      <td>0</td>\n      <td>1.0</td>\n      <td>0</td>\n      <td>0</td>\n      <td>...</td>\n      <td>40.384103</td>\n      <td>Buena Vista</td>\n      <td>28019</td>\n      <td>0</td>\n      <td>0</td>\n      <td>0</td>\n      <td>1</td>\n      <td>True</td>\n      <td>False</td>\n      <td>False</td>\n    </tr>\n  </tbody>\n</table>\n<p>5 rows × 46 columns</p>\n</div>"
     },
     "execution_count": 100,
     "metadata": {},
     "output_type": "execute_result"
    }
   ],
   "source": [
    "data.head()"
   ],
   "metadata": {
    "collapsed": false,
    "ExecuteTime": {
     "end_time": "2024-07-04T07:34:21.414259Z",
     "start_time": "2024-07-04T07:34:21.398067400Z"
    }
   }
  },
  {
   "cell_type": "markdown",
   "source": [
    "# Defining X and y"
   ],
   "metadata": {
    "collapsed": false
   }
  },
  {
   "cell_type": "markdown",
   "source": [
    "__Transform target variable PRICE as optimized in notebook 5.1__"
   ],
   "metadata": {
    "collapsed": false
   }
  },
  {
   "cell_type": "code",
   "execution_count": 101,
   "outputs": [],
   "source": [
    "# Define the lambda value\n",
    "specified_lambda = 0\n",
    "\n",
    "# Apply Box-Cox transformation using the specified lambda value\n",
    "price_transformed = stats.boxcox(data['PRICE'], lmbda=specified_lambda)\n",
    "\n",
    "# Add the transformed PRICE back to the DataFrame\n",
    "data['PRICE_TRANSFORMED'] = price_transformed"
   ],
   "metadata": {
    "collapsed": false,
    "ExecuteTime": {
     "end_time": "2024-07-04T07:34:21.445041300Z",
     "start_time": "2024-07-04T07:34:21.414259Z"
    }
   }
  },
  {
   "cell_type": "markdown",
   "source": [
    "__Assign features as X and target as Y__"
   ],
   "metadata": {
    "collapsed": false
   }
  },
  {
   "cell_type": "code",
   "execution_count": 102,
   "outputs": [],
   "source": [
    "X = data.drop(columns=['PRICE', 'PRICE_TRANSFORMED'])\n",
    "y = data['PRICE_TRANSFORMED']"
   ],
   "metadata": {
    "collapsed": false,
    "ExecuteTime": {
     "end_time": "2024-07-04T07:34:21.555660300Z",
     "start_time": "2024-07-04T07:34:21.429302300Z"
    }
   }
  },
  {
   "cell_type": "markdown",
   "source": [
    "# Drop features not relevant for modelling"
   ],
   "metadata": {
    "collapsed": false
   }
  },
  {
   "cell_type": "code",
   "execution_count": 103,
   "outputs": [],
   "source": [
    "#Drop ASSETID as it is only an identifier, drop ZIP_CODE as the base model only includes base features\n",
    "X = X.drop(columns=['ASSETID', 'ZIP_CODE'])"
   ],
   "metadata": {
    "collapsed": false,
    "ExecuteTime": {
     "end_time": "2024-07-04T07:34:21.585995100Z",
     "start_time": "2024-07-04T07:34:21.458770300Z"
    }
   }
  },
  {
   "cell_type": "markdown",
   "source": [
    "# Split the data into training and test sets"
   ],
   "metadata": {
    "collapsed": false
   }
  },
  {
   "cell_type": "code",
   "execution_count": 104,
   "outputs": [
    {
     "name": "stdout",
     "output_type": "stream",
     "text": [
      "X_train shape: (104827, 43)\n",
      "X_test shape: (44927, 43)\n",
      "y_train shape: (104827,)\n",
      "y_test shape: (44927,)\n"
     ]
    }
   ],
   "source": [
    "# Split the dataset into training and testing set with 7:3 ratio\n",
    "X_train, X_test, y_train, y_test = train_test_split(X, y, test_size=0.3, random_state=42)\n",
    "\n",
    "# Check the shapes of the resulting datasets\n",
    "print(f\"X_train shape: {X_train.shape}\")\n",
    "print(f\"X_test shape: {X_test.shape}\")\n",
    "print(f\"y_train shape: {y_train.shape}\")\n",
    "print(f\"y_test shape: {y_test.shape}\")"
   ],
   "metadata": {
    "collapsed": false,
    "ExecuteTime": {
     "end_time": "2024-07-04T07:34:21.585995100Z",
     "start_time": "2024-07-04T07:34:21.486942700Z"
    }
   }
  },
  {
   "cell_type": "markdown",
   "source": [
    "# Target encoding of base feature neighborhood"
   ],
   "metadata": {
    "collapsed": false
   }
  },
  {
   "cell_type": "code",
   "execution_count": 105,
   "outputs": [],
   "source": [
    "# Calculate average LOG_PRICE for each NEIGHBORHOOD only with training set\n",
    "neighborhood_means = y_train.groupby(X_train['NEIGHBORHOOD']).mean()\n",
    "\n",
    "# Assign average means to both training and test set\n",
    "X_train['NEIGHBORHOOD_ENCODED'] = X_train['NEIGHBORHOOD'].map(neighborhood_means)\n",
    "X_test['NEIGHBORHOOD_ENCODED'] = X_test['NEIGHBORHOOD'].map(neighborhood_means)\n",
    "\n",
    "# Drop the NEIGHBORHOOD column from both training and testing sets\n",
    "X_train = X_train.drop(columns=['NEIGHBORHOOD'])\n",
    "X_test = X_test.drop(columns=['NEIGHBORHOOD'])"
   ],
   "metadata": {
    "collapsed": false,
    "ExecuteTime": {
     "end_time": "2024-07-04T07:34:21.601127600Z",
     "start_time": "2024-07-04T07:34:21.539922Z"
    }
   }
  },
  {
   "cell_type": "code",
   "execution_count": 106,
   "outputs": [
    {
     "data": {
      "text/plain": "       CONSTRUCTEDAREA  ROOMNUMBER  BATHNUMBER  AMENITYID  HASPARKINGSPACE  \\\n88583               80           3           1          3                0   \n48173              102           3           2          3                0   \n74291               38           1           1          3                0   \n853                 43           1           1          3                0   \n95919               65           3           1          3                0   \n\n       PARKINGSPACEPRICE  HASTERRACE  HASLIFT  HASAIRCONDITIONING  \\\n88583                1.0           0        1                   1   \n48173                1.0           0        1                   1   \n74291                1.0           0        1                   0   \n853                  1.0           1        1                   1   \n95919                1.0           0        1                   0   \n\n       HASNORTHORIENTATION  ...  LONGITUDE   LATITUDE  PERIOD_201803  \\\n88583                    0  ...  -0.394215  39.481230              0   \n48173                    0  ...  -3.608624  40.374728              0   \n74291                    0  ...  -3.677210  40.429325              0   \n853                      0  ...  -3.697117  40.422022              0   \n95919                    0  ...  -0.400322  39.468970              1   \n\n       PERIOD_201806  PERIOD_201809  PERIOD_201812  Madrid  Valencia  \\\n88583              1              0              0   False      True   \n48173              0              0              1    True     False   \n74291              0              0              1    True     False   \n853                0              1              0    True     False   \n95919              0              0              0   False      True   \n\n       Barcelona  NEIGHBORHOOD_ENCODED  \n88583      False             12.067036  \n48173      False             12.247304  \n74291      False             13.273539  \n853        False             13.151636  \n95919      False             11.740395  \n\n[5 rows x 43 columns]",
      "text/html": "<div>\n<style scoped>\n    .dataframe tbody tr th:only-of-type {\n        vertical-align: middle;\n    }\n\n    .dataframe tbody tr th {\n        vertical-align: top;\n    }\n\n    .dataframe thead th {\n        text-align: right;\n    }\n</style>\n<table border=\"1\" class=\"dataframe\">\n  <thead>\n    <tr style=\"text-align: right;\">\n      <th></th>\n      <th>CONSTRUCTEDAREA</th>\n      <th>ROOMNUMBER</th>\n      <th>BATHNUMBER</th>\n      <th>AMENITYID</th>\n      <th>HASPARKINGSPACE</th>\n      <th>PARKINGSPACEPRICE</th>\n      <th>HASTERRACE</th>\n      <th>HASLIFT</th>\n      <th>HASAIRCONDITIONING</th>\n      <th>HASNORTHORIENTATION</th>\n      <th>...</th>\n      <th>LONGITUDE</th>\n      <th>LATITUDE</th>\n      <th>PERIOD_201803</th>\n      <th>PERIOD_201806</th>\n      <th>PERIOD_201809</th>\n      <th>PERIOD_201812</th>\n      <th>Madrid</th>\n      <th>Valencia</th>\n      <th>Barcelona</th>\n      <th>NEIGHBORHOOD_ENCODED</th>\n    </tr>\n  </thead>\n  <tbody>\n    <tr>\n      <th>88583</th>\n      <td>80</td>\n      <td>3</td>\n      <td>1</td>\n      <td>3</td>\n      <td>0</td>\n      <td>1.0</td>\n      <td>0</td>\n      <td>1</td>\n      <td>1</td>\n      <td>0</td>\n      <td>...</td>\n      <td>-0.394215</td>\n      <td>39.481230</td>\n      <td>0</td>\n      <td>1</td>\n      <td>0</td>\n      <td>0</td>\n      <td>False</td>\n      <td>True</td>\n      <td>False</td>\n      <td>12.067036</td>\n    </tr>\n    <tr>\n      <th>48173</th>\n      <td>102</td>\n      <td>3</td>\n      <td>2</td>\n      <td>3</td>\n      <td>0</td>\n      <td>1.0</td>\n      <td>0</td>\n      <td>1</td>\n      <td>1</td>\n      <td>0</td>\n      <td>...</td>\n      <td>-3.608624</td>\n      <td>40.374728</td>\n      <td>0</td>\n      <td>0</td>\n      <td>0</td>\n      <td>1</td>\n      <td>True</td>\n      <td>False</td>\n      <td>False</td>\n      <td>12.247304</td>\n    </tr>\n    <tr>\n      <th>74291</th>\n      <td>38</td>\n      <td>1</td>\n      <td>1</td>\n      <td>3</td>\n      <td>0</td>\n      <td>1.0</td>\n      <td>0</td>\n      <td>1</td>\n      <td>0</td>\n      <td>0</td>\n      <td>...</td>\n      <td>-3.677210</td>\n      <td>40.429325</td>\n      <td>0</td>\n      <td>0</td>\n      <td>0</td>\n      <td>1</td>\n      <td>True</td>\n      <td>False</td>\n      <td>False</td>\n      <td>13.273539</td>\n    </tr>\n    <tr>\n      <th>853</th>\n      <td>43</td>\n      <td>1</td>\n      <td>1</td>\n      <td>3</td>\n      <td>0</td>\n      <td>1.0</td>\n      <td>1</td>\n      <td>1</td>\n      <td>1</td>\n      <td>0</td>\n      <td>...</td>\n      <td>-3.697117</td>\n      <td>40.422022</td>\n      <td>0</td>\n      <td>0</td>\n      <td>1</td>\n      <td>0</td>\n      <td>True</td>\n      <td>False</td>\n      <td>False</td>\n      <td>13.151636</td>\n    </tr>\n    <tr>\n      <th>95919</th>\n      <td>65</td>\n      <td>3</td>\n      <td>1</td>\n      <td>3</td>\n      <td>0</td>\n      <td>1.0</td>\n      <td>0</td>\n      <td>1</td>\n      <td>0</td>\n      <td>0</td>\n      <td>...</td>\n      <td>-0.400322</td>\n      <td>39.468970</td>\n      <td>1</td>\n      <td>0</td>\n      <td>0</td>\n      <td>0</td>\n      <td>False</td>\n      <td>True</td>\n      <td>False</td>\n      <td>11.740395</td>\n    </tr>\n  </tbody>\n</table>\n<p>5 rows × 43 columns</p>\n</div>"
     },
     "execution_count": 106,
     "metadata": {},
     "output_type": "execute_result"
    }
   ],
   "source": [
    "X_train.head()"
   ],
   "metadata": {
    "collapsed": false,
    "ExecuteTime": {
     "end_time": "2024-07-04T07:34:21.601127600Z",
     "start_time": "2024-07-04T07:34:21.585995100Z"
    }
   }
  },
  {
   "cell_type": "markdown",
   "source": [
    "# Adding spatial lag as a feature"
   ],
   "metadata": {
    "collapsed": false
   }
  },
  {
   "cell_type": "code",
   "execution_count": 107,
   "outputs": [
    {
     "name": "stderr",
     "output_type": "stream",
     "text": [
      "C:\\Users\\hanten carlotta\\PycharmProjects\\Capstone\\venv\\Lib\\site-packages\\libpysal\\weights\\distance.py:153: UserWarning: The weights matrix is not fully connected: \n",
      " There are 6 disconnected components.\n",
      "  W.__init__(self, neighbors, id_order=ids, **kwargs)\n"
     ]
    }
   ],
   "source": [
    "# Extract coordinates for the training set\n",
    "coordinates_train = X_train[['LATITUDE', 'LONGITUDE']].values\n",
    "\n",
    "#Define optimized number of neighbours that minimizes the number of disconnected components to 5\n",
    "optimized_k = 29\n",
    "\n",
    "# Create KNN spatial weights matrix based on the training set coordinates with the optimized k\n",
    "knn_train = KNN.from_array(coordinates_train, k=optimized_k)\n",
    "\n",
    "#Normalize the weights matrix\n",
    "knn_train.transform = 'r'  \n",
    "\n",
    "# Calculate the spatial lag for the training set\n",
    "X_train['SPATIAL_LAG'] = lag_spatial(knn_train, y_train)"
   ],
   "metadata": {
    "collapsed": false,
    "ExecuteTime": {
     "end_time": "2024-07-04T07:34:27.402263200Z",
     "start_time": "2024-07-04T07:34:21.601127600Z"
    }
   }
  },
  {
   "cell_type": "code",
   "execution_count": 108,
   "outputs": [],
   "source": [
    "# For the test set, create a weights object using training coordinates but query test coordinates\n",
    "# Create a KDTree for the training coordinates\n",
    "tree = cKDTree(coordinates_train)\n",
    "\n",
    "# Find the k-nearest neighbors for each test coordinate in the training set\n",
    "distances, indices = tree.query(X_test[['LATITUDE', 'LONGITUDE']], k=29)\n",
    "\n",
    "# Calculate the weights based on the distances\n",
    "weights_test = np.exp(-distances)\n",
    "\n",
    "# Normalize the weights\n",
    "weights_test /= weights_test.sum(axis=1, keepdims=True)\n",
    "\n",
    "# Calculate the spatial lag for the test set using the training set's target values\n",
    "X_test['SPATIAL_LAG'] = np.sum(weights_test * y_train.values[indices], axis=1)"
   ],
   "metadata": {
    "collapsed": false,
    "ExecuteTime": {
     "end_time": "2024-07-04T07:34:27.637178800Z",
     "start_time": "2024-07-04T07:34:27.402263200Z"
    }
   }
  },
  {
   "cell_type": "markdown",
   "source": [
    "# Inspecting final data before running model"
   ],
   "metadata": {
    "collapsed": false
   }
  },
  {
   "cell_type": "code",
   "execution_count": 109,
   "outputs": [
    {
     "data": {
      "text/plain": "       CONSTRUCTEDAREA  ROOMNUMBER  BATHNUMBER  AMENITYID  HASPARKINGSPACE  \\\n88583               80           3           1          3                0   \n48173              102           3           2          3                0   \n74291               38           1           1          3                0   \n853                 43           1           1          3                0   \n95919               65           3           1          3                0   \n\n       PARKINGSPACEPRICE  HASTERRACE  HASLIFT  HASAIRCONDITIONING  \\\n88583                1.0           0        1                   1   \n48173                1.0           0        1                   1   \n74291                1.0           0        1                   0   \n853                  1.0           1        1                   1   \n95919                1.0           0        1                   0   \n\n       HASNORTHORIENTATION  ...   LATITUDE  PERIOD_201803  PERIOD_201806  \\\n88583                    0  ...  39.481230              0              1   \n48173                    0  ...  40.374728              0              0   \n74291                    0  ...  40.429325              0              0   \n853                      0  ...  40.422022              0              0   \n95919                    0  ...  39.468970              1              0   \n\n       PERIOD_201809  PERIOD_201812  Madrid  Valencia  Barcelona  \\\n88583              0              0   False      True      False   \n48173              0              1    True     False      False   \n74291              0              1    True     False      False   \n853                1              0    True     False      False   \n95919              0              0   False      True      False   \n\n       NEIGHBORHOOD_ENCODED  SPATIAL_LAG  \n88583             12.067036    12.067894  \n48173             12.247304    12.418340  \n74291             13.273539    13.170042  \n853               13.151636    13.154386  \n95919             11.740395    11.559670  \n\n[5 rows x 44 columns]",
      "text/html": "<div>\n<style scoped>\n    .dataframe tbody tr th:only-of-type {\n        vertical-align: middle;\n    }\n\n    .dataframe tbody tr th {\n        vertical-align: top;\n    }\n\n    .dataframe thead th {\n        text-align: right;\n    }\n</style>\n<table border=\"1\" class=\"dataframe\">\n  <thead>\n    <tr style=\"text-align: right;\">\n      <th></th>\n      <th>CONSTRUCTEDAREA</th>\n      <th>ROOMNUMBER</th>\n      <th>BATHNUMBER</th>\n      <th>AMENITYID</th>\n      <th>HASPARKINGSPACE</th>\n      <th>PARKINGSPACEPRICE</th>\n      <th>HASTERRACE</th>\n      <th>HASLIFT</th>\n      <th>HASAIRCONDITIONING</th>\n      <th>HASNORTHORIENTATION</th>\n      <th>...</th>\n      <th>LATITUDE</th>\n      <th>PERIOD_201803</th>\n      <th>PERIOD_201806</th>\n      <th>PERIOD_201809</th>\n      <th>PERIOD_201812</th>\n      <th>Madrid</th>\n      <th>Valencia</th>\n      <th>Barcelona</th>\n      <th>NEIGHBORHOOD_ENCODED</th>\n      <th>SPATIAL_LAG</th>\n    </tr>\n  </thead>\n  <tbody>\n    <tr>\n      <th>88583</th>\n      <td>80</td>\n      <td>3</td>\n      <td>1</td>\n      <td>3</td>\n      <td>0</td>\n      <td>1.0</td>\n      <td>0</td>\n      <td>1</td>\n      <td>1</td>\n      <td>0</td>\n      <td>...</td>\n      <td>39.481230</td>\n      <td>0</td>\n      <td>1</td>\n      <td>0</td>\n      <td>0</td>\n      <td>False</td>\n      <td>True</td>\n      <td>False</td>\n      <td>12.067036</td>\n      <td>12.067894</td>\n    </tr>\n    <tr>\n      <th>48173</th>\n      <td>102</td>\n      <td>3</td>\n      <td>2</td>\n      <td>3</td>\n      <td>0</td>\n      <td>1.0</td>\n      <td>0</td>\n      <td>1</td>\n      <td>1</td>\n      <td>0</td>\n      <td>...</td>\n      <td>40.374728</td>\n      <td>0</td>\n      <td>0</td>\n      <td>0</td>\n      <td>1</td>\n      <td>True</td>\n      <td>False</td>\n      <td>False</td>\n      <td>12.247304</td>\n      <td>12.418340</td>\n    </tr>\n    <tr>\n      <th>74291</th>\n      <td>38</td>\n      <td>1</td>\n      <td>1</td>\n      <td>3</td>\n      <td>0</td>\n      <td>1.0</td>\n      <td>0</td>\n      <td>1</td>\n      <td>0</td>\n      <td>0</td>\n      <td>...</td>\n      <td>40.429325</td>\n      <td>0</td>\n      <td>0</td>\n      <td>0</td>\n      <td>1</td>\n      <td>True</td>\n      <td>False</td>\n      <td>False</td>\n      <td>13.273539</td>\n      <td>13.170042</td>\n    </tr>\n    <tr>\n      <th>853</th>\n      <td>43</td>\n      <td>1</td>\n      <td>1</td>\n      <td>3</td>\n      <td>0</td>\n      <td>1.0</td>\n      <td>1</td>\n      <td>1</td>\n      <td>1</td>\n      <td>0</td>\n      <td>...</td>\n      <td>40.422022</td>\n      <td>0</td>\n      <td>0</td>\n      <td>1</td>\n      <td>0</td>\n      <td>True</td>\n      <td>False</td>\n      <td>False</td>\n      <td>13.151636</td>\n      <td>13.154386</td>\n    </tr>\n    <tr>\n      <th>95919</th>\n      <td>65</td>\n      <td>3</td>\n      <td>1</td>\n      <td>3</td>\n      <td>0</td>\n      <td>1.0</td>\n      <td>0</td>\n      <td>1</td>\n      <td>0</td>\n      <td>0</td>\n      <td>...</td>\n      <td>39.468970</td>\n      <td>1</td>\n      <td>0</td>\n      <td>0</td>\n      <td>0</td>\n      <td>False</td>\n      <td>True</td>\n      <td>False</td>\n      <td>11.740395</td>\n      <td>11.559670</td>\n    </tr>\n  </tbody>\n</table>\n<p>5 rows × 44 columns</p>\n</div>"
     },
     "execution_count": 109,
     "metadata": {},
     "output_type": "execute_result"
    }
   ],
   "source": [
    "# Display the first few rows of the training set\n",
    "X_train.head()"
   ],
   "metadata": {
    "collapsed": false,
    "ExecuteTime": {
     "end_time": "2024-07-04T07:34:27.651295600Z",
     "start_time": "2024-07-04T07:34:27.637178800Z"
    }
   }
  },
  {
   "cell_type": "code",
   "execution_count": 110,
   "outputs": [
    {
     "data": {
      "text/plain": "        CONSTRUCTEDAREA  ROOMNUMBER  BATHNUMBER  AMENITYID  HASPARKINGSPACE  \\\n55930                82           3           2          3                0   \n110070               86           3           1          3                0   \n133225               93           4           1          3                0   \n57088                40           1           1          3                1   \n103352               84           3           2          3                0   \n\n        PARKINGSPACEPRICE  HASTERRACE  HASLIFT  HASAIRCONDITIONING  \\\n55930                 1.0           0        1                   0   \n110070                1.0           1        1                   1   \n133225                1.0           1        1                   0   \n57088                 1.0           0        1                   1   \n103352                1.0           0        0                   0   \n\n        HASNORTHORIENTATION  ...   LATITUDE  PERIOD_201803  PERIOD_201806  \\\n55930                     0  ...  40.406918              0              1   \n110070                    0  ...  41.416478              0              0   \n133225                    0  ...  41.419345              0              0   \n57088                     0  ...  40.358942              0              0   \n103352                    0  ...  41.377668              1              0   \n\n        PERIOD_201809  PERIOD_201812  Madrid  Valencia  Barcelona  \\\n55930               0              0    True     False      False   \n110070              1              0   False     False       True   \n133225              1              0   False     False       True   \n57088               0              1    True     False      False   \n103352              0              0   False     False       True   \n\n        NEIGHBORHOOD_ENCODED  SPATIAL_LAG  \n55930              13.275478    12.842973  \n110070             12.368969    12.412621  \n133225             12.092169    12.045041  \n57088              12.247304    12.158632  \n103352             12.413428    12.603313  \n\n[5 rows x 44 columns]",
      "text/html": "<div>\n<style scoped>\n    .dataframe tbody tr th:only-of-type {\n        vertical-align: middle;\n    }\n\n    .dataframe tbody tr th {\n        vertical-align: top;\n    }\n\n    .dataframe thead th {\n        text-align: right;\n    }\n</style>\n<table border=\"1\" class=\"dataframe\">\n  <thead>\n    <tr style=\"text-align: right;\">\n      <th></th>\n      <th>CONSTRUCTEDAREA</th>\n      <th>ROOMNUMBER</th>\n      <th>BATHNUMBER</th>\n      <th>AMENITYID</th>\n      <th>HASPARKINGSPACE</th>\n      <th>PARKINGSPACEPRICE</th>\n      <th>HASTERRACE</th>\n      <th>HASLIFT</th>\n      <th>HASAIRCONDITIONING</th>\n      <th>HASNORTHORIENTATION</th>\n      <th>...</th>\n      <th>LATITUDE</th>\n      <th>PERIOD_201803</th>\n      <th>PERIOD_201806</th>\n      <th>PERIOD_201809</th>\n      <th>PERIOD_201812</th>\n      <th>Madrid</th>\n      <th>Valencia</th>\n      <th>Barcelona</th>\n      <th>NEIGHBORHOOD_ENCODED</th>\n      <th>SPATIAL_LAG</th>\n    </tr>\n  </thead>\n  <tbody>\n    <tr>\n      <th>55930</th>\n      <td>82</td>\n      <td>3</td>\n      <td>2</td>\n      <td>3</td>\n      <td>0</td>\n      <td>1.0</td>\n      <td>0</td>\n      <td>1</td>\n      <td>0</td>\n      <td>0</td>\n      <td>...</td>\n      <td>40.406918</td>\n      <td>0</td>\n      <td>1</td>\n      <td>0</td>\n      <td>0</td>\n      <td>True</td>\n      <td>False</td>\n      <td>False</td>\n      <td>13.275478</td>\n      <td>12.842973</td>\n    </tr>\n    <tr>\n      <th>110070</th>\n      <td>86</td>\n      <td>3</td>\n      <td>1</td>\n      <td>3</td>\n      <td>0</td>\n      <td>1.0</td>\n      <td>1</td>\n      <td>1</td>\n      <td>1</td>\n      <td>0</td>\n      <td>...</td>\n      <td>41.416478</td>\n      <td>0</td>\n      <td>0</td>\n      <td>1</td>\n      <td>0</td>\n      <td>False</td>\n      <td>False</td>\n      <td>True</td>\n      <td>12.368969</td>\n      <td>12.412621</td>\n    </tr>\n    <tr>\n      <th>133225</th>\n      <td>93</td>\n      <td>4</td>\n      <td>1</td>\n      <td>3</td>\n      <td>0</td>\n      <td>1.0</td>\n      <td>1</td>\n      <td>1</td>\n      <td>0</td>\n      <td>0</td>\n      <td>...</td>\n      <td>41.419345</td>\n      <td>0</td>\n      <td>0</td>\n      <td>1</td>\n      <td>0</td>\n      <td>False</td>\n      <td>False</td>\n      <td>True</td>\n      <td>12.092169</td>\n      <td>12.045041</td>\n    </tr>\n    <tr>\n      <th>57088</th>\n      <td>40</td>\n      <td>1</td>\n      <td>1</td>\n      <td>3</td>\n      <td>1</td>\n      <td>1.0</td>\n      <td>0</td>\n      <td>1</td>\n      <td>1</td>\n      <td>0</td>\n      <td>...</td>\n      <td>40.358942</td>\n      <td>0</td>\n      <td>0</td>\n      <td>0</td>\n      <td>1</td>\n      <td>True</td>\n      <td>False</td>\n      <td>False</td>\n      <td>12.247304</td>\n      <td>12.158632</td>\n    </tr>\n    <tr>\n      <th>103352</th>\n      <td>84</td>\n      <td>3</td>\n      <td>2</td>\n      <td>3</td>\n      <td>0</td>\n      <td>1.0</td>\n      <td>0</td>\n      <td>0</td>\n      <td>0</td>\n      <td>0</td>\n      <td>...</td>\n      <td>41.377668</td>\n      <td>1</td>\n      <td>0</td>\n      <td>0</td>\n      <td>0</td>\n      <td>False</td>\n      <td>False</td>\n      <td>True</td>\n      <td>12.413428</td>\n      <td>12.603313</td>\n    </tr>\n  </tbody>\n</table>\n<p>5 rows × 44 columns</p>\n</div>"
     },
     "execution_count": 110,
     "metadata": {},
     "output_type": "execute_result"
    }
   ],
   "source": [
    "# Display the first few rows of the training set\n",
    "X_test.head()"
   ],
   "metadata": {
    "collapsed": false,
    "ExecuteTime": {
     "end_time": "2024-07-04T07:34:27.682117200Z",
     "start_time": "2024-07-04T07:34:27.651295600Z"
    }
   }
  },
  {
   "cell_type": "markdown",
   "metadata": {},
   "source": [
    "# Test the model with new feature"
   ]
  },
  {
   "cell_type": "markdown",
   "source": [
    "__Define the best parameters found by GridSearchCV in Notebook 5.1__"
   ],
   "metadata": {
    "collapsed": false
   }
  },
  {
   "cell_type": "code",
   "execution_count": 111,
   "outputs": [],
   "source": [
    "best_params = {\n",
    "    'colsample_bytree': 0.8,\n",
    "    'learning_rate': 0.1,\n",
    "    'max_depth': 10,\n",
    "    'n_estimators': 500,\n",
    "    'subsample': 0.9\n",
    "}"
   ],
   "metadata": {
    "collapsed": false,
    "ExecuteTime": {
     "end_time": "2024-07-04T07:34:27.713475Z",
     "start_time": "2024-07-04T07:34:27.672355200Z"
    }
   }
  },
  {
   "cell_type": "markdown",
   "source": [
    "__Run the optimized XGBoost model__"
   ],
   "metadata": {
    "collapsed": false
   }
  },
  {
   "cell_type": "code",
   "execution_count": 112,
   "outputs": [
    {
     "name": "stdout",
     "output_type": "stream",
     "text": [
      "Metrics on the original PRICE scale:\n",
      "MAE: 43585.3020\n",
      "MSE: 8550317193.3201\n",
      "RMSE: 92467.9252\n",
      "MAPE: 0.1296\n",
      "\n",
      "Metrics on the Box-Cox transformed scale:\n",
      "MAE: 0.1253\n",
      "MSE: 0.0318\n",
      "RMSE: 0.1784\n",
      "MAPE: 0.0101\n"
     ]
    }
   ],
   "source": [
    "# Train the model on the Box-Cox transformed target\n",
    "xgb_model = xgb.XGBRegressor(**best_params)\n",
    "xgb_model.fit(X_train, y_train)\n",
    "\n",
    "# Predictions in Box-Cox transformed scale\n",
    "y_pred_boxcox_xgb = xgb_model.predict(X_test)\n",
    "\n",
    "# Transform predictions back to the original scale\n",
    "y_pred_xgb = inv_boxcox(y_pred_boxcox_xgb, specified_lambda)\n",
    "y_test_price = inv_boxcox(y_test, specified_lambda)\n",
    "\n",
    "# Evaluation metrics on the original scale\n",
    "mae_xgb = mean_absolute_error(y_test_price, y_pred_xgb)\n",
    "mse_xgb = mean_squared_error(y_test_price, y_pred_xgb)\n",
    "rmse_xgb = np.sqrt(mse_xgb)\n",
    "mape_xgb = mean_absolute_percentage_error(y_test_price, y_pred_xgb)\n",
    "\n",
    "# Evaluation metrics on the Box-Cox transformed scale\n",
    "mae_boxcox_xgb = mean_absolute_error(y_test, y_pred_boxcox_xgb)\n",
    "mse_boxcox_xgb = mean_squared_error(y_test, y_pred_boxcox_xgb)\n",
    "rmse_boxcox_xgb = np.sqrt(mse_boxcox_xgb)\n",
    "mape_boxcox_xgb = mean_absolute_percentage_error(y_test, y_pred_boxcox_xgb)\n",
    "\n",
    "# Print the metrics\n",
    "print(\"Metrics on the original PRICE scale:\")\n",
    "print(f\"MAE: {mae_xgb:.4f}\")\n",
    "print(f\"MSE: {mse_xgb:.4f}\")\n",
    "print(f\"RMSE: {rmse_xgb:.4f}\")\n",
    "print(f\"MAPE: {mape_xgb:.4f}\")\n",
    "\n",
    "print(\"\\nMetrics on the Box-Cox transformed scale:\")\n",
    "print(f\"MAE: {mae_boxcox_xgb:.4f}\")\n",
    "print(f\"MSE: {mse_boxcox_xgb:.4f}\")\n",
    "print(f\"RMSE: {rmse_boxcox_xgb:.4f}\")\n",
    "print(f\"MAPE: {mape_boxcox_xgb:.4f}\")"
   ],
   "metadata": {
    "collapsed": false,
    "ExecuteTime": {
     "end_time": "2024-07-04T07:34:36.027237Z",
     "start_time": "2024-07-04T07:34:27.682117200Z"
    }
   }
  }
 ],
 "metadata": {
  "kernelspec": {
   "display_name": "Python 3",
   "language": "python",
   "name": "python3"
  },
  "language_info": {
   "codemirror_mode": {
    "name": "ipython",
    "version": 3
   },
   "file_extension": ".py",
   "mimetype": "text/x-python",
   "name": "python",
   "nbconvert_exporter": "python",
   "pygments_lexer": "ipython3",
   "version": "3.11.1"
  }
 },
 "nbformat": 4,
 "nbformat_minor": 2
}
