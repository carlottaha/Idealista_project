{
 "cells": [
  {
   "cell_type": "markdown",
   "metadata": {},
   "source": [
    "# Notebook 5.8 - Final model and metrics, plus regression"
   ]
  },
  {
   "cell_type": "markdown",
   "source": [
    "# Import libraries"
   ],
   "metadata": {
    "collapsed": false
   }
  },
  {
   "cell_type": "code",
   "execution_count": 1,
   "outputs": [],
   "source": [
    "import xgboost as xgb\n",
    "from sklearn.inspection import permutation_importance\n",
    "from sklearn.model_selection import train_test_split\n",
    "from scipy import stats\n",
    "from scipy.special import inv_boxcox\n",
    "import numpy as np\n",
    "import pandas as pd\n",
    "from sklearn.linear_model import LinearRegression, Lasso\n",
    "from sklearn.metrics import mean_absolute_error, mean_squared_error, mean_absolute_percentage_error, r2_score\n",
    "import statsmodels.api as sm"
   ],
   "metadata": {
    "collapsed": false,
    "ExecuteTime": {
     "end_time": "2024-07-10T13:54:47.884391200Z",
     "start_time": "2024-07-10T13:54:45.717002200Z"
    }
   }
  },
  {
   "cell_type": "markdown",
   "metadata": {},
   "source": [
    "# Choose the city"
   ]
  },
  {
   "cell_type": "code",
   "execution_count": 2,
   "outputs": [],
   "source": [
    "# Choose the city ('Madrid', 'Barcelona', 'Valencia', or 'Combined')\n",
    "city = 'Combined'"
   ],
   "metadata": {
    "collapsed": false,
    "ExecuteTime": {
     "end_time": "2024-07-10T13:54:47.888407700Z",
     "start_time": "2024-07-10T13:54:47.887898600Z"
    }
   }
  },
  {
   "cell_type": "markdown",
   "source": [
    "# Load the cleaned data set incl. the feature \"type of road\""
   ],
   "metadata": {
    "collapsed": false
   }
  },
  {
   "cell_type": "code",
   "execution_count": 3,
   "metadata": {
    "ExecuteTime": {
     "end_time": "2024-07-10T13:54:48.439953200Z",
     "start_time": "2024-07-10T13:54:47.888407700Z"
    }
   },
   "outputs": [],
   "source": [
    "if city.lower() == 'madrid':\n",
    "    data = pd.read_csv('../../data/5_cleaned_and_feature_engineering/feature_road_type/madrid_cleaned_incl_road_type.csv')\n",
    "elif city.lower() == 'barcelona':\n",
    "    data = pd.read_csv('../../data/5_cleaned_and_feature_engineering/feature_road_type/barcelona_cleaned_incl_road_type.csv')\n",
    "elif city.lower() == 'valencia':\n",
    "    data = pd.read_csv('../../data/5_cleaned_and_feature_engineering/feature_road_type/valencia_cleaned_incl_road_type.csv')\n",
    "elif city.lower() == 'combined':\n",
    "    #Read all 3 datasets and add a column to indicate source dataset\n",
    "    madrid_df = pd.read_csv('../../data/5_cleaned_and_feature_engineering/feature_road_type/madrid_cleaned_incl_road_type.csv')\n",
    "    valencia_df = pd.read_csv('../../data/5_cleaned_and_feature_engineering/feature_road_type/valencia_cleaned_incl_road_type.csv')\n",
    "    barcelona_df = pd.read_csv('../../data/5_cleaned_and_feature_engineering/feature_road_type/barcelona_cleaned_incl_road_type.csv')\n",
    "    madrid_df['Madrid'] = True\n",
    "    madrid_df['Valencia'] = False\n",
    "    madrid_df['Barcelona'] = False    \n",
    "    valencia_df['Madrid'] = False\n",
    "    valencia_df['Valencia'] = True\n",
    "    valencia_df['Barcelona'] = False    \n",
    "    barcelona_df['Madrid'] = False\n",
    "    barcelona_df['Valencia'] = False\n",
    "    barcelona_df['Barcelona'] = True\n",
    "    data = pd.concat([madrid_df, valencia_df, barcelona_df], ignore_index=True)"
   ]
  },
  {
   "cell_type": "code",
   "execution_count": 4,
   "outputs": [
    {
     "data": {
      "text/plain": "                 ASSETID   PRICE  CONSTRUCTEDAREA  ROOMNUMBER  BATHNUMBER  \\\n0  A10000037964896093228  255000               97           3           2   \n1  A10000072440601830803   82000               62           2           1   \n2  A10000538600815177437  133000               67           3           1   \n3  A10000654405436195291  204000              180           3           2   \n4  A10000872160480475600  161000               54           2           1   \n\n   AMENITYID  HASPARKINGSPACE  PARKINGSPACEPRICE  HASTERRACE  HASLIFT  ...  \\\n0          3                0                1.0           0        1  ...   \n1          3                0                1.0           0        1  ...   \n2          3                0                1.0           1        0  ...   \n3          3                0                1.0           0        1  ...   \n4          3                0                1.0           0        0  ...   \n\n   PERIOD_201806  PERIOD_201809  PERIOD_201812  MOTORWAY/PRIMARY  OTHER  \\\n0              0              1              0             False   True   \n1              1              0              0             False   True   \n2              0              0              0             False   True   \n3              0              0              0             False   True   \n4              0              0              1             False   True   \n\n   PEDESTRIAN  SECONDARY/TERTIARY  Madrid  Valencia  Barcelona  \n0       False               False    True     False      False  \n1       False               False    True     False      False  \n2       False               False    True     False      False  \n3       False               False    True     False      False  \n4       False               False    True     False      False  \n\n[5 rows x 50 columns]",
      "text/html": "<div>\n<style scoped>\n    .dataframe tbody tr th:only-of-type {\n        vertical-align: middle;\n    }\n\n    .dataframe tbody tr th {\n        vertical-align: top;\n    }\n\n    .dataframe thead th {\n        text-align: right;\n    }\n</style>\n<table border=\"1\" class=\"dataframe\">\n  <thead>\n    <tr style=\"text-align: right;\">\n      <th></th>\n      <th>ASSETID</th>\n      <th>PRICE</th>\n      <th>CONSTRUCTEDAREA</th>\n      <th>ROOMNUMBER</th>\n      <th>BATHNUMBER</th>\n      <th>AMENITYID</th>\n      <th>HASPARKINGSPACE</th>\n      <th>PARKINGSPACEPRICE</th>\n      <th>HASTERRACE</th>\n      <th>HASLIFT</th>\n      <th>...</th>\n      <th>PERIOD_201806</th>\n      <th>PERIOD_201809</th>\n      <th>PERIOD_201812</th>\n      <th>MOTORWAY/PRIMARY</th>\n      <th>OTHER</th>\n      <th>PEDESTRIAN</th>\n      <th>SECONDARY/TERTIARY</th>\n      <th>Madrid</th>\n      <th>Valencia</th>\n      <th>Barcelona</th>\n    </tr>\n  </thead>\n  <tbody>\n    <tr>\n      <th>0</th>\n      <td>A10000037964896093228</td>\n      <td>255000</td>\n      <td>97</td>\n      <td>3</td>\n      <td>2</td>\n      <td>3</td>\n      <td>0</td>\n      <td>1.0</td>\n      <td>0</td>\n      <td>1</td>\n      <td>...</td>\n      <td>0</td>\n      <td>1</td>\n      <td>0</td>\n      <td>False</td>\n      <td>True</td>\n      <td>False</td>\n      <td>False</td>\n      <td>True</td>\n      <td>False</td>\n      <td>False</td>\n    </tr>\n    <tr>\n      <th>1</th>\n      <td>A10000072440601830803</td>\n      <td>82000</td>\n      <td>62</td>\n      <td>2</td>\n      <td>1</td>\n      <td>3</td>\n      <td>0</td>\n      <td>1.0</td>\n      <td>0</td>\n      <td>1</td>\n      <td>...</td>\n      <td>1</td>\n      <td>0</td>\n      <td>0</td>\n      <td>False</td>\n      <td>True</td>\n      <td>False</td>\n      <td>False</td>\n      <td>True</td>\n      <td>False</td>\n      <td>False</td>\n    </tr>\n    <tr>\n      <th>2</th>\n      <td>A10000538600815177437</td>\n      <td>133000</td>\n      <td>67</td>\n      <td>3</td>\n      <td>1</td>\n      <td>3</td>\n      <td>0</td>\n      <td>1.0</td>\n      <td>1</td>\n      <td>0</td>\n      <td>...</td>\n      <td>0</td>\n      <td>0</td>\n      <td>0</td>\n      <td>False</td>\n      <td>True</td>\n      <td>False</td>\n      <td>False</td>\n      <td>True</td>\n      <td>False</td>\n      <td>False</td>\n    </tr>\n    <tr>\n      <th>3</th>\n      <td>A10000654405436195291</td>\n      <td>204000</td>\n      <td>180</td>\n      <td>3</td>\n      <td>2</td>\n      <td>3</td>\n      <td>0</td>\n      <td>1.0</td>\n      <td>0</td>\n      <td>1</td>\n      <td>...</td>\n      <td>0</td>\n      <td>0</td>\n      <td>0</td>\n      <td>False</td>\n      <td>True</td>\n      <td>False</td>\n      <td>False</td>\n      <td>True</td>\n      <td>False</td>\n      <td>False</td>\n    </tr>\n    <tr>\n      <th>4</th>\n      <td>A10000872160480475600</td>\n      <td>161000</td>\n      <td>54</td>\n      <td>2</td>\n      <td>1</td>\n      <td>3</td>\n      <td>0</td>\n      <td>1.0</td>\n      <td>0</td>\n      <td>0</td>\n      <td>...</td>\n      <td>0</td>\n      <td>0</td>\n      <td>1</td>\n      <td>False</td>\n      <td>True</td>\n      <td>False</td>\n      <td>False</td>\n      <td>True</td>\n      <td>False</td>\n      <td>False</td>\n    </tr>\n  </tbody>\n</table>\n<p>5 rows × 50 columns</p>\n</div>"
     },
     "execution_count": 4,
     "metadata": {},
     "output_type": "execute_result"
    }
   ],
   "source": [
    "data.head()"
   ],
   "metadata": {
    "collapsed": false,
    "ExecuteTime": {
     "end_time": "2024-07-10T13:54:48.463811700Z",
     "start_time": "2024-07-10T13:54:48.439953200Z"
    }
   }
  },
  {
   "cell_type": "markdown",
   "source": [
    "# Create clusters based on distance to city center as differentiation of metrics"
   ],
   "metadata": {
    "collapsed": false
   }
  },
  {
   "cell_type": "code",
   "execution_count": 5,
   "outputs": [],
   "source": [
    "# Function to categorize distance into clusters\n",
    "def categorize_distance(df, city_column=None):\n",
    "    if city_column:\n",
    "        df_city = df[df[city_column]]\n",
    "    else:\n",
    "        df_city = df\n",
    "    df_city = df_city.copy()  # Avoid SettingWithCopyWarning\n",
    "    df_city['DISTANCE_CLUSTER'] = pd.qcut(df_city['DISTANCE_TO_CITY_CENTER'], \n",
    "                                          q=3, \n",
    "                                          labels=['LOW_DISTANCE_TO_CENTER', 'MEDIUM_DISTANCE_TO_CENTER', 'HIGH_DISTANCE_TO_CENTER'])\n",
    "    return df_city[['DISTANCE_CLUSTER']]\n",
    "\n",
    "# Check if the city is 'Combined'\n",
    "if city.lower() == 'combined':\n",
    "    # Filter the dataframe for each city and categorize distance\n",
    "    data['DISTANCE_CLUSTER'] = None\n",
    "    \n",
    "    for city_name in ['Madrid', 'Barcelona', 'Valencia']:\n",
    "        data_city_cluster = categorize_distance(data, city_name)\n",
    "        data.loc[data[city_name] == True, 'DISTANCE_CLUSTER'] = data_city_cluster['DISTANCE_CLUSTER']\n",
    "else:\n",
    "    # Create distance clusters based on the \"DISTANCE_TO_CITY_CENTER\" column without differentiating between cities\n",
    "    data_clustered = categorize_distance(data)\n",
    "    data['DISTANCE_CLUSTER'] = data_clustered['DISTANCE_CLUSTER']"
   ],
   "metadata": {
    "collapsed": false,
    "ExecuteTime": {
     "end_time": "2024-07-10T13:54:48.592387500Z",
     "start_time": "2024-07-10T13:54:48.463811700Z"
    }
   }
  },
  {
   "cell_type": "markdown",
   "source": [
    "# Defining X and y"
   ],
   "metadata": {
    "collapsed": false
   }
  },
  {
   "cell_type": "markdown",
   "source": [
    "__Transform target variable PRICE as optimized in notebook 5.1__"
   ],
   "metadata": {
    "collapsed": false
   }
  },
  {
   "cell_type": "code",
   "execution_count": 6,
   "outputs": [],
   "source": [
    "# Define the lambda value\n",
    "specified_lambda = 0\n",
    "\n",
    "# Apply Box-Cox transformation using the specified lambda value\n",
    "price_transformed = stats.boxcox(data['PRICE'], lmbda=specified_lambda)\n",
    "\n",
    "# Add the transformed PRICE back to the DataFrame\n",
    "data['PRICE_TRANSFORMED'] = price_transformed"
   ],
   "metadata": {
    "collapsed": false,
    "ExecuteTime": {
     "end_time": "2024-07-10T13:54:48.635054100Z",
     "start_time": "2024-07-10T13:54:48.592387500Z"
    }
   }
  },
  {
   "cell_type": "markdown",
   "source": [
    "__Assign features as X and target as Y__"
   ],
   "metadata": {
    "collapsed": false
   }
  },
  {
   "cell_type": "code",
   "execution_count": 7,
   "outputs": [],
   "source": [
    "X = data.drop(columns=['PRICE', 'PRICE_TRANSFORMED'])\n",
    "y = data['PRICE_TRANSFORMED']"
   ],
   "metadata": {
    "collapsed": false,
    "ExecuteTime": {
     "end_time": "2024-07-10T13:54:48.692585700Z",
     "start_time": "2024-07-10T13:54:48.603777100Z"
    }
   }
  },
  {
   "cell_type": "markdown",
   "source": [
    "# Drop features not relevant for modelling"
   ],
   "metadata": {
    "collapsed": false
   }
  },
  {
   "cell_type": "code",
   "execution_count": 8,
   "outputs": [],
   "source": [
    "#Drop ASSETID as it is only an identifier, drop ZIP_CODE as the base model only includes base features\n",
    "X = X.drop(columns=['ASSETID', 'NEIGHBORHOOD', 'DISTANCE_CLUSTER'])"
   ],
   "metadata": {
    "collapsed": false,
    "ExecuteTime": {
     "end_time": "2024-07-10T13:54:48.692585700Z",
     "start_time": "2024-07-10T13:54:48.636580200Z"
    }
   }
  },
  {
   "cell_type": "markdown",
   "source": [
    "# Splitting the data into training and test set"
   ],
   "metadata": {
    "collapsed": false
   }
  },
  {
   "cell_type": "code",
   "execution_count": 9,
   "outputs": [
    {
     "name": "stdout",
     "output_type": "stream",
     "text": [
      "X_train shape: (105074, 47)\n",
      "X_test shape: (45033, 47)\n",
      "y_train shape: (105074,)\n",
      "y_test shape: (45033,)\n"
     ]
    }
   ],
   "source": [
    "# Split the dataset into training and testing set with 7:3 ratio\n",
    "X_train, X_test, y_train, y_test = train_test_split(X, y, test_size=0.3, random_state=42)\n",
    "\n",
    "# Check the shapes of the resulting datasets\n",
    "print(f\"X_train shape: {X_train.shape}\")\n",
    "print(f\"X_test shape: {X_test.shape}\")\n",
    "print(f\"y_train shape: {y_train.shape}\")\n",
    "print(f\"y_test shape: {y_test.shape}\")"
   ],
   "metadata": {
    "collapsed": false,
    "ExecuteTime": {
     "end_time": "2024-07-10T13:54:48.758800600Z",
     "start_time": "2024-07-10T13:54:48.682069Z"
    }
   }
  },
  {
   "cell_type": "markdown",
   "source": [
    "# Target encoding of ZIP CODE"
   ],
   "metadata": {
    "collapsed": false
   }
  },
  {
   "cell_type": "code",
   "execution_count": 10,
   "outputs": [],
   "source": [
    "zipcode_means = y_train.groupby(X_train['ZIP_CODE']).mean()\n",
    "\n",
    "X_train['ZIP_CODE_ENCODED'] = X_train['ZIP_CODE'].map(zipcode_means)\n",
    "X_test['ZIP_CODE_ENCODED'] = X_test['ZIP_CODE'].map(zipcode_means)\n",
    "\n",
    "# Drop the ZIP_CODE column from both training and testing sets\n",
    "X_train = X_train.drop(columns=['ZIP_CODE'])\n",
    "X_test = X_test.drop(columns=['ZIP_CODE'])"
   ],
   "metadata": {
    "collapsed": false,
    "ExecuteTime": {
     "end_time": "2024-07-10T13:54:48.846864800Z",
     "start_time": "2024-07-10T13:54:48.758800600Z"
    }
   }
  },
  {
   "cell_type": "markdown",
   "source": [
    "# Inspect data before running the model"
   ],
   "metadata": {
    "collapsed": false
   }
  },
  {
   "cell_type": "code",
   "execution_count": 11,
   "outputs": [
    {
     "data": {
      "text/plain": "        CONSTRUCTEDAREA  ROOMNUMBER  BATHNUMBER  AMENITYID  HASPARKINGSPACE  \\\n32056                87           3           1          3                1   \n147130              110           3           2          3                0   \n35420               137           4           2          3                1   \n128474               81           3           2          3                0   \n149036              195           3           2          3                0   \n\n        PARKINGSPACEPRICE  HASTERRACE  HASLIFT  HASAIRCONDITIONING  \\\n32056                 1.0           0        1                   1   \n147130                1.0           1        1                   1   \n35420                 1.0           0        1                   1   \n128474                1.0           1        1                   1   \n149036                1.0           1        1                   0   \n\n        HASNORTHORIENTATION  ...  PERIOD_201809  PERIOD_201812  \\\n32056                     0  ...              1              0   \n147130                    0  ...              0              1   \n35420                     1  ...              1              0   \n128474                    1  ...              0              1   \n149036                    0  ...              0              1   \n\n        MOTORWAY/PRIMARY  OTHER  PEDESTRIAN  SECONDARY/TERTIARY  Madrid  \\\n32056              False   True       False               False    True   \n147130             False  False        True               False   False   \n35420              False   True       False               False    True   \n128474             False   True       False               False   False   \n149036             False  False        True               False   False   \n\n        Valencia  Barcelona  ZIP_CODE_ENCODED  \n32056      False      False         12.899613  \n147130     False       True         12.690921  \n35420      False      False         12.928350  \n128474     False       True         12.757758  \n149036     False       True         12.690921  \n\n[5 rows x 47 columns]",
      "text/html": "<div>\n<style scoped>\n    .dataframe tbody tr th:only-of-type {\n        vertical-align: middle;\n    }\n\n    .dataframe tbody tr th {\n        vertical-align: top;\n    }\n\n    .dataframe thead th {\n        text-align: right;\n    }\n</style>\n<table border=\"1\" class=\"dataframe\">\n  <thead>\n    <tr style=\"text-align: right;\">\n      <th></th>\n      <th>CONSTRUCTEDAREA</th>\n      <th>ROOMNUMBER</th>\n      <th>BATHNUMBER</th>\n      <th>AMENITYID</th>\n      <th>HASPARKINGSPACE</th>\n      <th>PARKINGSPACEPRICE</th>\n      <th>HASTERRACE</th>\n      <th>HASLIFT</th>\n      <th>HASAIRCONDITIONING</th>\n      <th>HASNORTHORIENTATION</th>\n      <th>...</th>\n      <th>PERIOD_201809</th>\n      <th>PERIOD_201812</th>\n      <th>MOTORWAY/PRIMARY</th>\n      <th>OTHER</th>\n      <th>PEDESTRIAN</th>\n      <th>SECONDARY/TERTIARY</th>\n      <th>Madrid</th>\n      <th>Valencia</th>\n      <th>Barcelona</th>\n      <th>ZIP_CODE_ENCODED</th>\n    </tr>\n  </thead>\n  <tbody>\n    <tr>\n      <th>32056</th>\n      <td>87</td>\n      <td>3</td>\n      <td>1</td>\n      <td>3</td>\n      <td>1</td>\n      <td>1.0</td>\n      <td>0</td>\n      <td>1</td>\n      <td>1</td>\n      <td>0</td>\n      <td>...</td>\n      <td>1</td>\n      <td>0</td>\n      <td>False</td>\n      <td>True</td>\n      <td>False</td>\n      <td>False</td>\n      <td>True</td>\n      <td>False</td>\n      <td>False</td>\n      <td>12.899613</td>\n    </tr>\n    <tr>\n      <th>147130</th>\n      <td>110</td>\n      <td>3</td>\n      <td>2</td>\n      <td>3</td>\n      <td>0</td>\n      <td>1.0</td>\n      <td>1</td>\n      <td>1</td>\n      <td>1</td>\n      <td>0</td>\n      <td>...</td>\n      <td>0</td>\n      <td>1</td>\n      <td>False</td>\n      <td>False</td>\n      <td>True</td>\n      <td>False</td>\n      <td>False</td>\n      <td>False</td>\n      <td>True</td>\n      <td>12.690921</td>\n    </tr>\n    <tr>\n      <th>35420</th>\n      <td>137</td>\n      <td>4</td>\n      <td>2</td>\n      <td>3</td>\n      <td>1</td>\n      <td>1.0</td>\n      <td>0</td>\n      <td>1</td>\n      <td>1</td>\n      <td>1</td>\n      <td>...</td>\n      <td>1</td>\n      <td>0</td>\n      <td>False</td>\n      <td>True</td>\n      <td>False</td>\n      <td>False</td>\n      <td>True</td>\n      <td>False</td>\n      <td>False</td>\n      <td>12.928350</td>\n    </tr>\n    <tr>\n      <th>128474</th>\n      <td>81</td>\n      <td>3</td>\n      <td>2</td>\n      <td>3</td>\n      <td>0</td>\n      <td>1.0</td>\n      <td>1</td>\n      <td>1</td>\n      <td>1</td>\n      <td>1</td>\n      <td>...</td>\n      <td>0</td>\n      <td>1</td>\n      <td>False</td>\n      <td>True</td>\n      <td>False</td>\n      <td>False</td>\n      <td>False</td>\n      <td>False</td>\n      <td>True</td>\n      <td>12.757758</td>\n    </tr>\n    <tr>\n      <th>149036</th>\n      <td>195</td>\n      <td>3</td>\n      <td>2</td>\n      <td>3</td>\n      <td>0</td>\n      <td>1.0</td>\n      <td>1</td>\n      <td>1</td>\n      <td>0</td>\n      <td>0</td>\n      <td>...</td>\n      <td>0</td>\n      <td>1</td>\n      <td>False</td>\n      <td>False</td>\n      <td>True</td>\n      <td>False</td>\n      <td>False</td>\n      <td>False</td>\n      <td>True</td>\n      <td>12.690921</td>\n    </tr>\n  </tbody>\n</table>\n<p>5 rows × 47 columns</p>\n</div>"
     },
     "execution_count": 11,
     "metadata": {},
     "output_type": "execute_result"
    }
   ],
   "source": [
    "X_test.head()"
   ],
   "metadata": {
    "collapsed": false,
    "ExecuteTime": {
     "end_time": "2024-07-10T13:54:48.862493800Z",
     "start_time": "2024-07-10T13:54:48.802081100Z"
    }
   }
  },
  {
   "cell_type": "markdown",
   "source": [
    "# Test the model with new feature"
   ],
   "metadata": {
    "collapsed": false
   }
  },
  {
   "cell_type": "markdown",
   "source": [
    "__Define the best parameters found by GridSearchCV in Notebook 5.1__"
   ],
   "metadata": {
    "collapsed": false
   }
  },
  {
   "cell_type": "code",
   "execution_count": 12,
   "outputs": [],
   "source": [
    "best_params = {\n",
    "    'colsample_bytree': 0.8,\n",
    "    'learning_rate': 0.1,\n",
    "    'max_depth': 10,\n",
    "    'n_estimators': 500,\n",
    "    'subsample': 0.9\n",
    "}"
   ],
   "metadata": {
    "collapsed": false,
    "ExecuteTime": {
     "end_time": "2024-07-10T13:54:48.862493800Z",
     "start_time": "2024-07-10T13:54:48.821636400Z"
    }
   }
  },
  {
   "cell_type": "markdown",
   "source": [
    "__Running the optimized model new feature__"
   ],
   "metadata": {
    "collapsed": false
   }
  },
  {
   "cell_type": "code",
   "execution_count": 13,
   "outputs": [
    {
     "name": "stdout",
     "output_type": "stream",
     "text": [
      "Metrics on the original PRICE scale:\n",
      "MAE: 43049.8489\n",
      "MSE: 8058021950.0155\n",
      "RMSE: 89766.4857\n",
      "MAPE: 0.1264\n",
      "\n",
      "Metrics on the Box-Cox transformed scale:\n",
      "MAE: 0.1229\n",
      "MSE: 0.0306\n",
      "RMSE: 0.1751\n",
      "MAPE: 0.0099\n"
     ]
    }
   ],
   "source": [
    "# Initialize XGBoost model with the best parameters\n",
    "xgb_model = xgb.XGBRegressor(**best_params)\n",
    "\n",
    "# Train the model on the Box-Cox transformed target\n",
    "xgb_model.fit(X_train, y_train)\n",
    "\n",
    "# Predictions in Box-Cox transformed scale\n",
    "y_pred_boxcox_xgb = xgb_model.predict(X_test)\n",
    "\n",
    "# Transform predictions back to the original scale\n",
    "y_pred_xgb = inv_boxcox(y_pred_boxcox_xgb, specified_lambda)\n",
    "y_test_price = inv_boxcox(y_test, specified_lambda)\n",
    "\n",
    "# Evaluation metrics on the original scale\n",
    "mae_xgb = mean_absolute_error(y_test_price, y_pred_xgb)\n",
    "mse_xgb = mean_squared_error(y_test_price, y_pred_xgb)\n",
    "rmse_xgb = np.sqrt(mse_xgb)\n",
    "mape_xgb = mean_absolute_percentage_error(y_test_price, y_pred_xgb)\n",
    "\n",
    "# Evaluation metrics on the Box-Cox transformed scale\n",
    "mae_boxcox_xgb = mean_absolute_error(y_test, y_pred_boxcox_xgb)\n",
    "mse_boxcox_xgb = mean_squared_error(y_test, y_pred_boxcox_xgb)\n",
    "rmse_boxcox_xgb = np.sqrt(mse_boxcox_xgb)\n",
    "mape_boxcox_xgb = mean_absolute_percentage_error(y_test, y_pred_boxcox_xgb)\n",
    "\n",
    "# Print the metrics\n",
    "print(\"Metrics on the original PRICE scale:\")\n",
    "print(f\"MAE: {mae_xgb:.4f}\")\n",
    "print(f\"MSE: {mse_xgb:.4f}\")\n",
    "print(f\"RMSE: {rmse_xgb:.4f}\")\n",
    "print(f\"MAPE: {mape_xgb:.4f}\")\n",
    "\n",
    "print(\"\\nMetrics on the Box-Cox transformed scale:\")\n",
    "print(f\"MAE: {mae_boxcox_xgb:.4f}\")\n",
    "print(f\"MSE: {mse_boxcox_xgb:.4f}\")\n",
    "print(f\"RMSE: {rmse_boxcox_xgb:.4f}\")\n",
    "print(f\"MAPE: {mape_boxcox_xgb:.4f}\")"
   ],
   "metadata": {
    "collapsed": false,
    "ExecuteTime": {
     "end_time": "2024-07-10T13:55:02.896631200Z",
     "start_time": "2024-07-10T13:54:48.831220600Z"
    }
   }
  },
  {
   "cell_type": "markdown",
   "source": [
    "# Differentiate MAPE metric by city and distance to city center"
   ],
   "metadata": {
    "collapsed": false
   }
  },
  {
   "cell_type": "markdown",
   "source": [
    "- If we run the combined model: Differentiate MAPE by both city and cluster\n",
    "- If we run the model for a specific city only: Differentiate MAPE only by cluster"
   ],
   "metadata": {
    "collapsed": false
   }
  },
  {
   "cell_type": "code",
   "execution_count": 14,
   "outputs": [
    {
     "name": "stdout",
     "output_type": "stream",
     "text": [
      "MAPE for Madrid_MEDIUM_DISTANCE_TO_CENTER: 0.1263\n",
      "MAPE for Madrid_LOW_DISTANCE_TO_CENTER: 0.1312\n",
      "MAPE for Madrid_HIGH_DISTANCE_TO_CENTER: 0.1186\n",
      "MAPE for Valencia_MEDIUM_DISTANCE_TO_CENTER: 0.1360\n",
      "MAPE for Valencia_HIGH_DISTANCE_TO_CENTER: 0.1423\n",
      "MAPE for Valencia_LOW_DISTANCE_TO_CENTER: 0.1497\n",
      "MAPE for Barcelona_MEDIUM_DISTANCE_TO_CENTER: 0.1142\n",
      "MAPE for Barcelona_LOW_DISTANCE_TO_CENTER: 0.1225\n",
      "MAPE for Barcelona_HIGH_DISTANCE_TO_CENTER: 0.1192\n"
     ]
    }
   ],
   "source": [
    "# Create a dataframe with test data indices and predictions\n",
    "results = pd.DataFrame({\n",
    "    'y_test_price': y_test_price,\n",
    "    'y_pred_xgb': y_pred_xgb\n",
    "}, index=X_test.index)\n",
    "\n",
    "# Merge the results with the original test set to get city and distance cluster information\n",
    "if city.lower() == 'combined':\n",
    "    results = results.merge(data[['Madrid', 'Valencia', 'Barcelona', 'DISTANCE_CLUSTER']], left_index=True, right_index=True)\n",
    "else:\n",
    "    results = results.merge(data[['DISTANCE_CLUSTER']], left_index=True, right_index=True)\n",
    "\n",
    "# Function to calculate MAPE\n",
    "def calculate_mape(group):\n",
    "    return mean_absolute_percentage_error(group['y_test_price'], group['y_pred_xgb'])\n",
    "\n",
    "# Initialize a dictionary to hold MAPE results\n",
    "mape_results = {}\n",
    "\n",
    "# Check if the city is 'Combined'\n",
    "if city.lower() == 'combined':\n",
    "    # Loop over each city and distance cluster to calculate MAPE\n",
    "    for city_name in ['Madrid', 'Valencia', 'Barcelona']:\n",
    "        city_data = results[results[city_name] == True]\n",
    "        for cluster in city_data['DISTANCE_CLUSTER'].unique():\n",
    "            cluster_data = city_data[city_data['DISTANCE_CLUSTER'] == cluster]\n",
    "            mape_results[f\"{city_name}_{cluster}\"] = calculate_mape(cluster_data)\n",
    "else:\n",
    "    # Calculate MAPE for each distance cluster without differentiating by city\n",
    "    for cluster in results['DISTANCE_CLUSTER'].unique():\n",
    "        cluster_data = results[results['DISTANCE_CLUSTER'] == cluster]\n",
    "        mape_results[f\"{cluster}\"] = calculate_mape(cluster_data)\n",
    "\n",
    "# Print the MAPE results\n",
    "for key, value in mape_results.items():\n",
    "    print(f\"MAPE for {key}: {value:.4f}\")"
   ],
   "metadata": {
    "collapsed": false,
    "ExecuteTime": {
     "end_time": "2024-07-10T13:55:03.029051900Z",
     "start_time": "2024-07-10T13:55:02.906898500Z"
    }
   }
  },
  {
   "cell_type": "markdown",
   "source": [
    "If the combined model is run, also print the MAPE for each distance cluster"
   ],
   "metadata": {
    "collapsed": false
   }
  },
  {
   "cell_type": "code",
   "execution_count": 15,
   "outputs": [
    {
     "name": "stdout",
     "output_type": "stream",
     "text": [
      "Distance Cluster: MEDIUM_DISTANCE_TO_CENTER\n",
      "  MAPE: 0.1243\n",
      "Distance Cluster: LOW_DISTANCE_TO_CENTER\n",
      "  MAPE: 0.1319\n",
      "Distance Cluster: HIGH_DISTANCE_TO_CENTER\n",
      "  MAPE: 0.1231\n"
     ]
    }
   ],
   "source": [
    "# Create a dataframe with test data indices and predictions\n",
    "results = pd.DataFrame({\n",
    "    'y_test_price': y_test_price,\n",
    "    'y_pred_xgb': y_pred_xgb\n",
    "}, index=X_test.index)\n",
    "\n",
    "# Merge the results with the original test set to get distance cluster information\n",
    "results = results.merge(data[['DISTANCE_CLUSTER']], left_index=True, right_index=True)\n",
    "\n",
    "# Function to calculate MAPE\n",
    "def calculate_mape(group):\n",
    "    return mean_absolute_percentage_error(group['y_test_price'], group['y_pred_xgb'])\n",
    "\n",
    "# Initialize a dictionary to hold MAPE results for each distance cluster\n",
    "cluster_mape_results = {}\n",
    "\n",
    "# Calculate MAPE for each distance cluster\n",
    "for cluster in results['DISTANCE_CLUSTER'].unique():\n",
    "    cluster_data = results[results['DISTANCE_CLUSTER'] == cluster]\n",
    "    cluster_mape_results[cluster] = calculate_mape(cluster_data)\n",
    "\n",
    "# Print the MAPE results for each distance cluster\n",
    "for cluster, mape in cluster_mape_results.items():\n",
    "    print(f\"Distance Cluster: {cluster}\")\n",
    "    print(f\"  MAPE: {mape:.4f}\")"
   ],
   "metadata": {
    "collapsed": false,
    "ExecuteTime": {
     "end_time": "2024-07-10T13:55:03.067610500Z",
     "start_time": "2024-07-10T13:55:03.008698600Z"
    }
   }
  },
  {
   "cell_type": "markdown",
   "source": [
    "If the combined model is run, also print each of the metrics per city"
   ],
   "metadata": {
    "collapsed": false
   }
  },
  {
   "cell_type": "code",
   "execution_count": 16,
   "outputs": [
    {
     "name": "stdout",
     "output_type": "stream",
     "text": [
      "MAPE for Madrid: 0.1254\n",
      "MAPE for Valencia: 0.1427\n",
      "MAPE for Barcelona: 0.1186\n"
     ]
    }
   ],
   "source": [
    "# Create a dataframe with test data indices and predictions\n",
    "results = pd.DataFrame({\n",
    "    'y_test_price': y_test_price,\n",
    "    'y_pred_xgb': y_pred_xgb\n",
    "}, index=X_test.index)\n",
    "\n",
    "# Merge the results with the original test set to get city and distance cluster information\n",
    "if city.lower() == 'combined':\n",
    "    results = results.merge(data[['Madrid', 'Valencia', 'Barcelona', 'DISTANCE_CLUSTER']], left_index=True, right_index=True)\n",
    "else:\n",
    "    results = results.merge(data[['DISTANCE_CLUSTER']], left_index=True, right_index=True)\n",
    "\n",
    "# Function to calculate MAPE\n",
    "def calculate_mape(group):\n",
    "    return mean_absolute_percentage_error(group['y_test_price'], group['y_pred_xgb'])\n",
    "\n",
    "# Initialize a dictionary to hold MAPE results\n",
    "mape_results = {}\n",
    "\n",
    "# Check if the city is 'Combined'\n",
    "if city.lower() == 'combined':\n",
    "    # Loop over each city to calculate overall MAPE for each city\n",
    "    for city_name in ['Madrid', 'Valencia', 'Barcelona']:\n",
    "        city_data = results[results[city_name] == True]\n",
    "        mape_results[city_name] = calculate_mape(city_data)\n",
    "\n",
    "# Print the MAPE results\n",
    "for key, value in mape_results.items():\n",
    "    print(f\"MAPE for {key}: {value:.4f}\")"
   ],
   "metadata": {
    "collapsed": false,
    "ExecuteTime": {
     "end_time": "2024-07-10T13:55:03.167861800Z",
     "start_time": "2024-07-10T13:55:03.057586800Z"
    }
   }
  },
  {
   "cell_type": "markdown",
   "source": [
    "# Feature importance of final model"
   ],
   "metadata": {
    "collapsed": false
   }
  },
  {
   "cell_type": "code",
   "execution_count": 17,
   "outputs": [
    {
     "name": "stdout",
     "output_type": "stream",
     "text": [
      "XGBoost Permutation Importance:\n",
      "                    feature  importance\n",
      "0           CONSTRUCTEDAREA    0.422682\n",
      "34                 LATITUDE    0.209933\n",
      "46         ZIP_CODE_ENCODED    0.106376\n",
      "30  DISTANCE_TO_CITY_CENTER    0.053692\n",
      "33                LONGITUDE    0.024058\n",
      "32  DISTANCE_TO_MAIN_STREET    0.021330\n",
      "2                BATHNUMBER    0.018563\n",
      "7                   HASLIFT    0.014405\n",
      "22               FLOORCLEAN    0.013741\n",
      "24      CADCONSTRUCTIONYEAR    0.009152\n",
      "26       CADASTRALQUALITYID    0.007334\n",
      "31        DISTANCE_TO_METRO    0.005965\n",
      "15          HASSWIMMINGPOOL    0.005456\n",
      "28            BUILTTYPEID_2    0.005166\n",
      "1                ROOMNUMBER    0.004742\n",
      "25         CADDWELLINGCOUNT    0.003594\n",
      "4           HASPARKINGSPACE    0.003322\n",
      "8        HASAIRCONDITIONING    0.002995\n",
      "6                HASTERRACE    0.002663\n",
      "23      CADMAXBUILDINGFLOOR    0.001983\n",
      "27            BUILTTYPEID_1    0.001638\n",
      "20          HASEXTERNALVIEW    0.001080\n",
      "38            PERIOD_201812    0.001056\n",
      "35            PERIOD_201803    0.001015\n",
      "44                 Valencia    0.000857\n",
      "14              HASWARDROBE    0.000744\n",
      "16               HASDOORMAN    0.000626\n",
      "13               HASBOXROOM    0.000453\n",
      "17                HASGARDEN    0.000393\n",
      "29            BUILTTYPEID_3    0.000388\n",
      "19                 ISSTUDIO    0.000367\n",
      "3                 AMENITYID    0.000303\n",
      "5         PARKINGSPACEPRICE    0.000261\n",
      "36            PERIOD_201806    0.000221\n",
      "10      HASSOUTHORIENTATION    0.000195\n",
      "18                 ISDUPLEX    0.000167\n",
      "37            PERIOD_201809    0.000159\n",
      "11       HASEASTORIENTATION    0.000118\n",
      "42       SECONDARY/TERTIARY    0.000090\n",
      "21             ISINTOPFLOOR    0.000087\n",
      "43                   Madrid    0.000083\n",
      "9       HASNORTHORIENTATION    0.000076\n",
      "12       HASWESTORIENTATION    0.000068\n",
      "40                    OTHER    0.000058\n",
      "41               PEDESTRIAN    0.000056\n",
      "39         MOTORWAY/PRIMARY    0.000031\n",
      "45                Barcelona    0.000001\n"
     ]
    }
   ],
   "source": [
    "# Permutation importance\n",
    "perm_importance = permutation_importance(xgb_model, X_test, y_test, random_state=42)\n",
    "xgb_perm_importance_df = pd.DataFrame({\n",
    "    'feature': X_train.columns,\n",
    "    'importance': perm_importance.importances_mean\n",
    "}).sort_values(by='importance', ascending=False)\n",
    "\n",
    "# Print results\n",
    "print(\"XGBoost Permutation Importance:\")\n",
    "print(xgb_perm_importance_df)"
   ],
   "metadata": {
    "collapsed": false,
    "ExecuteTime": {
     "end_time": "2024-07-10T13:56:47.605232700Z",
     "start_time": "2024-07-10T13:55:03.111455Z"
    }
   }
  },
  {
   "cell_type": "markdown",
   "source": [
    "# Run regression on final features due to interpretability"
   ],
   "metadata": {
    "collapsed": false
   }
  },
  {
   "cell_type": "markdown",
   "source": [
    "__Prepare data for regression__"
   ],
   "metadata": {
    "collapsed": false
   }
  },
  {
   "cell_type": "markdown",
   "source": [
    "We run the regression without transforming the target variable PRICE for full interpretability of the coefficients"
   ],
   "metadata": {
    "collapsed": false
   }
  },
  {
   "cell_type": "code",
   "execution_count": 18,
   "outputs": [
    {
     "data": {
      "text/plain": "144534    225000.0\n5124      268000.0\n68616     356000.0\n44359     405000.0\n93477     461500.0\nName: PRICE_TRANSFORMED, dtype: float64"
     },
     "execution_count": 18,
     "metadata": {},
     "output_type": "execute_result"
    }
   ],
   "source": [
    "#Retransform y_train and y_test to PRICE by taking the exponent and assign to new variable for regression only\n",
    "y_train_price = np.exp(y_train)\n",
    "y_test_price = np.exp(y_test)\n",
    "y_train_price.head()"
   ],
   "metadata": {
    "collapsed": false,
    "ExecuteTime": {
     "end_time": "2024-07-10T13:56:47.645971200Z",
     "start_time": "2024-07-10T13:56:47.605232700Z"
    }
   }
  },
  {
   "cell_type": "code",
   "execution_count": 19,
   "outputs": [
    {
     "name": "stdout",
     "output_type": "stream",
     "text": [
      "Retransformation done correctly\n"
     ]
    }
   ],
   "source": [
    "#Check that re-transformation to PRICE was done correctly by looking at example\n",
    "# Access the line with index 5124\n",
    "row_5124 = data.loc[5124]\n",
    "\n",
    "# Check the PRICE value and print the message\n",
    "if row_5124['PRICE'] == 268000:\n",
    "    print(\"Retransformation done correctly\")\n",
    "else:\n",
    "    print(\"Retransformation incorrect\")"
   ],
   "metadata": {
    "collapsed": false,
    "ExecuteTime": {
     "end_time": "2024-07-10T13:56:47.787913600Z",
     "start_time": "2024-07-10T13:56:47.625770200Z"
    }
   }
  },
  {
   "cell_type": "code",
   "execution_count": 20,
   "outputs": [],
   "source": [
    "#Change boolean columns to integer to enable analysis of coefficients\n",
    "bool_columns = X_train.select_dtypes(include=['bool']).columns\n",
    "X_train[bool_columns] = X_train[bool_columns].astype(int)\n",
    "\n",
    "bool_columns = X_test.select_dtypes(include=['bool']).columns\n",
    "X_test[bool_columns] = X_test[bool_columns].astype(int)"
   ],
   "metadata": {
    "collapsed": false,
    "ExecuteTime": {
     "end_time": "2024-07-10T13:56:47.803541Z",
     "start_time": "2024-07-10T13:56:47.635738800Z"
    }
   }
  },
  {
   "cell_type": "code",
   "execution_count": 21,
   "outputs": [
    {
     "data": {
      "text/plain": "        CONSTRUCTEDAREA  ROOMNUMBER  BATHNUMBER  AMENITYID  HASPARKINGSPACE  \\\n144534               78           3           1          3                0   \n5124                 68           1           1          3                0   \n68616               120           3           2          3                1   \n44359               106           2           2          3                0   \n93477               223           5           3          1                0   \n\n        PARKINGSPACEPRICE  HASTERRACE  HASLIFT  HASAIRCONDITIONING  \\\n144534                1.0           0        1                   0   \n5124                  1.0           0        1                   0   \n68616                 1.0           1        1                   0   \n44359                 1.0           0        0                   1   \n93477                 1.0           0        1                   0   \n\n        HASNORTHORIENTATION  ...  PERIOD_201809  PERIOD_201812  \\\n144534                    0  ...              1              0   \n5124                      0  ...              0              0   \n68616                     0  ...              0              1   \n44359                     1  ...              0              1   \n93477                     0  ...              0              0   \n\n        MOTORWAY/PRIMARY  OTHER  PEDESTRIAN  SECONDARY/TERTIARY  Madrid  \\\n144534                 0      0           1                   0       0   \n5124                   0      1           0                   0       1   \n68616                  0      0           0                   1       1   \n44359                  0      1           0                   0       1   \n93477                  1      0           0                   0       0   \n\n        Valencia  Barcelona  ZIP_CODE_ENCODED  \n144534         0          1         12.478790  \n5124           0          0         13.232975  \n68616          0          0         12.191415  \n44359          0          0         13.118411  \n93477          1          0         11.818849  \n\n[5 rows x 47 columns]",
      "text/html": "<div>\n<style scoped>\n    .dataframe tbody tr th:only-of-type {\n        vertical-align: middle;\n    }\n\n    .dataframe tbody tr th {\n        vertical-align: top;\n    }\n\n    .dataframe thead th {\n        text-align: right;\n    }\n</style>\n<table border=\"1\" class=\"dataframe\">\n  <thead>\n    <tr style=\"text-align: right;\">\n      <th></th>\n      <th>CONSTRUCTEDAREA</th>\n      <th>ROOMNUMBER</th>\n      <th>BATHNUMBER</th>\n      <th>AMENITYID</th>\n      <th>HASPARKINGSPACE</th>\n      <th>PARKINGSPACEPRICE</th>\n      <th>HASTERRACE</th>\n      <th>HASLIFT</th>\n      <th>HASAIRCONDITIONING</th>\n      <th>HASNORTHORIENTATION</th>\n      <th>...</th>\n      <th>PERIOD_201809</th>\n      <th>PERIOD_201812</th>\n      <th>MOTORWAY/PRIMARY</th>\n      <th>OTHER</th>\n      <th>PEDESTRIAN</th>\n      <th>SECONDARY/TERTIARY</th>\n      <th>Madrid</th>\n      <th>Valencia</th>\n      <th>Barcelona</th>\n      <th>ZIP_CODE_ENCODED</th>\n    </tr>\n  </thead>\n  <tbody>\n    <tr>\n      <th>144534</th>\n      <td>78</td>\n      <td>3</td>\n      <td>1</td>\n      <td>3</td>\n      <td>0</td>\n      <td>1.0</td>\n      <td>0</td>\n      <td>1</td>\n      <td>0</td>\n      <td>0</td>\n      <td>...</td>\n      <td>1</td>\n      <td>0</td>\n      <td>0</td>\n      <td>0</td>\n      <td>1</td>\n      <td>0</td>\n      <td>0</td>\n      <td>0</td>\n      <td>1</td>\n      <td>12.478790</td>\n    </tr>\n    <tr>\n      <th>5124</th>\n      <td>68</td>\n      <td>1</td>\n      <td>1</td>\n      <td>3</td>\n      <td>0</td>\n      <td>1.0</td>\n      <td>0</td>\n      <td>1</td>\n      <td>0</td>\n      <td>0</td>\n      <td>...</td>\n      <td>0</td>\n      <td>0</td>\n      <td>0</td>\n      <td>1</td>\n      <td>0</td>\n      <td>0</td>\n      <td>1</td>\n      <td>0</td>\n      <td>0</td>\n      <td>13.232975</td>\n    </tr>\n    <tr>\n      <th>68616</th>\n      <td>120</td>\n      <td>3</td>\n      <td>2</td>\n      <td>3</td>\n      <td>1</td>\n      <td>1.0</td>\n      <td>1</td>\n      <td>1</td>\n      <td>0</td>\n      <td>0</td>\n      <td>...</td>\n      <td>0</td>\n      <td>1</td>\n      <td>0</td>\n      <td>0</td>\n      <td>0</td>\n      <td>1</td>\n      <td>1</td>\n      <td>0</td>\n      <td>0</td>\n      <td>12.191415</td>\n    </tr>\n    <tr>\n      <th>44359</th>\n      <td>106</td>\n      <td>2</td>\n      <td>2</td>\n      <td>3</td>\n      <td>0</td>\n      <td>1.0</td>\n      <td>0</td>\n      <td>0</td>\n      <td>1</td>\n      <td>1</td>\n      <td>...</td>\n      <td>0</td>\n      <td>1</td>\n      <td>0</td>\n      <td>1</td>\n      <td>0</td>\n      <td>0</td>\n      <td>1</td>\n      <td>0</td>\n      <td>0</td>\n      <td>13.118411</td>\n    </tr>\n    <tr>\n      <th>93477</th>\n      <td>223</td>\n      <td>5</td>\n      <td>3</td>\n      <td>1</td>\n      <td>0</td>\n      <td>1.0</td>\n      <td>0</td>\n      <td>1</td>\n      <td>0</td>\n      <td>0</td>\n      <td>...</td>\n      <td>0</td>\n      <td>0</td>\n      <td>1</td>\n      <td>0</td>\n      <td>0</td>\n      <td>0</td>\n      <td>0</td>\n      <td>1</td>\n      <td>0</td>\n      <td>11.818849</td>\n    </tr>\n  </tbody>\n</table>\n<p>5 rows × 47 columns</p>\n</div>"
     },
     "execution_count": 21,
     "metadata": {},
     "output_type": "execute_result"
    }
   ],
   "source": [
    "X_train.head()"
   ],
   "metadata": {
    "collapsed": false,
    "ExecuteTime": {
     "end_time": "2024-07-10T13:56:47.803541Z",
     "start_time": "2024-07-10T13:56:47.680618500Z"
    }
   }
  },
  {
   "cell_type": "code",
   "execution_count": 22,
   "outputs": [],
   "source": [
    "# Drop LONGITUDE, LATITUDE, and ROOM_NUMBER due to high correlation with other features\n",
    "X_train = X_train.drop(columns=['LONGITUDE', 'LATITUDE', 'ROOMNUMBER'])\n",
    "X_test = X_test.drop(columns=['LONGITUDE', 'LATITUDE', 'ROOMNUMBER'])"
   ],
   "metadata": {
    "collapsed": false,
    "ExecuteTime": {
     "end_time": "2024-07-10T13:56:47.958984900Z",
     "start_time": "2024-07-10T13:56:47.715366400Z"
    }
   }
  },
  {
   "cell_type": "markdown",
   "source": [
    "__Run lasso regression for inherent feature selection__"
   ],
   "metadata": {
    "collapsed": false
   }
  },
  {
   "cell_type": "code",
   "execution_count": 23,
   "outputs": [
    {
     "name": "stdout",
     "output_type": "stream",
     "text": [
      "Selected Features: Index(['CONSTRUCTEDAREA', 'BATHNUMBER', 'HASPARKINGSPACE', 'PARKINGSPACEPRICE',\n",
      "       'HASLIFT', 'HASAIRCONDITIONING', 'HASEASTORIENTATION', 'HASBOXROOM',\n",
      "       'HASWARDROBE', 'HASSWIMMINGPOOL', 'HASDOORMAN', 'HASEXTERNALVIEW',\n",
      "       'FLOORCLEAN', 'CADMAXBUILDINGFLOOR', 'CADCONSTRUCTIONYEAR',\n",
      "       'CADDWELLINGCOUNT', 'CADASTRALQUALITYID', 'BUILTTYPEID_2',\n",
      "       'DISTANCE_TO_CITY_CENTER', 'DISTANCE_TO_METRO',\n",
      "       'DISTANCE_TO_MAIN_STREET', 'PERIOD_201803', 'PERIOD_201812',\n",
      "       'PEDESTRIAN', 'SECONDARY/TERTIARY', 'Madrid', 'Valencia',\n",
      "       'ZIP_CODE_ENCODED'],\n",
      "      dtype='object')\n",
      "\n",
      "Coefficients and P-values:\n",
      "const: Coefficient = -1496870.0775543014, P-value = 1.04096004986999e-260\n",
      "CONSTRUCTEDAREA: Coefficient = 3880.0737865948836, P-value = 0.0\n",
      "BATHNUMBER: Coefficient = 38050.235160925, P-value = 0.0\n",
      "HASPARKINGSPACE: Coefficient = 16820.09557056737, P-value = 1.0289594701334533e-25\n",
      "PARKINGSPACEPRICE: Coefficient = -0.4209337778101059, P-value = 0.00032556169330829715\n",
      "HASLIFT: Coefficient = 8450.304648658934, P-value = 1.5353882004531127e-11\n",
      "HASAIRCONDITIONING: Coefficient = 19396.814506651892, P-value = 1.6899052291286775e-77\n",
      "HASEASTORIENTATION: Coefficient = -5787.4248986345265, P-value = 5.118917637282803e-07\n",
      "HASBOXROOM: Coefficient = 7140.100734847999, P-value = 2.522379467144866e-07\n",
      "HASWARDROBE: Coefficient = -11994.136532016064, P-value = 4.1648475038155773e-29\n",
      "HASSWIMMINGPOOL: Coefficient = 12044.77711674402, P-value = 3.5383952295155023e-09\n",
      "HASDOORMAN: Coefficient = 35711.58118526729, P-value = 2.0919427853117712e-125\n",
      "HASEXTERNALVIEW: Coefficient = 17251.2071821441, P-value = 7.987184761588712e-25\n",
      "FLOORCLEAN: Coefficient = 5577.187751170157, P-value = 2.980845465519025e-130\n",
      "CADMAXBUILDINGFLOOR: Coefficient = -3293.4586101767327, P-value = 9.798839257431369e-58\n",
      "CADCONSTRUCTIONYEAR: Coefficient = -249.53722647746994, P-value = 3.1570552324497086e-40\n",
      "CADDWELLINGCOUNT: Coefficient = -209.93065825198744, P-value = 2.440665141575571e-39\n",
      "CADASTRALQUALITYID: Coefficient = 12614.542699275169, P-value = 6.476146973615155e-201\n",
      "BUILTTYPEID_2: Coefficient = -33196.82908929321, P-value = 4.290831391855675e-141\n",
      "DISTANCE_TO_CITY_CENTER: Coefficient = -11448.46856493437, P-value = 7.846547743858247e-216\n",
      "DISTANCE_TO_METRO: Coefficient = 18534.310691315466, P-value = 6.722359386576014e-288\n",
      "DISTANCE_TO_MAIN_STREET: Coefficient = -9491.04961351769, P-value = 4.8444197077806435e-114\n",
      "PERIOD_201803: Coefficient = -5981.728933775814, P-value = 8.785872262777026e-07\n",
      "PERIOD_201812: Coefficient = 9794.641814772276, P-value = 1.9265676692104997e-19\n",
      "PEDESTRIAN: Coefficient = -6812.439246633982, P-value = 2.92827644989044e-10\n",
      "SECONDARY/TERTIARY: Coefficient = 9331.754720324769, P-value = 8.271400224831665e-11\n",
      "Madrid: Coefficient = 25582.702738781536, P-value = 3.418834251611698e-88\n",
      "Valencia: Coefficient = -131472.0984392897, P-value = 0.0\n",
      "ZIP_CODE_ENCODED: Coefficient = 151297.29389883575, P-value = 0.0\n",
      "\n",
      "Evaluation Metrics:\n",
      "Mean Absolute Error (MAE): 88229.73703130777\n",
      "Mean Squared Error (MSE): 22798091986.33171\n",
      "Root Mean Squared Error (RMSE): 150990.37050862453\n",
      "Mean Absolute Percentage Error (MAPE): 0.3501760009796798\n",
      "R-squared (R2): 0.8113499995236528\n",
      "Adjusted R-squared: 0.8112326277341821\n"
     ]
    }
   ],
   "source": [
    "# Feature selection using Lasso\n",
    "lasso = Lasso(alpha=1000, max_iter=10000) # high alpha due to our high number of features\n",
    "lasso.fit(X_train, y_train_price)\n",
    "\n",
    "# Select features with non-zero coefficients\n",
    "selected_features = X_train.columns[(lasso.coef_ != 0)]\n",
    "\n",
    "# Filter the datasets to keep only the selected features\n",
    "X_train_lasso_selected = X_train[selected_features]\n",
    "X_test_lasso_selected = X_test[selected_features]\n",
    "\n",
    "# Train the Linear Regression model on the selected features\n",
    "lr_model = LinearRegression()\n",
    "lr_model.fit(X_train_lasso_selected, y_train_price)\n",
    "\n",
    "# Use statsmodels to get coefficients and p-values\n",
    "X_train_sm = sm.add_constant(X_train_lasso_selected)  # Add constant (intercept) term\n",
    "lr_model_sm = sm.OLS(y_train_price, X_train_sm).fit()\n",
    "\n",
    "# Extract coefficients and p-values\n",
    "coefficients = lr_model_sm.params\n",
    "p_values = lr_model_sm.pvalues\n",
    "\n",
    "# Predict the values on the test set\n",
    "y_pred_lr_price = lr_model.predict(X_test_lasso_selected)\n",
    "\n",
    "# Evaluation metrics on the original scale\n",
    "mae_lr_price = mean_absolute_error(y_test_price, y_pred_lr_price)\n",
    "mse_lr_price = mean_squared_error(y_test_price, y_pred_lr_price)\n",
    "rmse_lr_price = np.sqrt(mse_lr_price)\n",
    "mape_lr_price = mean_absolute_percentage_error(y_test_price, y_pred_lr_price)\n",
    "r2_lr_price = r2_score(y_test_price, y_pred_lr_price)\n",
    "\n",
    "# Calculate adjusted R-squared\n",
    "n = X_test_lasso_selected.shape[0]\n",
    "p = X_test_lasso_selected.shape[1]\n",
    "adjusted_r2_lr_price = 1 - (1 - r2_lr_price) * (n - 1) / (n - p - 1)\n",
    "\n",
    "# Print the results\n",
    "print(\"Selected Features:\", selected_features)\n",
    "\n",
    "print(\"\\nCoefficients and P-values:\")\n",
    "for coef, p_val in zip(coefficients.index, p_values):\n",
    "    print(f\"{coef}: Coefficient = {coefficients[coef]}, P-value = {p_values[coef]}\")\n",
    "\n",
    "print(\"\\nEvaluation Metrics:\")\n",
    "print(\"Mean Absolute Error (MAE):\", mae_lr_price)\n",
    "print(\"Mean Squared Error (MSE):\", mse_lr_price)\n",
    "print(\"Root Mean Squared Error (RMSE):\", rmse_lr_price)\n",
    "print(\"Mean Absolute Percentage Error (MAPE):\", mape_lr_price)\n",
    "print(\"R-squared (R2):\", r2_lr_price)\n",
    "print(\"Adjusted R-squared:\", adjusted_r2_lr_price)"
   ],
   "metadata": {
    "collapsed": false,
    "ExecuteTime": {
     "end_time": "2024-07-10T13:56:55.378330Z",
     "start_time": "2024-07-10T13:56:47.891954300Z"
    }
   }
  }
 ],
 "metadata": {
  "kernelspec": {
   "display_name": "Python 3",
   "language": "python",
   "name": "python3"
  },
  "language_info": {
   "codemirror_mode": {
    "name": "ipython",
    "version": 3
   },
   "file_extension": ".py",
   "mimetype": "text/x-python",
   "name": "python",
   "nbconvert_exporter": "python",
   "pygments_lexer": "ipython3",
   "version": "3.11.1"
  }
 },
 "nbformat": 4,
 "nbformat_minor": 2
}
