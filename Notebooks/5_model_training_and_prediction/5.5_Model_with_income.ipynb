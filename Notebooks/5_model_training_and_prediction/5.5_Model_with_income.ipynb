{
 "cells": [
  {
   "cell_type": "markdown",
   "metadata": {},
   "source": [
    "# Notebook 5.5 - Testing the feature \"Income\""
   ]
  },
  {
   "cell_type": "markdown",
   "source": [
    "# Import libraries"
   ],
   "metadata": {
    "collapsed": false
   }
  },
  {
   "cell_type": "code",
   "execution_count": 51,
   "outputs": [],
   "source": [
    "import xgboost as xgb\n",
    "from sklearn.metrics import mean_absolute_error, mean_squared_error, mean_absolute_percentage_error\n",
    "import numpy as np\n",
    "import pandas as pd\n",
    "from sklearn.model_selection import train_test_split\n",
    "from scipy import stats\n",
    "from scipy.special import inv_boxcox"
   ],
   "metadata": {
    "collapsed": false,
    "ExecuteTime": {
     "end_time": "2024-07-04T15:14:35.067196100Z",
     "start_time": "2024-07-04T15:14:34.993645500Z"
    }
   }
  },
  {
   "cell_type": "markdown",
   "metadata": {},
   "source": [
    "# Choose the city"
   ]
  },
  {
   "cell_type": "code",
   "execution_count": 52,
   "outputs": [],
   "source": [
    "# Choose the city ('Madrid', 'Barcelona', 'Valencia', or 'Combined')\n",
    "city = 'Combined'"
   ],
   "metadata": {
    "collapsed": false,
    "ExecuteTime": {
     "end_time": "2024-07-04T15:14:35.067196100Z",
     "start_time": "2024-07-04T15:14:35.004567300Z"
    }
   }
  },
  {
   "cell_type": "markdown",
   "source": [
    "# Load the cleaned data set incl. the feature \"income\""
   ],
   "metadata": {
    "collapsed": false
   }
  },
  {
   "cell_type": "code",
   "execution_count": 53,
   "outputs": [],
   "source": [
    "#Ensure that column ZIP_CODE is being read as a string\n",
    "dtype_dict = {\n",
    "    'ZIP_CODE': str\n",
    "}"
   ],
   "metadata": {
    "collapsed": false,
    "ExecuteTime": {
     "end_time": "2024-07-04T15:14:35.136246700Z",
     "start_time": "2024-07-04T15:14:35.009399300Z"
    }
   }
  },
  {
   "cell_type": "code",
   "execution_count": 54,
   "metadata": {
    "ExecuteTime": {
     "end_time": "2024-07-04T15:14:35.872688100Z",
     "start_time": "2024-07-04T15:14:35.020302900Z"
    }
   },
   "outputs": [],
   "source": [
    "if city.lower() == 'madrid':\n",
    "    data = pd.read_csv('../../data/5_cleaned_and_feature_engineering/feature_income/madrid_cleaned_incl_income.csv', dtype=dtype_dict)\n",
    "elif city.lower() == 'barcelona':\n",
    "    data = pd.read_csv('../../data/5_cleaned_and_feature_engineering/feature_income/barcelona_cleaned_incl_income.csv', dtype=dtype_dict)\n",
    "elif city.lower() == 'valencia':\n",
    "    data = pd.read_csv('../../data/5_cleaned_and_feature_engineering/feature_income/valencia_cleaned_incl_income.csv', dtype=dtype_dict)\n",
    "elif city.lower() == 'combined':\n",
    "    #Read all 3 datasets and add a column to indicate source dataset\n",
    "    madrid_df = pd.read_csv('../../data/5_cleaned_and_feature_engineering/feature_income/madrid_cleaned_incl_income.csv', dtype=dtype_dict)\n",
    "    valencia_df = pd.read_csv('../../data/5_cleaned_and_feature_engineering/feature_income/valencia_cleaned_incl_income.csv', dtype=dtype_dict)\n",
    "    barcelona_df = pd.read_csv('../../data/5_cleaned_and_feature_engineering/feature_income/barcelona_cleaned_incl_income.csv', dtype=dtype_dict)\n",
    "    madrid_df['Madrid'] = True\n",
    "    madrid_df['Valencia'] = False\n",
    "    madrid_df['Barcelona'] = False    \n",
    "    valencia_df['Madrid'] = False\n",
    "    valencia_df['Valencia'] = True\n",
    "    valencia_df['Barcelona'] = False    \n",
    "    barcelona_df['Madrid'] = False\n",
    "    barcelona_df['Valencia'] = False\n",
    "    barcelona_df['Barcelona'] = True\n",
    "    data = pd.concat([madrid_df, valencia_df, barcelona_df], ignore_index=True)"
   ]
  },
  {
   "cell_type": "code",
   "execution_count": 55,
   "outputs": [
    {
     "data": {
      "text/plain": "                 ASSETID   PRICE  CONSTRUCTEDAREA  ROOMNUMBER  BATHNUMBER  \\\n0  A10000037964896093228  255000               97           3           2   \n1  A10000072440601830803   82000               62           2           1   \n2  A10000538600815177437  133000               67           3           1   \n3  A10000654405436195291  204000              180           3           2   \n4  A10000872160480475600  161000               54           2           1   \n\n   AMENITYID  HASPARKINGSPACE  PARKINGSPACEPRICE  HASTERRACE  HASLIFT  ...  \\\n0          3                0                1.0           0        1  ...   \n1          3                0                1.0           0        1  ...   \n2          3                0                1.0           1        0  ...   \n3          3                0                1.0           0        1  ...   \n4          3                0                1.0           0        0  ...   \n\n   AVERAGE_DISPOSABLE_INCOME  LABOR_INCOME  EXEMPT_INCOME  GROSS_INCOME  \\\n0                    33099.0  1.597692e+09     76274309.0  2.045548e+09   \n1                    20458.0  6.965424e+08     36917201.0  8.145684e+08   \n2                    20458.0  6.965424e+08     36917201.0  8.145684e+08   \n3                    22618.0  1.311609e+09     54700472.0  1.530129e+09   \n4                    22399.0  1.097802e+09     48959836.0  1.301282e+09   \n\n   SOCIAL_SECURITY_CONTRIBUTIONS  SELF_ASSESSMENT_QUOTA  DISPOSABLE_INCOME  \\\n0                     62934177.0            396256316.0       1.586413e+09   \n1                     35486524.0             99378073.0       6.797218e+08   \n2                     35486524.0             99378073.0       6.797218e+08   \n3                     61816758.0            208884677.0       1.259502e+09   \n4                     51743635.0            178718832.0       1.070854e+09   \n\n   Madrid  Valencia  Barcelona  \n0    True     False      False  \n1    True     False      False  \n2    True     False      False  \n3    True     False      False  \n4    True     False      False  \n\n[5 rows x 55 columns]",
      "text/html": "<div>\n<style scoped>\n    .dataframe tbody tr th:only-of-type {\n        vertical-align: middle;\n    }\n\n    .dataframe tbody tr th {\n        vertical-align: top;\n    }\n\n    .dataframe thead th {\n        text-align: right;\n    }\n</style>\n<table border=\"1\" class=\"dataframe\">\n  <thead>\n    <tr style=\"text-align: right;\">\n      <th></th>\n      <th>ASSETID</th>\n      <th>PRICE</th>\n      <th>CONSTRUCTEDAREA</th>\n      <th>ROOMNUMBER</th>\n      <th>BATHNUMBER</th>\n      <th>AMENITYID</th>\n      <th>HASPARKINGSPACE</th>\n      <th>PARKINGSPACEPRICE</th>\n      <th>HASTERRACE</th>\n      <th>HASLIFT</th>\n      <th>...</th>\n      <th>AVERAGE_DISPOSABLE_INCOME</th>\n      <th>LABOR_INCOME</th>\n      <th>EXEMPT_INCOME</th>\n      <th>GROSS_INCOME</th>\n      <th>SOCIAL_SECURITY_CONTRIBUTIONS</th>\n      <th>SELF_ASSESSMENT_QUOTA</th>\n      <th>DISPOSABLE_INCOME</th>\n      <th>Madrid</th>\n      <th>Valencia</th>\n      <th>Barcelona</th>\n    </tr>\n  </thead>\n  <tbody>\n    <tr>\n      <th>0</th>\n      <td>A10000037964896093228</td>\n      <td>255000</td>\n      <td>97</td>\n      <td>3</td>\n      <td>2</td>\n      <td>3</td>\n      <td>0</td>\n      <td>1.0</td>\n      <td>0</td>\n      <td>1</td>\n      <td>...</td>\n      <td>33099.0</td>\n      <td>1.597692e+09</td>\n      <td>76274309.0</td>\n      <td>2.045548e+09</td>\n      <td>62934177.0</td>\n      <td>396256316.0</td>\n      <td>1.586413e+09</td>\n      <td>True</td>\n      <td>False</td>\n      <td>False</td>\n    </tr>\n    <tr>\n      <th>1</th>\n      <td>A10000072440601830803</td>\n      <td>82000</td>\n      <td>62</td>\n      <td>2</td>\n      <td>1</td>\n      <td>3</td>\n      <td>0</td>\n      <td>1.0</td>\n      <td>0</td>\n      <td>1</td>\n      <td>...</td>\n      <td>20458.0</td>\n      <td>6.965424e+08</td>\n      <td>36917201.0</td>\n      <td>8.145684e+08</td>\n      <td>35486524.0</td>\n      <td>99378073.0</td>\n      <td>6.797218e+08</td>\n      <td>True</td>\n      <td>False</td>\n      <td>False</td>\n    </tr>\n    <tr>\n      <th>2</th>\n      <td>A10000538600815177437</td>\n      <td>133000</td>\n      <td>67</td>\n      <td>3</td>\n      <td>1</td>\n      <td>3</td>\n      <td>0</td>\n      <td>1.0</td>\n      <td>1</td>\n      <td>0</td>\n      <td>...</td>\n      <td>20458.0</td>\n      <td>6.965424e+08</td>\n      <td>36917201.0</td>\n      <td>8.145684e+08</td>\n      <td>35486524.0</td>\n      <td>99378073.0</td>\n      <td>6.797218e+08</td>\n      <td>True</td>\n      <td>False</td>\n      <td>False</td>\n    </tr>\n    <tr>\n      <th>3</th>\n      <td>A10000654405436195291</td>\n      <td>204000</td>\n      <td>180</td>\n      <td>3</td>\n      <td>2</td>\n      <td>3</td>\n      <td>0</td>\n      <td>1.0</td>\n      <td>0</td>\n      <td>1</td>\n      <td>...</td>\n      <td>22618.0</td>\n      <td>1.311609e+09</td>\n      <td>54700472.0</td>\n      <td>1.530129e+09</td>\n      <td>61816758.0</td>\n      <td>208884677.0</td>\n      <td>1.259502e+09</td>\n      <td>True</td>\n      <td>False</td>\n      <td>False</td>\n    </tr>\n    <tr>\n      <th>4</th>\n      <td>A10000872160480475600</td>\n      <td>161000</td>\n      <td>54</td>\n      <td>2</td>\n      <td>1</td>\n      <td>3</td>\n      <td>0</td>\n      <td>1.0</td>\n      <td>0</td>\n      <td>0</td>\n      <td>...</td>\n      <td>22399.0</td>\n      <td>1.097802e+09</td>\n      <td>48959836.0</td>\n      <td>1.301282e+09</td>\n      <td>51743635.0</td>\n      <td>178718832.0</td>\n      <td>1.070854e+09</td>\n      <td>True</td>\n      <td>False</td>\n      <td>False</td>\n    </tr>\n  </tbody>\n</table>\n<p>5 rows × 55 columns</p>\n</div>"
     },
     "execution_count": 55,
     "metadata": {},
     "output_type": "execute_result"
    }
   ],
   "source": [
    "data.head()"
   ],
   "metadata": {
    "collapsed": false,
    "ExecuteTime": {
     "end_time": "2024-07-04T15:14:35.885533200Z",
     "start_time": "2024-07-04T15:14:35.872688100Z"
    }
   }
  },
  {
   "cell_type": "markdown",
   "source": [
    "# Defining X and y"
   ],
   "metadata": {
    "collapsed": false
   }
  },
  {
   "cell_type": "markdown",
   "source": [
    "__Transform target variable PRICE as optimized in notebook 5.1__"
   ],
   "metadata": {
    "collapsed": false
   }
  },
  {
   "cell_type": "code",
   "execution_count": 56,
   "outputs": [],
   "source": [
    "# Define the lambda value\n",
    "specified_lambda = 0\n",
    "\n",
    "# Apply Box-Cox transformation using the specified lambda value\n",
    "price_transformed = stats.boxcox(data['PRICE'], lmbda=specified_lambda)\n",
    "\n",
    "# Add the transformed PRICE back to the DataFrame\n",
    "data['PRICE_TRANSFORMED'] = price_transformed"
   ],
   "metadata": {
    "collapsed": false,
    "ExecuteTime": {
     "end_time": "2024-07-04T15:14:35.895185800Z",
     "start_time": "2024-07-04T15:14:35.885533200Z"
    }
   }
  },
  {
   "cell_type": "markdown",
   "source": [
    "__Assign features as X and target as Y__"
   ],
   "metadata": {
    "collapsed": false
   }
  },
  {
   "cell_type": "code",
   "execution_count": 57,
   "outputs": [],
   "source": [
    "X = data.drop(columns=['PRICE', 'PRICE_TRANSFORMED'])\n",
    "y = data['PRICE_TRANSFORMED']"
   ],
   "metadata": {
    "collapsed": false,
    "ExecuteTime": {
     "end_time": "2024-07-04T15:14:35.969931200Z",
     "start_time": "2024-07-04T15:14:35.895185800Z"
    }
   }
  },
  {
   "cell_type": "markdown",
   "source": [
    "# Drop features not relevant for modelling"
   ],
   "metadata": {
    "collapsed": false
   }
  },
  {
   "cell_type": "code",
   "execution_count": 58,
   "outputs": [],
   "source": [
    "#Drop ASSETID as it is only an identifier, drop ZIP_CODE as the base model only includes base features\n",
    "X = X.drop(columns=['ASSETID', 'ZIP_CODE'])"
   ],
   "metadata": {
    "collapsed": false,
    "ExecuteTime": {
     "end_time": "2024-07-04T15:14:36.036926800Z",
     "start_time": "2024-07-04T15:14:35.924387900Z"
    }
   }
  },
  {
   "cell_type": "code",
   "execution_count": 59,
   "outputs": [],
   "source": [
    "#Drop all columns with income data that are not on a per capita basis\n",
    "X = X.drop(columns=['NUMER_OF_DECLARATIONS', 'LABOR_INCOME', 'EXEMPT_INCOME', 'GROSS_INCOME', 'SOCIAL_SECURITY_CONTRIBUTIONS', 'SELF_ASSESSMENT_QUOTA', 'DISPOSABLE_INCOME'])"
   ],
   "metadata": {
    "collapsed": false,
    "ExecuteTime": {
     "end_time": "2024-07-04T15:14:36.036926800Z",
     "start_time": "2024-07-04T15:14:35.954284Z"
    }
   }
  },
  {
   "cell_type": "markdown",
   "source": [
    "# Splitting the data into training and test set"
   ],
   "metadata": {
    "collapsed": false
   }
  },
  {
   "cell_type": "code",
   "execution_count": 60,
   "outputs": [
    {
     "name": "stdout",
     "output_type": "stream",
     "text": [
      "X_train shape: (104827, 45)\n",
      "X_test shape: (44927, 45)\n",
      "y_train shape: (104827,)\n",
      "y_test shape: (44927,)\n"
     ]
    }
   ],
   "source": [
    "# Split the dataset into training and testing set with 7:3 ratio\n",
    "X_train, X_test, y_train, y_test = train_test_split(X, y, test_size=0.3, random_state=42)\n",
    "\n",
    "# Check the shapes of the resulting datasets\n",
    "print(f\"X_train shape: {X_train.shape}\")\n",
    "print(f\"X_test shape: {X_test.shape}\")\n",
    "print(f\"y_train shape: {y_train.shape}\")\n",
    "print(f\"y_test shape: {y_test.shape}\")"
   ],
   "metadata": {
    "collapsed": false,
    "ExecuteTime": {
     "end_time": "2024-07-04T15:14:36.064512600Z",
     "start_time": "2024-07-04T15:14:35.981499500Z"
    }
   }
  },
  {
   "cell_type": "markdown",
   "source": [
    "# Target encoding of base feature NEIGHBORHOOD"
   ],
   "metadata": {
    "collapsed": false
   }
  },
  {
   "cell_type": "code",
   "execution_count": 61,
   "outputs": [],
   "source": [
    "# Calculate average LOG_PRICE for each NEIGHBORHOOD only with training set\n",
    "neighborhood_means = y_train.groupby(X_train['NEIGHBORHOOD']).mean()\n",
    "\n",
    "# Assign average means to both training and test set\n",
    "X_train['NEIGHBORHOOD_ENCODED'] = X_train['NEIGHBORHOOD'].map(neighborhood_means)\n",
    "X_test['NEIGHBORHOOD_ENCODED'] = X_test['NEIGHBORHOOD'].map(neighborhood_means)\n",
    "\n",
    "# Drop the NEIGHBORHOOD column from both training and testing sets\n",
    "X_train = X_train.drop(columns=['NEIGHBORHOOD'])\n",
    "X_test = X_test.drop(columns=['NEIGHBORHOOD'])"
   ],
   "metadata": {
    "collapsed": false,
    "ExecuteTime": {
     "end_time": "2024-07-04T15:14:36.103997900Z",
     "start_time": "2024-07-04T15:14:36.048871700Z"
    }
   }
  },
  {
   "cell_type": "markdown",
   "source": [
    "# Inspect data before running the model"
   ],
   "metadata": {
    "collapsed": false
   }
  },
  {
   "cell_type": "code",
   "execution_count": 62,
   "outputs": [
    {
     "data": {
      "text/plain": "        CONSTRUCTEDAREA  ROOMNUMBER  BATHNUMBER  AMENITYID  HASPARKINGSPACE  \\\n55930                49           1           1          3                0   \n110070               74           4           1          3                0   \n133225              113           4           2          3                0   \n57088                42           2           1          3                0   \n103352               60           3           1          3                0   \n\n        PARKINGSPACEPRICE  HASTERRACE  HASLIFT  HASAIRCONDITIONING  \\\n55930                 1.0           0        1                   0   \n110070                1.0           0        1                   1   \n133225                1.0           1        1                   1   \n57088                 1.0           0        0                   0   \n103352                1.0           0        1                   0   \n\n        HASNORTHORIENTATION  ...  PERIOD_201803  PERIOD_201806  PERIOD_201809  \\\n55930                     0  ...              0              0              0   \n110070                    0  ...              0              1              0   \n133225                    0  ...              0              1              0   \n57088                     0  ...              0              0              0   \n103352                    1  ...              0              0              0   \n\n        PERIOD_201812  AVERAGE_GROSS_INCOME  AVERAGE_DISPOSABLE_INCOME  \\\n55930               1               31338.0                    25181.0   \n110070              0              399730.0                   310380.0   \n133225              0              399730.0                   310380.0   \n57088               1               35015.0                    27842.0   \n103352              1              399730.0                   310380.0   \n\n        Madrid  Valencia  Barcelona  NEIGHBORHOOD_ENCODED  \n55930     True     False      False             12.975745  \n110070   False     False       True             12.503598  \n133225   False     False       True             12.569330  \n57088     True     False      False             11.841607  \n103352   False     False       True             12.112270  \n\n[5 rows x 45 columns]",
      "text/html": "<div>\n<style scoped>\n    .dataframe tbody tr th:only-of-type {\n        vertical-align: middle;\n    }\n\n    .dataframe tbody tr th {\n        vertical-align: top;\n    }\n\n    .dataframe thead th {\n        text-align: right;\n    }\n</style>\n<table border=\"1\" class=\"dataframe\">\n  <thead>\n    <tr style=\"text-align: right;\">\n      <th></th>\n      <th>CONSTRUCTEDAREA</th>\n      <th>ROOMNUMBER</th>\n      <th>BATHNUMBER</th>\n      <th>AMENITYID</th>\n      <th>HASPARKINGSPACE</th>\n      <th>PARKINGSPACEPRICE</th>\n      <th>HASTERRACE</th>\n      <th>HASLIFT</th>\n      <th>HASAIRCONDITIONING</th>\n      <th>HASNORTHORIENTATION</th>\n      <th>...</th>\n      <th>PERIOD_201803</th>\n      <th>PERIOD_201806</th>\n      <th>PERIOD_201809</th>\n      <th>PERIOD_201812</th>\n      <th>AVERAGE_GROSS_INCOME</th>\n      <th>AVERAGE_DISPOSABLE_INCOME</th>\n      <th>Madrid</th>\n      <th>Valencia</th>\n      <th>Barcelona</th>\n      <th>NEIGHBORHOOD_ENCODED</th>\n    </tr>\n  </thead>\n  <tbody>\n    <tr>\n      <th>55930</th>\n      <td>49</td>\n      <td>1</td>\n      <td>1</td>\n      <td>3</td>\n      <td>0</td>\n      <td>1.0</td>\n      <td>0</td>\n      <td>1</td>\n      <td>0</td>\n      <td>0</td>\n      <td>...</td>\n      <td>0</td>\n      <td>0</td>\n      <td>0</td>\n      <td>1</td>\n      <td>31338.0</td>\n      <td>25181.0</td>\n      <td>True</td>\n      <td>False</td>\n      <td>False</td>\n      <td>12.975745</td>\n    </tr>\n    <tr>\n      <th>110070</th>\n      <td>74</td>\n      <td>4</td>\n      <td>1</td>\n      <td>3</td>\n      <td>0</td>\n      <td>1.0</td>\n      <td>0</td>\n      <td>1</td>\n      <td>1</td>\n      <td>0</td>\n      <td>...</td>\n      <td>0</td>\n      <td>1</td>\n      <td>0</td>\n      <td>0</td>\n      <td>399730.0</td>\n      <td>310380.0</td>\n      <td>False</td>\n      <td>False</td>\n      <td>True</td>\n      <td>12.503598</td>\n    </tr>\n    <tr>\n      <th>133225</th>\n      <td>113</td>\n      <td>4</td>\n      <td>2</td>\n      <td>3</td>\n      <td>0</td>\n      <td>1.0</td>\n      <td>1</td>\n      <td>1</td>\n      <td>1</td>\n      <td>0</td>\n      <td>...</td>\n      <td>0</td>\n      <td>1</td>\n      <td>0</td>\n      <td>0</td>\n      <td>399730.0</td>\n      <td>310380.0</td>\n      <td>False</td>\n      <td>False</td>\n      <td>True</td>\n      <td>12.569330</td>\n    </tr>\n    <tr>\n      <th>57088</th>\n      <td>42</td>\n      <td>2</td>\n      <td>1</td>\n      <td>3</td>\n      <td>0</td>\n      <td>1.0</td>\n      <td>0</td>\n      <td>0</td>\n      <td>0</td>\n      <td>0</td>\n      <td>...</td>\n      <td>0</td>\n      <td>0</td>\n      <td>0</td>\n      <td>1</td>\n      <td>35015.0</td>\n      <td>27842.0</td>\n      <td>True</td>\n      <td>False</td>\n      <td>False</td>\n      <td>11.841607</td>\n    </tr>\n    <tr>\n      <th>103352</th>\n      <td>60</td>\n      <td>3</td>\n      <td>1</td>\n      <td>3</td>\n      <td>0</td>\n      <td>1.0</td>\n      <td>0</td>\n      <td>1</td>\n      <td>0</td>\n      <td>1</td>\n      <td>...</td>\n      <td>0</td>\n      <td>0</td>\n      <td>0</td>\n      <td>1</td>\n      <td>399730.0</td>\n      <td>310380.0</td>\n      <td>False</td>\n      <td>False</td>\n      <td>True</td>\n      <td>12.112270</td>\n    </tr>\n  </tbody>\n</table>\n<p>5 rows × 45 columns</p>\n</div>"
     },
     "execution_count": 62,
     "metadata": {},
     "output_type": "execute_result"
    }
   ],
   "source": [
    "X_test.head()"
   ],
   "metadata": {
    "collapsed": false,
    "ExecuteTime": {
     "end_time": "2024-07-04T15:14:36.146119200Z",
     "start_time": "2024-07-04T15:14:36.103997900Z"
    }
   }
  },
  {
   "cell_type": "markdown",
   "source": [
    "# Test the model with new feature"
   ],
   "metadata": {
    "collapsed": false
   }
  },
  {
   "cell_type": "markdown",
   "source": [
    "__Define the best parameters found by GridSearchCV in Notebook 5.1__"
   ],
   "metadata": {
    "collapsed": false
   }
  },
  {
   "cell_type": "code",
   "execution_count": 63,
   "outputs": [],
   "source": [
    "best_params = {\n",
    "    'colsample_bytree': 0.8,\n",
    "    'learning_rate': 0.1,\n",
    "    'max_depth': 10,\n",
    "    'n_estimators': 500,\n",
    "    'subsample': 0.9\n",
    "}"
   ],
   "metadata": {
    "collapsed": false,
    "ExecuteTime": {
     "end_time": "2024-07-04T15:14:36.146119200Z",
     "start_time": "2024-07-04T15:14:36.121723700Z"
    }
   }
  },
  {
   "cell_type": "markdown",
   "source": [
    "__Running the optimized model new feature__"
   ],
   "metadata": {
    "collapsed": false
   }
  },
  {
   "cell_type": "code",
   "execution_count": 64,
   "outputs": [
    {
     "name": "stdout",
     "output_type": "stream",
     "text": [
      "Metrics on the original PRICE scale:\n",
      "MAE: 44213.7425\n",
      "MSE: 10290799552.3887\n",
      "RMSE: 101443.5782\n",
      "MAPE: 0.1288\n",
      "\n",
      "Metrics on the Box-Cox transformed scale:\n",
      "MAE: 0.1244\n",
      "MSE: 0.0318\n",
      "RMSE: 0.1784\n",
      "MAPE: 0.0100\n"
     ]
    }
   ],
   "source": [
    "# Initialize XGBoost model with the best parameters\n",
    "xgb_model = xgb.XGBRegressor(**best_params)\n",
    "\n",
    "# Train the model on the Box-Cox transformed target\n",
    "xgb_model.fit(X_train, y_train)\n",
    "\n",
    "# Predictions in Box-Cox transformed scale\n",
    "y_pred_boxcox_xgb = xgb_model.predict(X_test)\n",
    "\n",
    "# Transform predictions back to the original scale\n",
    "y_pred_xgb = inv_boxcox(y_pred_boxcox_xgb, specified_lambda)\n",
    "y_test_price = inv_boxcox(y_test, specified_lambda)\n",
    "\n",
    "# Evaluation metrics on the original scale\n",
    "mae_xgb = mean_absolute_error(y_test_price, y_pred_xgb)\n",
    "mse_xgb = mean_squared_error(y_test_price, y_pred_xgb)\n",
    "rmse_xgb = np.sqrt(mse_xgb)\n",
    "mape_xgb = mean_absolute_percentage_error(y_test_price, y_pred_xgb)\n",
    "\n",
    "# Evaluation metrics on the Box-Cox transformed scale\n",
    "mae_boxcox_xgb = mean_absolute_error(y_test, y_pred_boxcox_xgb)\n",
    "mse_boxcox_xgb = mean_squared_error(y_test, y_pred_boxcox_xgb)\n",
    "rmse_boxcox_xgb = np.sqrt(mse_boxcox_xgb)\n",
    "mape_boxcox_xgb = mean_absolute_percentage_error(y_test, y_pred_boxcox_xgb)\n",
    "\n",
    "# Print the metrics\n",
    "print(\"Metrics on the original PRICE scale:\")\n",
    "print(f\"MAE: {mae_xgb:.4f}\")\n",
    "print(f\"MSE: {mse_xgb:.4f}\")\n",
    "print(f\"RMSE: {rmse_xgb:.4f}\")\n",
    "print(f\"MAPE: {mape_xgb:.4f}\")\n",
    "\n",
    "print(\"\\nMetrics on the Box-Cox transformed scale:\")\n",
    "print(f\"MAE: {mae_boxcox_xgb:.4f}\")\n",
    "print(f\"MSE: {mse_boxcox_xgb:.4f}\")\n",
    "print(f\"RMSE: {rmse_boxcox_xgb:.4f}\")\n",
    "print(f\"MAPE: {mape_boxcox_xgb:.4f}\")"
   ],
   "metadata": {
    "collapsed": false,
    "ExecuteTime": {
     "end_time": "2024-07-04T15:14:48.747808Z",
     "start_time": "2024-07-04T15:14:36.130479400Z"
    }
   }
  }
 ],
 "metadata": {
  "kernelspec": {
   "display_name": "Python 3",
   "language": "python",
   "name": "python3"
  },
  "language_info": {
   "codemirror_mode": {
    "name": "ipython",
    "version": 3
   },
   "file_extension": ".py",
   "mimetype": "text/x-python",
   "name": "python",
   "nbconvert_exporter": "python",
   "pygments_lexer": "ipython3",
   "version": "3.11.1"
  }
 },
 "nbformat": 4,
 "nbformat_minor": 2
}
