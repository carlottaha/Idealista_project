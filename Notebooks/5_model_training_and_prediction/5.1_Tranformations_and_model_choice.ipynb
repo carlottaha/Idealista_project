{
 "cells": [
  {
   "cell_type": "markdown",
   "metadata": {},
   "source": [
    "# Notebook 5.1 - Choice of transformations and model"
   ]
  },
  {
   "cell_type": "markdown",
   "source": [
    "# Import libraries"
   ],
   "metadata": {
    "collapsed": false
   }
  },
  {
   "cell_type": "code",
   "execution_count": 83,
   "outputs": [],
   "source": [
    "#Import all libraries that are relevant across models\n",
    "import pandas as pd\n",
    "import numpy as np\n",
    "from sklearn.model_selection import train_test_split\n",
    "from sklearn.metrics import mean_absolute_error, mean_squared_error, mean_absolute_percentage_error\n",
    "from sklearn.inspection import permutation_importance\n",
    "from sklearn.model_selection import GridSearchCV\n",
    "from scipy import stats\n",
    "from scipy.special import inv_boxcox\n",
    "import matplotlib.pyplot as plt\n",
    "import seaborn as sns\n",
    "import statsmodels.api as sm"
   ],
   "metadata": {
    "collapsed": false,
    "ExecuteTime": {
     "end_time": "2024-07-10T14:26:28.949624600Z",
     "start_time": "2024-07-10T14:26:28.927810500Z"
    }
   }
  },
  {
   "cell_type": "markdown",
   "metadata": {},
   "source": [
    "# Choose the city"
   ]
  },
  {
   "cell_type": "code",
   "execution_count": 84,
   "outputs": [],
   "source": [
    "# Choose the city ('Madrid', 'Barcelona', 'Valencia', or 'Combined')\n",
    "city = 'Combined'"
   ],
   "metadata": {
    "collapsed": false,
    "ExecuteTime": {
     "end_time": "2024-07-10T14:26:29.259327700Z",
     "start_time": "2024-07-10T14:26:29.250147500Z"
    }
   }
  },
  {
   "cell_type": "markdown",
   "source": [
    "# Load the cleaned data sets"
   ],
   "metadata": {
    "collapsed": false
   }
  },
  {
   "cell_type": "code",
   "execution_count": 85,
   "metadata": {
    "ExecuteTime": {
     "end_time": "2024-07-10T14:26:30.444441800Z",
     "start_time": "2024-07-10T14:26:29.613091300Z"
    }
   },
   "outputs": [],
   "source": [
    "if city.lower() == 'madrid':\n",
    "    data = pd.read_csv('../../data/4_data_cleaned/madrid_cleaned_base_features.csv')\n",
    "elif city.lower() == 'barcelona':\n",
    "    data = pd.read_csv('../../data/4_data_cleaned/barcelona_cleaned_base_features.csv')\n",
    "elif city.lower() == 'valencia':\n",
    "    data = pd.read_csv('../../data/4_data_cleaned/valencia_cleaned_base_features.csv')\n",
    "elif city.lower() == 'combined':\n",
    "    #Read all 3 datasets and add a column to indicate source dataset\n",
    "    madrid_df = pd.read_csv('../../data/4_data_cleaned/madrid_cleaned_base_features.csv')\n",
    "    valencia_df = pd.read_csv('../../data/4_data_cleaned/valencia_cleaned_base_features.csv')\n",
    "    barcelona_df = pd.read_csv('../../data/4_data_cleaned/barcelona_cleaned_base_features.csv')\n",
    "    madrid_df['Madrid'] = True\n",
    "    madrid_df['Valencia'] = False\n",
    "    madrid_df['Barcelona'] = False    \n",
    "    valencia_df['Madrid'] = False\n",
    "    valencia_df['Valencia'] = True\n",
    "    valencia_df['Barcelona'] = False    \n",
    "    barcelona_df['Madrid'] = False\n",
    "    barcelona_df['Valencia'] = False\n",
    "    barcelona_df['Barcelona'] = True\n",
    "    data = pd.concat([madrid_df, valencia_df, barcelona_df], ignore_index=True)"
   ]
  },
  {
   "cell_type": "markdown",
   "source": [
    "__Inspect cleaned data__"
   ],
   "metadata": {
    "collapsed": false
   }
  },
  {
   "cell_type": "code",
   "execution_count": 86,
   "outputs": [
    {
     "data": {
      "text/plain": "                 ASSETID   PRICE  CONSTRUCTEDAREA  ROOMNUMBER  BATHNUMBER  \\\n0  A10000037964896093228  255000               97           3           2   \n1  A10000072440601830803   82000               62           2           1   \n2  A10000538600815177437  133000               67           3           1   \n3  A10000654405436195291  204000              180           3           2   \n4  A10000872160480475600  161000               54           2           1   \n\n   AMENITYID  HASPARKINGSPACE  PARKINGSPACEPRICE  HASTERRACE  HASLIFT  ...  \\\n0          3                0                1.0           0        1  ...   \n1          3                0                1.0           0        1  ...   \n2          3                0                1.0           1        0  ...   \n3          3                0                1.0           0        1  ...   \n4          3                0                1.0           0        0  ...   \n\n    LATITUDE       NEIGHBORHOOD  ZIP_CODE  PERIOD_201803  PERIOD_201806  \\\n0  40.473921      Pinar del Rey     28033              0              0   \n1  40.384968  Palomeras sureste     28018              0              1   \n2  40.384547          San Diego     28018              1              0   \n3  40.430336             Ventas     28017              1              0   \n4  40.384103        Buena Vista     28019              0              0   \n\n   PERIOD_201809  PERIOD_201812  Madrid  Valencia  Barcelona  \n0              1              0    True     False      False  \n1              0              0    True     False      False  \n2              0              0    True     False      False  \n3              0              0    True     False      False  \n4              0              1    True     False      False  \n\n[5 rows x 46 columns]",
      "text/html": "<div>\n<style scoped>\n    .dataframe tbody tr th:only-of-type {\n        vertical-align: middle;\n    }\n\n    .dataframe tbody tr th {\n        vertical-align: top;\n    }\n\n    .dataframe thead th {\n        text-align: right;\n    }\n</style>\n<table border=\"1\" class=\"dataframe\">\n  <thead>\n    <tr style=\"text-align: right;\">\n      <th></th>\n      <th>ASSETID</th>\n      <th>PRICE</th>\n      <th>CONSTRUCTEDAREA</th>\n      <th>ROOMNUMBER</th>\n      <th>BATHNUMBER</th>\n      <th>AMENITYID</th>\n      <th>HASPARKINGSPACE</th>\n      <th>PARKINGSPACEPRICE</th>\n      <th>HASTERRACE</th>\n      <th>HASLIFT</th>\n      <th>...</th>\n      <th>LATITUDE</th>\n      <th>NEIGHBORHOOD</th>\n      <th>ZIP_CODE</th>\n      <th>PERIOD_201803</th>\n      <th>PERIOD_201806</th>\n      <th>PERIOD_201809</th>\n      <th>PERIOD_201812</th>\n      <th>Madrid</th>\n      <th>Valencia</th>\n      <th>Barcelona</th>\n    </tr>\n  </thead>\n  <tbody>\n    <tr>\n      <th>0</th>\n      <td>A10000037964896093228</td>\n      <td>255000</td>\n      <td>97</td>\n      <td>3</td>\n      <td>2</td>\n      <td>3</td>\n      <td>0</td>\n      <td>1.0</td>\n      <td>0</td>\n      <td>1</td>\n      <td>...</td>\n      <td>40.473921</td>\n      <td>Pinar del Rey</td>\n      <td>28033</td>\n      <td>0</td>\n      <td>0</td>\n      <td>1</td>\n      <td>0</td>\n      <td>True</td>\n      <td>False</td>\n      <td>False</td>\n    </tr>\n    <tr>\n      <th>1</th>\n      <td>A10000072440601830803</td>\n      <td>82000</td>\n      <td>62</td>\n      <td>2</td>\n      <td>1</td>\n      <td>3</td>\n      <td>0</td>\n      <td>1.0</td>\n      <td>0</td>\n      <td>1</td>\n      <td>...</td>\n      <td>40.384968</td>\n      <td>Palomeras sureste</td>\n      <td>28018</td>\n      <td>0</td>\n      <td>1</td>\n      <td>0</td>\n      <td>0</td>\n      <td>True</td>\n      <td>False</td>\n      <td>False</td>\n    </tr>\n    <tr>\n      <th>2</th>\n      <td>A10000538600815177437</td>\n      <td>133000</td>\n      <td>67</td>\n      <td>3</td>\n      <td>1</td>\n      <td>3</td>\n      <td>0</td>\n      <td>1.0</td>\n      <td>1</td>\n      <td>0</td>\n      <td>...</td>\n      <td>40.384547</td>\n      <td>San Diego</td>\n      <td>28018</td>\n      <td>1</td>\n      <td>0</td>\n      <td>0</td>\n      <td>0</td>\n      <td>True</td>\n      <td>False</td>\n      <td>False</td>\n    </tr>\n    <tr>\n      <th>3</th>\n      <td>A10000654405436195291</td>\n      <td>204000</td>\n      <td>180</td>\n      <td>3</td>\n      <td>2</td>\n      <td>3</td>\n      <td>0</td>\n      <td>1.0</td>\n      <td>0</td>\n      <td>1</td>\n      <td>...</td>\n      <td>40.430336</td>\n      <td>Ventas</td>\n      <td>28017</td>\n      <td>1</td>\n      <td>0</td>\n      <td>0</td>\n      <td>0</td>\n      <td>True</td>\n      <td>False</td>\n      <td>False</td>\n    </tr>\n    <tr>\n      <th>4</th>\n      <td>A10000872160480475600</td>\n      <td>161000</td>\n      <td>54</td>\n      <td>2</td>\n      <td>1</td>\n      <td>3</td>\n      <td>0</td>\n      <td>1.0</td>\n      <td>0</td>\n      <td>0</td>\n      <td>...</td>\n      <td>40.384103</td>\n      <td>Buena Vista</td>\n      <td>28019</td>\n      <td>0</td>\n      <td>0</td>\n      <td>0</td>\n      <td>1</td>\n      <td>True</td>\n      <td>False</td>\n      <td>False</td>\n    </tr>\n  </tbody>\n</table>\n<p>5 rows × 46 columns</p>\n</div>"
     },
     "execution_count": 86,
     "metadata": {},
     "output_type": "execute_result"
    }
   ],
   "source": [
    "data.head()"
   ],
   "metadata": {
    "collapsed": false,
    "ExecuteTime": {
     "end_time": "2024-07-10T14:26:30.645311900Z",
     "start_time": "2024-07-10T14:26:30.620244800Z"
    }
   }
  },
  {
   "cell_type": "markdown",
   "source": [
    "# Defining X and y"
   ],
   "metadata": {
    "collapsed": false
   }
  },
  {
   "cell_type": "markdown",
   "source": [
    "__Implementing Box-Cox transformation to target variable PRICE__"
   ],
   "metadata": {
    "collapsed": false
   }
  },
  {
   "cell_type": "markdown",
   "source": [
    "- Check that there are no negative or zero values (required for Box-Cox)"
   ],
   "metadata": {
    "collapsed": false
   }
  },
  {
   "cell_type": "code",
   "execution_count": 87,
   "outputs": [
    {
     "name": "stdout",
     "output_type": "stream",
     "text": [
      "Number of rows where PRICE is negative or zero: 0\n"
     ]
    }
   ],
   "source": [
    "negative_or_zero_price_count = data[data['PRICE'] <= 0].shape[0]\n",
    "\n",
    "print(f\"Number of rows where PRICE is negative or zero: {negative_or_zero_price_count}\")"
   ],
   "metadata": {
    "collapsed": false,
    "ExecuteTime": {
     "end_time": "2024-07-10T14:26:31.290679600Z",
     "start_time": "2024-07-10T14:26:31.266098300Z"
    }
   }
  },
  {
   "cell_type": "markdown",
   "source": [
    "- Find the optimal lambda for the Box-Cox transformation (optimizing for normal distribution)"
   ],
   "metadata": {
    "collapsed": false
   }
  },
  {
   "cell_type": "code",
   "execution_count": 88,
   "outputs": [
    {
     "name": "stdout",
     "output_type": "stream",
     "text": [
      "Lambda used for Box-Cox transformation: -0.13920487350932267\n"
     ]
    }
   ],
   "source": [
    "_, lambda_ = stats.boxcox(data['PRICE'])\n",
    "\n",
    "# Print the optimal lambda\n",
    "print(f\"Lambda used for Box-Cox transformation: {lambda_}\")"
   ],
   "metadata": {
    "collapsed": false,
    "ExecuteTime": {
     "end_time": "2024-07-10T14:26:32.830901200Z",
     "start_time": "2024-07-10T14:26:31.930640300Z"
    }
   }
  },
  {
   "cell_type": "markdown",
   "source": [
    "- Compare distribution after Box-Cox and alternative log-transformation"
   ],
   "metadata": {
    "collapsed": false
   }
  },
  {
   "cell_type": "code",
   "execution_count": 89,
   "outputs": [
    {
     "data": {
      "text/plain": "<Figure size 1200x300 with 2 Axes>",
      "image/png": "[encoded data removed]"
     },
     "metadata": {},
     "output_type": "display_data"
    }
   ],
   "source": [
    "# Apply Box-Cox transformation of optimized lambda\n",
    "lambda_1 = -0.13944276083173682\n",
    "price_transformed_lambda1 = stats.boxcox(data['PRICE'], lmbda=lambda_1)\n",
    "\n",
    "# Apply Box-Cox transformation with lambda = 0 (equivalent to log transformation)\n",
    "lambda_2 = 0\n",
    "price_transformed_lambda2 = stats.boxcox(data['PRICE'], lmbda=lambda_2)\n",
    "\n",
    "# Plot the distributions\n",
    "fig, axes = plt.subplots(1, 2, figsize=(12, 3))\n",
    "\n",
    "# Box-Cox transformation with lambda = -0.13\n",
    "sns.histplot(price_transformed_lambda1, kde=False, ax=axes[0], stat=\"density\", color=\"blue\", bins=30)\n",
    "axes[0].set_title(f'Box-Cox Transformed PRICE Distribution (lambda={lambda_1})')\n",
    "# Add normal distribution line\n",
    "mean1, std1 = np.mean(price_transformed_lambda1), np.std(price_transformed_lambda1)\n",
    "x1 = np.linspace(min(price_transformed_lambda1), max(price_transformed_lambda1), 100)\n",
    "axes[0].plot(x1, stats.norm.pdf(x1, mean1, std1), color='red')\n",
    "\n",
    "# Box-Cox transformation with lambda = 0 (log transformation)\n",
    "sns.histplot(price_transformed_lambda2, kde=False, ax=axes[1], stat=\"density\", color=\"blue\", bins=30)\n",
    "axes[1].set_title(f'Box-Cox Transformed PRICE Distribution (lambda={lambda_2})')\n",
    "# Add normal distribution line\n",
    "mean2, std2 = np.mean(price_transformed_lambda2), np.std(price_transformed_lambda2)\n",
    "x2 = np.linspace(min(price_transformed_lambda2), max(price_transformed_lambda2), 100)\n",
    "axes[1].plot(x2, stats.norm.pdf(x2, mean2, std2), color='red')\n",
    "\n",
    "plt.show()"
   ],
   "metadata": {
    "collapsed": false,
    "ExecuteTime": {
     "end_time": "2024-07-10T14:26:33.330670700Z",
     "start_time": "2024-07-10T14:26:32.948350700Z"
    }
   }
  },
  {
   "cell_type": "markdown",
   "source": [
    "- Implement Box_Cox transformation with different specified lambdas\n",
    "- Better performance metrics achieved with lambda equal to zero (same as log-transformation)"
   ],
   "metadata": {
    "collapsed": false
   }
  },
  {
   "cell_type": "code",
   "execution_count": 90,
   "outputs": [],
   "source": [
    "# Define the lambda value\n",
    "specified_lambda = 0\n",
    "\n",
    "# Apply Box-Cox transformation using the specified lambda value\n",
    "price_transformed = stats.boxcox(data['PRICE'], lmbda=specified_lambda)\n",
    "\n",
    "# Add the transformed PRICE back to the DataFrame\n",
    "data['PRICE_TRANSFORMED'] = price_transformed"
   ],
   "metadata": {
    "collapsed": false,
    "ExecuteTime": {
     "end_time": "2024-07-10T14:26:33.343987500Z",
     "start_time": "2024-07-10T14:26:33.330670700Z"
    }
   }
  },
  {
   "cell_type": "markdown",
   "source": [
    "__Assign features as X and target as Y__"
   ],
   "metadata": {
    "collapsed": false
   }
  },
  {
   "cell_type": "code",
   "execution_count": 91,
   "outputs": [],
   "source": [
    "X = data.drop(columns=['PRICE', 'PRICE_TRANSFORMED'])\n",
    "y = data['PRICE_TRANSFORMED']"
   ],
   "metadata": {
    "collapsed": false,
    "ExecuteTime": {
     "end_time": "2024-07-10T14:26:34.330101400Z",
     "start_time": "2024-07-10T14:26:34.294973100Z"
    }
   }
  },
  {
   "cell_type": "markdown",
   "source": [
    "### Dropping features not relevant for modelling"
   ],
   "metadata": {
    "collapsed": false
   }
  },
  {
   "cell_type": "code",
   "execution_count": 92,
   "outputs": [],
   "source": [
    "#Drop ASSETID as it is only an identifier, drop ZIP_CODE as the base model only includes base features\n",
    "X = X.drop(columns=['ASSETID', 'ZIP_CODE'])"
   ],
   "metadata": {
    "collapsed": false,
    "ExecuteTime": {
     "end_time": "2024-07-10T14:26:36.820479100Z",
     "start_time": "2024-07-10T14:26:36.767110Z"
    }
   }
  },
  {
   "cell_type": "markdown",
   "source": [
    "### Splitting the data into training and test sets"
   ],
   "metadata": {
    "collapsed": false
   }
  },
  {
   "cell_type": "code",
   "execution_count": 93,
   "outputs": [
    {
     "name": "stdout",
     "output_type": "stream",
     "text": [
      "X_train shape: (104827, 43)\n",
      "X_test shape: (44927, 43)\n",
      "y_train shape: (104827,)\n",
      "y_test shape: (44927,)\n"
     ]
    }
   ],
   "source": [
    "# Split the dataset into training and testing set with 7:3 ratio\n",
    "X_train, X_test, y_train, y_test = train_test_split(X, y, test_size=0.3, random_state=42)\n",
    "\n",
    "# Check the shapes of the resulting datasets\n",
    "print(f\"X_train shape: {X_train.shape}\")\n",
    "print(f\"X_test shape: {X_test.shape}\")\n",
    "print(f\"y_train shape: {y_train.shape}\")\n",
    "print(f\"y_test shape: {y_test.shape}\")"
   ],
   "metadata": {
    "collapsed": false,
    "ExecuteTime": {
     "end_time": "2024-07-10T14:26:38.439671800Z",
     "start_time": "2024-07-10T14:26:38.327201100Z"
    }
   }
  },
  {
   "cell_type": "markdown",
   "source": [
    "# Target encoding of base feature neighborhood"
   ],
   "metadata": {
    "collapsed": false
   }
  },
  {
   "cell_type": "code",
   "execution_count": 94,
   "outputs": [],
   "source": [
    "# Calculate average LOG_PRICE for each NEIGHBORHOOD only with training set\n",
    "neighborhood_means = y_train.groupby(X_train['NEIGHBORHOOD']).mean()\n",
    "\n",
    "# Assign average means to both training and test set\n",
    "X_train['NEIGHBORHOOD_ENCODED'] = X_train['NEIGHBORHOOD'].map(neighborhood_means)\n",
    "X_test['NEIGHBORHOOD_ENCODED'] = X_test['NEIGHBORHOOD'].map(neighborhood_means)\n",
    "\n",
    "# Drop the NEIGHBORHOOD column from both training and testing sets\n",
    "X_train = X_train.drop(columns=['NEIGHBORHOOD'])\n",
    "X_test = X_test.drop(columns=['NEIGHBORHOOD'])"
   ],
   "metadata": {
    "collapsed": false,
    "ExecuteTime": {
     "end_time": "2024-07-10T14:26:41.636567800Z",
     "start_time": "2024-07-10T14:26:41.578141300Z"
    }
   }
  },
  {
   "cell_type": "markdown",
   "source": [
    "# Inspecting final data before running models   "
   ],
   "metadata": {
    "collapsed": false
   }
  },
  {
   "cell_type": "code",
   "execution_count": 95,
   "outputs": [
    {
     "data": {
      "text/plain": "        CONSTRUCTEDAREA  ROOMNUMBER  BATHNUMBER  AMENITYID  HASPARKINGSPACE  \\\n55930                82           3           2          3                0   \n110070               86           3           1          3                0   \n133225               93           4           1          3                0   \n57088                40           1           1          3                1   \n103352               84           3           2          3                0   \n\n        PARKINGSPACEPRICE  HASTERRACE  HASLIFT  HASAIRCONDITIONING  \\\n55930                 1.0           0        1                   0   \n110070                1.0           1        1                   1   \n133225                1.0           1        1                   0   \n57088                 1.0           0        1                   1   \n103352                1.0           0        0                   0   \n\n        HASNORTHORIENTATION  ...  LONGITUDE   LATITUDE  PERIOD_201803  \\\n55930                     0  ...  -3.671317  40.406918              0   \n110070                    0  ...   2.200005  41.416478              0   \n133225                    0  ...   2.209844  41.419345              0   \n57088                     0  ...  -3.594361  40.358942              0   \n103352                    0  ...   2.172524  41.377668              1   \n\n        PERIOD_201806  PERIOD_201809  PERIOD_201812  Madrid  Valencia  \\\n55930               1              0              0    True     False   \n110070              0              1              0   False     False   \n133225              0              1              0   False     False   \n57088               0              0              1    True     False   \n103352              0              0              0   False     False   \n\n        Barcelona  NEIGHBORHOOD_ENCODED  \n55930       False             13.275478  \n110070       True             12.368969  \n133225       True             12.092169  \n57088       False             12.247304  \n103352       True             12.413428  \n\n[5 rows x 43 columns]",
      "text/html": "<div>\n<style scoped>\n    .dataframe tbody tr th:only-of-type {\n        vertical-align: middle;\n    }\n\n    .dataframe tbody tr th {\n        vertical-align: top;\n    }\n\n    .dataframe thead th {\n        text-align: right;\n    }\n</style>\n<table border=\"1\" class=\"dataframe\">\n  <thead>\n    <tr style=\"text-align: right;\">\n      <th></th>\n      <th>CONSTRUCTEDAREA</th>\n      <th>ROOMNUMBER</th>\n      <th>BATHNUMBER</th>\n      <th>AMENITYID</th>\n      <th>HASPARKINGSPACE</th>\n      <th>PARKINGSPACEPRICE</th>\n      <th>HASTERRACE</th>\n      <th>HASLIFT</th>\n      <th>HASAIRCONDITIONING</th>\n      <th>HASNORTHORIENTATION</th>\n      <th>...</th>\n      <th>LONGITUDE</th>\n      <th>LATITUDE</th>\n      <th>PERIOD_201803</th>\n      <th>PERIOD_201806</th>\n      <th>PERIOD_201809</th>\n      <th>PERIOD_201812</th>\n      <th>Madrid</th>\n      <th>Valencia</th>\n      <th>Barcelona</th>\n      <th>NEIGHBORHOOD_ENCODED</th>\n    </tr>\n  </thead>\n  <tbody>\n    <tr>\n      <th>55930</th>\n      <td>82</td>\n      <td>3</td>\n      <td>2</td>\n      <td>3</td>\n      <td>0</td>\n      <td>1.0</td>\n      <td>0</td>\n      <td>1</td>\n      <td>0</td>\n      <td>0</td>\n      <td>...</td>\n      <td>-3.671317</td>\n      <td>40.406918</td>\n      <td>0</td>\n      <td>1</td>\n      <td>0</td>\n      <td>0</td>\n      <td>True</td>\n      <td>False</td>\n      <td>False</td>\n      <td>13.275478</td>\n    </tr>\n    <tr>\n      <th>110070</th>\n      <td>86</td>\n      <td>3</td>\n      <td>1</td>\n      <td>3</td>\n      <td>0</td>\n      <td>1.0</td>\n      <td>1</td>\n      <td>1</td>\n      <td>1</td>\n      <td>0</td>\n      <td>...</td>\n      <td>2.200005</td>\n      <td>41.416478</td>\n      <td>0</td>\n      <td>0</td>\n      <td>1</td>\n      <td>0</td>\n      <td>False</td>\n      <td>False</td>\n      <td>True</td>\n      <td>12.368969</td>\n    </tr>\n    <tr>\n      <th>133225</th>\n      <td>93</td>\n      <td>4</td>\n      <td>1</td>\n      <td>3</td>\n      <td>0</td>\n      <td>1.0</td>\n      <td>1</td>\n      <td>1</td>\n      <td>0</td>\n      <td>0</td>\n      <td>...</td>\n      <td>2.209844</td>\n      <td>41.419345</td>\n      <td>0</td>\n      <td>0</td>\n      <td>1</td>\n      <td>0</td>\n      <td>False</td>\n      <td>False</td>\n      <td>True</td>\n      <td>12.092169</td>\n    </tr>\n    <tr>\n      <th>57088</th>\n      <td>40</td>\n      <td>1</td>\n      <td>1</td>\n      <td>3</td>\n      <td>1</td>\n      <td>1.0</td>\n      <td>0</td>\n      <td>1</td>\n      <td>1</td>\n      <td>0</td>\n      <td>...</td>\n      <td>-3.594361</td>\n      <td>40.358942</td>\n      <td>0</td>\n      <td>0</td>\n      <td>0</td>\n      <td>1</td>\n      <td>True</td>\n      <td>False</td>\n      <td>False</td>\n      <td>12.247304</td>\n    </tr>\n    <tr>\n      <th>103352</th>\n      <td>84</td>\n      <td>3</td>\n      <td>2</td>\n      <td>3</td>\n      <td>0</td>\n      <td>1.0</td>\n      <td>0</td>\n      <td>0</td>\n      <td>0</td>\n      <td>0</td>\n      <td>...</td>\n      <td>2.172524</td>\n      <td>41.377668</td>\n      <td>1</td>\n      <td>0</td>\n      <td>0</td>\n      <td>0</td>\n      <td>False</td>\n      <td>False</td>\n      <td>True</td>\n      <td>12.413428</td>\n    </tr>\n  </tbody>\n</table>\n<p>5 rows × 43 columns</p>\n</div>"
     },
     "execution_count": 95,
     "metadata": {},
     "output_type": "execute_result"
    }
   ],
   "source": [
    "X_test.head()"
   ],
   "metadata": {
    "collapsed": false,
    "ExecuteTime": {
     "end_time": "2024-07-10T14:26:42.706236900Z",
     "start_time": "2024-07-10T14:26:42.664815900Z"
    }
   }
  },
  {
   "cell_type": "code",
   "execution_count": 96,
   "outputs": [
    {
     "data": {
      "text/plain": "55930     12.914108\n110070    12.570716\n133225    12.454884\n57088     11.798104\n103352    12.807653\nName: PRICE_TRANSFORMED, dtype: float64"
     },
     "execution_count": 96,
     "metadata": {},
     "output_type": "execute_result"
    }
   ],
   "source": [
    "y_test.head()"
   ],
   "metadata": {
    "collapsed": false,
    "ExecuteTime": {
     "end_time": "2024-07-10T14:26:42.850616900Z",
     "start_time": "2024-07-10T14:26:42.833697400Z"
    }
   }
  },
  {
   "cell_type": "markdown",
   "source": [
    "# Running different models with GridSearch to optimize hyperparameters"
   ],
   "metadata": {
    "collapsed": false
   }
  },
  {
   "cell_type": "markdown",
   "source": [
    "# Linear regression"
   ],
   "metadata": {
    "collapsed": false
   }
  },
  {
   "cell_type": "code",
   "execution_count": 80,
   "outputs": [
    {
     "name": "stdout",
     "output_type": "stream",
     "text": [
      "Metrics on the original PRICE scale:\n",
      "MAE: 79332.1560\n",
      "MSE: 116671961016.6329\n",
      "RMSE: 341572.7756\n",
      "MAPE: 0.2070\n",
      "\n",
      "Metrics on the Box-Cox transformed scale:\n",
      "MAE: 0.1969\n",
      "MSE: 0.0691\n",
      "RMSE: 0.2628\n",
      "MAPE: 0.0158\n"
     ]
    }
   ],
   "source": [
    "from sklearn.preprocessing import StandardScaler\n",
    "from sklearn.linear_model import LinearRegression\n",
    "\n",
    "# Standardize the features\n",
    "scaler = StandardScaler()\n",
    "X_train_scaled = scaler.fit_transform(X_train)\n",
    "X_test_scaled = scaler.transform(X_test)\n",
    "\n",
    "## Train the Linear Regression model\n",
    "lr_model = LinearRegression()\n",
    "lr_model.fit(X_train_scaled, y_train)\n",
    "\n",
    "# Predictions in Box-Cox transformed scale\n",
    "y_pred_boxcox_lr = lr_model.predict(X_test_scaled)\n",
    "\n",
    "# Transform predictions back to the original scale\n",
    "y_pred_lr_price = inv_boxcox(y_pred_boxcox_lr, specified_lambda)\n",
    "y_test_price = inv_boxcox(y_test, specified_lambda)\n",
    "\n",
    "# Evaluation metrics on the original scale\n",
    "mae_lr_price = mean_absolute_error(y_test_price, y_pred_lr_price)\n",
    "mse_lr_price = mean_squared_error(y_test_price, y_pred_lr_price)\n",
    "rmse_lr_price = np.sqrt(mse_lr_price)\n",
    "mape_lr_price = mean_absolute_percentage_error(y_test_price, y_pred_lr_price)\n",
    "\n",
    "# Evaluation metrics on the Box-Cox transformed scale\n",
    "mae_boxcox_lr = mean_absolute_error(y_test, y_pred_boxcox_lr)\n",
    "mse_boxcox_lr = mean_squared_error(y_test, y_pred_boxcox_lr)\n",
    "rmse_boxcox_lr = np.sqrt(mse_boxcox_lr)\n",
    "mape_boxcox_lr = mean_absolute_percentage_error(y_test, y_pred_boxcox_lr)\n",
    "\n",
    "# Print the metrics\n",
    "print(\"Metrics on the original PRICE scale:\")\n",
    "print(f\"MAE: {mae_lr_price:.4f}\")\n",
    "print(f\"MSE: {mse_lr_price:.4f}\")\n",
    "print(f\"RMSE: {rmse_lr_price:.4f}\")\n",
    "print(f\"MAPE: {mape_lr_price:.4f}\")\n",
    "\n",
    "print(\"\\nMetrics on the Box-Cox transformed scale:\")\n",
    "print(f\"MAE: {mae_boxcox_lr:.4f}\")\n",
    "print(f\"MSE: {mse_boxcox_lr:.4f}\")\n",
    "print(f\"RMSE: {rmse_boxcox_lr:.4f}\")\n",
    "print(f\"MAPE: {mape_boxcox_lr:.4f}\")\n"
   ],
   "metadata": {
    "collapsed": false,
    "ExecuteTime": {
     "end_time": "2024-07-10T14:01:40.853216200Z",
     "start_time": "2024-07-10T14:01:40.309946300Z"
    }
   }
  },
  {
   "cell_type": "code",
   "execution_count": 81,
   "outputs": [
    {
     "name": "stderr",
     "output_type": "stream",
     "text": [
      "C:\\Users\\hanten carlotta\\PycharmProjects\\Capstone\\venv\\Lib\\site-packages\\sklearn\\base.py:486: UserWarning: X has feature names, but LinearRegression was fitted without feature names\n",
      "  warnings.warn(\n",
      "C:\\Users\\hanten carlotta\\PycharmProjects\\Capstone\\venv\\Lib\\site-packages\\sklearn\\base.py:486: UserWarning: X has feature names, but LinearRegression was fitted without feature names\n",
      "  warnings.warn(\n",
      "C:\\Users\\hanten carlotta\\PycharmProjects\\Capstone\\venv\\Lib\\site-packages\\sklearn\\base.py:486: UserWarning: X has feature names, but LinearRegression was fitted without feature names\n",
      "  warnings.warn(\n",
      "C:\\Users\\hanten carlotta\\PycharmProjects\\Capstone\\venv\\Lib\\site-packages\\sklearn\\base.py:486: UserWarning: X has feature names, but LinearRegression was fitted without feature names\n",
      "  warnings.warn(\n",
      "C:\\Users\\hanten carlotta\\PycharmProjects\\Capstone\\venv\\Lib\\site-packages\\sklearn\\base.py:486: UserWarning: X has feature names, but LinearRegression was fitted without feature names\n",
      "  warnings.warn(\n",
      "C:\\Users\\hanten carlotta\\PycharmProjects\\Capstone\\venv\\Lib\\site-packages\\sklearn\\base.py:486: UserWarning: X has feature names, but LinearRegression was fitted without feature names\n",
      "  warnings.warn(\n",
      "C:\\Users\\hanten carlotta\\PycharmProjects\\Capstone\\venv\\Lib\\site-packages\\sklearn\\base.py:486: UserWarning: X has feature names, but LinearRegression was fitted without feature names\n",
      "  warnings.warn(\n",
      "C:\\Users\\hanten carlotta\\PycharmProjects\\Capstone\\venv\\Lib\\site-packages\\sklearn\\base.py:486: UserWarning: X has feature names, but LinearRegression was fitted without feature names\n",
      "  warnings.warn(\n",
      "C:\\Users\\hanten carlotta\\PycharmProjects\\Capstone\\venv\\Lib\\site-packages\\sklearn\\base.py:486: UserWarning: X has feature names, but LinearRegression was fitted without feature names\n",
      "  warnings.warn(\n",
      "C:\\Users\\hanten carlotta\\PycharmProjects\\Capstone\\venv\\Lib\\site-packages\\sklearn\\base.py:486: UserWarning: X has feature names, but LinearRegression was fitted without feature names\n",
      "  warnings.warn(\n",
      "C:\\Users\\hanten carlotta\\PycharmProjects\\Capstone\\venv\\Lib\\site-packages\\sklearn\\base.py:486: UserWarning: X has feature names, but LinearRegression was fitted without feature names\n",
      "  warnings.warn(\n",
      "C:\\Users\\hanten carlotta\\PycharmProjects\\Capstone\\venv\\Lib\\site-packages\\sklearn\\base.py:486: UserWarning: X has feature names, but LinearRegression was fitted without feature names\n",
      "  warnings.warn(\n",
      "C:\\Users\\hanten carlotta\\PycharmProjects\\Capstone\\venv\\Lib\\site-packages\\sklearn\\base.py:486: UserWarning: X has feature names, but LinearRegression was fitted without feature names\n",
      "  warnings.warn(\n",
      "C:\\Users\\hanten carlotta\\PycharmProjects\\Capstone\\venv\\Lib\\site-packages\\sklearn\\base.py:486: UserWarning: X has feature names, but LinearRegression was fitted without feature names\n",
      "  warnings.warn(\n",
      "C:\\Users\\hanten carlotta\\PycharmProjects\\Capstone\\venv\\Lib\\site-packages\\sklearn\\base.py:486: UserWarning: X has feature names, but LinearRegression was fitted without feature names\n",
      "  warnings.warn(\n",
      "C:\\Users\\hanten carlotta\\PycharmProjects\\Capstone\\venv\\Lib\\site-packages\\sklearn\\base.py:486: UserWarning: X has feature names, but LinearRegression was fitted without feature names\n",
      "  warnings.warn(\n",
      "C:\\Users\\hanten carlotta\\PycharmProjects\\Capstone\\venv\\Lib\\site-packages\\sklearn\\base.py:486: UserWarning: X has feature names, but LinearRegression was fitted without feature names\n",
      "  warnings.warn(\n",
      "C:\\Users\\hanten carlotta\\PycharmProjects\\Capstone\\venv\\Lib\\site-packages\\sklearn\\base.py:486: UserWarning: X has feature names, but LinearRegression was fitted without feature names\n",
      "  warnings.warn(\n",
      "C:\\Users\\hanten carlotta\\PycharmProjects\\Capstone\\venv\\Lib\\site-packages\\sklearn\\base.py:486: UserWarning: X has feature names, but LinearRegression was fitted without feature names\n",
      "  warnings.warn(\n",
      "C:\\Users\\hanten carlotta\\PycharmProjects\\Capstone\\venv\\Lib\\site-packages\\sklearn\\base.py:486: UserWarning: X has feature names, but LinearRegression was fitted without feature names\n",
      "  warnings.warn(\n",
      "C:\\Users\\hanten carlotta\\PycharmProjects\\Capstone\\venv\\Lib\\site-packages\\sklearn\\base.py:486: UserWarning: X has feature names, but LinearRegression was fitted without feature names\n",
      "  warnings.warn(\n",
      "C:\\Users\\hanten carlotta\\PycharmProjects\\Capstone\\venv\\Lib\\site-packages\\sklearn\\base.py:486: UserWarning: X has feature names, but LinearRegression was fitted without feature names\n",
      "  warnings.warn(\n",
      "C:\\Users\\hanten carlotta\\PycharmProjects\\Capstone\\venv\\Lib\\site-packages\\sklearn\\base.py:486: UserWarning: X has feature names, but LinearRegression was fitted without feature names\n",
      "  warnings.warn(\n",
      "C:\\Users\\hanten carlotta\\PycharmProjects\\Capstone\\venv\\Lib\\site-packages\\sklearn\\base.py:486: UserWarning: X has feature names, but LinearRegression was fitted without feature names\n",
      "  warnings.warn(\n",
      "C:\\Users\\hanten carlotta\\PycharmProjects\\Capstone\\venv\\Lib\\site-packages\\sklearn\\base.py:486: UserWarning: X has feature names, but LinearRegression was fitted without feature names\n",
      "  warnings.warn(\n",
      "C:\\Users\\hanten carlotta\\PycharmProjects\\Capstone\\venv\\Lib\\site-packages\\sklearn\\base.py:486: UserWarning: X has feature names, but LinearRegression was fitted without feature names\n",
      "  warnings.warn(\n",
      "C:\\Users\\hanten carlotta\\PycharmProjects\\Capstone\\venv\\Lib\\site-packages\\sklearn\\base.py:486: UserWarning: X has feature names, but LinearRegression was fitted without feature names\n",
      "  warnings.warn(\n",
      "C:\\Users\\hanten carlotta\\PycharmProjects\\Capstone\\venv\\Lib\\site-packages\\sklearn\\base.py:486: UserWarning: X has feature names, but LinearRegression was fitted without feature names\n",
      "  warnings.warn(\n",
      "C:\\Users\\hanten carlotta\\PycharmProjects\\Capstone\\venv\\Lib\\site-packages\\sklearn\\base.py:486: UserWarning: X has feature names, but LinearRegression was fitted without feature names\n",
      "  warnings.warn(\n",
      "C:\\Users\\hanten carlotta\\PycharmProjects\\Capstone\\venv\\Lib\\site-packages\\sklearn\\base.py:486: UserWarning: X has feature names, but LinearRegression was fitted without feature names\n",
      "  warnings.warn(\n",
      "C:\\Users\\hanten carlotta\\PycharmProjects\\Capstone\\venv\\Lib\\site-packages\\sklearn\\base.py:486: UserWarning: X has feature names, but LinearRegression was fitted without feature names\n",
      "  warnings.warn(\n",
      "C:\\Users\\hanten carlotta\\PycharmProjects\\Capstone\\venv\\Lib\\site-packages\\sklearn\\base.py:486: UserWarning: X has feature names, but LinearRegression was fitted without feature names\n",
      "  warnings.warn(\n",
      "C:\\Users\\hanten carlotta\\PycharmProjects\\Capstone\\venv\\Lib\\site-packages\\sklearn\\base.py:486: UserWarning: X has feature names, but LinearRegression was fitted without feature names\n",
      "  warnings.warn(\n",
      "C:\\Users\\hanten carlotta\\PycharmProjects\\Capstone\\venv\\Lib\\site-packages\\sklearn\\base.py:486: UserWarning: X has feature names, but LinearRegression was fitted without feature names\n",
      "  warnings.warn(\n",
      "C:\\Users\\hanten carlotta\\PycharmProjects\\Capstone\\venv\\Lib\\site-packages\\sklearn\\base.py:486: UserWarning: X has feature names, but LinearRegression was fitted without feature names\n",
      "  warnings.warn(\n",
      "C:\\Users\\hanten carlotta\\PycharmProjects\\Capstone\\venv\\Lib\\site-packages\\sklearn\\base.py:486: UserWarning: X has feature names, but LinearRegression was fitted without feature names\n",
      "  warnings.warn(\n",
      "C:\\Users\\hanten carlotta\\PycharmProjects\\Capstone\\venv\\Lib\\site-packages\\sklearn\\base.py:486: UserWarning: X has feature names, but LinearRegression was fitted without feature names\n",
      "  warnings.warn(\n",
      "C:\\Users\\hanten carlotta\\PycharmProjects\\Capstone\\venv\\Lib\\site-packages\\sklearn\\base.py:486: UserWarning: X has feature names, but LinearRegression was fitted without feature names\n",
      "  warnings.warn(\n",
      "C:\\Users\\hanten carlotta\\PycharmProjects\\Capstone\\venv\\Lib\\site-packages\\sklearn\\base.py:486: UserWarning: X has feature names, but LinearRegression was fitted without feature names\n",
      "  warnings.warn(\n",
      "C:\\Users\\hanten carlotta\\PycharmProjects\\Capstone\\venv\\Lib\\site-packages\\sklearn\\base.py:486: UserWarning: X has feature names, but LinearRegression was fitted without feature names\n",
      "  warnings.warn(\n",
      "C:\\Users\\hanten carlotta\\PycharmProjects\\Capstone\\venv\\Lib\\site-packages\\sklearn\\base.py:486: UserWarning: X has feature names, but LinearRegression was fitted without feature names\n",
      "  warnings.warn(\n",
      "C:\\Users\\hanten carlotta\\PycharmProjects\\Capstone\\venv\\Lib\\site-packages\\sklearn\\base.py:486: UserWarning: X has feature names, but LinearRegression was fitted without feature names\n",
      "  warnings.warn(\n",
      "C:\\Users\\hanten carlotta\\PycharmProjects\\Capstone\\venv\\Lib\\site-packages\\sklearn\\base.py:486: UserWarning: X has feature names, but LinearRegression was fitted without feature names\n",
      "  warnings.warn(\n",
      "C:\\Users\\hanten carlotta\\PycharmProjects\\Capstone\\venv\\Lib\\site-packages\\sklearn\\base.py:486: UserWarning: X has feature names, but LinearRegression was fitted without feature names\n",
      "  warnings.warn(\n",
      "C:\\Users\\hanten carlotta\\PycharmProjects\\Capstone\\venv\\Lib\\site-packages\\sklearn\\base.py:486: UserWarning: X has feature names, but LinearRegression was fitted without feature names\n",
      "  warnings.warn(\n",
      "C:\\Users\\hanten carlotta\\PycharmProjects\\Capstone\\venv\\Lib\\site-packages\\sklearn\\base.py:486: UserWarning: X has feature names, but LinearRegression was fitted without feature names\n",
      "  warnings.warn(\n",
      "C:\\Users\\hanten carlotta\\PycharmProjects\\Capstone\\venv\\Lib\\site-packages\\sklearn\\base.py:486: UserWarning: X has feature names, but LinearRegression was fitted without feature names\n",
      "  warnings.warn(\n",
      "C:\\Users\\hanten carlotta\\PycharmProjects\\Capstone\\venv\\Lib\\site-packages\\sklearn\\base.py:486: UserWarning: X has feature names, but LinearRegression was fitted without feature names\n",
      "  warnings.warn(\n",
      "C:\\Users\\hanten carlotta\\PycharmProjects\\Capstone\\venv\\Lib\\site-packages\\sklearn\\base.py:486: UserWarning: X has feature names, but LinearRegression was fitted without feature names\n",
      "  warnings.warn(\n",
      "C:\\Users\\hanten carlotta\\PycharmProjects\\Capstone\\venv\\Lib\\site-packages\\sklearn\\base.py:486: UserWarning: X has feature names, but LinearRegression was fitted without feature names\n",
      "  warnings.warn(\n",
      "C:\\Users\\hanten carlotta\\PycharmProjects\\Capstone\\venv\\Lib\\site-packages\\sklearn\\base.py:486: UserWarning: X has feature names, but LinearRegression was fitted without feature names\n",
      "  warnings.warn(\n",
      "C:\\Users\\hanten carlotta\\PycharmProjects\\Capstone\\venv\\Lib\\site-packages\\sklearn\\base.py:486: UserWarning: X has feature names, but LinearRegression was fitted without feature names\n",
      "  warnings.warn(\n",
      "C:\\Users\\hanten carlotta\\PycharmProjects\\Capstone\\venv\\Lib\\site-packages\\sklearn\\base.py:486: UserWarning: X has feature names, but LinearRegression was fitted without feature names\n",
      "  warnings.warn(\n",
      "C:\\Users\\hanten carlotta\\PycharmProjects\\Capstone\\venv\\Lib\\site-packages\\sklearn\\base.py:486: UserWarning: X has feature names, but LinearRegression was fitted without feature names\n",
      "  warnings.warn(\n",
      "C:\\Users\\hanten carlotta\\PycharmProjects\\Capstone\\venv\\Lib\\site-packages\\sklearn\\base.py:486: UserWarning: X has feature names, but LinearRegression was fitted without feature names\n",
      "  warnings.warn(\n",
      "C:\\Users\\hanten carlotta\\PycharmProjects\\Capstone\\venv\\Lib\\site-packages\\sklearn\\base.py:486: UserWarning: X has feature names, but LinearRegression was fitted without feature names\n",
      "  warnings.warn(\n",
      "C:\\Users\\hanten carlotta\\PycharmProjects\\Capstone\\venv\\Lib\\site-packages\\sklearn\\base.py:486: UserWarning: X has feature names, but LinearRegression was fitted without feature names\n",
      "  warnings.warn(\n",
      "C:\\Users\\hanten carlotta\\PycharmProjects\\Capstone\\venv\\Lib\\site-packages\\sklearn\\base.py:486: UserWarning: X has feature names, but LinearRegression was fitted without feature names\n",
      "  warnings.warn(\n",
      "C:\\Users\\hanten carlotta\\PycharmProjects\\Capstone\\venv\\Lib\\site-packages\\sklearn\\base.py:486: UserWarning: X has feature names, but LinearRegression was fitted without feature names\n",
      "  warnings.warn(\n",
      "C:\\Users\\hanten carlotta\\PycharmProjects\\Capstone\\venv\\Lib\\site-packages\\sklearn\\base.py:486: UserWarning: X has feature names, but LinearRegression was fitted without feature names\n",
      "  warnings.warn(\n",
      "C:\\Users\\hanten carlotta\\PycharmProjects\\Capstone\\venv\\Lib\\site-packages\\sklearn\\base.py:486: UserWarning: X has feature names, but LinearRegression was fitted without feature names\n",
      "  warnings.warn(\n",
      "C:\\Users\\hanten carlotta\\PycharmProjects\\Capstone\\venv\\Lib\\site-packages\\sklearn\\base.py:486: UserWarning: X has feature names, but LinearRegression was fitted without feature names\n",
      "  warnings.warn(\n",
      "C:\\Users\\hanten carlotta\\PycharmProjects\\Capstone\\venv\\Lib\\site-packages\\sklearn\\base.py:486: UserWarning: X has feature names, but LinearRegression was fitted without feature names\n",
      "  warnings.warn(\n",
      "C:\\Users\\hanten carlotta\\PycharmProjects\\Capstone\\venv\\Lib\\site-packages\\sklearn\\base.py:486: UserWarning: X has feature names, but LinearRegression was fitted without feature names\n",
      "  warnings.warn(\n",
      "C:\\Users\\hanten carlotta\\PycharmProjects\\Capstone\\venv\\Lib\\site-packages\\sklearn\\base.py:486: UserWarning: X has feature names, but LinearRegression was fitted without feature names\n",
      "  warnings.warn(\n",
      "C:\\Users\\hanten carlotta\\PycharmProjects\\Capstone\\venv\\Lib\\site-packages\\sklearn\\base.py:486: UserWarning: X has feature names, but LinearRegression was fitted without feature names\n",
      "  warnings.warn(\n",
      "C:\\Users\\hanten carlotta\\PycharmProjects\\Capstone\\venv\\Lib\\site-packages\\sklearn\\base.py:486: UserWarning: X has feature names, but LinearRegression was fitted without feature names\n",
      "  warnings.warn(\n",
      "C:\\Users\\hanten carlotta\\PycharmProjects\\Capstone\\venv\\Lib\\site-packages\\sklearn\\base.py:486: UserWarning: X has feature names, but LinearRegression was fitted without feature names\n",
      "  warnings.warn(\n",
      "C:\\Users\\hanten carlotta\\PycharmProjects\\Capstone\\venv\\Lib\\site-packages\\sklearn\\base.py:486: UserWarning: X has feature names, but LinearRegression was fitted without feature names\n",
      "  warnings.warn(\n",
      "C:\\Users\\hanten carlotta\\PycharmProjects\\Capstone\\venv\\Lib\\site-packages\\sklearn\\base.py:486: UserWarning: X has feature names, but LinearRegression was fitted without feature names\n",
      "  warnings.warn(\n",
      "C:\\Users\\hanten carlotta\\PycharmProjects\\Capstone\\venv\\Lib\\site-packages\\sklearn\\base.py:486: UserWarning: X has feature names, but LinearRegression was fitted without feature names\n",
      "  warnings.warn(\n",
      "C:\\Users\\hanten carlotta\\PycharmProjects\\Capstone\\venv\\Lib\\site-packages\\sklearn\\base.py:486: UserWarning: X has feature names, but LinearRegression was fitted without feature names\n",
      "  warnings.warn(\n",
      "C:\\Users\\hanten carlotta\\PycharmProjects\\Capstone\\venv\\Lib\\site-packages\\sklearn\\base.py:486: UserWarning: X has feature names, but LinearRegression was fitted without feature names\n",
      "  warnings.warn(\n",
      "C:\\Users\\hanten carlotta\\PycharmProjects\\Capstone\\venv\\Lib\\site-packages\\sklearn\\base.py:486: UserWarning: X has feature names, but LinearRegression was fitted without feature names\n",
      "  warnings.warn(\n",
      "C:\\Users\\hanten carlotta\\PycharmProjects\\Capstone\\venv\\Lib\\site-packages\\sklearn\\base.py:486: UserWarning: X has feature names, but LinearRegression was fitted without feature names\n",
      "  warnings.warn(\n",
      "C:\\Users\\hanten carlotta\\PycharmProjects\\Capstone\\venv\\Lib\\site-packages\\sklearn\\base.py:486: UserWarning: X has feature names, but LinearRegression was fitted without feature names\n",
      "  warnings.warn(\n",
      "C:\\Users\\hanten carlotta\\PycharmProjects\\Capstone\\venv\\Lib\\site-packages\\sklearn\\base.py:486: UserWarning: X has feature names, but LinearRegression was fitted without feature names\n",
      "  warnings.warn(\n",
      "C:\\Users\\hanten carlotta\\PycharmProjects\\Capstone\\venv\\Lib\\site-packages\\sklearn\\base.py:486: UserWarning: X has feature names, but LinearRegression was fitted without feature names\n",
      "  warnings.warn(\n",
      "C:\\Users\\hanten carlotta\\PycharmProjects\\Capstone\\venv\\Lib\\site-packages\\sklearn\\base.py:486: UserWarning: X has feature names, but LinearRegression was fitted without feature names\n",
      "  warnings.warn(\n",
      "C:\\Users\\hanten carlotta\\PycharmProjects\\Capstone\\venv\\Lib\\site-packages\\sklearn\\base.py:486: UserWarning: X has feature names, but LinearRegression was fitted without feature names\n",
      "  warnings.warn(\n",
      "C:\\Users\\hanten carlotta\\PycharmProjects\\Capstone\\venv\\Lib\\site-packages\\sklearn\\base.py:486: UserWarning: X has feature names, but LinearRegression was fitted without feature names\n",
      "  warnings.warn(\n",
      "C:\\Users\\hanten carlotta\\PycharmProjects\\Capstone\\venv\\Lib\\site-packages\\sklearn\\base.py:486: UserWarning: X has feature names, but LinearRegression was fitted without feature names\n",
      "  warnings.warn(\n",
      "C:\\Users\\hanten carlotta\\PycharmProjects\\Capstone\\venv\\Lib\\site-packages\\sklearn\\base.py:486: UserWarning: X has feature names, but LinearRegression was fitted without feature names\n",
      "  warnings.warn(\n",
      "C:\\Users\\hanten carlotta\\PycharmProjects\\Capstone\\venv\\Lib\\site-packages\\sklearn\\base.py:486: UserWarning: X has feature names, but LinearRegression was fitted without feature names\n",
      "  warnings.warn(\n",
      "C:\\Users\\hanten carlotta\\PycharmProjects\\Capstone\\venv\\Lib\\site-packages\\sklearn\\base.py:486: UserWarning: X has feature names, but LinearRegression was fitted without feature names\n",
      "  warnings.warn(\n",
      "C:\\Users\\hanten carlotta\\PycharmProjects\\Capstone\\venv\\Lib\\site-packages\\sklearn\\base.py:486: UserWarning: X has feature names, but LinearRegression was fitted without feature names\n",
      "  warnings.warn(\n",
      "C:\\Users\\hanten carlotta\\PycharmProjects\\Capstone\\venv\\Lib\\site-packages\\sklearn\\base.py:486: UserWarning: X has feature names, but LinearRegression was fitted without feature names\n",
      "  warnings.warn(\n",
      "C:\\Users\\hanten carlotta\\PycharmProjects\\Capstone\\venv\\Lib\\site-packages\\sklearn\\base.py:486: UserWarning: X has feature names, but LinearRegression was fitted without feature names\n",
      "  warnings.warn(\n",
      "C:\\Users\\hanten carlotta\\PycharmProjects\\Capstone\\venv\\Lib\\site-packages\\sklearn\\base.py:486: UserWarning: X has feature names, but LinearRegression was fitted without feature names\n",
      "  warnings.warn(\n",
      "C:\\Users\\hanten carlotta\\PycharmProjects\\Capstone\\venv\\Lib\\site-packages\\sklearn\\base.py:486: UserWarning: X has feature names, but LinearRegression was fitted without feature names\n",
      "  warnings.warn(\n",
      "C:\\Users\\hanten carlotta\\PycharmProjects\\Capstone\\venv\\Lib\\site-packages\\sklearn\\base.py:486: UserWarning: X has feature names, but LinearRegression was fitted without feature names\n",
      "  warnings.warn(\n",
      "C:\\Users\\hanten carlotta\\PycharmProjects\\Capstone\\venv\\Lib\\site-packages\\sklearn\\base.py:486: UserWarning: X has feature names, but LinearRegression was fitted without feature names\n",
      "  warnings.warn(\n",
      "C:\\Users\\hanten carlotta\\PycharmProjects\\Capstone\\venv\\Lib\\site-packages\\sklearn\\base.py:486: UserWarning: X has feature names, but LinearRegression was fitted without feature names\n",
      "  warnings.warn(\n",
      "C:\\Users\\hanten carlotta\\PycharmProjects\\Capstone\\venv\\Lib\\site-packages\\sklearn\\base.py:486: UserWarning: X has feature names, but LinearRegression was fitted without feature names\n",
      "  warnings.warn(\n",
      "C:\\Users\\hanten carlotta\\PycharmProjects\\Capstone\\venv\\Lib\\site-packages\\sklearn\\base.py:486: UserWarning: X has feature names, but LinearRegression was fitted without feature names\n",
      "  warnings.warn(\n",
      "C:\\Users\\hanten carlotta\\PycharmProjects\\Capstone\\venv\\Lib\\site-packages\\sklearn\\base.py:486: UserWarning: X has feature names, but LinearRegression was fitted without feature names\n",
      "  warnings.warn(\n",
      "C:\\Users\\hanten carlotta\\PycharmProjects\\Capstone\\venv\\Lib\\site-packages\\sklearn\\base.py:486: UserWarning: X has feature names, but LinearRegression was fitted without feature names\n",
      "  warnings.warn(\n",
      "C:\\Users\\hanten carlotta\\PycharmProjects\\Capstone\\venv\\Lib\\site-packages\\sklearn\\base.py:486: UserWarning: X has feature names, but LinearRegression was fitted without feature names\n",
      "  warnings.warn(\n",
      "C:\\Users\\hanten carlotta\\PycharmProjects\\Capstone\\venv\\Lib\\site-packages\\sklearn\\base.py:486: UserWarning: X has feature names, but LinearRegression was fitted without feature names\n",
      "  warnings.warn(\n",
      "C:\\Users\\hanten carlotta\\PycharmProjects\\Capstone\\venv\\Lib\\site-packages\\sklearn\\base.py:486: UserWarning: X has feature names, but LinearRegression was fitted without feature names\n",
      "  warnings.warn(\n",
      "C:\\Users\\hanten carlotta\\PycharmProjects\\Capstone\\venv\\Lib\\site-packages\\sklearn\\base.py:486: UserWarning: X has feature names, but LinearRegression was fitted without feature names\n",
      "  warnings.warn(\n",
      "C:\\Users\\hanten carlotta\\PycharmProjects\\Capstone\\venv\\Lib\\site-packages\\sklearn\\base.py:486: UserWarning: X has feature names, but LinearRegression was fitted without feature names\n",
      "  warnings.warn(\n",
      "C:\\Users\\hanten carlotta\\PycharmProjects\\Capstone\\venv\\Lib\\site-packages\\sklearn\\base.py:486: UserWarning: X has feature names, but LinearRegression was fitted without feature names\n",
      "  warnings.warn(\n",
      "C:\\Users\\hanten carlotta\\PycharmProjects\\Capstone\\venv\\Lib\\site-packages\\sklearn\\base.py:486: UserWarning: X has feature names, but LinearRegression was fitted without feature names\n",
      "  warnings.warn(\n",
      "C:\\Users\\hanten carlotta\\PycharmProjects\\Capstone\\venv\\Lib\\site-packages\\sklearn\\base.py:486: UserWarning: X has feature names, but LinearRegression was fitted without feature names\n",
      "  warnings.warn(\n",
      "C:\\Users\\hanten carlotta\\PycharmProjects\\Capstone\\venv\\Lib\\site-packages\\sklearn\\base.py:486: UserWarning: X has feature names, but LinearRegression was fitted without feature names\n",
      "  warnings.warn(\n",
      "C:\\Users\\hanten carlotta\\PycharmProjects\\Capstone\\venv\\Lib\\site-packages\\sklearn\\base.py:486: UserWarning: X has feature names, but LinearRegression was fitted without feature names\n",
      "  warnings.warn(\n",
      "C:\\Users\\hanten carlotta\\PycharmProjects\\Capstone\\venv\\Lib\\site-packages\\sklearn\\base.py:486: UserWarning: X has feature names, but LinearRegression was fitted without feature names\n",
      "  warnings.warn(\n",
      "C:\\Users\\hanten carlotta\\PycharmProjects\\Capstone\\venv\\Lib\\site-packages\\sklearn\\base.py:486: UserWarning: X has feature names, but LinearRegression was fitted without feature names\n",
      "  warnings.warn(\n",
      "C:\\Users\\hanten carlotta\\PycharmProjects\\Capstone\\venv\\Lib\\site-packages\\sklearn\\base.py:486: UserWarning: X has feature names, but LinearRegression was fitted without feature names\n",
      "  warnings.warn(\n",
      "C:\\Users\\hanten carlotta\\PycharmProjects\\Capstone\\venv\\Lib\\site-packages\\sklearn\\base.py:486: UserWarning: X has feature names, but LinearRegression was fitted without feature names\n",
      "  warnings.warn(\n",
      "C:\\Users\\hanten carlotta\\PycharmProjects\\Capstone\\venv\\Lib\\site-packages\\sklearn\\base.py:486: UserWarning: X has feature names, but LinearRegression was fitted without feature names\n",
      "  warnings.warn(\n",
      "C:\\Users\\hanten carlotta\\PycharmProjects\\Capstone\\venv\\Lib\\site-packages\\sklearn\\base.py:486: UserWarning: X has feature names, but LinearRegression was fitted without feature names\n",
      "  warnings.warn(\n",
      "C:\\Users\\hanten carlotta\\PycharmProjects\\Capstone\\venv\\Lib\\site-packages\\sklearn\\base.py:486: UserWarning: X has feature names, but LinearRegression was fitted without feature names\n",
      "  warnings.warn(\n",
      "C:\\Users\\hanten carlotta\\PycharmProjects\\Capstone\\venv\\Lib\\site-packages\\sklearn\\base.py:486: UserWarning: X has feature names, but LinearRegression was fitted without feature names\n",
      "  warnings.warn(\n",
      "C:\\Users\\hanten carlotta\\PycharmProjects\\Capstone\\venv\\Lib\\site-packages\\sklearn\\base.py:486: UserWarning: X has feature names, but LinearRegression was fitted without feature names\n",
      "  warnings.warn(\n",
      "C:\\Users\\hanten carlotta\\PycharmProjects\\Capstone\\venv\\Lib\\site-packages\\sklearn\\base.py:486: UserWarning: X has feature names, but LinearRegression was fitted without feature names\n",
      "  warnings.warn(\n",
      "C:\\Users\\hanten carlotta\\PycharmProjects\\Capstone\\venv\\Lib\\site-packages\\sklearn\\base.py:486: UserWarning: X has feature names, but LinearRegression was fitted without feature names\n",
      "  warnings.warn(\n",
      "C:\\Users\\hanten carlotta\\PycharmProjects\\Capstone\\venv\\Lib\\site-packages\\sklearn\\base.py:486: UserWarning: X has feature names, but LinearRegression was fitted without feature names\n",
      "  warnings.warn(\n",
      "C:\\Users\\hanten carlotta\\PycharmProjects\\Capstone\\venv\\Lib\\site-packages\\sklearn\\base.py:486: UserWarning: X has feature names, but LinearRegression was fitted without feature names\n",
      "  warnings.warn(\n",
      "C:\\Users\\hanten carlotta\\PycharmProjects\\Capstone\\venv\\Lib\\site-packages\\sklearn\\base.py:486: UserWarning: X has feature names, but LinearRegression was fitted without feature names\n",
      "  warnings.warn(\n",
      "C:\\Users\\hanten carlotta\\PycharmProjects\\Capstone\\venv\\Lib\\site-packages\\sklearn\\base.py:486: UserWarning: X has feature names, but LinearRegression was fitted without feature names\n",
      "  warnings.warn(\n",
      "C:\\Users\\hanten carlotta\\PycharmProjects\\Capstone\\venv\\Lib\\site-packages\\sklearn\\base.py:486: UserWarning: X has feature names, but LinearRegression was fitted without feature names\n",
      "  warnings.warn(\n",
      "C:\\Users\\hanten carlotta\\PycharmProjects\\Capstone\\venv\\Lib\\site-packages\\sklearn\\base.py:486: UserWarning: X has feature names, but LinearRegression was fitted without feature names\n",
      "  warnings.warn(\n",
      "C:\\Users\\hanten carlotta\\PycharmProjects\\Capstone\\venv\\Lib\\site-packages\\sklearn\\base.py:486: UserWarning: X has feature names, but LinearRegression was fitted without feature names\n",
      "  warnings.warn(\n",
      "C:\\Users\\hanten carlotta\\PycharmProjects\\Capstone\\venv\\Lib\\site-packages\\sklearn\\base.py:486: UserWarning: X has feature names, but LinearRegression was fitted without feature names\n",
      "  warnings.warn(\n",
      "C:\\Users\\hanten carlotta\\PycharmProjects\\Capstone\\venv\\Lib\\site-packages\\sklearn\\base.py:486: UserWarning: X has feature names, but LinearRegression was fitted without feature names\n",
      "  warnings.warn(\n",
      "C:\\Users\\hanten carlotta\\PycharmProjects\\Capstone\\venv\\Lib\\site-packages\\sklearn\\base.py:486: UserWarning: X has feature names, but LinearRegression was fitted without feature names\n",
      "  warnings.warn(\n",
      "C:\\Users\\hanten carlotta\\PycharmProjects\\Capstone\\venv\\Lib\\site-packages\\sklearn\\base.py:486: UserWarning: X has feature names, but LinearRegression was fitted without feature names\n",
      "  warnings.warn(\n",
      "C:\\Users\\hanten carlotta\\PycharmProjects\\Capstone\\venv\\Lib\\site-packages\\sklearn\\base.py:486: UserWarning: X has feature names, but LinearRegression was fitted without feature names\n",
      "  warnings.warn(\n",
      "C:\\Users\\hanten carlotta\\PycharmProjects\\Capstone\\venv\\Lib\\site-packages\\sklearn\\base.py:486: UserWarning: X has feature names, but LinearRegression was fitted without feature names\n",
      "  warnings.warn(\n",
      "C:\\Users\\hanten carlotta\\PycharmProjects\\Capstone\\venv\\Lib\\site-packages\\sklearn\\base.py:486: UserWarning: X has feature names, but LinearRegression was fitted without feature names\n",
      "  warnings.warn(\n",
      "C:\\Users\\hanten carlotta\\PycharmProjects\\Capstone\\venv\\Lib\\site-packages\\sklearn\\base.py:486: UserWarning: X has feature names, but LinearRegression was fitted without feature names\n",
      "  warnings.warn(\n",
      "C:\\Users\\hanten carlotta\\PycharmProjects\\Capstone\\venv\\Lib\\site-packages\\sklearn\\base.py:486: UserWarning: X has feature names, but LinearRegression was fitted without feature names\n",
      "  warnings.warn(\n",
      "C:\\Users\\hanten carlotta\\PycharmProjects\\Capstone\\venv\\Lib\\site-packages\\sklearn\\base.py:486: UserWarning: X has feature names, but LinearRegression was fitted without feature names\n",
      "  warnings.warn(\n",
      "C:\\Users\\hanten carlotta\\PycharmProjects\\Capstone\\venv\\Lib\\site-packages\\sklearn\\base.py:486: UserWarning: X has feature names, but LinearRegression was fitted without feature names\n",
      "  warnings.warn(\n",
      "C:\\Users\\hanten carlotta\\PycharmProjects\\Capstone\\venv\\Lib\\site-packages\\sklearn\\base.py:486: UserWarning: X has feature names, but LinearRegression was fitted without feature names\n",
      "  warnings.warn(\n",
      "C:\\Users\\hanten carlotta\\PycharmProjects\\Capstone\\venv\\Lib\\site-packages\\sklearn\\base.py:486: UserWarning: X has feature names, but LinearRegression was fitted without feature names\n",
      "  warnings.warn(\n",
      "C:\\Users\\hanten carlotta\\PycharmProjects\\Capstone\\venv\\Lib\\site-packages\\sklearn\\base.py:486: UserWarning: X has feature names, but LinearRegression was fitted without feature names\n",
      "  warnings.warn(\n",
      "C:\\Users\\hanten carlotta\\PycharmProjects\\Capstone\\venv\\Lib\\site-packages\\sklearn\\base.py:486: UserWarning: X has feature names, but LinearRegression was fitted without feature names\n",
      "  warnings.warn(\n",
      "C:\\Users\\hanten carlotta\\PycharmProjects\\Capstone\\venv\\Lib\\site-packages\\sklearn\\base.py:486: UserWarning: X has feature names, but LinearRegression was fitted without feature names\n",
      "  warnings.warn(\n",
      "C:\\Users\\hanten carlotta\\PycharmProjects\\Capstone\\venv\\Lib\\site-packages\\sklearn\\base.py:486: UserWarning: X has feature names, but LinearRegression was fitted without feature names\n",
      "  warnings.warn(\n",
      "C:\\Users\\hanten carlotta\\PycharmProjects\\Capstone\\venv\\Lib\\site-packages\\sklearn\\base.py:486: UserWarning: X has feature names, but LinearRegression was fitted without feature names\n",
      "  warnings.warn(\n",
      "C:\\Users\\hanten carlotta\\PycharmProjects\\Capstone\\venv\\Lib\\site-packages\\sklearn\\base.py:486: UserWarning: X has feature names, but LinearRegression was fitted without feature names\n",
      "  warnings.warn(\n",
      "C:\\Users\\hanten carlotta\\PycharmProjects\\Capstone\\venv\\Lib\\site-packages\\sklearn\\base.py:486: UserWarning: X has feature names, but LinearRegression was fitted without feature names\n",
      "  warnings.warn(\n",
      "C:\\Users\\hanten carlotta\\PycharmProjects\\Capstone\\venv\\Lib\\site-packages\\sklearn\\base.py:486: UserWarning: X has feature names, but LinearRegression was fitted without feature names\n",
      "  warnings.warn(\n",
      "C:\\Users\\hanten carlotta\\PycharmProjects\\Capstone\\venv\\Lib\\site-packages\\sklearn\\base.py:486: UserWarning: X has feature names, but LinearRegression was fitted without feature names\n",
      "  warnings.warn(\n",
      "C:\\Users\\hanten carlotta\\PycharmProjects\\Capstone\\venv\\Lib\\site-packages\\sklearn\\base.py:486: UserWarning: X has feature names, but LinearRegression was fitted without feature names\n",
      "  warnings.warn(\n",
      "C:\\Users\\hanten carlotta\\PycharmProjects\\Capstone\\venv\\Lib\\site-packages\\sklearn\\base.py:486: UserWarning: X has feature names, but LinearRegression was fitted without feature names\n",
      "  warnings.warn(\n",
      "C:\\Users\\hanten carlotta\\PycharmProjects\\Capstone\\venv\\Lib\\site-packages\\sklearn\\base.py:486: UserWarning: X has feature names, but LinearRegression was fitted without feature names\n",
      "  warnings.warn(\n",
      "C:\\Users\\hanten carlotta\\PycharmProjects\\Capstone\\venv\\Lib\\site-packages\\sklearn\\base.py:486: UserWarning: X has feature names, but LinearRegression was fitted without feature names\n",
      "  warnings.warn(\n",
      "C:\\Users\\hanten carlotta\\PycharmProjects\\Capstone\\venv\\Lib\\site-packages\\sklearn\\base.py:486: UserWarning: X has feature names, but LinearRegression was fitted without feature names\n",
      "  warnings.warn(\n",
      "C:\\Users\\hanten carlotta\\PycharmProjects\\Capstone\\venv\\Lib\\site-packages\\sklearn\\base.py:486: UserWarning: X has feature names, but LinearRegression was fitted without feature names\n",
      "  warnings.warn(\n",
      "C:\\Users\\hanten carlotta\\PycharmProjects\\Capstone\\venv\\Lib\\site-packages\\sklearn\\base.py:486: UserWarning: X has feature names, but LinearRegression was fitted without feature names\n",
      "  warnings.warn(\n",
      "C:\\Users\\hanten carlotta\\PycharmProjects\\Capstone\\venv\\Lib\\site-packages\\sklearn\\base.py:486: UserWarning: X has feature names, but LinearRegression was fitted without feature names\n",
      "  warnings.warn(\n",
      "C:\\Users\\hanten carlotta\\PycharmProjects\\Capstone\\venv\\Lib\\site-packages\\sklearn\\base.py:486: UserWarning: X has feature names, but LinearRegression was fitted without feature names\n",
      "  warnings.warn(\n",
      "C:\\Users\\hanten carlotta\\PycharmProjects\\Capstone\\venv\\Lib\\site-packages\\sklearn\\base.py:486: UserWarning: X has feature names, but LinearRegression was fitted without feature names\n",
      "  warnings.warn(\n",
      "C:\\Users\\hanten carlotta\\PycharmProjects\\Capstone\\venv\\Lib\\site-packages\\sklearn\\base.py:486: UserWarning: X has feature names, but LinearRegression was fitted without feature names\n",
      "  warnings.warn(\n",
      "C:\\Users\\hanten carlotta\\PycharmProjects\\Capstone\\venv\\Lib\\site-packages\\sklearn\\base.py:486: UserWarning: X has feature names, but LinearRegression was fitted without feature names\n",
      "  warnings.warn(\n",
      "C:\\Users\\hanten carlotta\\PycharmProjects\\Capstone\\venv\\Lib\\site-packages\\sklearn\\base.py:486: UserWarning: X has feature names, but LinearRegression was fitted without feature names\n",
      "  warnings.warn(\n",
      "C:\\Users\\hanten carlotta\\PycharmProjects\\Capstone\\venv\\Lib\\site-packages\\sklearn\\base.py:486: UserWarning: X has feature names, but LinearRegression was fitted without feature names\n",
      "  warnings.warn(\n",
      "C:\\Users\\hanten carlotta\\PycharmProjects\\Capstone\\venv\\Lib\\site-packages\\sklearn\\base.py:486: UserWarning: X has feature names, but LinearRegression was fitted without feature names\n",
      "  warnings.warn(\n",
      "C:\\Users\\hanten carlotta\\PycharmProjects\\Capstone\\venv\\Lib\\site-packages\\sklearn\\base.py:486: UserWarning: X has feature names, but LinearRegression was fitted without feature names\n",
      "  warnings.warn(\n",
      "C:\\Users\\hanten carlotta\\PycharmProjects\\Capstone\\venv\\Lib\\site-packages\\sklearn\\base.py:486: UserWarning: X has feature names, but LinearRegression was fitted without feature names\n",
      "  warnings.warn(\n",
      "C:\\Users\\hanten carlotta\\PycharmProjects\\Capstone\\venv\\Lib\\site-packages\\sklearn\\base.py:486: UserWarning: X has feature names, but LinearRegression was fitted without feature names\n",
      "  warnings.warn(\n",
      "C:\\Users\\hanten carlotta\\PycharmProjects\\Capstone\\venv\\Lib\\site-packages\\sklearn\\base.py:486: UserWarning: X has feature names, but LinearRegression was fitted without feature names\n",
      "  warnings.warn(\n",
      "C:\\Users\\hanten carlotta\\PycharmProjects\\Capstone\\venv\\Lib\\site-packages\\sklearn\\base.py:486: UserWarning: X has feature names, but LinearRegression was fitted without feature names\n",
      "  warnings.warn(\n",
      "C:\\Users\\hanten carlotta\\PycharmProjects\\Capstone\\venv\\Lib\\site-packages\\sklearn\\base.py:486: UserWarning: X has feature names, but LinearRegression was fitted without feature names\n",
      "  warnings.warn(\n",
      "C:\\Users\\hanten carlotta\\PycharmProjects\\Capstone\\venv\\Lib\\site-packages\\sklearn\\base.py:486: UserWarning: X has feature names, but LinearRegression was fitted without feature names\n",
      "  warnings.warn(\n",
      "C:\\Users\\hanten carlotta\\PycharmProjects\\Capstone\\venv\\Lib\\site-packages\\sklearn\\base.py:486: UserWarning: X has feature names, but LinearRegression was fitted without feature names\n",
      "  warnings.warn(\n",
      "C:\\Users\\hanten carlotta\\PycharmProjects\\Capstone\\venv\\Lib\\site-packages\\sklearn\\base.py:486: UserWarning: X has feature names, but LinearRegression was fitted without feature names\n",
      "  warnings.warn(\n",
      "C:\\Users\\hanten carlotta\\PycharmProjects\\Capstone\\venv\\Lib\\site-packages\\sklearn\\base.py:486: UserWarning: X has feature names, but LinearRegression was fitted without feature names\n",
      "  warnings.warn(\n",
      "C:\\Users\\hanten carlotta\\PycharmProjects\\Capstone\\venv\\Lib\\site-packages\\sklearn\\base.py:486: UserWarning: X has feature names, but LinearRegression was fitted without feature names\n",
      "  warnings.warn(\n",
      "C:\\Users\\hanten carlotta\\PycharmProjects\\Capstone\\venv\\Lib\\site-packages\\sklearn\\base.py:486: UserWarning: X has feature names, but LinearRegression was fitted without feature names\n",
      "  warnings.warn(\n",
      "C:\\Users\\hanten carlotta\\PycharmProjects\\Capstone\\venv\\Lib\\site-packages\\sklearn\\base.py:486: UserWarning: X has feature names, but LinearRegression was fitted without feature names\n",
      "  warnings.warn(\n",
      "C:\\Users\\hanten carlotta\\PycharmProjects\\Capstone\\venv\\Lib\\site-packages\\sklearn\\base.py:486: UserWarning: X has feature names, but LinearRegression was fitted without feature names\n",
      "  warnings.warn(\n",
      "C:\\Users\\hanten carlotta\\PycharmProjects\\Capstone\\venv\\Lib\\site-packages\\sklearn\\base.py:486: UserWarning: X has feature names, but LinearRegression was fitted without feature names\n",
      "  warnings.warn(\n",
      "C:\\Users\\hanten carlotta\\PycharmProjects\\Capstone\\venv\\Lib\\site-packages\\sklearn\\base.py:486: UserWarning: X has feature names, but LinearRegression was fitted without feature names\n",
      "  warnings.warn(\n",
      "C:\\Users\\hanten carlotta\\PycharmProjects\\Capstone\\venv\\Lib\\site-packages\\sklearn\\base.py:486: UserWarning: X has feature names, but LinearRegression was fitted without feature names\n",
      "  warnings.warn(\n",
      "C:\\Users\\hanten carlotta\\PycharmProjects\\Capstone\\venv\\Lib\\site-packages\\sklearn\\base.py:486: UserWarning: X has feature names, but LinearRegression was fitted without feature names\n",
      "  warnings.warn(\n",
      "C:\\Users\\hanten carlotta\\PycharmProjects\\Capstone\\venv\\Lib\\site-packages\\sklearn\\base.py:486: UserWarning: X has feature names, but LinearRegression was fitted without feature names\n",
      "  warnings.warn(\n",
      "C:\\Users\\hanten carlotta\\PycharmProjects\\Capstone\\venv\\Lib\\site-packages\\sklearn\\base.py:486: UserWarning: X has feature names, but LinearRegression was fitted without feature names\n",
      "  warnings.warn(\n",
      "C:\\Users\\hanten carlotta\\PycharmProjects\\Capstone\\venv\\Lib\\site-packages\\sklearn\\base.py:486: UserWarning: X has feature names, but LinearRegression was fitted without feature names\n",
      "  warnings.warn(\n",
      "C:\\Users\\hanten carlotta\\PycharmProjects\\Capstone\\venv\\Lib\\site-packages\\sklearn\\base.py:486: UserWarning: X has feature names, but LinearRegression was fitted without feature names\n",
      "  warnings.warn(\n",
      "C:\\Users\\hanten carlotta\\PycharmProjects\\Capstone\\venv\\Lib\\site-packages\\sklearn\\base.py:486: UserWarning: X has feature names, but LinearRegression was fitted without feature names\n",
      "  warnings.warn(\n",
      "C:\\Users\\hanten carlotta\\PycharmProjects\\Capstone\\venv\\Lib\\site-packages\\sklearn\\base.py:486: UserWarning: X has feature names, but LinearRegression was fitted without feature names\n",
      "  warnings.warn(\n",
      "C:\\Users\\hanten carlotta\\PycharmProjects\\Capstone\\venv\\Lib\\site-packages\\sklearn\\base.py:486: UserWarning: X has feature names, but LinearRegression was fitted without feature names\n",
      "  warnings.warn(\n",
      "C:\\Users\\hanten carlotta\\PycharmProjects\\Capstone\\venv\\Lib\\site-packages\\sklearn\\base.py:486: UserWarning: X has feature names, but LinearRegression was fitted without feature names\n",
      "  warnings.warn(\n",
      "C:\\Users\\hanten carlotta\\PycharmProjects\\Capstone\\venv\\Lib\\site-packages\\sklearn\\base.py:486: UserWarning: X has feature names, but LinearRegression was fitted without feature names\n",
      "  warnings.warn(\n",
      "C:\\Users\\hanten carlotta\\PycharmProjects\\Capstone\\venv\\Lib\\site-packages\\sklearn\\base.py:486: UserWarning: X has feature names, but LinearRegression was fitted without feature names\n",
      "  warnings.warn(\n",
      "C:\\Users\\hanten carlotta\\PycharmProjects\\Capstone\\venv\\Lib\\site-packages\\sklearn\\base.py:486: UserWarning: X has feature names, but LinearRegression was fitted without feature names\n",
      "  warnings.warn(\n",
      "C:\\Users\\hanten carlotta\\PycharmProjects\\Capstone\\venv\\Lib\\site-packages\\sklearn\\base.py:486: UserWarning: X has feature names, but LinearRegression was fitted without feature names\n",
      "  warnings.warn(\n",
      "C:\\Users\\hanten carlotta\\PycharmProjects\\Capstone\\venv\\Lib\\site-packages\\sklearn\\base.py:486: UserWarning: X has feature names, but LinearRegression was fitted without feature names\n",
      "  warnings.warn(\n",
      "C:\\Users\\hanten carlotta\\PycharmProjects\\Capstone\\venv\\Lib\\site-packages\\sklearn\\base.py:486: UserWarning: X has feature names, but LinearRegression was fitted without feature names\n",
      "  warnings.warn(\n",
      "C:\\Users\\hanten carlotta\\PycharmProjects\\Capstone\\venv\\Lib\\site-packages\\sklearn\\base.py:486: UserWarning: X has feature names, but LinearRegression was fitted without feature names\n",
      "  warnings.warn(\n",
      "C:\\Users\\hanten carlotta\\PycharmProjects\\Capstone\\venv\\Lib\\site-packages\\sklearn\\base.py:486: UserWarning: X has feature names, but LinearRegression was fitted without feature names\n",
      "  warnings.warn(\n",
      "C:\\Users\\hanten carlotta\\PycharmProjects\\Capstone\\venv\\Lib\\site-packages\\sklearn\\base.py:486: UserWarning: X has feature names, but LinearRegression was fitted without feature names\n",
      "  warnings.warn(\n",
      "C:\\Users\\hanten carlotta\\PycharmProjects\\Capstone\\venv\\Lib\\site-packages\\sklearn\\base.py:486: UserWarning: X has feature names, but LinearRegression was fitted without feature names\n",
      "  warnings.warn(\n",
      "C:\\Users\\hanten carlotta\\PycharmProjects\\Capstone\\venv\\Lib\\site-packages\\sklearn\\base.py:486: UserWarning: X has feature names, but LinearRegression was fitted without feature names\n",
      "  warnings.warn(\n",
      "C:\\Users\\hanten carlotta\\PycharmProjects\\Capstone\\venv\\Lib\\site-packages\\sklearn\\base.py:486: UserWarning: X has feature names, but LinearRegression was fitted without feature names\n",
      "  warnings.warn(\n",
      "C:\\Users\\hanten carlotta\\PycharmProjects\\Capstone\\venv\\Lib\\site-packages\\sklearn\\base.py:486: UserWarning: X has feature names, but LinearRegression was fitted without feature names\n",
      "  warnings.warn(\n",
      "C:\\Users\\hanten carlotta\\PycharmProjects\\Capstone\\venv\\Lib\\site-packages\\sklearn\\base.py:486: UserWarning: X has feature names, but LinearRegression was fitted without feature names\n",
      "  warnings.warn(\n",
      "C:\\Users\\hanten carlotta\\PycharmProjects\\Capstone\\venv\\Lib\\site-packages\\sklearn\\base.py:486: UserWarning: X has feature names, but LinearRegression was fitted without feature names\n",
      "  warnings.warn(\n",
      "C:\\Users\\hanten carlotta\\PycharmProjects\\Capstone\\venv\\Lib\\site-packages\\sklearn\\base.py:486: UserWarning: X has feature names, but LinearRegression was fitted without feature names\n",
      "  warnings.warn(\n",
      "C:\\Users\\hanten carlotta\\PycharmProjects\\Capstone\\venv\\Lib\\site-packages\\sklearn\\base.py:486: UserWarning: X has feature names, but LinearRegression was fitted without feature names\n",
      "  warnings.warn(\n",
      "C:\\Users\\hanten carlotta\\PycharmProjects\\Capstone\\venv\\Lib\\site-packages\\sklearn\\base.py:486: UserWarning: X has feature names, but LinearRegression was fitted without feature names\n",
      "  warnings.warn(\n",
      "C:\\Users\\hanten carlotta\\PycharmProjects\\Capstone\\venv\\Lib\\site-packages\\sklearn\\base.py:486: UserWarning: X has feature names, but LinearRegression was fitted without feature names\n",
      "  warnings.warn(\n",
      "C:\\Users\\hanten carlotta\\PycharmProjects\\Capstone\\venv\\Lib\\site-packages\\sklearn\\base.py:486: UserWarning: X has feature names, but LinearRegression was fitted without feature names\n",
      "  warnings.warn(\n",
      "C:\\Users\\hanten carlotta\\PycharmProjects\\Capstone\\venv\\Lib\\site-packages\\sklearn\\base.py:486: UserWarning: X has feature names, but LinearRegression was fitted without feature names\n",
      "  warnings.warn(\n",
      "C:\\Users\\hanten carlotta\\PycharmProjects\\Capstone\\venv\\Lib\\site-packages\\sklearn\\base.py:486: UserWarning: X has feature names, but LinearRegression was fitted without feature names\n",
      "  warnings.warn(\n",
      "C:\\Users\\hanten carlotta\\PycharmProjects\\Capstone\\venv\\Lib\\site-packages\\sklearn\\base.py:486: UserWarning: X has feature names, but LinearRegression was fitted without feature names\n",
      "  warnings.warn(\n",
      "C:\\Users\\hanten carlotta\\PycharmProjects\\Capstone\\venv\\Lib\\site-packages\\sklearn\\base.py:486: UserWarning: X has feature names, but LinearRegression was fitted without feature names\n",
      "  warnings.warn(\n",
      "C:\\Users\\hanten carlotta\\PycharmProjects\\Capstone\\venv\\Lib\\site-packages\\sklearn\\base.py:486: UserWarning: X has feature names, but LinearRegression was fitted without feature names\n",
      "  warnings.warn(\n",
      "C:\\Users\\hanten carlotta\\PycharmProjects\\Capstone\\venv\\Lib\\site-packages\\sklearn\\base.py:486: UserWarning: X has feature names, but LinearRegression was fitted without feature names\n",
      "  warnings.warn(\n"
     ]
    },
    {
     "name": "stdout",
     "output_type": "stream",
     "text": [
      "Linear Regression Permutation Importance:\n",
      "                    feature    importance\n",
      "38            PERIOD_201812  6.026439e+22\n",
      "35            PERIOD_201803  4.639068e+22\n",
      "37            PERIOD_201809  3.549084e+22\n",
      "36            PERIOD_201806  2.983774e+22\n",
      "41                Barcelona  1.235625e+20\n",
      "39                   Madrid  1.102111e+20\n",
      "40                 Valencia  6.705593e+19\n",
      "33                LONGITUDE  3.787289e+10\n",
      "30  DISTANCE_TO_CITY_CENTER  7.046431e+08\n",
      "22               FLOORCLEAN  3.019899e+07\n",
      "1                ROOMNUMBER  2.013266e+07\n",
      "29            BUILTTYPEID_3  3.355443e+06\n",
      "3                 AMENITYID  3.355443e+06\n",
      "18                 ISDUPLEX  0.000000e+00\n",
      "32  DISTANCE_TO_MAIN_STREET  0.000000e+00\n",
      "23      CADMAXBUILDINGFLOOR  0.000000e+00\n",
      "19                 ISSTUDIO  0.000000e+00\n",
      "21             ISINTOPFLOOR  0.000000e+00\n",
      "17                HASGARDEN  0.000000e+00\n",
      "12       HASWESTORIENTATION  0.000000e+00\n",
      "9       HASNORTHORIENTATION  0.000000e+00\n",
      "10      HASSOUTHORIENTATION  0.000000e+00\n",
      "11       HASEASTORIENTATION  0.000000e+00\n",
      "28            BUILTTYPEID_2 -3.355443e+06\n",
      "13               HASBOXROOM -6.710886e+06\n",
      "16               HASDOORMAN -1.006633e+07\n",
      "6                HASTERRACE -1.342177e+07\n",
      "20          HASEXTERNALVIEW -1.342177e+07\n",
      "14              HASWARDROBE -1.677722e+07\n",
      "7                   HASLIFT -1.677722e+07\n",
      "27            BUILTTYPEID_1 -2.013266e+07\n",
      "15          HASSWIMMINGPOOL -2.013266e+07\n",
      "4           HASPARKINGSPACE -2.348810e+07\n",
      "26       CADASTRALQUALITYID -2.684355e+07\n",
      "31        DISTANCE_TO_METRO -3.019899e+07\n",
      "8        HASAIRCONDITIONING -4.697620e+07\n",
      "34                 LATITUDE -1.140851e+08\n",
      "25         CADDWELLINGCOUNT -1.744830e+08\n",
      "2                BATHNUMBER -2.013266e+08\n",
      "24      CADCONSTRUCTIONYEAR -2.650800e+08\n",
      "42     NEIGHBORHOOD_ENCODED -3.187671e+08\n",
      "5         PARKINGSPACEPRICE -1.922669e+10\n",
      "0           CONSTRUCTEDAREA -3.787960e+10\n"
     ]
    },
    {
     "name": "stderr",
     "output_type": "stream",
     "text": [
      "C:\\Users\\hanten carlotta\\PycharmProjects\\Capstone\\venv\\Lib\\site-packages\\sklearn\\base.py:486: UserWarning: X has feature names, but LinearRegression was fitted without feature names\n",
      "  warnings.warn(\n",
      "C:\\Users\\hanten carlotta\\PycharmProjects\\Capstone\\venv\\Lib\\site-packages\\sklearn\\base.py:486: UserWarning: X has feature names, but LinearRegression was fitted without feature names\n",
      "  warnings.warn(\n"
     ]
    }
   ],
   "source": [
    "# Permutation importance\n",
    "perm_importance = permutation_importance(lr_model, X_test, y_test, random_state=42)\n",
    "lr_perm_importance_df = pd.DataFrame({\n",
    "    'feature': X_train.columns,\n",
    "    'importance': perm_importance.importances_mean\n",
    "}).sort_values(by='importance', ascending=False)\n",
    "\n",
    "# Print results\n",
    "print(\"Linear Regression Permutation Importance:\")\n",
    "print(lr_perm_importance_df)"
   ],
   "metadata": {
    "collapsed": false,
    "ExecuteTime": {
     "end_time": "2024-07-10T14:01:45.659847700Z",
     "start_time": "2024-07-10T14:01:40.853216200Z"
    }
   }
  },
  {
   "cell_type": "markdown",
   "metadata": {},
   "source": [
    "### Random Forest Regressor"
   ]
  },
  {
   "cell_type": "code",
   "execution_count": 82,
   "metadata": {
    "ExecuteTime": {
     "end_time": "2024-07-10T14:07:28.931788900Z",
     "start_time": "2024-07-10T14:01:45.675497700Z"
    }
   },
   "outputs": [
    {
     "name": "stdout",
     "output_type": "stream",
     "text": [
      "Fitting 3 folds for each of 324 candidates, totalling 972 fits\n"
     ]
    },
    {
     "ename": "KeyboardInterrupt",
     "evalue": "",
     "output_type": "error",
     "traceback": [
      "\u001B[1;31m---------------------------------------------------------------------------\u001B[0m",
      "\u001B[1;31mKeyboardInterrupt\u001B[0m                         Traceback (most recent call last)",
      "Cell \u001B[1;32mIn[82], line 14\u001B[0m\n\u001B[0;32m     11\u001B[0m \u001B[38;5;66;03m# Grid search\u001B[39;00m\n\u001B[0;32m     12\u001B[0m rf_grid \u001B[38;5;241m=\u001B[39m GridSearchCV(estimator\u001B[38;5;241m=\u001B[39mRandomForestRegressor(random_state\u001B[38;5;241m=\u001B[39m\u001B[38;5;241m42\u001B[39m), param_grid\u001B[38;5;241m=\u001B[39mparam_grid_rf,\n\u001B[0;32m     13\u001B[0m                        cv\u001B[38;5;241m=\u001B[39m\u001B[38;5;241m3\u001B[39m, verbose\u001B[38;5;241m=\u001B[39m\u001B[38;5;241m2\u001B[39m, n_jobs\u001B[38;5;241m=\u001B[39m\u001B[38;5;241m-\u001B[39m\u001B[38;5;241m1\u001B[39m)\n\u001B[1;32m---> 14\u001B[0m \u001B[43mrf_grid\u001B[49m\u001B[38;5;241;43m.\u001B[39;49m\u001B[43mfit\u001B[49m\u001B[43m(\u001B[49m\u001B[43mX_train\u001B[49m\u001B[43m,\u001B[49m\u001B[43m \u001B[49m\u001B[43my_train\u001B[49m\u001B[43m)\u001B[49m\n\u001B[0;32m     15\u001B[0m rf_model \u001B[38;5;241m=\u001B[39m rf_grid\u001B[38;5;241m.\u001B[39mbest_estimator_\n\u001B[0;32m     17\u001B[0m \u001B[38;5;66;03m# Predictions in Box-Cox transformed scale\u001B[39;00m\n",
      "File \u001B[1;32m~\\PycharmProjects\\Capstone\\venv\\Lib\\site-packages\\sklearn\\base.py:1473\u001B[0m, in \u001B[0;36m_fit_context.<locals>.decorator.<locals>.wrapper\u001B[1;34m(estimator, *args, **kwargs)\u001B[0m\n\u001B[0;32m   1466\u001B[0m     estimator\u001B[38;5;241m.\u001B[39m_validate_params()\n\u001B[0;32m   1468\u001B[0m \u001B[38;5;28;01mwith\u001B[39;00m config_context(\n\u001B[0;32m   1469\u001B[0m     skip_parameter_validation\u001B[38;5;241m=\u001B[39m(\n\u001B[0;32m   1470\u001B[0m         prefer_skip_nested_validation \u001B[38;5;129;01mor\u001B[39;00m global_skip_validation\n\u001B[0;32m   1471\u001B[0m     )\n\u001B[0;32m   1472\u001B[0m ):\n\u001B[1;32m-> 1473\u001B[0m     \u001B[38;5;28;01mreturn\u001B[39;00m \u001B[43mfit_method\u001B[49m\u001B[43m(\u001B[49m\u001B[43mestimator\u001B[49m\u001B[43m,\u001B[49m\u001B[43m \u001B[49m\u001B[38;5;241;43m*\u001B[39;49m\u001B[43margs\u001B[49m\u001B[43m,\u001B[49m\u001B[43m \u001B[49m\u001B[38;5;241;43m*\u001B[39;49m\u001B[38;5;241;43m*\u001B[39;49m\u001B[43mkwargs\u001B[49m\u001B[43m)\u001B[49m\n",
      "File \u001B[1;32m~\\PycharmProjects\\Capstone\\venv\\Lib\\site-packages\\sklearn\\model_selection\\_search.py:968\u001B[0m, in \u001B[0;36mBaseSearchCV.fit\u001B[1;34m(self, X, y, **params)\u001B[0m\n\u001B[0;32m    962\u001B[0m     results \u001B[38;5;241m=\u001B[39m \u001B[38;5;28mself\u001B[39m\u001B[38;5;241m.\u001B[39m_format_results(\n\u001B[0;32m    963\u001B[0m         all_candidate_params, n_splits, all_out, all_more_results\n\u001B[0;32m    964\u001B[0m     )\n\u001B[0;32m    966\u001B[0m     \u001B[38;5;28;01mreturn\u001B[39;00m results\n\u001B[1;32m--> 968\u001B[0m \u001B[38;5;28;43mself\u001B[39;49m\u001B[38;5;241;43m.\u001B[39;49m\u001B[43m_run_search\u001B[49m\u001B[43m(\u001B[49m\u001B[43mevaluate_candidates\u001B[49m\u001B[43m)\u001B[49m\n\u001B[0;32m    970\u001B[0m \u001B[38;5;66;03m# multimetric is determined here because in the case of a callable\u001B[39;00m\n\u001B[0;32m    971\u001B[0m \u001B[38;5;66;03m# self.scoring the return type is only known after calling\u001B[39;00m\n\u001B[0;32m    972\u001B[0m first_test_score \u001B[38;5;241m=\u001B[39m all_out[\u001B[38;5;241m0\u001B[39m][\u001B[38;5;124m\"\u001B[39m\u001B[38;5;124mtest_scores\u001B[39m\u001B[38;5;124m\"\u001B[39m]\n",
      "File \u001B[1;32m~\\PycharmProjects\\Capstone\\venv\\Lib\\site-packages\\sklearn\\model_selection\\_search.py:1543\u001B[0m, in \u001B[0;36mGridSearchCV._run_search\u001B[1;34m(self, evaluate_candidates)\u001B[0m\n\u001B[0;32m   1541\u001B[0m \u001B[38;5;28;01mdef\u001B[39;00m \u001B[38;5;21m_run_search\u001B[39m(\u001B[38;5;28mself\u001B[39m, evaluate_candidates):\n\u001B[0;32m   1542\u001B[0m \u001B[38;5;250m    \u001B[39m\u001B[38;5;124;03m\"\"\"Search all candidates in param_grid\"\"\"\u001B[39;00m\n\u001B[1;32m-> 1543\u001B[0m     \u001B[43mevaluate_candidates\u001B[49m\u001B[43m(\u001B[49m\u001B[43mParameterGrid\u001B[49m\u001B[43m(\u001B[49m\u001B[38;5;28;43mself\u001B[39;49m\u001B[38;5;241;43m.\u001B[39;49m\u001B[43mparam_grid\u001B[49m\u001B[43m)\u001B[49m\u001B[43m)\u001B[49m\n",
      "File \u001B[1;32m~\\PycharmProjects\\Capstone\\venv\\Lib\\site-packages\\sklearn\\model_selection\\_search.py:914\u001B[0m, in \u001B[0;36mBaseSearchCV.fit.<locals>.evaluate_candidates\u001B[1;34m(candidate_params, cv, more_results)\u001B[0m\n\u001B[0;32m    906\u001B[0m \u001B[38;5;28;01mif\u001B[39;00m \u001B[38;5;28mself\u001B[39m\u001B[38;5;241m.\u001B[39mverbose \u001B[38;5;241m>\u001B[39m \u001B[38;5;241m0\u001B[39m:\n\u001B[0;32m    907\u001B[0m     \u001B[38;5;28mprint\u001B[39m(\n\u001B[0;32m    908\u001B[0m         \u001B[38;5;124m\"\u001B[39m\u001B[38;5;124mFitting \u001B[39m\u001B[38;5;132;01m{0}\u001B[39;00m\u001B[38;5;124m folds for each of \u001B[39m\u001B[38;5;132;01m{1}\u001B[39;00m\u001B[38;5;124m candidates,\u001B[39m\u001B[38;5;124m\"\u001B[39m\n\u001B[0;32m    909\u001B[0m         \u001B[38;5;124m\"\u001B[39m\u001B[38;5;124m totalling \u001B[39m\u001B[38;5;132;01m{2}\u001B[39;00m\u001B[38;5;124m fits\u001B[39m\u001B[38;5;124m\"\u001B[39m\u001B[38;5;241m.\u001B[39mformat(\n\u001B[0;32m    910\u001B[0m             n_splits, n_candidates, n_candidates \u001B[38;5;241m*\u001B[39m n_splits\n\u001B[0;32m    911\u001B[0m         )\n\u001B[0;32m    912\u001B[0m     )\n\u001B[1;32m--> 914\u001B[0m out \u001B[38;5;241m=\u001B[39m \u001B[43mparallel\u001B[49m\u001B[43m(\u001B[49m\n\u001B[0;32m    915\u001B[0m \u001B[43m    \u001B[49m\u001B[43mdelayed\u001B[49m\u001B[43m(\u001B[49m\u001B[43m_fit_and_score\u001B[49m\u001B[43m)\u001B[49m\u001B[43m(\u001B[49m\n\u001B[0;32m    916\u001B[0m \u001B[43m        \u001B[49m\u001B[43mclone\u001B[49m\u001B[43m(\u001B[49m\u001B[43mbase_estimator\u001B[49m\u001B[43m)\u001B[49m\u001B[43m,\u001B[49m\n\u001B[0;32m    917\u001B[0m \u001B[43m        \u001B[49m\u001B[43mX\u001B[49m\u001B[43m,\u001B[49m\n\u001B[0;32m    918\u001B[0m \u001B[43m        \u001B[49m\u001B[43my\u001B[49m\u001B[43m,\u001B[49m\n\u001B[0;32m    919\u001B[0m \u001B[43m        \u001B[49m\u001B[43mtrain\u001B[49m\u001B[38;5;241;43m=\u001B[39;49m\u001B[43mtrain\u001B[49m\u001B[43m,\u001B[49m\n\u001B[0;32m    920\u001B[0m \u001B[43m        \u001B[49m\u001B[43mtest\u001B[49m\u001B[38;5;241;43m=\u001B[39;49m\u001B[43mtest\u001B[49m\u001B[43m,\u001B[49m\n\u001B[0;32m    921\u001B[0m \u001B[43m        \u001B[49m\u001B[43mparameters\u001B[49m\u001B[38;5;241;43m=\u001B[39;49m\u001B[43mparameters\u001B[49m\u001B[43m,\u001B[49m\n\u001B[0;32m    922\u001B[0m \u001B[43m        \u001B[49m\u001B[43msplit_progress\u001B[49m\u001B[38;5;241;43m=\u001B[39;49m\u001B[43m(\u001B[49m\u001B[43msplit_idx\u001B[49m\u001B[43m,\u001B[49m\u001B[43m \u001B[49m\u001B[43mn_splits\u001B[49m\u001B[43m)\u001B[49m\u001B[43m,\u001B[49m\n\u001B[0;32m    923\u001B[0m \u001B[43m        \u001B[49m\u001B[43mcandidate_progress\u001B[49m\u001B[38;5;241;43m=\u001B[39;49m\u001B[43m(\u001B[49m\u001B[43mcand_idx\u001B[49m\u001B[43m,\u001B[49m\u001B[43m \u001B[49m\u001B[43mn_candidates\u001B[49m\u001B[43m)\u001B[49m\u001B[43m,\u001B[49m\n\u001B[0;32m    924\u001B[0m \u001B[43m        \u001B[49m\u001B[38;5;241;43m*\u001B[39;49m\u001B[38;5;241;43m*\u001B[39;49m\u001B[43mfit_and_score_kwargs\u001B[49m\u001B[43m,\u001B[49m\n\u001B[0;32m    925\u001B[0m \u001B[43m    \u001B[49m\u001B[43m)\u001B[49m\n\u001B[0;32m    926\u001B[0m \u001B[43m    \u001B[49m\u001B[38;5;28;43;01mfor\u001B[39;49;00m\u001B[43m \u001B[49m\u001B[43m(\u001B[49m\u001B[43mcand_idx\u001B[49m\u001B[43m,\u001B[49m\u001B[43m \u001B[49m\u001B[43mparameters\u001B[49m\u001B[43m)\u001B[49m\u001B[43m,\u001B[49m\u001B[43m \u001B[49m\u001B[43m(\u001B[49m\u001B[43msplit_idx\u001B[49m\u001B[43m,\u001B[49m\u001B[43m \u001B[49m\u001B[43m(\u001B[49m\u001B[43mtrain\u001B[49m\u001B[43m,\u001B[49m\u001B[43m \u001B[49m\u001B[43mtest\u001B[49m\u001B[43m)\u001B[49m\u001B[43m)\u001B[49m\u001B[43m \u001B[49m\u001B[38;5;129;43;01min\u001B[39;49;00m\u001B[43m \u001B[49m\u001B[43mproduct\u001B[49m\u001B[43m(\u001B[49m\n\u001B[0;32m    927\u001B[0m \u001B[43m        \u001B[49m\u001B[38;5;28;43menumerate\u001B[39;49m\u001B[43m(\u001B[49m\u001B[43mcandidate_params\u001B[49m\u001B[43m)\u001B[49m\u001B[43m,\u001B[49m\n\u001B[0;32m    928\u001B[0m \u001B[43m        \u001B[49m\u001B[38;5;28;43menumerate\u001B[39;49m\u001B[43m(\u001B[49m\u001B[43mcv\u001B[49m\u001B[38;5;241;43m.\u001B[39;49m\u001B[43msplit\u001B[49m\u001B[43m(\u001B[49m\u001B[43mX\u001B[49m\u001B[43m,\u001B[49m\u001B[43m \u001B[49m\u001B[43my\u001B[49m\u001B[43m,\u001B[49m\u001B[43m \u001B[49m\u001B[38;5;241;43m*\u001B[39;49m\u001B[38;5;241;43m*\u001B[39;49m\u001B[43mrouted_params\u001B[49m\u001B[38;5;241;43m.\u001B[39;49m\u001B[43msplitter\u001B[49m\u001B[38;5;241;43m.\u001B[39;49m\u001B[43msplit\u001B[49m\u001B[43m)\u001B[49m\u001B[43m)\u001B[49m\u001B[43m,\u001B[49m\n\u001B[0;32m    929\u001B[0m \u001B[43m    \u001B[49m\u001B[43m)\u001B[49m\n\u001B[0;32m    930\u001B[0m \u001B[43m\u001B[49m\u001B[43m)\u001B[49m\n\u001B[0;32m    932\u001B[0m \u001B[38;5;28;01mif\u001B[39;00m \u001B[38;5;28mlen\u001B[39m(out) \u001B[38;5;241m<\u001B[39m \u001B[38;5;241m1\u001B[39m:\n\u001B[0;32m    933\u001B[0m     \u001B[38;5;28;01mraise\u001B[39;00m \u001B[38;5;167;01mValueError\u001B[39;00m(\n\u001B[0;32m    934\u001B[0m         \u001B[38;5;124m\"\u001B[39m\u001B[38;5;124mNo fits were performed. \u001B[39m\u001B[38;5;124m\"\u001B[39m\n\u001B[0;32m    935\u001B[0m         \u001B[38;5;124m\"\u001B[39m\u001B[38;5;124mWas the CV iterator empty? \u001B[39m\u001B[38;5;124m\"\u001B[39m\n\u001B[0;32m    936\u001B[0m         \u001B[38;5;124m\"\u001B[39m\u001B[38;5;124mWere there no candidates?\u001B[39m\u001B[38;5;124m\"\u001B[39m\n\u001B[0;32m    937\u001B[0m     )\n",
      "File \u001B[1;32m~\\PycharmProjects\\Capstone\\venv\\Lib\\site-packages\\sklearn\\utils\\parallel.py:67\u001B[0m, in \u001B[0;36mParallel.__call__\u001B[1;34m(self, iterable)\u001B[0m\n\u001B[0;32m     62\u001B[0m config \u001B[38;5;241m=\u001B[39m get_config()\n\u001B[0;32m     63\u001B[0m iterable_with_config \u001B[38;5;241m=\u001B[39m (\n\u001B[0;32m     64\u001B[0m     (_with_config(delayed_func, config), args, kwargs)\n\u001B[0;32m     65\u001B[0m     \u001B[38;5;28;01mfor\u001B[39;00m delayed_func, args, kwargs \u001B[38;5;129;01min\u001B[39;00m iterable\n\u001B[0;32m     66\u001B[0m )\n\u001B[1;32m---> 67\u001B[0m \u001B[38;5;28;01mreturn\u001B[39;00m \u001B[38;5;28;43msuper\u001B[39;49m\u001B[43m(\u001B[49m\u001B[43m)\u001B[49m\u001B[38;5;241;43m.\u001B[39;49m\u001B[38;5;21;43m__call__\u001B[39;49m\u001B[43m(\u001B[49m\u001B[43miterable_with_config\u001B[49m\u001B[43m)\u001B[49m\n",
      "File \u001B[1;32m~\\PycharmProjects\\Capstone\\venv\\Lib\\site-packages\\joblib\\parallel.py:2007\u001B[0m, in \u001B[0;36mParallel.__call__\u001B[1;34m(self, iterable)\u001B[0m\n\u001B[0;32m   2001\u001B[0m \u001B[38;5;66;03m# The first item from the output is blank, but it makes the interpreter\u001B[39;00m\n\u001B[0;32m   2002\u001B[0m \u001B[38;5;66;03m# progress until it enters the Try/Except block of the generator and\u001B[39;00m\n\u001B[0;32m   2003\u001B[0m \u001B[38;5;66;03m# reaches the first `yield` statement. This starts the asynchronous\u001B[39;00m\n\u001B[0;32m   2004\u001B[0m \u001B[38;5;66;03m# dispatch of the tasks to the workers.\u001B[39;00m\n\u001B[0;32m   2005\u001B[0m \u001B[38;5;28mnext\u001B[39m(output)\n\u001B[1;32m-> 2007\u001B[0m \u001B[38;5;28;01mreturn\u001B[39;00m output \u001B[38;5;28;01mif\u001B[39;00m \u001B[38;5;28mself\u001B[39m\u001B[38;5;241m.\u001B[39mreturn_generator \u001B[38;5;28;01melse\u001B[39;00m \u001B[38;5;28mlist\u001B[39m(output)\n",
      "File \u001B[1;32m~\\PycharmProjects\\Capstone\\venv\\Lib\\site-packages\\joblib\\parallel.py:1650\u001B[0m, in \u001B[0;36mParallel._get_outputs\u001B[1;34m(self, iterator, pre_dispatch)\u001B[0m\n\u001B[0;32m   1647\u001B[0m     \u001B[38;5;28;01myield\u001B[39;00m\n\u001B[0;32m   1649\u001B[0m     \u001B[38;5;28;01mwith\u001B[39;00m \u001B[38;5;28mself\u001B[39m\u001B[38;5;241m.\u001B[39m_backend\u001B[38;5;241m.\u001B[39mretrieval_context():\n\u001B[1;32m-> 1650\u001B[0m         \u001B[38;5;28;01myield from\u001B[39;00m \u001B[38;5;28mself\u001B[39m\u001B[38;5;241m.\u001B[39m_retrieve()\n\u001B[0;32m   1652\u001B[0m \u001B[38;5;28;01mexcept\u001B[39;00m \u001B[38;5;167;01mGeneratorExit\u001B[39;00m:\n\u001B[0;32m   1653\u001B[0m     \u001B[38;5;66;03m# The generator has been garbage collected before being fully\u001B[39;00m\n\u001B[0;32m   1654\u001B[0m     \u001B[38;5;66;03m# consumed. This aborts the remaining tasks if possible and warn\u001B[39;00m\n\u001B[0;32m   1655\u001B[0m     \u001B[38;5;66;03m# the user if necessary.\u001B[39;00m\n\u001B[0;32m   1656\u001B[0m     \u001B[38;5;28mself\u001B[39m\u001B[38;5;241m.\u001B[39m_exception \u001B[38;5;241m=\u001B[39m \u001B[38;5;28;01mTrue\u001B[39;00m\n",
      "File \u001B[1;32m~\\PycharmProjects\\Capstone\\venv\\Lib\\site-packages\\joblib\\parallel.py:1762\u001B[0m, in \u001B[0;36mParallel._retrieve\u001B[1;34m(self)\u001B[0m\n\u001B[0;32m   1757\u001B[0m \u001B[38;5;66;03m# If the next job is not ready for retrieval yet, we just wait for\u001B[39;00m\n\u001B[0;32m   1758\u001B[0m \u001B[38;5;66;03m# async callbacks to progress.\u001B[39;00m\n\u001B[0;32m   1759\u001B[0m \u001B[38;5;28;01mif\u001B[39;00m ((\u001B[38;5;28mlen\u001B[39m(\u001B[38;5;28mself\u001B[39m\u001B[38;5;241m.\u001B[39m_jobs) \u001B[38;5;241m==\u001B[39m \u001B[38;5;241m0\u001B[39m) \u001B[38;5;129;01mor\u001B[39;00m\n\u001B[0;32m   1760\u001B[0m     (\u001B[38;5;28mself\u001B[39m\u001B[38;5;241m.\u001B[39m_jobs[\u001B[38;5;241m0\u001B[39m]\u001B[38;5;241m.\u001B[39mget_status(\n\u001B[0;32m   1761\u001B[0m         timeout\u001B[38;5;241m=\u001B[39m\u001B[38;5;28mself\u001B[39m\u001B[38;5;241m.\u001B[39mtimeout) \u001B[38;5;241m==\u001B[39m TASK_PENDING)):\n\u001B[1;32m-> 1762\u001B[0m     time\u001B[38;5;241m.\u001B[39msleep(\u001B[38;5;241m0.01\u001B[39m)\n\u001B[0;32m   1763\u001B[0m     \u001B[38;5;28;01mcontinue\u001B[39;00m\n\u001B[0;32m   1765\u001B[0m \u001B[38;5;66;03m# We need to be careful: the job list can be filling up as\u001B[39;00m\n\u001B[0;32m   1766\u001B[0m \u001B[38;5;66;03m# we empty it and Python list are not thread-safe by\u001B[39;00m\n\u001B[0;32m   1767\u001B[0m \u001B[38;5;66;03m# default hence the use of the lock\u001B[39;00m\n",
      "\u001B[1;31mKeyboardInterrupt\u001B[0m: "
     ]
    }
   ],
   "source": [
    "from sklearn.ensemble import RandomForestRegressor\n",
    "# Define parameter grid for GridSearchCV\n",
    "param_grid_rf = {\n",
    "    'n_estimators': [100, 200, 500],\n",
    "    'max_features': ['auto', 'sqrt', 'log2'],\n",
    "    'max_depth': [10, 20, 30, None],\n",
    "    'min_samples_split': [2, 5, 10],\n",
    "    'min_samples_leaf': [1, 2, 4]\n",
    "}\n",
    "\n",
    "# Grid search\n",
    "rf_grid = GridSearchCV(estimator=RandomForestRegressor(random_state=42), param_grid=param_grid_rf,\n",
    "                       cv=3, verbose=2, n_jobs=-1)\n",
    "rf_grid.fit(X_train, y_train)\n",
    "rf_model = rf_grid.best_estimator_\n",
    "\n",
    "# Predictions in Box-Cox transformed scale\n",
    "y_pred_boxcox_rf = rf_model.predict(X_test)\n",
    "\n",
    "# Transform predictions back to the original scale\n",
    "y_pred_rf_price = inv_boxcox(y_pred_boxcox_rf, specified_lambda)\n",
    "y_test_price = inv_boxcox(y_test, specified_lambda)\n",
    "\n",
    "# Evaluation metrics on the original scale\n",
    "mae_rf_price = mean_absolute_error(y_test_price, y_pred_rf_price)\n",
    "mse_rf_price = mean_squared_error(y_test_price, y_pred_rf_price)\n",
    "rmse_rf_price = np.sqrt(mse_rf_price)\n",
    "mape_rf_price = mean_absolute_percentage_error(y_test_price, y_pred_rf_price)\n",
    "\n",
    "# Evaluation metrics on the Box-Cox transformed scale\n",
    "mae_boxcox_rf = mean_absolute_error(y_test, y_pred_boxcox_rf)\n",
    "mse_boxcox_rf = mean_squared_error(y_test, y_pred_boxcox_rf)\n",
    "rmse_boxcox_rf = np.sqrt(mse_boxcox_rf)\n",
    "mape_boxcox_rf = mean_absolute_percentage_error(y_test, y_pred_boxcox_rf)\n",
    "\n",
    "# Print the metrics\n",
    "print(\"Metrics on the original PRICE scale:\")\n",
    "print(f\"MAE: {mae_rf_price:.4f}\")\n",
    "print(f\"MSE: {mse_rf_price:.4f}\")\n",
    "print(f\"RMSE: {rmse_rf_price:.4f}\")\n",
    "print(f\"MAPE: {mape_rf_price:.4f}\")\n",
    "\n",
    "print(\"\\nMetrics on the Box-Cox transformed scale:\")\n",
    "print(f\"MAE: {mae_boxcox_rf:.4f}\")\n",
    "print(f\"MSE: {mse_boxcox_rf:.4f}\")\n",
    "print(f\"RMSE: {rmse_boxcox_rf:.4f}\")\n",
    "print(f\"MAPE: {mape_boxcox_rf:.4f}\")"
   ]
  },
  {
   "cell_type": "code",
   "execution_count": null,
   "outputs": [],
   "source": [
    "# Print the best parameters\n",
    "print(\"Best Parameters found by GridSearchCV:\")\n",
    "print(rf_grid.best_params_)"
   ],
   "metadata": {
    "collapsed": false,
    "ExecuteTime": {
     "end_time": "2024-07-10T14:07:28.933860200Z",
     "start_time": "2024-07-10T14:07:28.933860200Z"
    }
   }
  },
  {
   "cell_type": "code",
   "execution_count": null,
   "outputs": [],
   "source": [
    "# Permutation importance\n",
    "perm_importance = permutation_importance(rf_model, X_test, y_test, random_state=42)\n",
    "rf_perm_importance_df = pd.DataFrame({\n",
    "    'feature': X_train.columns,\n",
    "    'importance': perm_importance.importances_mean\n",
    "}).sort_values(by='importance', ascending=False)\n",
    "\n",
    "# Print results\n",
    "print(\"Random Forest Permutation Importance:\")\n",
    "print(rf_perm_importance_df)"
   ],
   "metadata": {
    "collapsed": false,
    "ExecuteTime": {
     "end_time": "2024-07-10T14:07:28.962410300Z",
     "start_time": "2024-07-10T14:07:28.941935300Z"
    }
   }
  },
  {
   "cell_type": "markdown",
   "metadata": {},
   "source": [
    "### XGBoost"
   ]
  },
  {
   "cell_type": "code",
   "execution_count": null,
   "metadata": {
    "is_executing": true,
    "ExecuteTime": {
     "start_time": "2024-07-10T14:26:57.390563700Z"
    }
   },
   "outputs": [
    {
     "name": "stdout",
     "output_type": "stream",
     "text": [
      "Fitting 3 folds for each of 324 candidates, totalling 972 fits\n"
     ]
    }
   ],
   "source": [
    "import xgboost as xgb\n",
    "# Define parameter grid for GridSearchCV\n",
    "param_grid_xgb = {\n",
    "    'n_estimators': [100, 200, 500],\n",
    "    'learning_rate': [0.01, 0.1, 0.2],\n",
    "    'max_depth': [3, 5, 7, 10],\n",
    "    'subsample': [0.7, 0.8, 0.9],\n",
    "    'colsample_bytree': [0.7, 0.8, 0.9]\n",
    "}\n",
    "\n",
    "# Grid search\n",
    "xgb_grid = GridSearchCV(estimator=xgb.XGBRegressor(), param_grid=param_grid_xgb,\n",
    "                        cv=3, verbose=2, n_jobs=-1)\n",
    "xgb_grid.fit(X_train, y_train)\n",
    "xgb_model = xgb_grid.best_estimator_\n",
    "\n",
    "# Predictions in Box-Cox transformed scale\n",
    "y_pred_boxcox_xgb = xgb_model.predict(X_test)\n",
    "\n",
    "# Transform predictions back to the original scale\n",
    "y_pred_xgb_price = inv_boxcox(y_pred_boxcox_xgb, specified_lambda)\n",
    "y_test_price = inv_boxcox(y_test, specified_lambda)\n",
    "\n",
    "# Evaluation metrics on the original scale\n",
    "mae_xgb_price = mean_absolute_error(y_test_price, y_pred_xgb_price)\n",
    "mse_xgb_price = mean_squared_error(y_test_price, y_pred_xgb_price)\n",
    "rmse_xgb_price = np.sqrt(mse_xgb_price)\n",
    "mape_xgb_price = mean_absolute_percentage_error(y_test_price, y_pred_xgb_price)\n",
    "\n",
    "# Evaluation metrics on the Box-Cox transformed scale\n",
    "mae_boxcox_xgb = mean_absolute_error(y_test, y_pred_boxcox_xgb)\n",
    "mse_boxcox_xgb = mean_squared_error(y_test, y_pred_boxcox_xgb)\n",
    "rmse_boxcox_xgb = np.sqrt(mse_boxcox_xgb)\n",
    "mape_boxcox_xgb = mean_absolute_percentage_error(y_test, y_pred_boxcox_xgb)\n",
    "\n",
    "# Print the metrics\n",
    "print(\"Metrics on the original PRICE scale:\")\n",
    "print(f\"MAE: {mae_xgb_price:.4f}\")\n",
    "print(f\"MSE: {mse_xgb_price:.4f}\")\n",
    "print(f\"RMSE: {rmse_xgb_price:.4f}\")\n",
    "print(f\"MAPE: {mape_xgb_price:.4f}\")\n",
    "\n",
    "print(\"\\nMetrics on the Box-Cox transformed scale:\")\n",
    "print(f\"MAE: {mae_boxcox_xgb:.4f}\")\n",
    "print(f\"MSE: {mse_boxcox_xgb:.4f}\")\n",
    "print(f\"RMSE: {rmse_boxcox_xgb:.4f}\")\n",
    "print(f\"MAPE: {mape_boxcox_xgb:.4f}\")"
   ]
  },
  {
   "cell_type": "code",
   "execution_count": null,
   "outputs": [],
   "source": [
    "# Permutation importance\n",
    "perm_importance = permutation_importance(xgb_model, X_test, y_test, random_state=42)\n",
    "xgb_perm_importance_df = pd.DataFrame({\n",
    "    'feature': X_train.columns,\n",
    "    'importance': perm_importance.importances_mean\n",
    "}).sort_values(by='importance', ascending=False)\n",
    "\n",
    "# Print results\n",
    "print(\"XGBoost Permutation Importance:\")\n",
    "print(xgb_perm_importance_df)"
   ],
   "metadata": {
    "collapsed": false,
    "is_executing": true
   }
  },
  {
   "cell_type": "code",
   "execution_count": null,
   "outputs": [],
   "source": [
    "# Print the best parameters\n",
    "print(\"Best Parameters found by GridSearchCV:\")\n",
    "print(xgb_grid.best_params_)"
   ],
   "metadata": {
    "collapsed": false,
    "is_executing": true
   }
  },
  {
   "cell_type": "markdown",
   "metadata": {},
   "source": [
    "### CatBoost"
   ]
  },
  {
   "cell_type": "code",
   "execution_count": null,
   "metadata": {
    "ExecuteTime": {
     "end_time": "2024-07-10T14:07:29.075148900Z",
     "start_time": "2024-07-10T14:07:28.964475900Z"
    }
   },
   "outputs": [],
   "source": [
    "from catboost import CatBoostRegressor\n",
    "\n",
    "# Define parameter grid for GridSearchCV\n",
    "param_grid_catboost = {\n",
    "    'iterations': [500, 1000],\n",
    "    'learning_rate': [0.01, 0.1, 0.2],\n",
    "    'depth': [4, 6, 8, 10],\n",
    "    'l2_leaf_reg': [1, 3, 5, 7]\n",
    "}\n",
    "\n",
    "# Grid search\n",
    "catboost_grid = GridSearchCV(estimator=CatBoostRegressor(verbose=0), param_grid=param_grid_catboost,\n",
    "                             cv=3, verbose=2, n_jobs=-1)\n",
    "catboost_grid.fit(X_train, y_train)\n",
    "catboost_model = catboost_grid.best_estimator_\n",
    "\n",
    "# Predictions in Box-Cox transformed scale\n",
    "y_pred_boxcox_catboost = catboost_model.predict(X_test)\n",
    "\n",
    "# Transform predictions back to the original scale\n",
    "y_pred_catboost_price = inv_boxcox(y_pred_boxcox_catboost, specified_lambda)\n",
    "y_test_price = inv_boxcox(y_test, specified_lambda)\n",
    "\n",
    "# Evaluation metrics on the original scale\n",
    "mae_catboost_price = mean_absolute_error(y_test_price, y_pred_catboost_price)\n",
    "mse_catboost_price = mean_squared_error(y_test_price, y_pred_catboost_price)\n",
    "rmse_catboost_price = np.sqrt(mse_catboost_price)\n",
    "mape_catboost_price = mean_absolute_percentage_error(y_test_price, y_pred_catboost_price)\n",
    "\n",
    "# Evaluation metrics on the Box-Cox transformed scale\n",
    "mae_boxcox_catboost = mean_absolute_error(y_test, y_pred_boxcox_catboost)\n",
    "mse_boxcox_catboost = mean_squared_error(y_test, y_pred_boxcox_catboost)\n",
    "rmse_boxcox_catboost = np.sqrt(mse_boxcox_catboost)\n",
    "mape_boxcox_catboost = mean_absolute_percentage_error(y_test, y_pred_boxcox_catboost)\n",
    "\n",
    "# Print the metrics\n",
    "print(\"Metrics on the original PRICE scale:\")\n",
    "print(f\"MAE: {mae_catboost_price:.4f}\")\n",
    "print(f\"MSE: {mse_catboost_price:.4f}\")\n",
    "print(f\"RMSE: {rmse_catboost_price:.4f}\")\n",
    "print(f\"MAPE: {mape_catboost_price:.4f}\")\n",
    "\n",
    "print(\"\\nMetrics on the Box-Cox transformed scale:\")\n",
    "print(f\"MAE: {mae_boxcox_catboost:.4f}\")\n",
    "print(f\"MSE: {mse_boxcox_catboost:.4f}\")\n",
    "print(f\"RMSE: {rmse_boxcox_catboost:.4f}\")\n",
    "print(f\"MAPE: {mape_boxcox_catboost:.4f}\")"
   ]
  },
  {
   "cell_type": "code",
   "execution_count": null,
   "outputs": [],
   "source": [
    "# Permutation importance\n",
    "perm_importance = permutation_importance(catboost_model, X_test, y_test, random_state=42)\n",
    "catboost_perm_importance_df = pd.DataFrame({\n",
    "    'feature': X_train.columns,\n",
    "    'importance': perm_importance.importances_mean\n",
    "}).sort_values(by='importance', ascending=False)\n",
    "\n",
    "# Print results\n",
    "print(\"CatBoost Permutation Importance:\")\n",
    "print(catboost_perm_importance_df)"
   ],
   "metadata": {
    "collapsed": false,
    "ExecuteTime": {
     "start_time": "2024-07-10T14:07:28.974833400Z"
    }
   }
  },
  {
   "cell_type": "code",
   "execution_count": null,
   "outputs": [],
   "source": [
    "# Print the best parameters\n",
    "print(\"Best Parameters found by GridSearchCV:\")\n",
    "print(catboost_grid.best_params_)"
   ],
   "metadata": {
    "collapsed": false,
    "ExecuteTime": {
     "start_time": "2024-07-10T14:07:28.984986400Z"
    }
   }
  },
  {
   "cell_type": "markdown",
   "metadata": {},
   "source": [
    "### LightGBM"
   ]
  },
  {
   "cell_type": "code",
   "execution_count": null,
   "metadata": {
    "ExecuteTime": {
     "start_time": "2024-07-10T14:07:28.984986400Z"
    }
   },
   "outputs": [],
   "source": [
    "import lightgbm as lgb\n",
    "\n",
    "# Define parameter grid for GridSearchCV\n",
    "param_grid_lgb = {\n",
    "    'n_estimators': [100, 200, 500],\n",
    "    'learning_rate': [0.01, 0.1, 0.2],\n",
    "    'num_leaves': [20, 31, 40, 50],\n",
    "    'max_depth': [10, 20, 30, None],\n",
    "    'subsample': [0.7, 0.8, 0.9],\n",
    "    'colsample_bytree': [0.7, 0.8, 0.9]\n",
    "}\n",
    "\n",
    "# Grid search\n",
    "lgb_grid = GridSearchCV(estimator=lgb.LGBMRegressor(), param_grid=param_grid_lgb,\n",
    "                        cv=3, verbose=2, n_jobs=-1)\n",
    "lgb_grid.fit(X_train, y_train)\n",
    "lgb_model = lgb_grid.best_estimator_\n",
    "\n",
    "# Predictions in Box-Cox transformed scale\n",
    "y_pred_boxcox_lgb = lgb_model.predict(X_test)\n",
    "\n",
    "# Transform predictions back to the original scale\n",
    "y_pred_lgb_price = inv_boxcox(y_pred_boxcox_lgb, specified_lambda)\n",
    "y_test_price = inv_boxcox(y_test, specified_lambda)\n",
    "\n",
    "# Evaluation metrics on the original scale\n",
    "mae_lgb_price = mean_absolute_error(y_test_price, y_pred_lgb_price)\n",
    "mse_lgb_price = mean_squared_error(y_test_price, y_pred_lgb_price)\n",
    "rmse_lgb_price = np.sqrt(mse_lgb_price)\n",
    "mape_lgb_price = mean_absolute_percentage_error(y_test_price, y_pred_lgb_price)\n",
    "\n",
    "# Evaluation metrics on the Box-Cox transformed scale\n",
    "mae_boxcox_lgb = mean_absolute_error(y_test, y_pred_boxcox_lgb)\n",
    "mse_boxcox_lgb = mean_squared_error(y_test, y_pred_boxcox_lgb)\n",
    "rmse_boxcox_lgb = np.sqrt(mse_boxcox_lgb)\n",
    "mape_boxcox_lgb = mean_absolute_percentage_error(y_test, y_pred_boxcox_lgb)\n",
    "\n",
    "# Print the metrics\n",
    "print(\"Metrics on the original PRICE scale:\")\n",
    "print(f\"MAE: {mae_lgb_price:.4f}\")\n",
    "print(f\"MSE: {mse_lgb_price:.4f}\")\n",
    "print(f\"RMSE: {rmse_lgb_price:.4f}\")\n",
    "print(f\"MAPE: {mape_lgb_price:.4f}\")\n",
    "\n",
    "print(\"\\nMetrics on the Box-Cox transformed scale:\")\n",
    "print(f\"MAE: {mae_boxcox_lgb:.4f}\")\n",
    "print(f\"MSE: {mse_boxcox_lgb:.4f}\")\n",
    "print(f\"RMSE: {rmse_boxcox_lgb:.4f}\")\n",
    "print(f\"MAPE: {mape_boxcox_lgb:.4f}\")"
   ]
  },
  {
   "cell_type": "code",
   "execution_count": null,
   "outputs": [],
   "source": [
    "# Permutation importance\n",
    "perm_importance = permutation_importance(lgb_model, X_test, y_test, random_state=42)\n",
    "lgb_perm_importance_df = pd.DataFrame({\n",
    "    'feature': X_train.columns,\n",
    "    'importance': perm_importance.importances_mean\n",
    "}).sort_values(by='importance', ascending=False)\n",
    "\n",
    "# Print results\n",
    "print(\"LightGBM Permutation Importance:\")\n",
    "print(lgb_perm_importance_df)"
   ],
   "metadata": {
    "collapsed": false,
    "ExecuteTime": {
     "start_time": "2024-07-10T14:07:28.995275300Z"
    }
   }
  },
  {
   "cell_type": "code",
   "execution_count": null,
   "outputs": [],
   "source": [
    "# Print the best parameters\n",
    "print(\"Best Parameters found by GridSearchCV:\")\n",
    "print(lgb_grid.best_params_)"
   ],
   "metadata": {
    "collapsed": false,
    "ExecuteTime": {
     "start_time": "2024-07-10T14:07:28.995275300Z"
    }
   }
  },
  {
   "cell_type": "markdown",
   "metadata": {},
   "source": [
    "### Neural Network"
   ]
  },
  {
   "cell_type": "code",
   "execution_count": null,
   "metadata": {
    "ExecuteTime": {
     "start_time": "2024-07-10T14:07:29.005440900Z"
    }
   },
   "outputs": [],
   "source": [
    "from tensorflow.keras.models import Sequential\n",
    "from tensorflow.keras.layers import Dense, Input\n",
    "from sklearn.preprocessing import StandardScaler\n",
    "from tensorflow.keras.callbacks import EarlyStopping\n",
    "\n",
    "# Standardize the data\n",
    "scaler = StandardScaler()\n",
    "X_train_scaled = scaler.fit_transform(X_train)\n",
    "X_test_scaled = scaler.transform(X_test)\n",
    "\n",
    "# Define early stopping\n",
    "early_stopping = EarlyStopping(monitor='val_loss', patience=10, restore_best_weights=True)\n",
    "\n",
    "# Train the Neural Network\n",
    "nn_model = Sequential()\n",
    "nn_model.add(Input(shape=(X_train.shape[1],)))\n",
    "nn_model.add(Dense(64, activation='relu'))\n",
    "nn_model.add(Dense(32, activation='relu'))\n",
    "nn_model.add(Dense(1))\n",
    "nn_model.compile(optimizer='adam', loss='mean_squared_error')\n",
    "\n",
    "# Train the model with early stopping\n",
    "nn_model.fit(X_train_scaled, y_train, \n",
    "             epochs=100, \n",
    "             batch_size=32, \n",
    "             verbose=0, \n",
    "             validation_split=0.2, \n",
    "             callbacks=[early_stopping])\n",
    "\n",
    "y_pred_boxcox_nn = nn_model.predict(X_test_scaled).flatten()\n",
    "\n",
    "# Transform predictions back to the original scale\n",
    "y_pred_nn_price = inv_boxcox(y_pred_boxcox_nn, specified_lambda)\n",
    "y_test_price = inv_boxcox(y_test, specified_lambda)\n",
    "\n",
    "# Evaluation metrics on the original scale\n",
    "mae_nn_price = mean_absolute_error(y_test_price, y_pred_nn_price)\n",
    "mse_nn_price = mean_squared_error(y_test_price, y_pred_nn_price)\n",
    "rmse_nn_price = np.sqrt(mse_nn_price)\n",
    "mape_nn_price = mean_absolute_percentage_error(y_test_price, y_pred_nn_price)\n",
    "\n",
    "# Evaluation metrics on the Box-Cox transformed scale\n",
    "mae_boxcox_nn = mean_absolute_error(y_test, y_pred_boxcox_nn)\n",
    "mse_boxcox_nn = mean_squared_error(y_test, y_pred_boxcox_nn)\n",
    "rmse_boxcox_nn = np.sqrt(mse_boxcox_nn)\n",
    "mape_boxcox_nn = mean_absolute_percentage_error(y_test, y_pred_boxcox_nn)\n",
    "\n",
    "# Print the metrics\n",
    "print(\"Metrics on the original PRICE scale:\")\n",
    "print(f\"MAE: {mae_nn_price:.4f}\")\n",
    "print(f\"MSE: {mse_nn_price:.4f}\")\n",
    "print(f\"RMSE: {rmse_nn_price:.4f}\")\n",
    "print(f\"MAPE: {mape_nn_price:.4f}\")\n",
    "\n",
    "print(\"\\nMetrics on the Box-Cox transformed scale:\")\n",
    "print(f\"MAE: {mae_boxcox_nn:.4f}\")\n",
    "print(f\"MSE: {mse_boxcox_nn:.4f}\")\n",
    "print(f\"RMSE: {rmse_boxcox_nn:.4f}\")\n",
    "print(f\"MAPE: {mape_boxcox_nn:.4f}\")"
   ]
  },
  {
   "cell_type": "code",
   "execution_count": null,
   "outputs": [],
   "source": [
    "from tensorflow.keras.models import Sequential\n",
    "from tensorflow.keras.layers import Dense, Input\n",
    "from scikeras.wrappers import KerasRegressor\n",
    "from sklearn.preprocessing import StandardScaler\n",
    "from sklearn.model_selection import GridSearchCV\n",
    "from tensorflow.keras.callbacks import EarlyStopping\n",
    "from sklearn.metrics import make_scorer, mean_squared_error\n",
    "import numpy as np\n",
    "\n",
    "# Define the function to create the Keras model\n",
    "def create_model(optimizer='adam', neurons1=64, neurons2=32, activation='relu'):\n",
    "    model = Sequential()\n",
    "    model.add(Input(shape=(X_train.shape[1],)))\n",
    "    model.add(Dense(neurons1, activation=activation))\n",
    "    model.add(Dense(neurons2, activation=activation))\n",
    "    model.add(Dense(1))\n",
    "    model.compile(optimizer=optimizer, loss='mean_squared_error')\n",
    "    return model\n",
    "\n",
    "# Standardize the data\n",
    "scaler = StandardScaler()\n",
    "X_train_scaled = scaler.fit_transform(X_train)\n",
    "X_test_scaled = scaler.transform(X_test)\n",
    "\n",
    "# Define the KerasRegressor\n",
    "model = KerasRegressor(model=create_model, verbose=0)\n",
    "\n",
    "# Define the grid search parameters for epochs only\n",
    "param_grid = {\n",
    "    'epochs': [50, 100, 200, 300]\n",
    "}\n",
    "\n",
    "# Define the scoring function\n",
    "def my_scorer(y_true, y_pred):\n",
    "    return np.sqrt(mean_squared_error(y_true, y_pred))\n",
    "\n",
    "scorer = make_scorer(my_scorer, greater_is_better=False)\n",
    "\n",
    "# Create GridSearchCV\n",
    "grid = GridSearchCV(estimator=model, param_grid=param_grid, scoring=scorer, cv=3)\n",
    "\n",
    "# Fit the model with GridSearchCV\n",
    "early_stopping = EarlyStopping(monitor='val_loss', patience=10, restore_best_weights=True)\n",
    "\n",
    "try:\n",
    "    grid_result = grid.fit(X_train_scaled, y_train, callbacks=[early_stopping])\n",
    "    # Print the best parameters\n",
    "    print(\"Best parameters found: \", grid_result.best_params_)\n",
    "\n",
    "    # Train the final model using the best parameters\n",
    "    best_model = grid_result.best_estimator_.model_\n",
    "\n",
    "    # Predictions\n",
    "    y_pred_boxcox_nn = best_model.predict(X_test_scaled).flatten()\n",
    "\n",
    "    # Transform predictions back to the original scale\n",
    "    y_pred_nn_price = inv_boxcox(y_pred_boxcox_nn, specified_lambda)\n",
    "    y_test_price = inv_boxcox(y_test, specified_lambda)\n",
    "\n",
    "    # Evaluation metrics on the original scale\n",
    "    mae_nn_price = mean_absolute_error(y_test_price, y_pred_nn_price)\n",
    "    mse_nn_price = mean_squared_error(y_test_price, y_pred_nn_price)\n",
    "    rmse_nn_price = np.sqrt(mse_nn_price)\n",
    "    mape_nn_price = mean_absolute_percentage_error(y_test_price, y_pred_nn_price)\n",
    "\n",
    "    # Evaluation metrics on the Box-Cox transformed scale\n",
    "    mae_boxcox_nn = mean_absolute_error(y_test, y_pred_boxcox_nn)\n",
    "    mse_boxcox_nn = mean_squared_error(y_test, y_pred_boxcox_nn)\n",
    "    rmse_boxcox_nn = np.sqrt(mse_boxcox_nn)\n",
    "    mape_boxcox_nn = mean_absolute_percentage_error(y_test, y_pred_boxcox_nn)\n",
    "\n",
    "    # Print the metrics\n",
    "    print(\"Metrics on the original PRICE scale:\")\n",
    "    print(f\"MAE: {mae_nn_price:.4f}\")\n",
    "    print(f\"MSE: {mse_nn_price:.4f}\")\n",
    "    print(f\"RMSE: {rmse_nn_price:.4f}\")\n",
    "    print(f\"MAPE: {mape_nn_price:.4f}\")\n",
    "\n",
    "    print(\"\\nMetrics on the Box-Cox transformed scale:\")\n",
    "    print(f\"MAE: {mae_boxcox_nn:.4f}\")\n",
    "    print(f\"MSE: {mse_boxcox_nn:.4f}\")\n",
    "    print(f\"RMSE: {rmse_boxcox_nn:.4f}\")\n",
    "    print(f\"MAPE: {mape_boxcox_nn:.4f}\")\n",
    "except Exception as e:\n",
    "    print(f\"An error occurred: {e}\")"
   ],
   "metadata": {
    "collapsed": false,
    "ExecuteTime": {
     "start_time": "2024-07-10T14:07:29.013674500Z"
    }
   }
  }
 ],
 "metadata": {
  "kernelspec": {
   "display_name": "Python 3",
   "language": "python",
   "name": "python3"
  },
  "language_info": {
   "codemirror_mode": {
    "name": "ipython",
    "version": 3
   },
   "file_extension": ".py",
   "mimetype": "text/x-python",
   "name": "python",
   "nbconvert_exporter": "python",
   "pygments_lexer": "ipython3",
   "version": "3.11.1"
  }
 },
 "nbformat": 4,
 "nbformat_minor": 2
}
