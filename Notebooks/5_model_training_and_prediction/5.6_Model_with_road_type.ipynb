{
 "cells": [
  {
   "cell_type": "markdown",
   "metadata": {},
   "source": [
    "# Notebook 5.6 - Testing the feature \"Type of road\""
   ]
  },
  {
   "cell_type": "markdown",
   "source": [
    "# Import libraries"
   ],
   "metadata": {
    "collapsed": false
   }
  },
  {
   "cell_type": "code",
   "execution_count": 17,
   "outputs": [],
   "source": [
    "import xgboost as xgb\n",
    "from sklearn.metrics import mean_absolute_error, mean_squared_error, mean_absolute_percentage_error\n",
    "import numpy as np\n",
    "import pandas as pd\n",
    "from sklearn.model_selection import train_test_split\n",
    "from scipy import stats\n",
    "from scipy.special import inv_boxcox\n",
    "from scipy.stats import pointbiserialr"
   ],
   "metadata": {
    "collapsed": false,
    "ExecuteTime": {
     "end_time": "2024-07-10T13:21:57.062614300Z",
     "start_time": "2024-07-10T13:21:56.983638600Z"
    }
   }
  },
  {
   "cell_type": "markdown",
   "metadata": {},
   "source": [
    "# Choose the city"
   ]
  },
  {
   "cell_type": "code",
   "execution_count": 18,
   "outputs": [],
   "source": [
    "# Choose the city ('Madrid', 'Barcelona', 'Valencia', or 'Combined')\n",
    "city = 'Combined'"
   ],
   "metadata": {
    "collapsed": false,
    "ExecuteTime": {
     "end_time": "2024-07-10T13:21:57.078240200Z",
     "start_time": "2024-07-10T13:21:56.990974400Z"
    }
   }
  },
  {
   "cell_type": "markdown",
   "source": [
    "# Load the cleaned data set incl. the feature \"type of road\""
   ],
   "metadata": {
    "collapsed": false
   }
  },
  {
   "cell_type": "code",
   "execution_count": 19,
   "metadata": {
    "ExecuteTime": {
     "end_time": "2024-07-10T13:21:57.554580100Z",
     "start_time": "2024-07-10T13:21:57.000053600Z"
    }
   },
   "outputs": [],
   "source": [
    "if city.lower() == 'madrid':\n",
    "    data = pd.read_csv('../../data/5_cleaned_and_feature_engineering/feature_road_type/madrid_cleaned_incl_road_type.csv')\n",
    "elif city.lower() == 'barcelona':\n",
    "    data = pd.read_csv('../../data/5_cleaned_and_feature_engineering/feature_road_type/barcelona_cleaned_incl_road_type.csv')\n",
    "elif city.lower() == 'valencia':\n",
    "    data = pd.read_csv('../../data/5_cleaned_and_feature_engineering/feature_road_type/valencia_cleaned_incl_road_type.csv')\n",
    "elif city.lower() == 'combined':\n",
    "    #Read all 3 datasets and add a column to indicate source dataset\n",
    "    madrid_df = pd.read_csv('../../data/5_cleaned_and_feature_engineering/feature_road_type/madrid_cleaned_incl_road_type.csv')\n",
    "    valencia_df = pd.read_csv('../../data/5_cleaned_and_feature_engineering/feature_road_type/valencia_cleaned_incl_road_type.csv')\n",
    "    barcelona_df = pd.read_csv('../../data/5_cleaned_and_feature_engineering/feature_road_type/barcelona_cleaned_incl_road_type.csv')\n",
    "    madrid_df['Madrid'] = True\n",
    "    madrid_df['Valencia'] = False\n",
    "    madrid_df['Barcelona'] = False    \n",
    "    valencia_df['Madrid'] = False\n",
    "    valencia_df['Valencia'] = True\n",
    "    valencia_df['Barcelona'] = False    \n",
    "    barcelona_df['Madrid'] = False\n",
    "    barcelona_df['Valencia'] = False\n",
    "    barcelona_df['Barcelona'] = True\n",
    "    data = pd.concat([madrid_df, valencia_df, barcelona_df], ignore_index=True)"
   ]
  },
  {
   "cell_type": "code",
   "execution_count": 20,
   "outputs": [
    {
     "data": {
      "text/plain": "                 ASSETID   PRICE  CONSTRUCTEDAREA  ROOMNUMBER  BATHNUMBER  \\\n0  A10000037964896093228  255000               97           3           2   \n1  A10000072440601830803   82000               62           2           1   \n2  A10000538600815177437  133000               67           3           1   \n3  A10000654405436195291  204000              180           3           2   \n4  A10000872160480475600  161000               54           2           1   \n\n   AMENITYID  HASPARKINGSPACE  PARKINGSPACEPRICE  HASTERRACE  HASLIFT  ...  \\\n0          3                0                1.0           0        1  ...   \n1          3                0                1.0           0        1  ...   \n2          3                0                1.0           1        0  ...   \n3          3                0                1.0           0        1  ...   \n4          3                0                1.0           0        0  ...   \n\n   PERIOD_201806  PERIOD_201809  PERIOD_201812  MOTORWAY/PRIMARY  OTHER  \\\n0              0              1              0             False   True   \n1              1              0              0             False   True   \n2              0              0              0             False   True   \n3              0              0              0             False   True   \n4              0              0              1             False   True   \n\n   PEDESTRIAN  SECONDARY/TERTIARY  Madrid  Valencia  Barcelona  \n0       False               False    True     False      False  \n1       False               False    True     False      False  \n2       False               False    True     False      False  \n3       False               False    True     False      False  \n4       False               False    True     False      False  \n\n[5 rows x 50 columns]",
      "text/html": "<div>\n<style scoped>\n    .dataframe tbody tr th:only-of-type {\n        vertical-align: middle;\n    }\n\n    .dataframe tbody tr th {\n        vertical-align: top;\n    }\n\n    .dataframe thead th {\n        text-align: right;\n    }\n</style>\n<table border=\"1\" class=\"dataframe\">\n  <thead>\n    <tr style=\"text-align: right;\">\n      <th></th>\n      <th>ASSETID</th>\n      <th>PRICE</th>\n      <th>CONSTRUCTEDAREA</th>\n      <th>ROOMNUMBER</th>\n      <th>BATHNUMBER</th>\n      <th>AMENITYID</th>\n      <th>HASPARKINGSPACE</th>\n      <th>PARKINGSPACEPRICE</th>\n      <th>HASTERRACE</th>\n      <th>HASLIFT</th>\n      <th>...</th>\n      <th>PERIOD_201806</th>\n      <th>PERIOD_201809</th>\n      <th>PERIOD_201812</th>\n      <th>MOTORWAY/PRIMARY</th>\n      <th>OTHER</th>\n      <th>PEDESTRIAN</th>\n      <th>SECONDARY/TERTIARY</th>\n      <th>Madrid</th>\n      <th>Valencia</th>\n      <th>Barcelona</th>\n    </tr>\n  </thead>\n  <tbody>\n    <tr>\n      <th>0</th>\n      <td>A10000037964896093228</td>\n      <td>255000</td>\n      <td>97</td>\n      <td>3</td>\n      <td>2</td>\n      <td>3</td>\n      <td>0</td>\n      <td>1.0</td>\n      <td>0</td>\n      <td>1</td>\n      <td>...</td>\n      <td>0</td>\n      <td>1</td>\n      <td>0</td>\n      <td>False</td>\n      <td>True</td>\n      <td>False</td>\n      <td>False</td>\n      <td>True</td>\n      <td>False</td>\n      <td>False</td>\n    </tr>\n    <tr>\n      <th>1</th>\n      <td>A10000072440601830803</td>\n      <td>82000</td>\n      <td>62</td>\n      <td>2</td>\n      <td>1</td>\n      <td>3</td>\n      <td>0</td>\n      <td>1.0</td>\n      <td>0</td>\n      <td>1</td>\n      <td>...</td>\n      <td>1</td>\n      <td>0</td>\n      <td>0</td>\n      <td>False</td>\n      <td>True</td>\n      <td>False</td>\n      <td>False</td>\n      <td>True</td>\n      <td>False</td>\n      <td>False</td>\n    </tr>\n    <tr>\n      <th>2</th>\n      <td>A10000538600815177437</td>\n      <td>133000</td>\n      <td>67</td>\n      <td>3</td>\n      <td>1</td>\n      <td>3</td>\n      <td>0</td>\n      <td>1.0</td>\n      <td>1</td>\n      <td>0</td>\n      <td>...</td>\n      <td>0</td>\n      <td>0</td>\n      <td>0</td>\n      <td>False</td>\n      <td>True</td>\n      <td>False</td>\n      <td>False</td>\n      <td>True</td>\n      <td>False</td>\n      <td>False</td>\n    </tr>\n    <tr>\n      <th>3</th>\n      <td>A10000654405436195291</td>\n      <td>204000</td>\n      <td>180</td>\n      <td>3</td>\n      <td>2</td>\n      <td>3</td>\n      <td>0</td>\n      <td>1.0</td>\n      <td>0</td>\n      <td>1</td>\n      <td>...</td>\n      <td>0</td>\n      <td>0</td>\n      <td>0</td>\n      <td>False</td>\n      <td>True</td>\n      <td>False</td>\n      <td>False</td>\n      <td>True</td>\n      <td>False</td>\n      <td>False</td>\n    </tr>\n    <tr>\n      <th>4</th>\n      <td>A10000872160480475600</td>\n      <td>161000</td>\n      <td>54</td>\n      <td>2</td>\n      <td>1</td>\n      <td>3</td>\n      <td>0</td>\n      <td>1.0</td>\n      <td>0</td>\n      <td>0</td>\n      <td>...</td>\n      <td>0</td>\n      <td>0</td>\n      <td>1</td>\n      <td>False</td>\n      <td>True</td>\n      <td>False</td>\n      <td>False</td>\n      <td>True</td>\n      <td>False</td>\n      <td>False</td>\n    </tr>\n  </tbody>\n</table>\n<p>5 rows × 50 columns</p>\n</div>"
     },
     "execution_count": 20,
     "metadata": {},
     "output_type": "execute_result"
    }
   ],
   "source": [
    "data.head()"
   ],
   "metadata": {
    "collapsed": false,
    "ExecuteTime": {
     "end_time": "2024-07-10T13:21:57.570988700Z",
     "start_time": "2024-07-10T13:21:57.554580100Z"
    }
   }
  },
  {
   "cell_type": "markdown",
   "source": [
    "# Defining X and y"
   ],
   "metadata": {
    "collapsed": false
   }
  },
  {
   "cell_type": "markdown",
   "source": [
    "__Transform target variable PRICE as optimized in notebook 5.1__"
   ],
   "metadata": {
    "collapsed": false
   }
  },
  {
   "cell_type": "code",
   "execution_count": 21,
   "outputs": [],
   "source": [
    "# Define the lambda value\n",
    "specified_lambda = 0\n",
    "\n",
    "# Apply Box-Cox transformation using the specified lambda value\n",
    "price_transformed = stats.boxcox(data['PRICE'], lmbda=specified_lambda)\n",
    "\n",
    "# Add the transformed PRICE back to the DataFrame\n",
    "data['PRICE_TRANSFORMED'] = price_transformed"
   ],
   "metadata": {
    "collapsed": false,
    "ExecuteTime": {
     "end_time": "2024-07-10T13:21:57.585115500Z",
     "start_time": "2024-07-10T13:21:57.570988700Z"
    }
   }
  },
  {
   "cell_type": "markdown",
   "source": [
    "__Assign features as X and target as Y__"
   ],
   "metadata": {
    "collapsed": false
   }
  },
  {
   "cell_type": "code",
   "execution_count": 22,
   "outputs": [],
   "source": [
    "X = data.drop(columns=['PRICE', 'PRICE_TRANSFORMED'])\n",
    "y = data['PRICE_TRANSFORMED']"
   ],
   "metadata": {
    "collapsed": false,
    "ExecuteTime": {
     "end_time": "2024-07-10T13:21:57.655376600Z",
     "start_time": "2024-07-10T13:21:57.585115500Z"
    }
   }
  },
  {
   "cell_type": "markdown",
   "source": [
    "# Drop features not relevant for modelling"
   ],
   "metadata": {
    "collapsed": false
   }
  },
  {
   "cell_type": "code",
   "execution_count": 23,
   "outputs": [],
   "source": [
    "#Drop ASSETID as it is only an identifier, drop ZIP_CODE as the base model only includes base features\n",
    "X = X.drop(columns=['ASSETID', 'ZIP_CODE'])"
   ],
   "metadata": {
    "collapsed": false,
    "ExecuteTime": {
     "end_time": "2024-07-10T13:21:57.691746600Z",
     "start_time": "2024-07-10T13:21:57.612006900Z"
    }
   }
  },
  {
   "cell_type": "markdown",
   "source": [
    "# Splitting the data into training and test set"
   ],
   "metadata": {
    "collapsed": false
   }
  },
  {
   "cell_type": "code",
   "execution_count": 24,
   "outputs": [
    {
     "name": "stdout",
     "output_type": "stream",
     "text": [
      "X_train shape: (105074, 47)\n",
      "X_test shape: (45033, 47)\n",
      "y_train shape: (105074,)\n",
      "y_test shape: (45033,)\n"
     ]
    }
   ],
   "source": [
    "# Split the dataset into training and testing set with 7:3 ratio\n",
    "X_train, X_test, y_train, y_test = train_test_split(X, y, test_size=0.3, random_state=42)\n",
    "\n",
    "# Check the shapes of the resulting datasets\n",
    "print(f\"X_train shape: {X_train.shape}\")\n",
    "print(f\"X_test shape: {X_test.shape}\")\n",
    "print(f\"y_train shape: {y_train.shape}\")\n",
    "print(f\"y_test shape: {y_test.shape}\")"
   ],
   "metadata": {
    "collapsed": false,
    "ExecuteTime": {
     "end_time": "2024-07-10T13:21:57.744171700Z",
     "start_time": "2024-07-10T13:21:57.639725500Z"
    }
   }
  },
  {
   "cell_type": "markdown",
   "source": [
    "# Target encoding of base feature NEIGHBORHOOD"
   ],
   "metadata": {
    "collapsed": false
   }
  },
  {
   "cell_type": "code",
   "execution_count": 25,
   "outputs": [],
   "source": [
    "# Calculate average LOG_PRICE for each NEIGHBORHOOD only with training set\n",
    "neighborhood_means = y_train.groupby(X_train['NEIGHBORHOOD']).mean()\n",
    "\n",
    "# Assign average means to both training and test set\n",
    "X_train['NEIGHBORHOOD_ENCODED'] = X_train['NEIGHBORHOOD'].map(neighborhood_means)\n",
    "X_test['NEIGHBORHOOD_ENCODED'] = X_test['NEIGHBORHOOD'].map(neighborhood_means)\n",
    "\n",
    "# Drop the NEIGHBORHOOD column from both training and testing sets\n",
    "X_train = X_train.drop(columns=['NEIGHBORHOOD'])\n",
    "X_test = X_test.drop(columns=['NEIGHBORHOOD'])"
   ],
   "metadata": {
    "collapsed": false,
    "ExecuteTime": {
     "end_time": "2024-07-10T13:21:57.744171700Z",
     "start_time": "2024-07-10T13:21:57.691746600Z"
    }
   }
  },
  {
   "cell_type": "markdown",
   "source": [
    "# Inspect data before running the model"
   ],
   "metadata": {
    "collapsed": false
   }
  },
  {
   "cell_type": "code",
   "execution_count": 26,
   "outputs": [
    {
     "data": {
      "text/plain": "        CONSTRUCTEDAREA  ROOMNUMBER  BATHNUMBER  AMENITYID  HASPARKINGSPACE  \\\n32056                87           3           1          3                1   \n147130              110           3           2          3                0   \n35420               137           4           2          3                1   \n128474               81           3           2          3                0   \n149036              195           3           2          3                0   \n\n        PARKINGSPACEPRICE  HASTERRACE  HASLIFT  HASAIRCONDITIONING  \\\n32056                 1.0           0        1                   1   \n147130                1.0           1        1                   1   \n35420                 1.0           0        1                   1   \n128474                1.0           1        1                   1   \n149036                1.0           1        1                   0   \n\n        HASNORTHORIENTATION  ...  PERIOD_201809  PERIOD_201812  \\\n32056                     0  ...              1              0   \n147130                    0  ...              0              1   \n35420                     1  ...              1              0   \n128474                    1  ...              0              1   \n149036                    0  ...              0              1   \n\n        MOTORWAY/PRIMARY  OTHER  PEDESTRIAN  SECONDARY/TERTIARY  Madrid  \\\n32056              False   True       False               False    True   \n147130             False  False        True               False   False   \n35420              False   True       False               False    True   \n128474             False   True       False               False   False   \n149036             False  False        True               False   False   \n\n        Valencia  Barcelona  NEIGHBORHOOD_ENCODED  \n32056      False      False             13.135965  \n147130     False       True             13.750688  \n35420      False      False             12.772240  \n128474     False       True             12.848363  \n149036     False       True             12.938447  \n\n[5 rows x 47 columns]",
      "text/html": "<div>\n<style scoped>\n    .dataframe tbody tr th:only-of-type {\n        vertical-align: middle;\n    }\n\n    .dataframe tbody tr th {\n        vertical-align: top;\n    }\n\n    .dataframe thead th {\n        text-align: right;\n    }\n</style>\n<table border=\"1\" class=\"dataframe\">\n  <thead>\n    <tr style=\"text-align: right;\">\n      <th></th>\n      <th>CONSTRUCTEDAREA</th>\n      <th>ROOMNUMBER</th>\n      <th>BATHNUMBER</th>\n      <th>AMENITYID</th>\n      <th>HASPARKINGSPACE</th>\n      <th>PARKINGSPACEPRICE</th>\n      <th>HASTERRACE</th>\n      <th>HASLIFT</th>\n      <th>HASAIRCONDITIONING</th>\n      <th>HASNORTHORIENTATION</th>\n      <th>...</th>\n      <th>PERIOD_201809</th>\n      <th>PERIOD_201812</th>\n      <th>MOTORWAY/PRIMARY</th>\n      <th>OTHER</th>\n      <th>PEDESTRIAN</th>\n      <th>SECONDARY/TERTIARY</th>\n      <th>Madrid</th>\n      <th>Valencia</th>\n      <th>Barcelona</th>\n      <th>NEIGHBORHOOD_ENCODED</th>\n    </tr>\n  </thead>\n  <tbody>\n    <tr>\n      <th>32056</th>\n      <td>87</td>\n      <td>3</td>\n      <td>1</td>\n      <td>3</td>\n      <td>1</td>\n      <td>1.0</td>\n      <td>0</td>\n      <td>1</td>\n      <td>1</td>\n      <td>0</td>\n      <td>...</td>\n      <td>1</td>\n      <td>0</td>\n      <td>False</td>\n      <td>True</td>\n      <td>False</td>\n      <td>False</td>\n      <td>True</td>\n      <td>False</td>\n      <td>False</td>\n      <td>13.135965</td>\n    </tr>\n    <tr>\n      <th>147130</th>\n      <td>110</td>\n      <td>3</td>\n      <td>2</td>\n      <td>3</td>\n      <td>0</td>\n      <td>1.0</td>\n      <td>1</td>\n      <td>1</td>\n      <td>1</td>\n      <td>0</td>\n      <td>...</td>\n      <td>0</td>\n      <td>1</td>\n      <td>False</td>\n      <td>False</td>\n      <td>True</td>\n      <td>False</td>\n      <td>False</td>\n      <td>False</td>\n      <td>True</td>\n      <td>13.750688</td>\n    </tr>\n    <tr>\n      <th>35420</th>\n      <td>137</td>\n      <td>4</td>\n      <td>2</td>\n      <td>3</td>\n      <td>1</td>\n      <td>1.0</td>\n      <td>0</td>\n      <td>1</td>\n      <td>1</td>\n      <td>1</td>\n      <td>...</td>\n      <td>1</td>\n      <td>0</td>\n      <td>False</td>\n      <td>True</td>\n      <td>False</td>\n      <td>False</td>\n      <td>True</td>\n      <td>False</td>\n      <td>False</td>\n      <td>12.772240</td>\n    </tr>\n    <tr>\n      <th>128474</th>\n      <td>81</td>\n      <td>3</td>\n      <td>2</td>\n      <td>3</td>\n      <td>0</td>\n      <td>1.0</td>\n      <td>1</td>\n      <td>1</td>\n      <td>1</td>\n      <td>1</td>\n      <td>...</td>\n      <td>0</td>\n      <td>1</td>\n      <td>False</td>\n      <td>True</td>\n      <td>False</td>\n      <td>False</td>\n      <td>False</td>\n      <td>False</td>\n      <td>True</td>\n      <td>12.848363</td>\n    </tr>\n    <tr>\n      <th>149036</th>\n      <td>195</td>\n      <td>3</td>\n      <td>2</td>\n      <td>3</td>\n      <td>0</td>\n      <td>1.0</td>\n      <td>1</td>\n      <td>1</td>\n      <td>0</td>\n      <td>0</td>\n      <td>...</td>\n      <td>0</td>\n      <td>1</td>\n      <td>False</td>\n      <td>False</td>\n      <td>True</td>\n      <td>False</td>\n      <td>False</td>\n      <td>False</td>\n      <td>True</td>\n      <td>12.938447</td>\n    </tr>\n  </tbody>\n</table>\n<p>5 rows × 47 columns</p>\n</div>"
     },
     "execution_count": 26,
     "metadata": {},
     "output_type": "execute_result"
    }
   ],
   "source": [
    "X_test.head()"
   ],
   "metadata": {
    "collapsed": false,
    "ExecuteTime": {
     "end_time": "2024-07-10T13:21:57.791828500Z",
     "start_time": "2024-07-10T13:21:57.744171700Z"
    }
   }
  },
  {
   "cell_type": "markdown",
   "source": [
    "# Explore correlation between road_type and target variable"
   ],
   "metadata": {
    "collapsed": false
   }
  },
  {
   "cell_type": "code",
   "execution_count": 27,
   "outputs": [
    {
     "name": "stdout",
     "output_type": "stream",
     "text": [
      "Correlation between PRICE and MOTORWAY/PRIMARY: 0.0364, p-value: 0.0000\n",
      "Correlation between PRICE and OTHER: -0.0130, p-value: 0.0000\n",
      "Correlation between PRICE and PEDESTRIAN: -0.0457, p-value: 0.0000\n",
      "Correlation between PRICE and SECONDARY/TERTIARY: 0.0557, p-value: 0.0000\n"
     ]
    }
   ],
   "source": [
    "road_columns = ['MOTORWAY/PRIMARY', 'OTHER', 'PEDESTRIAN', 'SECONDARY/TERTIARY'] \n",
    "\n",
    "# Function to calculate point biserial correlation\n",
    "def calculate_pointbiserialr(target, binary_feature):\n",
    "    correlation, p_value = pointbiserialr(data[target], data[binary_feature])\n",
    "    return correlation, p_value\n",
    "\n",
    "# Calculate and print correlations\n",
    "for col in road_columns:\n",
    "    correlation, p_value = calculate_pointbiserialr('PRICE', col)\n",
    "    print(f\"Correlation between PRICE and {col}: {correlation:.4f}, p-value: {p_value:.4f}\")"
   ],
   "metadata": {
    "collapsed": false,
    "ExecuteTime": {
     "end_time": "2024-07-10T13:21:57.791828500Z",
     "start_time": "2024-07-10T13:21:57.760345700Z"
    }
   }
  },
  {
   "cell_type": "markdown",
   "source": [
    "# Test the model with new feature"
   ],
   "metadata": {
    "collapsed": false
   }
  },
  {
   "cell_type": "markdown",
   "source": [
    "__Define the best parameters found by GridSearchCV in Notebook 5.1__"
   ],
   "metadata": {
    "collapsed": false
   }
  },
  {
   "cell_type": "code",
   "execution_count": 31,
   "outputs": [],
   "source": [
    "best_params = {\n",
    "    'colsample_bytree': 0.8,\n",
    "    'learning_rate': 0.1,\n",
    "    'max_depth': 10,\n",
    "    'n_estimators': 500,\n",
    "    'subsample': 0.9\n",
    "}"
   ],
   "metadata": {
    "collapsed": false,
    "ExecuteTime": {
     "end_time": "2024-07-10T13:21:58.688404400Z",
     "start_time": "2024-07-10T13:21:58.682700600Z"
    }
   }
  },
  {
   "cell_type": "markdown",
   "source": [
    "__Running the optimized model new feature__"
   ],
   "metadata": {
    "collapsed": false
   }
  },
  {
   "cell_type": "code",
   "execution_count": 32,
   "outputs": [
    {
     "name": "stdout",
     "output_type": "stream",
     "text": [
      "Metrics on the original PRICE scale:\n",
      "MAE: 43300.4526\n",
      "MSE: 8136346830.0925\n",
      "RMSE: 90201.7008\n",
      "MAPE: 0.1268\n",
      "\n",
      "Metrics on the Box-Cox transformed scale:\n",
      "MAE: 0.1233\n",
      "MSE: 0.0306\n",
      "RMSE: 0.1749\n",
      "MAPE: 0.0100\n"
     ]
    }
   ],
   "source": [
    "# Initialize XGBoost model with the best parameters\n",
    "xgb_model = xgb.XGBRegressor(**best_params)\n",
    "\n",
    "# Train the model on the Box-Cox transformed target\n",
    "xgb_model.fit(X_train, y_train)\n",
    "\n",
    "# Predictions in Box-Cox transformed scale\n",
    "y_pred_boxcox_xgb = xgb_model.predict(X_test)\n",
    "\n",
    "# Transform predictions back to the original scale\n",
    "y_pred_xgb = inv_boxcox(y_pred_boxcox_xgb, specified_lambda)\n",
    "y_test_price = inv_boxcox(y_test, specified_lambda)\n",
    "\n",
    "# Evaluation metrics on the original scale\n",
    "mae_xgb = mean_absolute_error(y_test_price, y_pred_xgb)\n",
    "mse_xgb = mean_squared_error(y_test_price, y_pred_xgb)\n",
    "rmse_xgb = np.sqrt(mse_xgb)\n",
    "mape_xgb = mean_absolute_percentage_error(y_test_price, y_pred_xgb)\n",
    "\n",
    "# Evaluation metrics on the Box-Cox transformed scale\n",
    "mae_boxcox_xgb = mean_absolute_error(y_test, y_pred_boxcox_xgb)\n",
    "mse_boxcox_xgb = mean_squared_error(y_test, y_pred_boxcox_xgb)\n",
    "rmse_boxcox_xgb = np.sqrt(mse_boxcox_xgb)\n",
    "mape_boxcox_xgb = mean_absolute_percentage_error(y_test, y_pred_boxcox_xgb)\n",
    "\n",
    "# Print the metrics\n",
    "print(\"Metrics on the original PRICE scale:\")\n",
    "print(f\"MAE: {mae_xgb:.4f}\")\n",
    "print(f\"MSE: {mse_xgb:.4f}\")\n",
    "print(f\"RMSE: {rmse_xgb:.4f}\")\n",
    "print(f\"MAPE: {mape_xgb:.4f}\")\n",
    "\n",
    "print(\"\\nMetrics on the Box-Cox transformed scale:\")\n",
    "print(f\"MAE: {mae_boxcox_xgb:.4f}\")\n",
    "print(f\"MSE: {mse_boxcox_xgb:.4f}\")\n",
    "print(f\"RMSE: {rmse_boxcox_xgb:.4f}\")\n",
    "print(f\"MAPE: {mape_boxcox_xgb:.4f}\")"
   ],
   "metadata": {
    "collapsed": false,
    "ExecuteTime": {
     "end_time": "2024-07-10T13:22:11.107155Z",
     "start_time": "2024-07-10T13:21:58.688404400Z"
    }
   }
  }
 ],
 "metadata": {
  "kernelspec": {
   "display_name": "Python 3",
   "language": "python",
   "name": "python3"
  },
  "language_info": {
   "codemirror_mode": {
    "name": "ipython",
    "version": 3
   },
   "file_extension": ".py",
   "mimetype": "text/x-python",
   "name": "python",
   "nbconvert_exporter": "python",
   "pygments_lexer": "ipython3",
   "version": "3.11.1"
  }
 },
 "nbformat": 4,
 "nbformat_minor": 2
}
