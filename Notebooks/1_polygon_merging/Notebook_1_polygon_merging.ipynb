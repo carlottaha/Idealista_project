{
 "cells": [
  {
   "cell_type": "markdown",
   "source": [
    "# Notebook 1 - Merge of raw sales data and polygons"
   ],
   "metadata": {
    "collapsed": false
   }
  },
  {
   "cell_type": "markdown",
   "source": [
    "__Import libraries__"
   ],
   "metadata": {
    "collapsed": false
   }
  },
  {
   "cell_type": "code",
   "execution_count": 8,
   "metadata": {
    "id": "gSldnFOSMzuM",
    "ExecuteTime": {
     "end_time": "2024-07-10T08:39:54.896581600Z",
     "start_time": "2024-07-10T08:39:54.796104Z"
    }
   },
   "outputs": [],
   "source": [
    "import pandas as pd\n",
    "import geopandas as gpd\n",
    "from shapely.geometry import Point, Polygon\n",
    "from shapely.validation import explain_validity"
   ]
  },
  {
   "cell_type": "markdown",
   "source": [
    "__Choose city for which to merge data__"
   ],
   "metadata": {
    "collapsed": false
   }
  },
  {
   "cell_type": "code",
   "execution_count": 9,
   "outputs": [],
   "source": [
    "#Choose city (\"Madrid\", \"Barcelona\", or \"Valencia\")\n",
    "city = \"Barcelona\""
   ],
   "metadata": {
    "collapsed": false,
    "ExecuteTime": {
     "end_time": "2024-07-10T08:39:54.927637100Z",
     "start_time": "2024-07-10T08:39:54.804927200Z"
    }
   }
  },
  {
   "cell_type": "markdown",
   "source": [
    "__Load dataset__"
   ],
   "metadata": {
    "collapsed": false
   }
  },
  {
   "cell_type": "code",
   "execution_count": 10,
   "outputs": [],
   "source": [
    "#Read corresponding sales and polygon files\n",
    "if city == \"Madrid\":\n",
    "    data_polygon = pd.read_csv('../../data/1_raw_idealista_data/Madrid_pol.csv')\n",
    "    data_sale = pd.read_csv('../../data/1_raw_idealista_data/Madrid_sale.csv')\n",
    "elif city == \"Barcelona\":\n",
    "    data_polygon = pd.read_csv('../../data/1_raw_idealista_data/Barcelona_pol.csv')\n",
    "    data_sale = pd.read_csv('../../data/1_raw_idealista_data/Barcelona_sale.csv')\n",
    "elif city == \"Valencia\":\n",
    "    data_polygon = pd.read_csv('../../data/1_raw_idealista_data/Valencia_pol.csv')\n",
    "    data_sale = pd.read_csv('../../data/1_raw_idealista_data/Valencia_sale.csv')\n",
    "else:\n",
    "    raise ValueError(\"City not recognized. Please choose either 'Madrid', 'Barcelona', or 'Valencia'.\")"
   ],
   "metadata": {
    "collapsed": false,
    "ExecuteTime": {
     "end_time": "2024-07-10T08:39:55.121994100Z",
     "start_time": "2024-07-10T08:39:54.820608800Z"
    }
   }
  },
  {
   "cell_type": "markdown",
   "source": [
    "__Merge sales data with polygons__"
   ],
   "metadata": {
    "collapsed": false
   }
  },
  {
   "cell_type": "code",
   "source": [
    "# Function to parse the geometry string and create Point objects\n",
    "def parse_house_point(geometry_str):\n",
    "    try:\n",
    "        lon, lat = map(float, geometry_str.split('|'))\n",
    "        return Point(lon, lat)\n",
    "    except Exception as e:\n",
    "        print(f\"Error parsing point geometry: {e}\")\n",
    "        return None\n",
    "\n",
    "# Function to parse the geometry string and create Polygon objects\n",
    "def parse_polygon(geometry_str):\n",
    "    try:\n",
    "        coords = list(map(float, geometry_str.split('|')))\n",
    "        midpoint = len(coords) // 2\n",
    "        longitudes = coords[:midpoint]\n",
    "        latitudes = coords[midpoint:]\n",
    "        if len(longitudes) != len(latitudes):\n",
    "            raise ValueError(\"Mismatch in the number of longitudes and latitudes\")\n",
    "        points = list(zip(longitudes, latitudes))\n",
    "        polygon = Polygon(points)\n",
    "        if not polygon.is_valid:\n",
    "            print(f\"Invalid Polygon: {explain_validity(polygon)}\")\n",
    "            polygon = polygon.buffer(0)  # Attempt to fix invalid polygons\n",
    "        return polygon\n",
    "    except Exception as e:\n",
    "        print(f\"Error parsing polygon: {e}\")\n",
    "        return None\n",
    "\n",
    "# Create a new geometry column for points (houses)\n",
    "data_sale['geometry'] = data_sale['geometry'].apply(parse_house_point)\n",
    "\n",
    "# Convert houses DataFrame to GeoDataFrame\n",
    "data_sale_gdf = gpd.GeoDataFrame(data_sale, geometry='geometry')\n",
    "data_sale_gdf.set_crs(epsg=4326, inplace=True)\n",
    "\n",
    "# Parse the geometry column to create polygons\n",
    "data_polygon['geometry'] = data_polygon['geometry'].apply(parse_polygon)\n",
    "\n",
    "# Remove any rows where the geometry parsing failed\n",
    "data_polygon = data_polygon[data_polygon['geometry'].notnull()]\n",
    "\n",
    "# Convert polygons DataFrame to GeoDataFrame\n",
    "data_polygon_gdf = gpd.GeoDataFrame(data_polygon, geometry='geometry')\n",
    "data_polygon_gdf.set_crs(epsg=4326, inplace=True)\n",
    "\n",
    "# Debug: Check the first few rows of each GeoDataFrame\n",
    "print(\"House GeoDataFrame (first 5 rows):\")\n",
    "print(data_sale_gdf.head())\n",
    "\n",
    "print(\"Polygon GeoDataFrame (first 5 rows):\")\n",
    "print(data_polygon_gdf.head())\n",
    "\n",
    "# Perform the spatial join\n",
    "joined_gdf = gpd.sjoin(data_sale_gdf, data_polygon_gdf, how='left', predicate='within', lsuffix='left', rsuffix='right')\n",
    "\n",
    "# Debug: Check the joined GeoDataFrame\n",
    "print(\"Joined GeoDataFrame (first 5 rows):\")\n",
    "print(joined_gdf.head())\n",
    "\n",
    "# Ensure unique indices to avoid duplicate issues\n",
    "joined_gdf = joined_gdf.reset_index(drop=True)\n",
    "\n",
    "# Extract the 'LOCATIONNAME' from the joined result and add it to the original houses GeoDataFrame\n",
    "data_sale_gdf['neighborhood'] = joined_gdf['LOCATIONNAME']\n",
    "\n",
    "# Debug: Check the final results\n",
    "print(\"Final Houses GeoDataFrame with 'neighborhood' (first 5 rows):\")\n",
    "print(data_sale_gdf.head())"
   ],
   "metadata": {
    "colab": {
     "base_uri": "https://localhost:8080/",
     "height": 1000
    },
    "id": "mt28X5hPjM_1",
    "outputId": "4d23c106-30e7-45e4-9ec1-6d5311b49a68",
    "ExecuteTime": {
     "end_time": "2024-07-10T08:39:55.935357400Z",
     "start_time": "2024-07-10T08:39:55.124534100Z"
    }
   },
   "execution_count": 11,
   "outputs": [
    {
     "name": "stdout",
     "output_type": "stream",
     "text": [
      "House GeoDataFrame (first 5 rows):\n",
      "                 ASSETID  PERIOD     PRICE    UNITPRICE  CONSTRUCTEDAREA  \\\n",
      "0  A11898131848556022319  201803  323000.0  3845.238095               84   \n",
      "1  A18099432772155664747  201803  217000.0  2583.333333               84   \n",
      "2   A2003099089407882787  201803  114000.0  1407.407407               81   \n",
      "3   A1010373782315301134  201803  378000.0  4784.810127               79   \n",
      "4  A12978912200216838006  201803  434000.0  3909.909910              111   \n",
      "\n",
      "   ROOMNUMBER  BATHNUMBER  HASTERRACE  HASLIFT  HASAIRCONDITIONING  ...  \\\n",
      "0           4           1           1        1                   1  ...   \n",
      "1           3           2           0        1                   1  ...   \n",
      "2           2           1           0        1                   1  ...   \n",
      "3           2           1           0        1                   0  ...   \n",
      "4           4           2           1        1                   1  ...   \n",
      "\n",
      "   CADASTRALQUALITYID  BUILTTYPEID_1  BUILTTYPEID_2  BUILTTYPEID_3  \\\n",
      "0                   4              0              0              1   \n",
      "1                   4              0              0              1   \n",
      "2                   5              0              1              0   \n",
      "3                   3              0              0              1   \n",
      "4                   2              0              0              1   \n",
      "\n",
      "   DISTANCE_TO_CITY_CENTER  DISTANCE_TO_METRO  DISTANCE_TO_DIAGONAL  \\\n",
      "0                 1.876290           0.354004              1.475264   \n",
      "1                 2.118595           0.284372              1.194261   \n",
      "2                 4.127099           0.261574              2.504982   \n",
      "3                 2.238113           0.158527              0.795605   \n",
      "4                 2.333066           0.101568              1.200265   \n",
      "\n",
      "   LONGITUDE   LATITUDE                  geometry  \n",
      "0   2.149566  41.380027  POINT (2.14957 41.38003)  \n",
      "1   2.145689  41.381632  POINT (2.14569 41.38163)  \n",
      "2   2.173891  41.423929  POINT (2.17389 41.42393)  \n",
      "3   2.143379  41.384923  POINT (2.14338 41.38492)  \n",
      "4   2.143230  41.381076  POINT (2.14323 41.38108)  \n",
      "\n",
      "[5 rows x 42 columns]\n",
      "Polygon GeoDataFrame (first 5 rows):\n",
      "                     LOCATIONID              LOCATIONNAME  ZONELEVELID  \\\n",
      "0  0-EU-ES-08-13-001-019-08-008                     Porta            8   \n",
      "1  0-EU-ES-08-13-001-019-09-001         La Trinitat Vella            8   \n",
      "2  0-EU-ES-08-13-001-019-09-003             Baró de Viver            8   \n",
      "3  0-EU-ES-08-13-001-019-10-010  Sant Martí de Provençals            8   \n",
      "4  0-EU-ES-08-13-001-019-03-005        La Marina del Port            8   \n",
      "\n",
      "                                            geometry  \n",
      "0  POLYGON ((2.17459 41.43835, 2.17377 41.43734, ...  \n",
      "1  POLYGON ((2.19041 41.45519, 2.18905 41.45360, ...  \n",
      "2  POLYGON ((2.20145 41.44904, 2.19884 41.44816, ...  \n",
      "3  POLYGON ((2.19243 41.41452, 2.19310 41.41401, ...  \n",
      "4  POLYGON ((2.13384 41.35309, 2.13554 41.35371, ...  \n",
      "Joined GeoDataFrame (first 5 rows):\n",
      "                 ASSETID  PERIOD     PRICE    UNITPRICE  CONSTRUCTEDAREA  \\\n",
      "0  A11898131848556022319  201803  323000.0  3845.238095               84   \n",
      "1  A18099432772155664747  201803  217000.0  2583.333333               84   \n",
      "2   A2003099089407882787  201803  114000.0  1407.407407               81   \n",
      "3   A1010373782315301134  201803  378000.0  4784.810127               79   \n",
      "4  A12978912200216838006  201803  434000.0  3909.909910              111   \n",
      "\n",
      "   ROOMNUMBER  BATHNUMBER  HASTERRACE  HASLIFT  HASAIRCONDITIONING  ...  \\\n",
      "0           4           1           1        1                   1  ...   \n",
      "1           3           2           0        1                   1  ...   \n",
      "2           2           1           0        1                   1  ...   \n",
      "3           2           1           0        1                   0  ...   \n",
      "4           4           2           1        1                   1  ...   \n",
      "\n",
      "   DISTANCE_TO_CITY_CENTER  DISTANCE_TO_METRO  DISTANCE_TO_DIAGONAL  \\\n",
      "0                 1.876290           0.354004              1.475264   \n",
      "1                 2.118595           0.284372              1.194261   \n",
      "2                 4.127099           0.261574              2.504982   \n",
      "3                 2.238113           0.158527              0.795605   \n",
      "4                 2.333066           0.101568              1.200265   \n",
      "\n",
      "   LONGITUDE   LATITUDE                  geometry  index_right  \\\n",
      "0   2.149566  41.380027  POINT (2.14957 41.38003)         54.0   \n",
      "1   2.145689  41.381632  POINT (2.14569 41.38163)         54.0   \n",
      "2   2.173891  41.423929  POINT (2.17389 41.42393)         64.0   \n",
      "3   2.143379  41.384923  POINT (2.14338 41.38492)         54.0   \n",
      "4   2.143230  41.381076  POINT (2.14323 41.38108)         54.0   \n",
      "\n",
      "                     LOCATIONID                    LOCATIONNAME  ZONELEVELID  \n",
      "0  0-EU-ES-08-13-001-019-02-001  La Nova Esquerra de l'Eixample          8.0  \n",
      "1  0-EU-ES-08-13-001-019-02-001  La Nova Esquerra de l'Eixample          8.0  \n",
      "2  0-EU-ES-08-13-001-019-07-005                     El Guinardó          8.0  \n",
      "3  0-EU-ES-08-13-001-019-02-001  La Nova Esquerra de l'Eixample          8.0  \n",
      "4  0-EU-ES-08-13-001-019-02-001  La Nova Esquerra de l'Eixample          8.0  \n",
      "\n",
      "[5 rows x 46 columns]\n",
      "Final Houses GeoDataFrame with 'neighborhood' (first 5 rows):\n",
      "                 ASSETID  PERIOD     PRICE    UNITPRICE  CONSTRUCTEDAREA  \\\n",
      "0  A11898131848556022319  201803  323000.0  3845.238095               84   \n",
      "1  A18099432772155664747  201803  217000.0  2583.333333               84   \n",
      "2   A2003099089407882787  201803  114000.0  1407.407407               81   \n",
      "3   A1010373782315301134  201803  378000.0  4784.810127               79   \n",
      "4  A12978912200216838006  201803  434000.0  3909.909910              111   \n",
      "\n",
      "   ROOMNUMBER  BATHNUMBER  HASTERRACE  HASLIFT  HASAIRCONDITIONING  ...  \\\n",
      "0           4           1           1        1                   1  ...   \n",
      "1           3           2           0        1                   1  ...   \n",
      "2           2           1           0        1                   1  ...   \n",
      "3           2           1           0        1                   0  ...   \n",
      "4           4           2           1        1                   1  ...   \n",
      "\n",
      "   BUILTTYPEID_1  BUILTTYPEID_2  BUILTTYPEID_3  DISTANCE_TO_CITY_CENTER  \\\n",
      "0              0              0              1                 1.876290   \n",
      "1              0              0              1                 2.118595   \n",
      "2              0              1              0                 4.127099   \n",
      "3              0              0              1                 2.238113   \n",
      "4              0              0              1                 2.333066   \n",
      "\n",
      "   DISTANCE_TO_METRO  DISTANCE_TO_DIAGONAL  LONGITUDE   LATITUDE  \\\n",
      "0           0.354004              1.475264   2.149566  41.380027   \n",
      "1           0.284372              1.194261   2.145689  41.381632   \n",
      "2           0.261574              2.504982   2.173891  41.423929   \n",
      "3           0.158527              0.795605   2.143379  41.384923   \n",
      "4           0.101568              1.200265   2.143230  41.381076   \n",
      "\n",
      "                   geometry                    neighborhood  \n",
      "0  POINT (2.14957 41.38003)  La Nova Esquerra de l'Eixample  \n",
      "1  POINT (2.14569 41.38163)  La Nova Esquerra de l'Eixample  \n",
      "2  POINT (2.17389 41.42393)                     El Guinardó  \n",
      "3  POINT (2.14338 41.38492)  La Nova Esquerra de l'Eixample  \n",
      "4  POINT (2.14323 41.38108)  La Nova Esquerra de l'Eixample  \n",
      "\n",
      "[5 rows x 43 columns]\n"
     ]
    }
   ]
  },
  {
   "cell_type": "markdown",
   "source": [
    "__Save combined sales and polygon data to a CSV file__"
   ],
   "metadata": {
    "collapsed": false
   }
  },
  {
   "cell_type": "code",
   "execution_count": 12,
   "outputs": [],
   "source": [
    "if city == \"Madrid\":\n",
    "    output_csv_path = '../../data/2_raw_idealista_data_incl_polygon/madrid_sale_with_polygon.csv'\n",
    "    data_sale_gdf.to_csv(output_csv_path, index=False)\n",
    "elif city == \"Barcelona\":\n",
    "    output_csv_path = '../../data/2_raw_idealista_data_incl_polygon/barcelona_sale_with_polygon.csv'\n",
    "    data_sale_gdf.to_csv(output_csv_path, index=False)\n",
    "elif city == \"Valencia\":\n",
    "    output_csv_path = '../../data/2_raw_idealista_data_incl_polygon/valencia_sale_with_polygon.csv'\n",
    "    data_sale_gdf.to_csv(output_csv_path, index=False)"
   ],
   "metadata": {
    "collapsed": false,
    "ExecuteTime": {
     "end_time": "2024-07-10T08:39:57.494405100Z",
     "start_time": "2024-07-10T08:39:55.935357400Z"
    }
   }
  }
 ],
 "metadata": {
  "colab": {
   "provenance": []
  },
  "kernelspec": {
   "display_name": "Term2_environment",
   "language": "python",
   "name": "python3"
  },
  "language_info": {
   "codemirror_mode": {
    "name": "ipython",
    "version": 3
   },
   "file_extension": ".py",
   "mimetype": "text/x-python",
   "name": "python",
   "nbconvert_exporter": "python",
   "pygments_lexer": "ipython3",
   "version": "3.11.5"
  }
 },
 "nbformat": 4,
 "nbformat_minor": 0
}
