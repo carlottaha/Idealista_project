{
 "nbformat": 4,
 "nbformat_minor": 0,
 "metadata": {
  "colab": {
   "provenance": []
  },
  "kernelspec": {
   "name": "python3",
   "language": "python",
   "display_name": "Python 3 (ipykernel)"
  },
  "language_info": {
   "name": "python"
  }
 },
 "cells": [
  {
   "cell_type": "markdown",
   "source": [
    "# Notebook 4.4 - Feature engineering parks"
   ],
   "metadata": {
    "collapsed": false
   }
  },
  {
   "cell_type": "markdown",
   "source": [
    "# Import libraries"
   ],
   "metadata": {
    "collapsed": false
   }
  },
  {
   "cell_type": "code",
   "source": [
    "import pandas as pd\n",
    "import numpy as np\n",
    "import geopandas as gpd\n",
    "from shapely.geometry import Point, Polygon\n",
    "from shapely.validation import explain_validity\n",
    "import shutil"
   ],
   "metadata": {
    "id": "2Q-cAoPzV2Mw",
    "ExecuteTime": {
     "end_time": "2024-07-06T14:28:01.807911800Z",
     "start_time": "2024-07-06T14:28:01.634517100Z"
    }
   },
   "execution_count": 36,
   "outputs": []
  },
  {
   "cell_type": "markdown",
   "source": [
    "# Choose the city"
   ],
   "metadata": {
    "collapsed": false
   }
  },
  {
   "cell_type": "code",
   "execution_count": 37,
   "outputs": [],
   "source": [
    "#Choose city (\"Madrid\", \"Barcelona\", or \"Valencia\")\n",
    "city = (\"Valencia\")"
   ],
   "metadata": {
    "collapsed": false,
    "ExecuteTime": {
     "end_time": "2024-07-06T14:28:01.863642600Z",
     "start_time": "2024-07-06T14:28:01.653507200Z"
    }
   }
  },
  {
   "cell_type": "markdown",
   "source": [
    "__Load cleaned data and external open source data file on types of road__"
   ],
   "metadata": {
    "collapsed": false
   }
  },
  {
   "cell_type": "code",
   "source": [
    "#Read corresponding files (cleaned data and road data)\n",
    "if city == \"Madrid\":\n",
    "    data = pd.read_csv('../../data/4_data_cleaned/madrid_cleaned_base_features.csv')\n",
    "    parks_gdf = gpd.read_file('../../data/3_external_data/open_street_map/open_street_mad/gis_osm_pois_a_free_1.shp')\n",
    "elif city == \"Barcelona\":\n",
    "    data = pd.read_csv('../../data/4_data_cleaned/barcelona_cleaned_base_features.csv')\n",
    "    parks_gdf = gpd.read_file('../../data/3_external_data/open_street_map/open_street_barc/gis_osm_pois_a_free_1.shp')\n",
    "elif city == \"Valencia\":\n",
    "    data = pd.read_csv('../../data/4_data_cleaned/valencia_cleaned_base_features.csv')\n",
    "    parks_gdf = gpd.read_file('../../data/3_external_data/open_street_map/open_street_val/gis_osm_pois_a_free_1.shp')\n",
    "else:\n",
    "    raise ValueError(\"City not recognized. Please choose either 'Madrid', 'Barcelona', or 'Valencia'.\")"
   ],
   "metadata": {
    "id": "CcIEFM9fV4wA",
    "ExecuteTime": {
     "end_time": "2024-07-06T14:28:19.150527Z",
     "start_time": "2024-07-06T14:28:01.659911300Z"
    }
   },
   "execution_count": 38,
   "outputs": []
  },
  {
   "cell_type": "code",
   "execution_count": 39,
   "outputs": [
    {
     "data": {
      "text/plain": "                 ASSETID    PRICE  CONSTRUCTEDAREA  ROOMNUMBER  BATHNUMBER  \\\n0  A10000434603646497633   126500               70           2           1   \n1  A10001334147587469388   630000              199           4           2   \n2  A10002599312155392987   215000              100           3           2   \n3  A10002648121225460937   240000              112           3           2   \n4  A10002658173109908582  1160000              289           5           4   \n\n   AMENITYID  HASPARKINGSPACE  PARKINGSPACEPRICE  HASTERRACE  HASLIFT  ...  \\\n0          3                0                1.0           0        0  ...   \n1          3                1                1.0           1        1  ...   \n2          3                0                1.0           1        1  ...   \n3          1                0                1.0           0        1  ...   \n4          2                0                1.0           0        0  ...   \n\n   DISTANCE_TO_METRO  DISTANCE_TO_MAIN_STREET  LONGITUDE   LATITUDE  \\\n0           0.734973                 0.854680  -0.330256  39.463535   \n1           0.724361                 2.102044  -0.357513  39.456699   \n2           0.423130                 0.800718  -0.334320  39.463025   \n3           0.378732                 3.256303  -0.401935  39.469964   \n4           0.186091                 0.770513  -0.367956  39.472377   \n\n                           NEIGHBORHOOD  ZIP_CODE  PERIOD_201803  \\\n0             El Cabanyal-El Canyamelar     46011              1   \n1  Ciutat de les Arts i de les Ciencies     46005              0   \n2                               El Grau     46022              0   \n3                             Nou Moles     46018              0   \n4                      El Pla del Remei     46004              0   \n\n   PERIOD_201806  PERIOD_201809  PERIOD_201812  \n0              0              0              0  \n1              0              0              1  \n2              0              0              1  \n3              0              0              1  \n4              0              0              1  \n\n[5 rows x 43 columns]",
      "text/html": "<div>\n<style scoped>\n    .dataframe tbody tr th:only-of-type {\n        vertical-align: middle;\n    }\n\n    .dataframe tbody tr th {\n        vertical-align: top;\n    }\n\n    .dataframe thead th {\n        text-align: right;\n    }\n</style>\n<table border=\"1\" class=\"dataframe\">\n  <thead>\n    <tr style=\"text-align: right;\">\n      <th></th>\n      <th>ASSETID</th>\n      <th>PRICE</th>\n      <th>CONSTRUCTEDAREA</th>\n      <th>ROOMNUMBER</th>\n      <th>BATHNUMBER</th>\n      <th>AMENITYID</th>\n      <th>HASPARKINGSPACE</th>\n      <th>PARKINGSPACEPRICE</th>\n      <th>HASTERRACE</th>\n      <th>HASLIFT</th>\n      <th>...</th>\n      <th>DISTANCE_TO_METRO</th>\n      <th>DISTANCE_TO_MAIN_STREET</th>\n      <th>LONGITUDE</th>\n      <th>LATITUDE</th>\n      <th>NEIGHBORHOOD</th>\n      <th>ZIP_CODE</th>\n      <th>PERIOD_201803</th>\n      <th>PERIOD_201806</th>\n      <th>PERIOD_201809</th>\n      <th>PERIOD_201812</th>\n    </tr>\n  </thead>\n  <tbody>\n    <tr>\n      <th>0</th>\n      <td>A10000434603646497633</td>\n      <td>126500</td>\n      <td>70</td>\n      <td>2</td>\n      <td>1</td>\n      <td>3</td>\n      <td>0</td>\n      <td>1.0</td>\n      <td>0</td>\n      <td>0</td>\n      <td>...</td>\n      <td>0.734973</td>\n      <td>0.854680</td>\n      <td>-0.330256</td>\n      <td>39.463535</td>\n      <td>El Cabanyal-El Canyamelar</td>\n      <td>46011</td>\n      <td>1</td>\n      <td>0</td>\n      <td>0</td>\n      <td>0</td>\n    </tr>\n    <tr>\n      <th>1</th>\n      <td>A10001334147587469388</td>\n      <td>630000</td>\n      <td>199</td>\n      <td>4</td>\n      <td>2</td>\n      <td>3</td>\n      <td>1</td>\n      <td>1.0</td>\n      <td>1</td>\n      <td>1</td>\n      <td>...</td>\n      <td>0.724361</td>\n      <td>2.102044</td>\n      <td>-0.357513</td>\n      <td>39.456699</td>\n      <td>Ciutat de les Arts i de les Ciencies</td>\n      <td>46005</td>\n      <td>0</td>\n      <td>0</td>\n      <td>0</td>\n      <td>1</td>\n    </tr>\n    <tr>\n      <th>2</th>\n      <td>A10002599312155392987</td>\n      <td>215000</td>\n      <td>100</td>\n      <td>3</td>\n      <td>2</td>\n      <td>3</td>\n      <td>0</td>\n      <td>1.0</td>\n      <td>1</td>\n      <td>1</td>\n      <td>...</td>\n      <td>0.423130</td>\n      <td>0.800718</td>\n      <td>-0.334320</td>\n      <td>39.463025</td>\n      <td>El Grau</td>\n      <td>46022</td>\n      <td>0</td>\n      <td>0</td>\n      <td>0</td>\n      <td>1</td>\n    </tr>\n    <tr>\n      <th>3</th>\n      <td>A10002648121225460937</td>\n      <td>240000</td>\n      <td>112</td>\n      <td>3</td>\n      <td>2</td>\n      <td>1</td>\n      <td>0</td>\n      <td>1.0</td>\n      <td>0</td>\n      <td>1</td>\n      <td>...</td>\n      <td>0.378732</td>\n      <td>3.256303</td>\n      <td>-0.401935</td>\n      <td>39.469964</td>\n      <td>Nou Moles</td>\n      <td>46018</td>\n      <td>0</td>\n      <td>0</td>\n      <td>0</td>\n      <td>1</td>\n    </tr>\n    <tr>\n      <th>4</th>\n      <td>A10002658173109908582</td>\n      <td>1160000</td>\n      <td>289</td>\n      <td>5</td>\n      <td>4</td>\n      <td>2</td>\n      <td>0</td>\n      <td>1.0</td>\n      <td>0</td>\n      <td>0</td>\n      <td>...</td>\n      <td>0.186091</td>\n      <td>0.770513</td>\n      <td>-0.367956</td>\n      <td>39.472377</td>\n      <td>El Pla del Remei</td>\n      <td>46004</td>\n      <td>0</td>\n      <td>0</td>\n      <td>0</td>\n      <td>1</td>\n    </tr>\n  </tbody>\n</table>\n<p>5 rows × 43 columns</p>\n</div>"
     },
     "execution_count": 39,
     "metadata": {},
     "output_type": "execute_result"
    }
   ],
   "source": [
    "data.head()"
   ],
   "metadata": {
    "collapsed": false,
    "ExecuteTime": {
     "end_time": "2024-07-06T14:28:19.203924Z",
     "start_time": "2024-07-06T14:28:19.155529900Z"
    }
   }
  },
  {
   "cell_type": "code",
   "execution_count": 40,
   "outputs": [
    {
     "data": {
      "text/plain": "    osm_id  code        fclass                 name  \\\n0  4790961  2204          park   Parc de la Cultura   \n1  4826234  2204          park                 None   \n2  5007139  2016  market_place       Mercat Central   \n3  5007139  2721    attraction       Mercat Central   \n4  7724652  2204          park  Parque del Parterre   \n\n                                            geometry  \n0  POLYGON ((-0.38336 39.47045, -0.38336 39.47050...  \n1  POLYGON ((-0.38224 39.47257, -0.38198 39.47259...  \n2  POLYGON ((-0.37958 39.47318, -0.37953 39.47321...  \n3  POLYGON ((-0.37958 39.47318, -0.37953 39.47321...  \n4  POLYGON ((-0.37097 39.47155, -0.37086 39.47190...  ",
      "text/html": "<div>\n<style scoped>\n    .dataframe tbody tr th:only-of-type {\n        vertical-align: middle;\n    }\n\n    .dataframe tbody tr th {\n        vertical-align: top;\n    }\n\n    .dataframe thead th {\n        text-align: right;\n    }\n</style>\n<table border=\"1\" class=\"dataframe\">\n  <thead>\n    <tr style=\"text-align: right;\">\n      <th></th>\n      <th>osm_id</th>\n      <th>code</th>\n      <th>fclass</th>\n      <th>name</th>\n      <th>geometry</th>\n    </tr>\n  </thead>\n  <tbody>\n    <tr>\n      <th>0</th>\n      <td>4790961</td>\n      <td>2204</td>\n      <td>park</td>\n      <td>Parc de la Cultura</td>\n      <td>POLYGON ((-0.38336 39.47045, -0.38336 39.47050...</td>\n    </tr>\n    <tr>\n      <th>1</th>\n      <td>4826234</td>\n      <td>2204</td>\n      <td>park</td>\n      <td>None</td>\n      <td>POLYGON ((-0.38224 39.47257, -0.38198 39.47259...</td>\n    </tr>\n    <tr>\n      <th>2</th>\n      <td>5007139</td>\n      <td>2016</td>\n      <td>market_place</td>\n      <td>Mercat Central</td>\n      <td>POLYGON ((-0.37958 39.47318, -0.37953 39.47321...</td>\n    </tr>\n    <tr>\n      <th>3</th>\n      <td>5007139</td>\n      <td>2721</td>\n      <td>attraction</td>\n      <td>Mercat Central</td>\n      <td>POLYGON ((-0.37958 39.47318, -0.37953 39.47321...</td>\n    </tr>\n    <tr>\n      <th>4</th>\n      <td>7724652</td>\n      <td>2204</td>\n      <td>park</td>\n      <td>Parque del Parterre</td>\n      <td>POLYGON ((-0.37097 39.47155, -0.37086 39.47190...</td>\n    </tr>\n  </tbody>\n</table>\n</div>"
     },
     "execution_count": 40,
     "metadata": {},
     "output_type": "execute_result"
    }
   ],
   "source": [
    "parks_gdf.head()"
   ],
   "metadata": {
    "collapsed": false,
    "ExecuteTime": {
     "end_time": "2024-07-06T14:28:19.245923200Z",
     "start_time": "2024-07-06T14:28:19.189761900Z"
    }
   }
  },
  {
   "cell_type": "markdown",
   "source": [
    "# Create feature on share of parks within 500 meter radius"
   ],
   "metadata": {
    "collapsed": false
   }
  },
  {
   "cell_type": "markdown",
   "source": [
    "__Prepare the two datasets as GeoDataFrames__"
   ],
   "metadata": {
    "collapsed": false
   }
  },
  {
   "cell_type": "code",
   "execution_count": 41,
   "outputs": [],
   "source": [
    "# Create function to create Point Objects from LATITUDE and LONGITUDE Columns\n",
    "def create_point_from_lat_lon(lat, lon):\n",
    "    try:\n",
    "        return Point(float(lon), float(lat))\n",
    "    except Exception as e:\n",
    "        print(f\"Error creating point from lat/lon: {e}\")\n",
    "        return None\n",
    "    \n",
    "# Create Geometry Column Using LATITUDE and LONGITUDE Columns\n",
    "data['GEOMETRY'] = data.apply(lambda row: create_point_from_lat_lon(row['LATITUDE'], row['LONGITUDE']), axis=1)"
   ],
   "metadata": {
    "collapsed": false,
    "ExecuteTime": {
     "end_time": "2024-07-06T14:28:19.901203100Z",
     "start_time": "2024-07-06T14:28:19.201924600Z"
    }
   }
  },
  {
   "cell_type": "code",
   "execution_count": 42,
   "outputs": [
    {
     "data": {
      "text/plain": "    osm_id  code        fclass                 name  \\\n0  4790961  2204          park   Parc de la Cultura   \n1  4826234  2204          park                 None   \n2  5007139  2016  market_place       Mercat Central   \n3  5007139  2721    attraction       Mercat Central   \n4  7724652  2204          park  Parque del Parterre   \n\n                                            geometry  \n0  POLYGON ((-0.38336 39.47045, -0.38336 39.47050...  \n1  POLYGON ((-0.38224 39.47257, -0.38198 39.47259...  \n2  POLYGON ((-0.37958 39.47318, -0.37953 39.47321...  \n3  POLYGON ((-0.37958 39.47318, -0.37953 39.47321...  \n4  POLYGON ((-0.37097 39.47155, -0.37086 39.47190...  ",
      "text/html": "<div>\n<style scoped>\n    .dataframe tbody tr th:only-of-type {\n        vertical-align: middle;\n    }\n\n    .dataframe tbody tr th {\n        vertical-align: top;\n    }\n\n    .dataframe thead th {\n        text-align: right;\n    }\n</style>\n<table border=\"1\" class=\"dataframe\">\n  <thead>\n    <tr style=\"text-align: right;\">\n      <th></th>\n      <th>osm_id</th>\n      <th>code</th>\n      <th>fclass</th>\n      <th>name</th>\n      <th>geometry</th>\n    </tr>\n  </thead>\n  <tbody>\n    <tr>\n      <th>0</th>\n      <td>4790961</td>\n      <td>2204</td>\n      <td>park</td>\n      <td>Parc de la Cultura</td>\n      <td>POLYGON ((-0.38336 39.47045, -0.38336 39.47050...</td>\n    </tr>\n    <tr>\n      <th>1</th>\n      <td>4826234</td>\n      <td>2204</td>\n      <td>park</td>\n      <td>None</td>\n      <td>POLYGON ((-0.38224 39.47257, -0.38198 39.47259...</td>\n    </tr>\n    <tr>\n      <th>2</th>\n      <td>5007139</td>\n      <td>2016</td>\n      <td>market_place</td>\n      <td>Mercat Central</td>\n      <td>POLYGON ((-0.37958 39.47318, -0.37953 39.47321...</td>\n    </tr>\n    <tr>\n      <th>3</th>\n      <td>5007139</td>\n      <td>2721</td>\n      <td>attraction</td>\n      <td>Mercat Central</td>\n      <td>POLYGON ((-0.37958 39.47318, -0.37953 39.47321...</td>\n    </tr>\n    <tr>\n      <th>4</th>\n      <td>7724652</td>\n      <td>2204</td>\n      <td>park</td>\n      <td>Parque del Parterre</td>\n      <td>POLYGON ((-0.37097 39.47155, -0.37086 39.47190...</td>\n    </tr>\n  </tbody>\n</table>\n</div>"
     },
     "execution_count": 42,
     "metadata": {},
     "output_type": "execute_result"
    }
   ],
   "source": [
    "# Convert houses DataFrame to GeoDataFrame\n",
    "sale_gdf = gpd.GeoDataFrame(data, geometry='GEOMETRY')\n",
    "sale_gdf.set_crs(epsg=4326, inplace=True)\n",
    "sale_gdf.head()\n",
    "\n",
    "# Ensure the roads geometry is parsed correctly\n",
    "parks_gdf = parks_gdf.to_crs(epsg=4326)\n",
    "parks_gdf.head()"
   ],
   "metadata": {
    "collapsed": false,
    "ExecuteTime": {
     "end_time": "2024-07-06T14:28:19.973268200Z",
     "start_time": "2024-07-06T14:28:19.865202600Z"
    }
   }
  },
  {
   "cell_type": "code",
   "execution_count": 43,
   "outputs": [],
   "source": [
    "parks_gdf = parks_gdf[parks_gdf['fclass'] == 'park']\n",
    "parks_gdf.set_crs(epsg=4326, inplace=True)\n",
    "\n",
    "# Reproject both GeoDataFrames to the same CRS (e.g., EPSG:3857)\n",
    "sale_gdf = sale_gdf.to_crs(epsg=3857)\n",
    "parks_gdf = parks_gdf.to_crs(epsg=3857)"
   ],
   "metadata": {
    "collapsed": false,
    "ExecuteTime": {
     "end_time": "2024-07-06T14:28:20.166825400Z",
     "start_time": "2024-07-06T14:28:19.977269Z"
    }
   }
  },
  {
   "cell_type": "markdown",
   "source": [
    "__Calculate share of parks within 500 meters__"
   ],
   "metadata": {
    "collapsed": false
   }
  },
  {
   "cell_type": "code",
   "execution_count": 44,
   "outputs": [],
   "source": [
    "# Define a radius threshold (e.g., 500 meters)\n",
    "radius_threshold = 500  # in meters\n",
    "\n",
    "# Buffer the house points to create a 500-meter radius around each house\n",
    "sale_gdf['buffer'] = sale_gdf['GEOMETRY'].buffer(radius_threshold)\n",
    "\n",
    "# Function to calculate the percentage of park area within the buffer\n",
    "def calculate_park_area_percentage(house_buffer, parks_gdf):\n",
    "    # Intersect the buffer with parks\n",
    "    intersection = parks_gdf.intersection(house_buffer)\n",
    "\n",
    "    # Calculate the area of the intersection\n",
    "    intersection_area = intersection.area.sum()\n",
    "\n",
    "    # Calculate the area of the buffer\n",
    "    buffer_area = house_buffer.area\n",
    "\n",
    "    # Calculate the percentage of the area covered by parks\n",
    "\n",
    "    park_area_percentage = (intersection_area / buffer_area) * 100\n",
    "\n",
    "    return park_area_percentage\n",
    "\n",
    "# Apply the function to each house\n",
    "sale_gdf['park_area_percentage'] = sale_gdf['buffer'].apply(lambda x: calculate_park_area_percentage(x, parks_gdf))\n",
    "\n",
    "# Drop the buffer column and GEOMETRY as no longer needed\n",
    "sale_gdf = sale_gdf.drop(columns=['buffer', 'GEOMETRY'])"
   ],
   "metadata": {
    "collapsed": false,
    "ExecuteTime": {
     "end_time": "2024-07-06T14:32:13.326910400Z",
     "start_time": "2024-07-06T14:28:20.105831Z"
    }
   }
  },
  {
   "cell_type": "markdown",
   "source": [
    "# Inspect data incl. new feature"
   ],
   "metadata": {
    "collapsed": false
   }
  },
  {
   "cell_type": "code",
   "execution_count": 45,
   "outputs": [
    {
     "data": {
      "text/plain": "                    ASSETID   PRICE  CONSTRUCTEDAREA  ROOMNUMBER  BATHNUMBER  \\\n27344  A9987738260333417458  372000              110           2           2   \n27345  A9988124641878621594   81000               85           3           1   \n27346  A9988580647876636096  168000              150           2           2   \n27347  A9989056763083051067  244000               97           3           1   \n27348   A998950546678228445  214000              100           3           1   \n27349  A9990023624093089262  143000              103           3           2   \n27350   A999162102955720358  181000              122           3           2   \n27351  A9991884652594369696   38000               77           3           1   \n27352  A9992993634176194683   55500              105           4           2   \n27353  A9993650448768923173  316000               89           1           1   \n27354  A9993660480752622807   88333               98           3           1   \n27355  A9995315038963080179   53000               71           3           1   \n27356  A9995577498905396861   74000               77           3           1   \n27357   A999644791978215711  100000               72           3           1   \n27358  A9996975243720982844  287000              122           2           2   \n27359   A999714553337199880  137000              100           3           1   \n27360  A9998415668088131446   98000              123           3           1   \n27361  A9999386556843007406  137000               94           3           2   \n27362  A9999529068791318670  240000              133           3           2   \n27363  A9999985955515155602  362000              186           5           2   \n\n       AMENITYID  HASPARKINGSPACE  PARKINGSPACEPRICE  HASTERRACE  HASLIFT  \\\n27344          3                0                1.0           1        1   \n27345          3                0                1.0           0        1   \n27346          3                1                1.0           1        1   \n27347          2                0                1.0           0        1   \n27348          3                0                1.0           0        1   \n27349          3                1                1.0           1        1   \n27350          3                1                1.0           0        1   \n27351          3                0                1.0           0        0   \n27352          3                0                1.0           1        1   \n27353          3                0                1.0           0        0   \n27354          3                0                1.0           0        0   \n27355          3                0                1.0           0        0   \n27356          3                0                1.0           1        0   \n27357          3                0                1.0           0        0   \n27358          3                0                1.0           0        1   \n27359          3                0                1.0           0        1   \n27360          3                0                1.0           1        1   \n27361          3                1                1.0           0        1   \n27362          3                0                1.0           1        1   \n27363          3                0                1.0           1        1   \n\n       ...  DISTANCE_TO_MAIN_STREET  LONGITUDE   LATITUDE      NEIGHBORHOOD  \\\n27344  ...                 1.627467  -0.379503  39.469025     Sant Francesc   \n27345  ...                 3.556986  -0.393052  39.455096  Barrio de Favara   \n27346  ...                 2.939921  -0.384187  39.456915         La Raiosa   \n27347  ...                 1.081695  -0.367234  39.469189  El Pla del Remei   \n27348  ...                 2.073874  -0.369150  39.460296           Russafa   \n27349  ...                 1.375533  -0.374775  39.489639       Sant Antoni   \n27350  ...                 3.001681  -0.381683  39.455192         La Raiosa   \n27351  ...                 1.845228  -0.376528  39.493750         Torrefiel   \n27352  ...                 3.248125  -0.394243  39.498707    Ciutat Fallera   \n27353  ...                 0.873340  -0.370776  39.472359          La Xerea   \n27354  ...                 0.755360  -0.339721  39.464341             Aiora   \n27355  ...                 1.175463  -0.334007  39.459666           El Grau   \n27356  ...                 2.287525  -0.388116  39.490759         Benicalap   \n27357  ...                 2.645115  -0.390808  39.493387         Benicalap   \n27358  ...                 0.779724  -0.356176  39.469001          Mestalla   \n27359  ...                 3.207021  -0.373245  39.450614           Malilla   \n27360  ...                 3.476017  -0.369970  39.447162           Malilla   \n27361  ...                 2.861698  -0.391772  39.495598     Nou Benicalap   \n27362  ...                 1.380299  -0.381802  39.476982          El Carme   \n27363  ...                 2.339484  -0.390713  39.470439        La Petxina   \n\n       ZIP_CODE  PERIOD_201803  PERIOD_201806  PERIOD_201809  PERIOD_201812  \\\n27344     46002              0              0              0              1   \n27345     46007              0              0              1              0   \n27346     46007              0              1              0              0   \n27347     46004              1              0              0              0   \n27348     46005              0              0              1              0   \n27349     46020              1              0              0              0   \n27350     46007              1              0              0              0   \n27351     46020              0              0              0              1   \n27352     46015              1              0              0              0   \n27353     46004              0              0              1              0   \n27354     46022              1              0              0              0   \n27355     46022              0              1              0              0   \n27356     46015              0              0              1              0   \n27357     46015              0              0              0              1   \n27358     46021              0              0              0              1   \n27359     46026              1              0              0              0   \n27360     46026              1              0              0              0   \n27361     46015              1              0              0              0   \n27362     46008              0              0              0              1   \n27363     46008              0              1              0              0   \n\n       park_area_percentage  \n27344              7.020542  \n27345              1.248390  \n27346              2.096035  \n27347             12.429896  \n27348              0.328778  \n27349              1.431180  \n27350              9.273214  \n27351              2.693717  \n27352             18.164038  \n27353              7.738606  \n27354              0.771952  \n27355              2.632773  \n27356              1.451256  \n27357              1.573034  \n27358              1.195295  \n27359             14.910774  \n27360              2.388058  \n27361              6.645312  \n27362              1.283578  \n27363              1.601227  \n\n[20 rows x 44 columns]",
      "text/html": "<div>\n<style scoped>\n    .dataframe tbody tr th:only-of-type {\n        vertical-align: middle;\n    }\n\n    .dataframe tbody tr th {\n        vertical-align: top;\n    }\n\n    .dataframe thead th {\n        text-align: right;\n    }\n</style>\n<table border=\"1\" class=\"dataframe\">\n  <thead>\n    <tr style=\"text-align: right;\">\n      <th></th>\n      <th>ASSETID</th>\n      <th>PRICE</th>\n      <th>CONSTRUCTEDAREA</th>\n      <th>ROOMNUMBER</th>\n      <th>BATHNUMBER</th>\n      <th>AMENITYID</th>\n      <th>HASPARKINGSPACE</th>\n      <th>PARKINGSPACEPRICE</th>\n      <th>HASTERRACE</th>\n      <th>HASLIFT</th>\n      <th>...</th>\n      <th>DISTANCE_TO_MAIN_STREET</th>\n      <th>LONGITUDE</th>\n      <th>LATITUDE</th>\n      <th>NEIGHBORHOOD</th>\n      <th>ZIP_CODE</th>\n      <th>PERIOD_201803</th>\n      <th>PERIOD_201806</th>\n      <th>PERIOD_201809</th>\n      <th>PERIOD_201812</th>\n      <th>park_area_percentage</th>\n    </tr>\n  </thead>\n  <tbody>\n    <tr>\n      <th>27344</th>\n      <td>A9987738260333417458</td>\n      <td>372000</td>\n      <td>110</td>\n      <td>2</td>\n      <td>2</td>\n      <td>3</td>\n      <td>0</td>\n      <td>1.0</td>\n      <td>1</td>\n      <td>1</td>\n      <td>...</td>\n      <td>1.627467</td>\n      <td>-0.379503</td>\n      <td>39.469025</td>\n      <td>Sant Francesc</td>\n      <td>46002</td>\n      <td>0</td>\n      <td>0</td>\n      <td>0</td>\n      <td>1</td>\n      <td>7.020542</td>\n    </tr>\n    <tr>\n      <th>27345</th>\n      <td>A9988124641878621594</td>\n      <td>81000</td>\n      <td>85</td>\n      <td>3</td>\n      <td>1</td>\n      <td>3</td>\n      <td>0</td>\n      <td>1.0</td>\n      <td>0</td>\n      <td>1</td>\n      <td>...</td>\n      <td>3.556986</td>\n      <td>-0.393052</td>\n      <td>39.455096</td>\n      <td>Barrio de Favara</td>\n      <td>46007</td>\n      <td>0</td>\n      <td>0</td>\n      <td>1</td>\n      <td>0</td>\n      <td>1.248390</td>\n    </tr>\n    <tr>\n      <th>27346</th>\n      <td>A9988580647876636096</td>\n      <td>168000</td>\n      <td>150</td>\n      <td>2</td>\n      <td>2</td>\n      <td>3</td>\n      <td>1</td>\n      <td>1.0</td>\n      <td>1</td>\n      <td>1</td>\n      <td>...</td>\n      <td>2.939921</td>\n      <td>-0.384187</td>\n      <td>39.456915</td>\n      <td>La Raiosa</td>\n      <td>46007</td>\n      <td>0</td>\n      <td>1</td>\n      <td>0</td>\n      <td>0</td>\n      <td>2.096035</td>\n    </tr>\n    <tr>\n      <th>27347</th>\n      <td>A9989056763083051067</td>\n      <td>244000</td>\n      <td>97</td>\n      <td>3</td>\n      <td>1</td>\n      <td>2</td>\n      <td>0</td>\n      <td>1.0</td>\n      <td>0</td>\n      <td>1</td>\n      <td>...</td>\n      <td>1.081695</td>\n      <td>-0.367234</td>\n      <td>39.469189</td>\n      <td>El Pla del Remei</td>\n      <td>46004</td>\n      <td>1</td>\n      <td>0</td>\n      <td>0</td>\n      <td>0</td>\n      <td>12.429896</td>\n    </tr>\n    <tr>\n      <th>27348</th>\n      <td>A998950546678228445</td>\n      <td>214000</td>\n      <td>100</td>\n      <td>3</td>\n      <td>1</td>\n      <td>3</td>\n      <td>0</td>\n      <td>1.0</td>\n      <td>0</td>\n      <td>1</td>\n      <td>...</td>\n      <td>2.073874</td>\n      <td>-0.369150</td>\n      <td>39.460296</td>\n      <td>Russafa</td>\n      <td>46005</td>\n      <td>0</td>\n      <td>0</td>\n      <td>1</td>\n      <td>0</td>\n      <td>0.328778</td>\n    </tr>\n    <tr>\n      <th>27349</th>\n      <td>A9990023624093089262</td>\n      <td>143000</td>\n      <td>103</td>\n      <td>3</td>\n      <td>2</td>\n      <td>3</td>\n      <td>1</td>\n      <td>1.0</td>\n      <td>1</td>\n      <td>1</td>\n      <td>...</td>\n      <td>1.375533</td>\n      <td>-0.374775</td>\n      <td>39.489639</td>\n      <td>Sant Antoni</td>\n      <td>46020</td>\n      <td>1</td>\n      <td>0</td>\n      <td>0</td>\n      <td>0</td>\n      <td>1.431180</td>\n    </tr>\n    <tr>\n      <th>27350</th>\n      <td>A999162102955720358</td>\n      <td>181000</td>\n      <td>122</td>\n      <td>3</td>\n      <td>2</td>\n      <td>3</td>\n      <td>1</td>\n      <td>1.0</td>\n      <td>0</td>\n      <td>1</td>\n      <td>...</td>\n      <td>3.001681</td>\n      <td>-0.381683</td>\n      <td>39.455192</td>\n      <td>La Raiosa</td>\n      <td>46007</td>\n      <td>1</td>\n      <td>0</td>\n      <td>0</td>\n      <td>0</td>\n      <td>9.273214</td>\n    </tr>\n    <tr>\n      <th>27351</th>\n      <td>A9991884652594369696</td>\n      <td>38000</td>\n      <td>77</td>\n      <td>3</td>\n      <td>1</td>\n      <td>3</td>\n      <td>0</td>\n      <td>1.0</td>\n      <td>0</td>\n      <td>0</td>\n      <td>...</td>\n      <td>1.845228</td>\n      <td>-0.376528</td>\n      <td>39.493750</td>\n      <td>Torrefiel</td>\n      <td>46020</td>\n      <td>0</td>\n      <td>0</td>\n      <td>0</td>\n      <td>1</td>\n      <td>2.693717</td>\n    </tr>\n    <tr>\n      <th>27352</th>\n      <td>A9992993634176194683</td>\n      <td>55500</td>\n      <td>105</td>\n      <td>4</td>\n      <td>2</td>\n      <td>3</td>\n      <td>0</td>\n      <td>1.0</td>\n      <td>1</td>\n      <td>1</td>\n      <td>...</td>\n      <td>3.248125</td>\n      <td>-0.394243</td>\n      <td>39.498707</td>\n      <td>Ciutat Fallera</td>\n      <td>46015</td>\n      <td>1</td>\n      <td>0</td>\n      <td>0</td>\n      <td>0</td>\n      <td>18.164038</td>\n    </tr>\n    <tr>\n      <th>27353</th>\n      <td>A9993650448768923173</td>\n      <td>316000</td>\n      <td>89</td>\n      <td>1</td>\n      <td>1</td>\n      <td>3</td>\n      <td>0</td>\n      <td>1.0</td>\n      <td>0</td>\n      <td>0</td>\n      <td>...</td>\n      <td>0.873340</td>\n      <td>-0.370776</td>\n      <td>39.472359</td>\n      <td>La Xerea</td>\n      <td>46004</td>\n      <td>0</td>\n      <td>0</td>\n      <td>1</td>\n      <td>0</td>\n      <td>7.738606</td>\n    </tr>\n    <tr>\n      <th>27354</th>\n      <td>A9993660480752622807</td>\n      <td>88333</td>\n      <td>98</td>\n      <td>3</td>\n      <td>1</td>\n      <td>3</td>\n      <td>0</td>\n      <td>1.0</td>\n      <td>0</td>\n      <td>0</td>\n      <td>...</td>\n      <td>0.755360</td>\n      <td>-0.339721</td>\n      <td>39.464341</td>\n      <td>Aiora</td>\n      <td>46022</td>\n      <td>1</td>\n      <td>0</td>\n      <td>0</td>\n      <td>0</td>\n      <td>0.771952</td>\n    </tr>\n    <tr>\n      <th>27355</th>\n      <td>A9995315038963080179</td>\n      <td>53000</td>\n      <td>71</td>\n      <td>3</td>\n      <td>1</td>\n      <td>3</td>\n      <td>0</td>\n      <td>1.0</td>\n      <td>0</td>\n      <td>0</td>\n      <td>...</td>\n      <td>1.175463</td>\n      <td>-0.334007</td>\n      <td>39.459666</td>\n      <td>El Grau</td>\n      <td>46022</td>\n      <td>0</td>\n      <td>1</td>\n      <td>0</td>\n      <td>0</td>\n      <td>2.632773</td>\n    </tr>\n    <tr>\n      <th>27356</th>\n      <td>A9995577498905396861</td>\n      <td>74000</td>\n      <td>77</td>\n      <td>3</td>\n      <td>1</td>\n      <td>3</td>\n      <td>0</td>\n      <td>1.0</td>\n      <td>1</td>\n      <td>0</td>\n      <td>...</td>\n      <td>2.287525</td>\n      <td>-0.388116</td>\n      <td>39.490759</td>\n      <td>Benicalap</td>\n      <td>46015</td>\n      <td>0</td>\n      <td>0</td>\n      <td>1</td>\n      <td>0</td>\n      <td>1.451256</td>\n    </tr>\n    <tr>\n      <th>27357</th>\n      <td>A999644791978215711</td>\n      <td>100000</td>\n      <td>72</td>\n      <td>3</td>\n      <td>1</td>\n      <td>3</td>\n      <td>0</td>\n      <td>1.0</td>\n      <td>0</td>\n      <td>0</td>\n      <td>...</td>\n      <td>2.645115</td>\n      <td>-0.390808</td>\n      <td>39.493387</td>\n      <td>Benicalap</td>\n      <td>46015</td>\n      <td>0</td>\n      <td>0</td>\n      <td>0</td>\n      <td>1</td>\n      <td>1.573034</td>\n    </tr>\n    <tr>\n      <th>27358</th>\n      <td>A9996975243720982844</td>\n      <td>287000</td>\n      <td>122</td>\n      <td>2</td>\n      <td>2</td>\n      <td>3</td>\n      <td>0</td>\n      <td>1.0</td>\n      <td>0</td>\n      <td>1</td>\n      <td>...</td>\n      <td>0.779724</td>\n      <td>-0.356176</td>\n      <td>39.469001</td>\n      <td>Mestalla</td>\n      <td>46021</td>\n      <td>0</td>\n      <td>0</td>\n      <td>0</td>\n      <td>1</td>\n      <td>1.195295</td>\n    </tr>\n    <tr>\n      <th>27359</th>\n      <td>A999714553337199880</td>\n      <td>137000</td>\n      <td>100</td>\n      <td>3</td>\n      <td>1</td>\n      <td>3</td>\n      <td>0</td>\n      <td>1.0</td>\n      <td>0</td>\n      <td>1</td>\n      <td>...</td>\n      <td>3.207021</td>\n      <td>-0.373245</td>\n      <td>39.450614</td>\n      <td>Malilla</td>\n      <td>46026</td>\n      <td>1</td>\n      <td>0</td>\n      <td>0</td>\n      <td>0</td>\n      <td>14.910774</td>\n    </tr>\n    <tr>\n      <th>27360</th>\n      <td>A9998415668088131446</td>\n      <td>98000</td>\n      <td>123</td>\n      <td>3</td>\n      <td>1</td>\n      <td>3</td>\n      <td>0</td>\n      <td>1.0</td>\n      <td>1</td>\n      <td>1</td>\n      <td>...</td>\n      <td>3.476017</td>\n      <td>-0.369970</td>\n      <td>39.447162</td>\n      <td>Malilla</td>\n      <td>46026</td>\n      <td>1</td>\n      <td>0</td>\n      <td>0</td>\n      <td>0</td>\n      <td>2.388058</td>\n    </tr>\n    <tr>\n      <th>27361</th>\n      <td>A9999386556843007406</td>\n      <td>137000</td>\n      <td>94</td>\n      <td>3</td>\n      <td>2</td>\n      <td>3</td>\n      <td>1</td>\n      <td>1.0</td>\n      <td>0</td>\n      <td>1</td>\n      <td>...</td>\n      <td>2.861698</td>\n      <td>-0.391772</td>\n      <td>39.495598</td>\n      <td>Nou Benicalap</td>\n      <td>46015</td>\n      <td>1</td>\n      <td>0</td>\n      <td>0</td>\n      <td>0</td>\n      <td>6.645312</td>\n    </tr>\n    <tr>\n      <th>27362</th>\n      <td>A9999529068791318670</td>\n      <td>240000</td>\n      <td>133</td>\n      <td>3</td>\n      <td>2</td>\n      <td>3</td>\n      <td>0</td>\n      <td>1.0</td>\n      <td>1</td>\n      <td>1</td>\n      <td>...</td>\n      <td>1.380299</td>\n      <td>-0.381802</td>\n      <td>39.476982</td>\n      <td>El Carme</td>\n      <td>46008</td>\n      <td>0</td>\n      <td>0</td>\n      <td>0</td>\n      <td>1</td>\n      <td>1.283578</td>\n    </tr>\n    <tr>\n      <th>27363</th>\n      <td>A9999985955515155602</td>\n      <td>362000</td>\n      <td>186</td>\n      <td>5</td>\n      <td>2</td>\n      <td>3</td>\n      <td>0</td>\n      <td>1.0</td>\n      <td>1</td>\n      <td>1</td>\n      <td>...</td>\n      <td>2.339484</td>\n      <td>-0.390713</td>\n      <td>39.470439</td>\n      <td>La Petxina</td>\n      <td>46008</td>\n      <td>0</td>\n      <td>1</td>\n      <td>0</td>\n      <td>0</td>\n      <td>1.601227</td>\n    </tr>\n  </tbody>\n</table>\n<p>20 rows × 44 columns</p>\n</div>"
     },
     "execution_count": 45,
     "metadata": {},
     "output_type": "execute_result"
    }
   ],
   "source": [
    "sale_gdf.tail(20)"
   ],
   "metadata": {
    "collapsed": false,
    "ExecuteTime": {
     "end_time": "2024-07-06T14:32:13.356653Z",
     "start_time": "2024-07-06T14:32:13.329912900Z"
    }
   }
  },
  {
   "cell_type": "markdown",
   "source": [
    "# Write the resulting Geodataframe to CSV   "
   ],
   "metadata": {
    "collapsed": false
   }
  },
  {
   "cell_type": "code",
   "execution_count": 46,
   "outputs": [],
   "source": [
    "if city == \"Madrid\":\n",
    "    sale_gdf.to_csv(\"../../data/5_cleaned_and_feature_engineering/feature_parks/madrid_cleaned_incl_parks.csv\", index=False)\n",
    "elif city == \"Barcelona\":\n",
    "    sale_gdf.to_csv(\"../../data/5_cleaned_and_feature_engineering/feature_parks/barcelona_cleaned_incl_parks.csv\", index=False)\n",
    "elif city == \"Valencia\":\n",
    "    sale_gdf.to_csv(\"../../data/5_cleaned_and_feature_engineering/feature_parks/valencia_cleaned_incl_parks.csv\", index=False)"
   ],
   "metadata": {
    "collapsed": false,
    "ExecuteTime": {
     "end_time": "2024-07-06T14:32:13.743329200Z",
     "start_time": "2024-07-06T14:32:13.357592200Z"
    }
   }
  }
 ]
}
