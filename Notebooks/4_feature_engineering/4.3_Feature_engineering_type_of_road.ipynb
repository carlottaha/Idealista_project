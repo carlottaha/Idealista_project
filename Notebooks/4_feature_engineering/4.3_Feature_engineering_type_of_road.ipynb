{
 "nbformat": 4,
 "nbformat_minor": 0,
 "metadata": {
  "colab": {
   "provenance": []
  },
  "kernelspec": {
   "name": "python3",
   "language": "python",
   "display_name": "Python 3 (ipykernel)"
  },
  "language_info": {
   "name": "python"
  }
 },
 "cells": [
  {
   "cell_type": "markdown",
   "source": [
    "# Notebook 4.3 - Feature engineering type of road"
   ],
   "metadata": {
    "collapsed": false
   }
  },
  {
   "cell_type": "markdown",
   "source": [
    "# Import libraries"
   ],
   "metadata": {
    "collapsed": false
   }
  },
  {
   "cell_type": "code",
   "source": [
    "import pandas as pd\n",
    "import numpy as np\n",
    "import geopandas as gpd\n",
    "from shapely.geometry import Point, Polygon\n",
    "from shapely.validation import explain_validity\n",
    "import shutil"
   ],
   "metadata": {
    "id": "2Q-cAoPzV2Mw",
    "ExecuteTime": {
     "end_time": "2024-07-06T14:33:12.205524Z",
     "start_time": "2024-07-06T14:33:12.172836700Z"
    }
   },
   "execution_count": 61,
   "outputs": []
  },
  {
   "cell_type": "markdown",
   "source": [
    "# Choose the city"
   ],
   "metadata": {
    "collapsed": false
   }
  },
  {
   "cell_type": "code",
   "execution_count": 62,
   "outputs": [],
   "source": [
    "#Choose city (\"Madrid\", \"Barcelona\", or \"Valencia\")\n",
    "city = (\"Madrid\")"
   ],
   "metadata": {
    "collapsed": false,
    "ExecuteTime": {
     "end_time": "2024-07-06T14:33:12.215871400Z",
     "start_time": "2024-07-06T14:33:12.207524Z"
    }
   }
  },
  {
   "cell_type": "markdown",
   "source": [
    "__Load cleaned data and external open source data file on types of road__"
   ],
   "metadata": {
    "collapsed": false
   }
  },
  {
   "cell_type": "code",
   "source": [
    "#Read corresponding files (cleaned data and road data)\n",
    "if city == \"Madrid\":\n",
    "    data = pd.read_csv('../../data/4_data_cleaned/madrid_cleaned_base_features.csv')\n",
    "    roads_gdf = gpd.read_file('../../data/3_external_data/open_street_map/open_street_mad/gis_osm_roads_free_1.shp')\n",
    "elif city == \"Barcelona\":\n",
    "    data = pd.read_csv('../../data/4_data_cleaned/barcelona_cleaned_base_features.csv')\n",
    "    roads_gdf = gpd.read_file('../../data/3_external_data/open_street_map/open_street_barc/gis_osm_roads_free_1.shp')\n",
    "elif city == \"Valencia\":\n",
    "    data = pd.read_csv('../../data/4_data_cleaned/valencia_cleaned_base_features.csv')\n",
    "    roads_gdf = gpd.read_file('../../data/3_external_data/open_street_map/open_street_val/gis_osm_roads_free_1.shp')\n",
    "else:\n",
    "    raise ValueError(\"City not recognized. Please choose either 'Madrid', 'Barcelona', or 'Valencia'.\")"
   ],
   "metadata": {
    "id": "CcIEFM9fV4wA",
    "ExecuteTime": {
     "end_time": "2024-07-06T14:34:15.464884300Z",
     "start_time": "2024-07-06T14:33:12.241883200Z"
    }
   },
   "execution_count": 63,
   "outputs": []
  },
  {
   "cell_type": "code",
   "execution_count": 64,
   "outputs": [
    {
     "data": {
      "text/plain": "                 ASSETID   PRICE  CONSTRUCTEDAREA  ROOMNUMBER  BATHNUMBER  \\\n0  A10000037964896093228  255000               97           3           2   \n1  A10000072440601830803   82000               62           2           1   \n2  A10000538600815177437  133000               67           3           1   \n3  A10000654405436195291  204000              180           3           2   \n4  A10000872160480475600  161000               54           2           1   \n\n   AMENITYID  HASPARKINGSPACE  PARKINGSPACEPRICE  HASTERRACE  HASLIFT  ...  \\\n0          3                0                1.0           0        1  ...   \n1          3                0                1.0           0        1  ...   \n2          3                0                1.0           1        0  ...   \n3          3                0                1.0           0        1  ...   \n4          3                0                1.0           0        0  ...   \n\n   DISTANCE_TO_METRO  DISTANCE_TO_MAIN_STREET  LONGITUDE   LATITUDE  \\\n0           0.254412                 3.027988  -3.650253  40.473921   \n1           0.268472                 4.693939  -3.640243  40.384968   \n2           1.061146                 2.623258  -3.665263  40.384547   \n3           0.427977                 3.131739  -3.651790  40.430336   \n4           0.377045                 2.702218  -3.725637  40.384103   \n\n        NEIGHBORHOOD  ZIP_CODE  PERIOD_201803  PERIOD_201806  PERIOD_201809  \\\n0      Pinar del Rey     28033              0              0              1   \n1  Palomeras sureste     28018              0              1              0   \n2          San Diego     28018              1              0              0   \n3             Ventas     28017              1              0              0   \n4        Buena Vista     28019              0              0              0   \n\n   PERIOD_201812  \n0              0  \n1              0  \n2              0  \n3              0  \n4              1  \n\n[5 rows x 43 columns]",
      "text/html": "<div>\n<style scoped>\n    .dataframe tbody tr th:only-of-type {\n        vertical-align: middle;\n    }\n\n    .dataframe tbody tr th {\n        vertical-align: top;\n    }\n\n    .dataframe thead th {\n        text-align: right;\n    }\n</style>\n<table border=\"1\" class=\"dataframe\">\n  <thead>\n    <tr style=\"text-align: right;\">\n      <th></th>\n      <th>ASSETID</th>\n      <th>PRICE</th>\n      <th>CONSTRUCTEDAREA</th>\n      <th>ROOMNUMBER</th>\n      <th>BATHNUMBER</th>\n      <th>AMENITYID</th>\n      <th>HASPARKINGSPACE</th>\n      <th>PARKINGSPACEPRICE</th>\n      <th>HASTERRACE</th>\n      <th>HASLIFT</th>\n      <th>...</th>\n      <th>DISTANCE_TO_METRO</th>\n      <th>DISTANCE_TO_MAIN_STREET</th>\n      <th>LONGITUDE</th>\n      <th>LATITUDE</th>\n      <th>NEIGHBORHOOD</th>\n      <th>ZIP_CODE</th>\n      <th>PERIOD_201803</th>\n      <th>PERIOD_201806</th>\n      <th>PERIOD_201809</th>\n      <th>PERIOD_201812</th>\n    </tr>\n  </thead>\n  <tbody>\n    <tr>\n      <th>0</th>\n      <td>A10000037964896093228</td>\n      <td>255000</td>\n      <td>97</td>\n      <td>3</td>\n      <td>2</td>\n      <td>3</td>\n      <td>0</td>\n      <td>1.0</td>\n      <td>0</td>\n      <td>1</td>\n      <td>...</td>\n      <td>0.254412</td>\n      <td>3.027988</td>\n      <td>-3.650253</td>\n      <td>40.473921</td>\n      <td>Pinar del Rey</td>\n      <td>28033</td>\n      <td>0</td>\n      <td>0</td>\n      <td>1</td>\n      <td>0</td>\n    </tr>\n    <tr>\n      <th>1</th>\n      <td>A10000072440601830803</td>\n      <td>82000</td>\n      <td>62</td>\n      <td>2</td>\n      <td>1</td>\n      <td>3</td>\n      <td>0</td>\n      <td>1.0</td>\n      <td>0</td>\n      <td>1</td>\n      <td>...</td>\n      <td>0.268472</td>\n      <td>4.693939</td>\n      <td>-3.640243</td>\n      <td>40.384968</td>\n      <td>Palomeras sureste</td>\n      <td>28018</td>\n      <td>0</td>\n      <td>1</td>\n      <td>0</td>\n      <td>0</td>\n    </tr>\n    <tr>\n      <th>2</th>\n      <td>A10000538600815177437</td>\n      <td>133000</td>\n      <td>67</td>\n      <td>3</td>\n      <td>1</td>\n      <td>3</td>\n      <td>0</td>\n      <td>1.0</td>\n      <td>1</td>\n      <td>0</td>\n      <td>...</td>\n      <td>1.061146</td>\n      <td>2.623258</td>\n      <td>-3.665263</td>\n      <td>40.384547</td>\n      <td>San Diego</td>\n      <td>28018</td>\n      <td>1</td>\n      <td>0</td>\n      <td>0</td>\n      <td>0</td>\n    </tr>\n    <tr>\n      <th>3</th>\n      <td>A10000654405436195291</td>\n      <td>204000</td>\n      <td>180</td>\n      <td>3</td>\n      <td>2</td>\n      <td>3</td>\n      <td>0</td>\n      <td>1.0</td>\n      <td>0</td>\n      <td>1</td>\n      <td>...</td>\n      <td>0.427977</td>\n      <td>3.131739</td>\n      <td>-3.651790</td>\n      <td>40.430336</td>\n      <td>Ventas</td>\n      <td>28017</td>\n      <td>1</td>\n      <td>0</td>\n      <td>0</td>\n      <td>0</td>\n    </tr>\n    <tr>\n      <th>4</th>\n      <td>A10000872160480475600</td>\n      <td>161000</td>\n      <td>54</td>\n      <td>2</td>\n      <td>1</td>\n      <td>3</td>\n      <td>0</td>\n      <td>1.0</td>\n      <td>0</td>\n      <td>0</td>\n      <td>...</td>\n      <td>0.377045</td>\n      <td>2.702218</td>\n      <td>-3.725637</td>\n      <td>40.384103</td>\n      <td>Buena Vista</td>\n      <td>28019</td>\n      <td>0</td>\n      <td>0</td>\n      <td>0</td>\n      <td>1</td>\n    </tr>\n  </tbody>\n</table>\n<p>5 rows × 43 columns</p>\n</div>"
     },
     "execution_count": 64,
     "metadata": {},
     "output_type": "execute_result"
    }
   ],
   "source": [
    "data.head()"
   ],
   "metadata": {
    "collapsed": false,
    "ExecuteTime": {
     "end_time": "2024-07-06T14:34:15.496212500Z",
     "start_time": "2024-07-06T14:34:15.467885600Z"
    }
   }
  },
  {
   "cell_type": "code",
   "execution_count": 65,
   "outputs": [
    {
     "data": {
      "text/plain": "    osm_id  code         fclass                   name   ref oneway  maxspeed  \\\n0  3996189  5111       motorway                   M-40  M-40      F       100   \n1  3996190  5113        primary  Rotonda de Arcentales  None      B         0   \n2  3996191  5131  motorway_link                   None  None      F        70   \n3  3996192  5113        primary        Plaza de Grecia  None      B         0   \n4  3996195  5122    residential    Calle de Mánchester  None      F         0   \n\n   layer bridge tunnel                                           geometry  \n0      0      F      F  LINESTRING (-3.74414 40.36183, -3.74372 40.361...  \n1      1      F      F  LINESTRING (-3.59691 40.43058, -3.59703 40.430...  \n2      0      F      F  LINESTRING (-3.59786 40.42672, -3.59771 40.427...  \n3      0      F      F  LINESTRING (-3.60803 40.43482, -3.60800 40.43479)  \n4      0      F      F  LINESTRING (-3.60687 40.42931, -3.60662 40.429...  ",
      "text/html": "<div>\n<style scoped>\n    .dataframe tbody tr th:only-of-type {\n        vertical-align: middle;\n    }\n\n    .dataframe tbody tr th {\n        vertical-align: top;\n    }\n\n    .dataframe thead th {\n        text-align: right;\n    }\n</style>\n<table border=\"1\" class=\"dataframe\">\n  <thead>\n    <tr style=\"text-align: right;\">\n      <th></th>\n      <th>osm_id</th>\n      <th>code</th>\n      <th>fclass</th>\n      <th>name</th>\n      <th>ref</th>\n      <th>oneway</th>\n      <th>maxspeed</th>\n      <th>layer</th>\n      <th>bridge</th>\n      <th>tunnel</th>\n      <th>geometry</th>\n    </tr>\n  </thead>\n  <tbody>\n    <tr>\n      <th>0</th>\n      <td>3996189</td>\n      <td>5111</td>\n      <td>motorway</td>\n      <td>M-40</td>\n      <td>M-40</td>\n      <td>F</td>\n      <td>100</td>\n      <td>0</td>\n      <td>F</td>\n      <td>F</td>\n      <td>LINESTRING (-3.74414 40.36183, -3.74372 40.361...</td>\n    </tr>\n    <tr>\n      <th>1</th>\n      <td>3996190</td>\n      <td>5113</td>\n      <td>primary</td>\n      <td>Rotonda de Arcentales</td>\n      <td>None</td>\n      <td>B</td>\n      <td>0</td>\n      <td>1</td>\n      <td>F</td>\n      <td>F</td>\n      <td>LINESTRING (-3.59691 40.43058, -3.59703 40.430...</td>\n    </tr>\n    <tr>\n      <th>2</th>\n      <td>3996191</td>\n      <td>5131</td>\n      <td>motorway_link</td>\n      <td>None</td>\n      <td>None</td>\n      <td>F</td>\n      <td>70</td>\n      <td>0</td>\n      <td>F</td>\n      <td>F</td>\n      <td>LINESTRING (-3.59786 40.42672, -3.59771 40.427...</td>\n    </tr>\n    <tr>\n      <th>3</th>\n      <td>3996192</td>\n      <td>5113</td>\n      <td>primary</td>\n      <td>Plaza de Grecia</td>\n      <td>None</td>\n      <td>B</td>\n      <td>0</td>\n      <td>0</td>\n      <td>F</td>\n      <td>F</td>\n      <td>LINESTRING (-3.60803 40.43482, -3.60800 40.43479)</td>\n    </tr>\n    <tr>\n      <th>4</th>\n      <td>3996195</td>\n      <td>5122</td>\n      <td>residential</td>\n      <td>Calle de Mánchester</td>\n      <td>None</td>\n      <td>F</td>\n      <td>0</td>\n      <td>0</td>\n      <td>F</td>\n      <td>F</td>\n      <td>LINESTRING (-3.60687 40.42931, -3.60662 40.429...</td>\n    </tr>\n  </tbody>\n</table>\n</div>"
     },
     "execution_count": 65,
     "metadata": {},
     "output_type": "execute_result"
    }
   ],
   "source": [
    "roads_gdf.head()"
   ],
   "metadata": {
    "collapsed": false,
    "ExecuteTime": {
     "end_time": "2024-07-06T14:34:15.575683100Z",
     "start_time": "2024-07-06T14:34:15.498213300Z"
    }
   }
  },
  {
   "cell_type": "markdown",
   "source": [
    "# Create feature on types of road"
   ],
   "metadata": {
    "collapsed": false
   }
  },
  {
   "cell_type": "markdown",
   "source": [
    "__Find type of road for each house__"
   ],
   "metadata": {
    "id": "Fyh8AN0psZVn"
   }
  },
  {
   "cell_type": "code",
   "execution_count": 66,
   "outputs": [],
   "source": [
    "# Create function to create Point Objects from LATITUDE and LONGITUDE Columns\n",
    "def create_point_from_lat_lon(lat, lon):\n",
    "    try:\n",
    "        return Point(float(lon), float(lat))\n",
    "    except Exception as e:\n",
    "        print(f\"Error creating point from lat/lon: {e}\")\n",
    "        return None\n",
    "    \n",
    "# Create Geometry Column Using LATITUDE and LONGITUDE Columns\n",
    "data['GEOMETRY'] = data.apply(lambda row: create_point_from_lat_lon(row['LATITUDE'], row['LONGITUDE']), axis=1)"
   ],
   "metadata": {
    "collapsed": false,
    "ExecuteTime": {
     "end_time": "2024-07-06T14:34:17.106540900Z",
     "start_time": "2024-07-06T14:34:15.517685Z"
    }
   }
  },
  {
   "cell_type": "code",
   "execution_count": 67,
   "outputs": [
    {
     "data": {
      "text/plain": "                 ASSETID   PRICE  CONSTRUCTEDAREA  ROOMNUMBER  BATHNUMBER  \\\n0  A10000037964896093228  255000               97           3           2   \n1  A10000072440601830803   82000               62           2           1   \n2  A10000538600815177437  133000               67           3           1   \n3  A10000654405436195291  204000              180           3           2   \n4  A10000872160480475600  161000               54           2           1   \n\n   AMENITYID  HASPARKINGSPACE  PARKINGSPACEPRICE  HASTERRACE  HASLIFT  ...  \\\n0          3                0                1.0           0        1  ...   \n1          3                0                1.0           0        1  ...   \n2          3                0                1.0           1        0  ...   \n3          3                0                1.0           0        1  ...   \n4          3                0                1.0           0        0  ...   \n\n   DISTANCE_TO_MAIN_STREET  LONGITUDE   LATITUDE       NEIGHBORHOOD  ZIP_CODE  \\\n0                 3.027988  -3.650253  40.473921      Pinar del Rey     28033   \n1                 4.693939  -3.640243  40.384968  Palomeras sureste     28018   \n2                 2.623258  -3.665263  40.384547          San Diego     28018   \n3                 3.131739  -3.651790  40.430336             Ventas     28017   \n4                 2.702218  -3.725637  40.384103        Buena Vista     28019   \n\n   PERIOD_201803  PERIOD_201806  PERIOD_201809  PERIOD_201812  \\\n0              0              0              1              0   \n1              0              1              0              0   \n2              1              0              0              0   \n3              1              0              0              0   \n4              0              0              0              1   \n\n                    GEOMETRY  \n0  POINT (-3.65025 40.47392)  \n1  POINT (-3.64024 40.38497)  \n2  POINT (-3.66526 40.38455)  \n3  POINT (-3.65179 40.43034)  \n4  POINT (-3.72564 40.38410)  \n\n[5 rows x 44 columns]",
      "text/html": "<div>\n<style scoped>\n    .dataframe tbody tr th:only-of-type {\n        vertical-align: middle;\n    }\n\n    .dataframe tbody tr th {\n        vertical-align: top;\n    }\n\n    .dataframe thead th {\n        text-align: right;\n    }\n</style>\n<table border=\"1\" class=\"dataframe\">\n  <thead>\n    <tr style=\"text-align: right;\">\n      <th></th>\n      <th>ASSETID</th>\n      <th>PRICE</th>\n      <th>CONSTRUCTEDAREA</th>\n      <th>ROOMNUMBER</th>\n      <th>BATHNUMBER</th>\n      <th>AMENITYID</th>\n      <th>HASPARKINGSPACE</th>\n      <th>PARKINGSPACEPRICE</th>\n      <th>HASTERRACE</th>\n      <th>HASLIFT</th>\n      <th>...</th>\n      <th>DISTANCE_TO_MAIN_STREET</th>\n      <th>LONGITUDE</th>\n      <th>LATITUDE</th>\n      <th>NEIGHBORHOOD</th>\n      <th>ZIP_CODE</th>\n      <th>PERIOD_201803</th>\n      <th>PERIOD_201806</th>\n      <th>PERIOD_201809</th>\n      <th>PERIOD_201812</th>\n      <th>GEOMETRY</th>\n    </tr>\n  </thead>\n  <tbody>\n    <tr>\n      <th>0</th>\n      <td>A10000037964896093228</td>\n      <td>255000</td>\n      <td>97</td>\n      <td>3</td>\n      <td>2</td>\n      <td>3</td>\n      <td>0</td>\n      <td>1.0</td>\n      <td>0</td>\n      <td>1</td>\n      <td>...</td>\n      <td>3.027988</td>\n      <td>-3.650253</td>\n      <td>40.473921</td>\n      <td>Pinar del Rey</td>\n      <td>28033</td>\n      <td>0</td>\n      <td>0</td>\n      <td>1</td>\n      <td>0</td>\n      <td>POINT (-3.65025 40.47392)</td>\n    </tr>\n    <tr>\n      <th>1</th>\n      <td>A10000072440601830803</td>\n      <td>82000</td>\n      <td>62</td>\n      <td>2</td>\n      <td>1</td>\n      <td>3</td>\n      <td>0</td>\n      <td>1.0</td>\n      <td>0</td>\n      <td>1</td>\n      <td>...</td>\n      <td>4.693939</td>\n      <td>-3.640243</td>\n      <td>40.384968</td>\n      <td>Palomeras sureste</td>\n      <td>28018</td>\n      <td>0</td>\n      <td>1</td>\n      <td>0</td>\n      <td>0</td>\n      <td>POINT (-3.64024 40.38497)</td>\n    </tr>\n    <tr>\n      <th>2</th>\n      <td>A10000538600815177437</td>\n      <td>133000</td>\n      <td>67</td>\n      <td>3</td>\n      <td>1</td>\n      <td>3</td>\n      <td>0</td>\n      <td>1.0</td>\n      <td>1</td>\n      <td>0</td>\n      <td>...</td>\n      <td>2.623258</td>\n      <td>-3.665263</td>\n      <td>40.384547</td>\n      <td>San Diego</td>\n      <td>28018</td>\n      <td>1</td>\n      <td>0</td>\n      <td>0</td>\n      <td>0</td>\n      <td>POINT (-3.66526 40.38455)</td>\n    </tr>\n    <tr>\n      <th>3</th>\n      <td>A10000654405436195291</td>\n      <td>204000</td>\n      <td>180</td>\n      <td>3</td>\n      <td>2</td>\n      <td>3</td>\n      <td>0</td>\n      <td>1.0</td>\n      <td>0</td>\n      <td>1</td>\n      <td>...</td>\n      <td>3.131739</td>\n      <td>-3.651790</td>\n      <td>40.430336</td>\n      <td>Ventas</td>\n      <td>28017</td>\n      <td>1</td>\n      <td>0</td>\n      <td>0</td>\n      <td>0</td>\n      <td>POINT (-3.65179 40.43034)</td>\n    </tr>\n    <tr>\n      <th>4</th>\n      <td>A10000872160480475600</td>\n      <td>161000</td>\n      <td>54</td>\n      <td>2</td>\n      <td>1</td>\n      <td>3</td>\n      <td>0</td>\n      <td>1.0</td>\n      <td>0</td>\n      <td>0</td>\n      <td>...</td>\n      <td>2.702218</td>\n      <td>-3.725637</td>\n      <td>40.384103</td>\n      <td>Buena Vista</td>\n      <td>28019</td>\n      <td>0</td>\n      <td>0</td>\n      <td>0</td>\n      <td>1</td>\n      <td>POINT (-3.72564 40.38410)</td>\n    </tr>\n  </tbody>\n</table>\n<p>5 rows × 44 columns</p>\n</div>"
     },
     "execution_count": 67,
     "metadata": {},
     "output_type": "execute_result"
    }
   ],
   "source": [
    "# Convert houses DataFrame to GeoDataFrame\n",
    "sale_gdf = gpd.GeoDataFrame(data, geometry='GEOMETRY')\n",
    "sale_gdf.set_crs(epsg=4326, inplace=True)\n",
    "sale_gdf.head()"
   ],
   "metadata": {
    "collapsed": false,
    "ExecuteTime": {
     "end_time": "2024-07-06T14:34:17.778637700Z",
     "start_time": "2024-07-06T14:34:17.109493200Z"
    }
   }
  },
  {
   "cell_type": "code",
   "execution_count": 68,
   "outputs": [
    {
     "data": {
      "text/plain": "    osm_id  code         fclass                   name   ref oneway  maxspeed  \\\n0  3996189  5111       motorway                   M-40  M-40      F       100   \n1  3996190  5113        primary  Rotonda de Arcentales  None      B         0   \n2  3996191  5131  motorway_link                   None  None      F        70   \n3  3996192  5113        primary        Plaza de Grecia  None      B         0   \n4  3996195  5122    residential    Calle de Mánchester  None      F         0   \n\n   layer bridge tunnel                                           geometry  \n0      0      F      F  LINESTRING (-3.74414 40.36183, -3.74372 40.361...  \n1      1      F      F  LINESTRING (-3.59691 40.43058, -3.59703 40.430...  \n2      0      F      F  LINESTRING (-3.59786 40.42672, -3.59771 40.427...  \n3      0      F      F  LINESTRING (-3.60803 40.43482, -3.60800 40.43479)  \n4      0      F      F  LINESTRING (-3.60687 40.42931, -3.60662 40.429...  ",
      "text/html": "<div>\n<style scoped>\n    .dataframe tbody tr th:only-of-type {\n        vertical-align: middle;\n    }\n\n    .dataframe tbody tr th {\n        vertical-align: top;\n    }\n\n    .dataframe thead th {\n        text-align: right;\n    }\n</style>\n<table border=\"1\" class=\"dataframe\">\n  <thead>\n    <tr style=\"text-align: right;\">\n      <th></th>\n      <th>osm_id</th>\n      <th>code</th>\n      <th>fclass</th>\n      <th>name</th>\n      <th>ref</th>\n      <th>oneway</th>\n      <th>maxspeed</th>\n      <th>layer</th>\n      <th>bridge</th>\n      <th>tunnel</th>\n      <th>geometry</th>\n    </tr>\n  </thead>\n  <tbody>\n    <tr>\n      <th>0</th>\n      <td>3996189</td>\n      <td>5111</td>\n      <td>motorway</td>\n      <td>M-40</td>\n      <td>M-40</td>\n      <td>F</td>\n      <td>100</td>\n      <td>0</td>\n      <td>F</td>\n      <td>F</td>\n      <td>LINESTRING (-3.74414 40.36183, -3.74372 40.361...</td>\n    </tr>\n    <tr>\n      <th>1</th>\n      <td>3996190</td>\n      <td>5113</td>\n      <td>primary</td>\n      <td>Rotonda de Arcentales</td>\n      <td>None</td>\n      <td>B</td>\n      <td>0</td>\n      <td>1</td>\n      <td>F</td>\n      <td>F</td>\n      <td>LINESTRING (-3.59691 40.43058, -3.59703 40.430...</td>\n    </tr>\n    <tr>\n      <th>2</th>\n      <td>3996191</td>\n      <td>5131</td>\n      <td>motorway_link</td>\n      <td>None</td>\n      <td>None</td>\n      <td>F</td>\n      <td>70</td>\n      <td>0</td>\n      <td>F</td>\n      <td>F</td>\n      <td>LINESTRING (-3.59786 40.42672, -3.59771 40.427...</td>\n    </tr>\n    <tr>\n      <th>3</th>\n      <td>3996192</td>\n      <td>5113</td>\n      <td>primary</td>\n      <td>Plaza de Grecia</td>\n      <td>None</td>\n      <td>B</td>\n      <td>0</td>\n      <td>0</td>\n      <td>F</td>\n      <td>F</td>\n      <td>LINESTRING (-3.60803 40.43482, -3.60800 40.43479)</td>\n    </tr>\n    <tr>\n      <th>4</th>\n      <td>3996195</td>\n      <td>5122</td>\n      <td>residential</td>\n      <td>Calle de Mánchester</td>\n      <td>None</td>\n      <td>F</td>\n      <td>0</td>\n      <td>0</td>\n      <td>F</td>\n      <td>F</td>\n      <td>LINESTRING (-3.60687 40.42931, -3.60662 40.429...</td>\n    </tr>\n  </tbody>\n</table>\n</div>"
     },
     "execution_count": 68,
     "metadata": {},
     "output_type": "execute_result"
    }
   ],
   "source": [
    "# Ensure the roads geometry is parsed correctly\n",
    "roads_gdf = roads_gdf.to_crs(epsg=4326)\n",
    "roads_gdf.head()"
   ],
   "metadata": {
    "collapsed": false,
    "ExecuteTime": {
     "end_time": "2024-07-06T14:34:17.945099600Z",
     "start_time": "2024-07-06T14:34:17.773638500Z"
    }
   }
  },
  {
   "cell_type": "code",
   "execution_count": 69,
   "outputs": [],
   "source": [
    "# Reproject to a projected CRS (e.g., EPSG:3857)\n",
    "sale_gdf = sale_gdf.to_crs(epsg=3857)\n",
    "roads_gdf = roads_gdf.to_crs(epsg=3857)\n",
    "\n",
    "# Ensure unique indices\n",
    "sale_gdf = sale_gdf.reset_index(drop=True)\n",
    "roads_gdf = roads_gdf.reset_index(drop=True)\n",
    "\n",
    "# Convert all column names to lowercase to avoid case sensitivity issues\n",
    "roads_gdf.columns = roads_gdf.columns.str.lower()\n",
    "sale_gdf.columns = sale_gdf.columns.str.lower()"
   ],
   "metadata": {
    "collapsed": false,
    "ExecuteTime": {
     "end_time": "2024-07-06T14:34:22.684371400Z",
     "start_time": "2024-07-06T14:34:17.880101700Z"
    }
   }
  },
  {
   "cell_type": "code",
   "execution_count": 70,
   "outputs": [],
   "source": [
    "# Convert houses DataFrame to GeoDataFrame\n",
    "sale_gdf = gpd.GeoDataFrame(data, geometry='GEOMETRY')\n",
    "sale_gdf.set_crs(epsg=4326, inplace=True)\n",
    "\n",
    "# Ensure the roads geometry is parsed correctly\n",
    "roads_gdf = roads_gdf.to_crs(epsg=4326)\n",
    "\n",
    "# Reproject to a projected CRS (e.g., EPSG:3857)\n",
    "sale_gdf = sale_gdf.to_crs(epsg=3857)\n",
    "roads_gdf = roads_gdf.to_crs(epsg=3857)\n",
    "\n",
    "# Ensure unique indices\n",
    "sale_gdf = sale_gdf.reset_index(drop=True)\n",
    "roads_gdf = roads_gdf.reset_index(drop=True)\n",
    "\n",
    "# Convert all column names to uppercase to avoid case sensitivity issues\n",
    "roads_gdf.columns = roads_gdf.columns.str.upper()\n",
    "sale_gdf.columns = sale_gdf.columns.str.upper()"
   ],
   "metadata": {
    "collapsed": false,
    "ExecuteTime": {
     "end_time": "2024-07-06T14:34:28.110186400Z",
     "start_time": "2024-07-06T14:34:22.690278800Z"
    }
   }
  },
  {
   "cell_type": "code",
   "execution_count": 71,
   "outputs": [
    {
     "data": {
      "text/plain": "    OSM_ID  CODE         FCLASS                   NAME   REF ONEWAY  MAXSPEED  \\\n0  3996189  5111       motorway                   M-40  M-40      F       100   \n1  3996190  5113        primary  Rotonda de Arcentales  None      B         0   \n2  3996191  5131  motorway_link                   None  None      F        70   \n3  3996192  5113        primary        Plaza de Grecia  None      B         0   \n4  3996195  5122    residential    Calle de Mánchester  None      F         0   \n\n   LAYER BRIDGE TUNNEL                                           GEOMETRY  \n0      0      F      F  LINESTRING (-416795.792 4918662.674, -416749.4...  \n1      1      F      F  LINESTRING (-400406.702 4928711.027, -400419.5...  \n2      0      F      F  LINESTRING (-400511.587 4928146.762, -400495.7...  \n3      0      F      F  LINESTRING (-401643.773 4929332.231, -401640.2...  \n4      0      F      F  LINESTRING (-401515.266 4928526.513, -401487.5...  ",
      "text/html": "<div>\n<style scoped>\n    .dataframe tbody tr th:only-of-type {\n        vertical-align: middle;\n    }\n\n    .dataframe tbody tr th {\n        vertical-align: top;\n    }\n\n    .dataframe thead th {\n        text-align: right;\n    }\n</style>\n<table border=\"1\" class=\"dataframe\">\n  <thead>\n    <tr style=\"text-align: right;\">\n      <th></th>\n      <th>OSM_ID</th>\n      <th>CODE</th>\n      <th>FCLASS</th>\n      <th>NAME</th>\n      <th>REF</th>\n      <th>ONEWAY</th>\n      <th>MAXSPEED</th>\n      <th>LAYER</th>\n      <th>BRIDGE</th>\n      <th>TUNNEL</th>\n      <th>GEOMETRY</th>\n    </tr>\n  </thead>\n  <tbody>\n    <tr>\n      <th>0</th>\n      <td>3996189</td>\n      <td>5111</td>\n      <td>motorway</td>\n      <td>M-40</td>\n      <td>M-40</td>\n      <td>F</td>\n      <td>100</td>\n      <td>0</td>\n      <td>F</td>\n      <td>F</td>\n      <td>LINESTRING (-416795.792 4918662.674, -416749.4...</td>\n    </tr>\n    <tr>\n      <th>1</th>\n      <td>3996190</td>\n      <td>5113</td>\n      <td>primary</td>\n      <td>Rotonda de Arcentales</td>\n      <td>None</td>\n      <td>B</td>\n      <td>0</td>\n      <td>1</td>\n      <td>F</td>\n      <td>F</td>\n      <td>LINESTRING (-400406.702 4928711.027, -400419.5...</td>\n    </tr>\n    <tr>\n      <th>2</th>\n      <td>3996191</td>\n      <td>5131</td>\n      <td>motorway_link</td>\n      <td>None</td>\n      <td>None</td>\n      <td>F</td>\n      <td>70</td>\n      <td>0</td>\n      <td>F</td>\n      <td>F</td>\n      <td>LINESTRING (-400511.587 4928146.762, -400495.7...</td>\n    </tr>\n    <tr>\n      <th>3</th>\n      <td>3996192</td>\n      <td>5113</td>\n      <td>primary</td>\n      <td>Plaza de Grecia</td>\n      <td>None</td>\n      <td>B</td>\n      <td>0</td>\n      <td>0</td>\n      <td>F</td>\n      <td>F</td>\n      <td>LINESTRING (-401643.773 4929332.231, -401640.2...</td>\n    </tr>\n    <tr>\n      <th>4</th>\n      <td>3996195</td>\n      <td>5122</td>\n      <td>residential</td>\n      <td>Calle de Mánchester</td>\n      <td>None</td>\n      <td>F</td>\n      <td>0</td>\n      <td>0</td>\n      <td>F</td>\n      <td>F</td>\n      <td>LINESTRING (-401515.266 4928526.513, -401487.5...</td>\n    </tr>\n  </tbody>\n</table>\n</div>"
     },
     "execution_count": 71,
     "metadata": {},
     "output_type": "execute_result"
    }
   ],
   "source": [
    "roads_gdf.head()"
   ],
   "metadata": {
    "collapsed": false,
    "ExecuteTime": {
     "end_time": "2024-07-06T14:34:28.147315600Z",
     "start_time": "2024-07-06T14:34:28.115189200Z"
    }
   }
  },
  {
   "cell_type": "code",
   "execution_count": 72,
   "outputs": [
    {
     "data": {
      "text/plain": "                 ASSETID   PRICE  CONSTRUCTEDAREA  ROOMNUMBER  BATHNUMBER  \\\n0  A10000037964896093228  255000               97           3           2   \n1  A10000072440601830803   82000               62           2           1   \n2  A10000538600815177437  133000               67           3           1   \n3  A10000654405436195291  204000              180           3           2   \n4  A10000872160480475600  161000               54           2           1   \n\n   AMENITYID  HASPARKINGSPACE  PARKINGSPACEPRICE  HASTERRACE  HASLIFT  ...  \\\n0          3                0                1.0           0        1  ...   \n1          3                0                1.0           0        1  ...   \n2          3                0                1.0           1        0  ...   \n3          3                0                1.0           0        1  ...   \n4          3                0                1.0           0        0  ...   \n\n   DISTANCE_TO_MAIN_STREET  LONGITUDE   LATITUDE       NEIGHBORHOOD  ZIP_CODE  \\\n0                 3.027988  -3.650253  40.473921      Pinar del Rey     28033   \n1                 4.693939  -3.640243  40.384968  Palomeras sureste     28018   \n2                 2.623258  -3.665263  40.384547          San Diego     28018   \n3                 3.131739  -3.651790  40.430336             Ventas     28017   \n4                 2.702218  -3.725637  40.384103        Buena Vista     28019   \n\n   PERIOD_201803  PERIOD_201806  PERIOD_201809  PERIOD_201812  \\\n0              0              0              1              0   \n1              0              1              0              0   \n2              1              0              0              0   \n3              1              0              0              0   \n4              0              0              0              1   \n\n                          GEOMETRY  \n0  POINT (-406344.353 4935052.081)  \n1  POINT (-405230.002 4922043.426)  \n2  POINT (-408015.174 4921981.971)  \n3  POINT (-406515.454 4928675.980)  \n4  POINT (-414736.046 4921917.057)  \n\n[5 rows x 44 columns]",
      "text/html": "<div>\n<style scoped>\n    .dataframe tbody tr th:only-of-type {\n        vertical-align: middle;\n    }\n\n    .dataframe tbody tr th {\n        vertical-align: top;\n    }\n\n    .dataframe thead th {\n        text-align: right;\n    }\n</style>\n<table border=\"1\" class=\"dataframe\">\n  <thead>\n    <tr style=\"text-align: right;\">\n      <th></th>\n      <th>ASSETID</th>\n      <th>PRICE</th>\n      <th>CONSTRUCTEDAREA</th>\n      <th>ROOMNUMBER</th>\n      <th>BATHNUMBER</th>\n      <th>AMENITYID</th>\n      <th>HASPARKINGSPACE</th>\n      <th>PARKINGSPACEPRICE</th>\n      <th>HASTERRACE</th>\n      <th>HASLIFT</th>\n      <th>...</th>\n      <th>DISTANCE_TO_MAIN_STREET</th>\n      <th>LONGITUDE</th>\n      <th>LATITUDE</th>\n      <th>NEIGHBORHOOD</th>\n      <th>ZIP_CODE</th>\n      <th>PERIOD_201803</th>\n      <th>PERIOD_201806</th>\n      <th>PERIOD_201809</th>\n      <th>PERIOD_201812</th>\n      <th>GEOMETRY</th>\n    </tr>\n  </thead>\n  <tbody>\n    <tr>\n      <th>0</th>\n      <td>A10000037964896093228</td>\n      <td>255000</td>\n      <td>97</td>\n      <td>3</td>\n      <td>2</td>\n      <td>3</td>\n      <td>0</td>\n      <td>1.0</td>\n      <td>0</td>\n      <td>1</td>\n      <td>...</td>\n      <td>3.027988</td>\n      <td>-3.650253</td>\n      <td>40.473921</td>\n      <td>Pinar del Rey</td>\n      <td>28033</td>\n      <td>0</td>\n      <td>0</td>\n      <td>1</td>\n      <td>0</td>\n      <td>POINT (-406344.353 4935052.081)</td>\n    </tr>\n    <tr>\n      <th>1</th>\n      <td>A10000072440601830803</td>\n      <td>82000</td>\n      <td>62</td>\n      <td>2</td>\n      <td>1</td>\n      <td>3</td>\n      <td>0</td>\n      <td>1.0</td>\n      <td>0</td>\n      <td>1</td>\n      <td>...</td>\n      <td>4.693939</td>\n      <td>-3.640243</td>\n      <td>40.384968</td>\n      <td>Palomeras sureste</td>\n      <td>28018</td>\n      <td>0</td>\n      <td>1</td>\n      <td>0</td>\n      <td>0</td>\n      <td>POINT (-405230.002 4922043.426)</td>\n    </tr>\n    <tr>\n      <th>2</th>\n      <td>A10000538600815177437</td>\n      <td>133000</td>\n      <td>67</td>\n      <td>3</td>\n      <td>1</td>\n      <td>3</td>\n      <td>0</td>\n      <td>1.0</td>\n      <td>1</td>\n      <td>0</td>\n      <td>...</td>\n      <td>2.623258</td>\n      <td>-3.665263</td>\n      <td>40.384547</td>\n      <td>San Diego</td>\n      <td>28018</td>\n      <td>1</td>\n      <td>0</td>\n      <td>0</td>\n      <td>0</td>\n      <td>POINT (-408015.174 4921981.971)</td>\n    </tr>\n    <tr>\n      <th>3</th>\n      <td>A10000654405436195291</td>\n      <td>204000</td>\n      <td>180</td>\n      <td>3</td>\n      <td>2</td>\n      <td>3</td>\n      <td>0</td>\n      <td>1.0</td>\n      <td>0</td>\n      <td>1</td>\n      <td>...</td>\n      <td>3.131739</td>\n      <td>-3.651790</td>\n      <td>40.430336</td>\n      <td>Ventas</td>\n      <td>28017</td>\n      <td>1</td>\n      <td>0</td>\n      <td>0</td>\n      <td>0</td>\n      <td>POINT (-406515.454 4928675.980)</td>\n    </tr>\n    <tr>\n      <th>4</th>\n      <td>A10000872160480475600</td>\n      <td>161000</td>\n      <td>54</td>\n      <td>2</td>\n      <td>1</td>\n      <td>3</td>\n      <td>0</td>\n      <td>1.0</td>\n      <td>0</td>\n      <td>0</td>\n      <td>...</td>\n      <td>2.702218</td>\n      <td>-3.725637</td>\n      <td>40.384103</td>\n      <td>Buena Vista</td>\n      <td>28019</td>\n      <td>0</td>\n      <td>0</td>\n      <td>0</td>\n      <td>1</td>\n      <td>POINT (-414736.046 4921917.057)</td>\n    </tr>\n  </tbody>\n</table>\n<p>5 rows × 44 columns</p>\n</div>"
     },
     "execution_count": 72,
     "metadata": {},
     "output_type": "execute_result"
    }
   ],
   "source": [
    "sale_gdf.head()"
   ],
   "metadata": {
    "collapsed": false,
    "ExecuteTime": {
     "end_time": "2024-07-06T14:34:28.196763600Z",
     "start_time": "2024-07-06T14:34:28.141684300Z"
    }
   }
  },
  {
   "cell_type": "code",
   "execution_count": 73,
   "outputs": [],
   "source": [
    "# Set the geometry column explicitly\n",
    "sale_gdf = sale_gdf.set_geometry('GEOMETRY')\n",
    "roads_gdf = roads_gdf.set_geometry('GEOMETRY') "
   ],
   "metadata": {
    "collapsed": false,
    "ExecuteTime": {
     "end_time": "2024-07-06T14:34:28.224677100Z",
     "start_time": "2024-07-06T14:34:28.163763500Z"
    }
   }
  },
  {
   "cell_type": "code",
   "execution_count": 74,
   "outputs": [],
   "source": [
    "# Define a distance threshold in meters\n",
    "distance_threshold = 30\n",
    "\n",
    "# Classify houses based on road proximity\n",
    "road_types = ['motorway', 'motorway_link', 'primary', 'primary_link', 'secondary', 'secondary_link', 'tertiary', 'tertiary_link', 'pedestrian']\n",
    "\n",
    "# Create a copy of the houses GeoDataFrame to track remaining houses\n",
    "remaining_houses_gdf = sale_gdf.copy()\n",
    "classified_houses = []\n",
    "\n",
    "for road_type in road_types:\n",
    "    # Filter roads by road type\n",
    "    filtered_roads = roads_gdf[roads_gdf['FCLASS'] == road_type]\n",
    "\n",
    "    if not filtered_roads.empty:\n",
    "        # Perform the nearest spatial join\n",
    "        nearest_gdf = gpd.sjoin_nearest(remaining_houses_gdf, filtered_roads, how='left', distance_col='DISTANCE')\n",
    "\n",
    "        # Classify roads based on distance threshold\n",
    "        nearest_gdf['CLASSIFIED_ROAD_FCLASS'] = nearest_gdf.apply(\n",
    "            lambda row: road_type if row['DISTANCE'] <= distance_threshold else 'other', axis=1\n",
    "        )\n",
    "\n",
    "        # Filter only the classified houses\n",
    "        classified = nearest_gdf[nearest_gdf['CLASSIFIED_ROAD_FCLASS'] != 'other']\n",
    "        classified_houses.append(classified[['ASSETID', 'CLASSIFIED_ROAD_FCLASS']])\n",
    "\n",
    "        # Remove classified houses from the remaining pool\n",
    "        remaining_houses_gdf = remaining_houses_gdf[~remaining_houses_gdf['ASSETID'].isin(classified['ASSETID'])]"
   ],
   "metadata": {
    "collapsed": false,
    "ExecuteTime": {
     "end_time": "2024-07-06T14:34:48.890589Z",
     "start_time": "2024-07-06T14:34:28.222682800Z"
    }
   }
  },
  {
   "cell_type": "code",
   "source": [
    "# Combine all classified houses\n",
    "combined_classified_df = pd.concat(classified_houses).drop_duplicates('ASSETID')\n",
    "\n",
    "# Check for houses not classified yet and classify based on nearest road\n",
    "remaining_houses = sale_gdf[~sale_gdf['ASSETID'].isin(combined_classified_df['ASSETID'])]\n",
    "nearest_remaining_gdf = gpd.sjoin_nearest(remaining_houses, roads_gdf, how='left', distance_col='DISTANCE')\n",
    "\n",
    "nearest_remaining_gdf['CLASSIFIED_ROAD_FCLASS'] = nearest_remaining_gdf.apply(\n",
    "    lambda row: row['FCLASS'] if row['DISTANCE'] <= distance_threshold else 'other', axis=1\n",
    ")\n",
    "\n",
    "# Combine all results\n",
    "final_classified_df = pd.concat([combined_classified_df, nearest_remaining_gdf[['ASSETID', 'CLASSIFIED_ROAD_FCLASS']]])\n",
    "\n",
    "# Merge back to the original GeoDataFrame\n",
    "merged_gdf = pd.merge(sale_gdf, final_classified_df[['ASSETID', 'CLASSIFIED_ROAD_FCLASS']], left_on='ASSETID', right_on='ASSETID', how='left')"
   ],
   "metadata": {
    "id": "Y2sulplJzRi8",
    "ExecuteTime": {
     "end_time": "2024-07-06T14:34:54.658510100Z",
     "start_time": "2024-07-06T14:34:48.896590300Z"
    }
   },
   "execution_count": 75,
   "outputs": []
  },
  {
   "cell_type": "markdown",
   "source": [
    "__Aggregating type of roads__"
   ],
   "metadata": {
    "id": "YoRUd7VssR6F"
   }
  },
  {
   "cell_type": "code",
   "source": [
    "# Define road type groups\n",
    "road_type_groups = {\n",
    "    \"motorway/primary\": ['motorway', 'motorway_link', 'trunk', 'trunk_link', 'primary', 'primary_link'],\n",
    "    \"secondary/tertiary\": ['secondary', 'secondary_link', 'tertiary', 'tertiary_link'],\n",
    "    \"pedestrian\": ['pedestrian', 'footway']\n",
    "}\n",
    "\n",
    "# Function to map the classified_road_fclass to the defined groups\n",
    "def map_road_classification(road_class):\n",
    "    for group, types in road_type_groups.items():\n",
    "        if road_class in types:\n",
    "            return group\n",
    "    return 'other'\n",
    "\n",
    "# Apply the mapping function to the classified_road_fclass column\n",
    "merged_gdf['ROAD_CLASS_GROUP'] = merged_gdf['CLASSIFIED_ROAD_FCLASS'].apply(map_road_classification)"
   ],
   "metadata": {
    "colab": {
     "base_uri": "https://localhost:8080/",
     "height": 659
    },
    "id": "sUm0NUbdnurc",
    "outputId": "b28fbb51-d909-4a5e-9b50-f6992789bb1e",
    "ExecuteTime": {
     "end_time": "2024-07-06T14:34:54.704276900Z",
     "start_time": "2024-07-06T14:34:54.652552400Z"
    }
   },
   "execution_count": 76,
   "outputs": []
  },
  {
   "cell_type": "code",
   "execution_count": 77,
   "outputs": [
    {
     "data": {
      "text/plain": "                 ASSETID   PRICE  CONSTRUCTEDAREA  ROOMNUMBER  BATHNUMBER  \\\n0  A10000037964896093228  255000               97           3           2   \n1  A10000072440601830803   82000               62           2           1   \n2  A10000538600815177437  133000               67           3           1   \n3  A10000654405436195291  204000              180           3           2   \n4  A10000872160480475600  161000               54           2           1   \n\n   AMENITYID  HASPARKINGSPACE  PARKINGSPACEPRICE  HASTERRACE  HASLIFT  ...  \\\n0          3                0                1.0           0        1  ...   \n1          3                0                1.0           0        1  ...   \n2          3                0                1.0           1        0  ...   \n3          3                0                1.0           0        1  ...   \n4          3                0                1.0           0        0  ...   \n\n    LATITUDE       NEIGHBORHOOD  ZIP_CODE  PERIOD_201803  PERIOD_201806  \\\n0  40.473921      Pinar del Rey     28033              0              0   \n1  40.384968  Palomeras sureste     28018              0              1   \n2  40.384547          San Diego     28018              1              0   \n3  40.430336             Ventas     28017              1              0   \n4  40.384103        Buena Vista     28019              0              0   \n\n   PERIOD_201809  PERIOD_201812                         GEOMETRY  \\\n0              1              0  POINT (-406344.353 4935052.081)   \n1              0              0  POINT (-405230.002 4922043.426)   \n2              0              0  POINT (-408015.174 4921981.971)   \n3              0              0  POINT (-406515.454 4928675.980)   \n4              0              1  POINT (-414736.046 4921917.057)   \n\n   CLASSIFIED_ROAD_FCLASS  ROAD_CLASS_GROUP  \n0             residential             other  \n1             residential             other  \n2             residential             other  \n3             residential             other  \n4             residential             other  \n\n[5 rows x 46 columns]",
      "text/html": "<div>\n<style scoped>\n    .dataframe tbody tr th:only-of-type {\n        vertical-align: middle;\n    }\n\n    .dataframe tbody tr th {\n        vertical-align: top;\n    }\n\n    .dataframe thead th {\n        text-align: right;\n    }\n</style>\n<table border=\"1\" class=\"dataframe\">\n  <thead>\n    <tr style=\"text-align: right;\">\n      <th></th>\n      <th>ASSETID</th>\n      <th>PRICE</th>\n      <th>CONSTRUCTEDAREA</th>\n      <th>ROOMNUMBER</th>\n      <th>BATHNUMBER</th>\n      <th>AMENITYID</th>\n      <th>HASPARKINGSPACE</th>\n      <th>PARKINGSPACEPRICE</th>\n      <th>HASTERRACE</th>\n      <th>HASLIFT</th>\n      <th>...</th>\n      <th>LATITUDE</th>\n      <th>NEIGHBORHOOD</th>\n      <th>ZIP_CODE</th>\n      <th>PERIOD_201803</th>\n      <th>PERIOD_201806</th>\n      <th>PERIOD_201809</th>\n      <th>PERIOD_201812</th>\n      <th>GEOMETRY</th>\n      <th>CLASSIFIED_ROAD_FCLASS</th>\n      <th>ROAD_CLASS_GROUP</th>\n    </tr>\n  </thead>\n  <tbody>\n    <tr>\n      <th>0</th>\n      <td>A10000037964896093228</td>\n      <td>255000</td>\n      <td>97</td>\n      <td>3</td>\n      <td>2</td>\n      <td>3</td>\n      <td>0</td>\n      <td>1.0</td>\n      <td>0</td>\n      <td>1</td>\n      <td>...</td>\n      <td>40.473921</td>\n      <td>Pinar del Rey</td>\n      <td>28033</td>\n      <td>0</td>\n      <td>0</td>\n      <td>1</td>\n      <td>0</td>\n      <td>POINT (-406344.353 4935052.081)</td>\n      <td>residential</td>\n      <td>other</td>\n    </tr>\n    <tr>\n      <th>1</th>\n      <td>A10000072440601830803</td>\n      <td>82000</td>\n      <td>62</td>\n      <td>2</td>\n      <td>1</td>\n      <td>3</td>\n      <td>0</td>\n      <td>1.0</td>\n      <td>0</td>\n      <td>1</td>\n      <td>...</td>\n      <td>40.384968</td>\n      <td>Palomeras sureste</td>\n      <td>28018</td>\n      <td>0</td>\n      <td>1</td>\n      <td>0</td>\n      <td>0</td>\n      <td>POINT (-405230.002 4922043.426)</td>\n      <td>residential</td>\n      <td>other</td>\n    </tr>\n    <tr>\n      <th>2</th>\n      <td>A10000538600815177437</td>\n      <td>133000</td>\n      <td>67</td>\n      <td>3</td>\n      <td>1</td>\n      <td>3</td>\n      <td>0</td>\n      <td>1.0</td>\n      <td>1</td>\n      <td>0</td>\n      <td>...</td>\n      <td>40.384547</td>\n      <td>San Diego</td>\n      <td>28018</td>\n      <td>1</td>\n      <td>0</td>\n      <td>0</td>\n      <td>0</td>\n      <td>POINT (-408015.174 4921981.971)</td>\n      <td>residential</td>\n      <td>other</td>\n    </tr>\n    <tr>\n      <th>3</th>\n      <td>A10000654405436195291</td>\n      <td>204000</td>\n      <td>180</td>\n      <td>3</td>\n      <td>2</td>\n      <td>3</td>\n      <td>0</td>\n      <td>1.0</td>\n      <td>0</td>\n      <td>1</td>\n      <td>...</td>\n      <td>40.430336</td>\n      <td>Ventas</td>\n      <td>28017</td>\n      <td>1</td>\n      <td>0</td>\n      <td>0</td>\n      <td>0</td>\n      <td>POINT (-406515.454 4928675.980)</td>\n      <td>residential</td>\n      <td>other</td>\n    </tr>\n    <tr>\n      <th>4</th>\n      <td>A10000872160480475600</td>\n      <td>161000</td>\n      <td>54</td>\n      <td>2</td>\n      <td>1</td>\n      <td>3</td>\n      <td>0</td>\n      <td>1.0</td>\n      <td>0</td>\n      <td>0</td>\n      <td>...</td>\n      <td>40.384103</td>\n      <td>Buena Vista</td>\n      <td>28019</td>\n      <td>0</td>\n      <td>0</td>\n      <td>0</td>\n      <td>1</td>\n      <td>POINT (-414736.046 4921917.057)</td>\n      <td>residential</td>\n      <td>other</td>\n    </tr>\n  </tbody>\n</table>\n<p>5 rows × 46 columns</p>\n</div>"
     },
     "execution_count": 77,
     "metadata": {},
     "output_type": "execute_result"
    }
   ],
   "source": [
    "merged_gdf.head()"
   ],
   "metadata": {
    "collapsed": false,
    "ExecuteTime": {
     "end_time": "2024-07-06T14:34:54.740292900Z",
     "start_time": "2024-07-06T14:34:54.706307500Z"
    }
   }
  },
  {
   "cell_type": "markdown",
   "source": [
    "__Apply categorical encoding__"
   ],
   "metadata": {
    "collapsed": false
   }
  },
  {
   "cell_type": "markdown",
   "source": [
    "- One-hot encoding of each type of road as there is no inherent order in the types of roads"
   ],
   "metadata": {
    "collapsed": false
   }
  },
  {
   "cell_type": "code",
   "execution_count": 78,
   "outputs": [
    {
     "name": "stdout",
     "output_type": "stream",
     "text": [
      "Final Houses GeoDataFrame with encoded road class groups (first 5 rows):\n"
     ]
    },
    {
     "data": {
      "text/plain": "                 ASSETID   PRICE  CONSTRUCTEDAREA  ROOMNUMBER  BATHNUMBER  \\\n0  A10000037964896093228  255000               97           3           2   \n1  A10000072440601830803   82000               62           2           1   \n2  A10000538600815177437  133000               67           3           1   \n3  A10000654405436195291  204000              180           3           2   \n4  A10000872160480475600  161000               54           2           1   \n\n   AMENITYID  HASPARKINGSPACE  PARKINGSPACEPRICE  HASTERRACE  HASLIFT  ...  \\\n0          3                0                1.0           0        1  ...   \n1          3                0                1.0           0        1  ...   \n2          3                0                1.0           1        0  ...   \n3          3                0                1.0           0        1  ...   \n4          3                0                1.0           0        0  ...   \n\n   PERIOD_201806  PERIOD_201809  PERIOD_201812  \\\n0              0              1              0   \n1              1              0              0   \n2              0              0              0   \n3              0              0              0   \n4              0              0              1   \n\n                          GEOMETRY  CLASSIFIED_ROAD_FCLASS  ROAD_CLASS_GROUP  \\\n0  POINT (-406344.353 4935052.081)             residential             other   \n1  POINT (-405230.002 4922043.426)             residential             other   \n2  POINT (-408015.174 4921981.971)             residential             other   \n3  POINT (-406515.454 4928675.980)             residential             other   \n4  POINT (-414736.046 4921917.057)             residential             other   \n\n   MOTORWAY/PRIMARY  OTHER  PEDESTRIAN  SECONDARY/TERTIARY  \n0             False   True       False               False  \n1             False   True       False               False  \n2             False   True       False               False  \n3             False   True       False               False  \n4             False   True       False               False  \n\n[5 rows x 50 columns]",
      "text/html": "<div>\n<style scoped>\n    .dataframe tbody tr th:only-of-type {\n        vertical-align: middle;\n    }\n\n    .dataframe tbody tr th {\n        vertical-align: top;\n    }\n\n    .dataframe thead th {\n        text-align: right;\n    }\n</style>\n<table border=\"1\" class=\"dataframe\">\n  <thead>\n    <tr style=\"text-align: right;\">\n      <th></th>\n      <th>ASSETID</th>\n      <th>PRICE</th>\n      <th>CONSTRUCTEDAREA</th>\n      <th>ROOMNUMBER</th>\n      <th>BATHNUMBER</th>\n      <th>AMENITYID</th>\n      <th>HASPARKINGSPACE</th>\n      <th>PARKINGSPACEPRICE</th>\n      <th>HASTERRACE</th>\n      <th>HASLIFT</th>\n      <th>...</th>\n      <th>PERIOD_201806</th>\n      <th>PERIOD_201809</th>\n      <th>PERIOD_201812</th>\n      <th>GEOMETRY</th>\n      <th>CLASSIFIED_ROAD_FCLASS</th>\n      <th>ROAD_CLASS_GROUP</th>\n      <th>MOTORWAY/PRIMARY</th>\n      <th>OTHER</th>\n      <th>PEDESTRIAN</th>\n      <th>SECONDARY/TERTIARY</th>\n    </tr>\n  </thead>\n  <tbody>\n    <tr>\n      <th>0</th>\n      <td>A10000037964896093228</td>\n      <td>255000</td>\n      <td>97</td>\n      <td>3</td>\n      <td>2</td>\n      <td>3</td>\n      <td>0</td>\n      <td>1.0</td>\n      <td>0</td>\n      <td>1</td>\n      <td>...</td>\n      <td>0</td>\n      <td>1</td>\n      <td>0</td>\n      <td>POINT (-406344.353 4935052.081)</td>\n      <td>residential</td>\n      <td>other</td>\n      <td>False</td>\n      <td>True</td>\n      <td>False</td>\n      <td>False</td>\n    </tr>\n    <tr>\n      <th>1</th>\n      <td>A10000072440601830803</td>\n      <td>82000</td>\n      <td>62</td>\n      <td>2</td>\n      <td>1</td>\n      <td>3</td>\n      <td>0</td>\n      <td>1.0</td>\n      <td>0</td>\n      <td>1</td>\n      <td>...</td>\n      <td>1</td>\n      <td>0</td>\n      <td>0</td>\n      <td>POINT (-405230.002 4922043.426)</td>\n      <td>residential</td>\n      <td>other</td>\n      <td>False</td>\n      <td>True</td>\n      <td>False</td>\n      <td>False</td>\n    </tr>\n    <tr>\n      <th>2</th>\n      <td>A10000538600815177437</td>\n      <td>133000</td>\n      <td>67</td>\n      <td>3</td>\n      <td>1</td>\n      <td>3</td>\n      <td>0</td>\n      <td>1.0</td>\n      <td>1</td>\n      <td>0</td>\n      <td>...</td>\n      <td>0</td>\n      <td>0</td>\n      <td>0</td>\n      <td>POINT (-408015.174 4921981.971)</td>\n      <td>residential</td>\n      <td>other</td>\n      <td>False</td>\n      <td>True</td>\n      <td>False</td>\n      <td>False</td>\n    </tr>\n    <tr>\n      <th>3</th>\n      <td>A10000654405436195291</td>\n      <td>204000</td>\n      <td>180</td>\n      <td>3</td>\n      <td>2</td>\n      <td>3</td>\n      <td>0</td>\n      <td>1.0</td>\n      <td>0</td>\n      <td>1</td>\n      <td>...</td>\n      <td>0</td>\n      <td>0</td>\n      <td>0</td>\n      <td>POINT (-406515.454 4928675.980)</td>\n      <td>residential</td>\n      <td>other</td>\n      <td>False</td>\n      <td>True</td>\n      <td>False</td>\n      <td>False</td>\n    </tr>\n    <tr>\n      <th>4</th>\n      <td>A10000872160480475600</td>\n      <td>161000</td>\n      <td>54</td>\n      <td>2</td>\n      <td>1</td>\n      <td>3</td>\n      <td>0</td>\n      <td>1.0</td>\n      <td>0</td>\n      <td>0</td>\n      <td>...</td>\n      <td>0</td>\n      <td>0</td>\n      <td>1</td>\n      <td>POINT (-414736.046 4921917.057)</td>\n      <td>residential</td>\n      <td>other</td>\n      <td>False</td>\n      <td>True</td>\n      <td>False</td>\n      <td>False</td>\n    </tr>\n  </tbody>\n</table>\n<p>5 rows × 50 columns</p>\n</div>"
     },
     "execution_count": 78,
     "metadata": {},
     "output_type": "execute_result"
    }
   ],
   "source": [
    "# One-hot encode the grouped road types\n",
    "encoded_df = pd.get_dummies(merged_gdf['ROAD_CLASS_GROUP'])\n",
    "\n",
    "# Merge the encoded columns back into the original dataframe\n",
    "merged_gdf = pd.concat([merged_gdf, encoded_df], axis=1)\n",
    "\n",
    "#Change all new encoded columns to upper for consistency with cleaned data\n",
    "merged_gdf.columns = merged_gdf.columns.str.upper()\n",
    "merged_gdf.columns = merged_gdf.columns.str.upper()\n",
    "\n",
    "# Debug: Check the final dataframe with encoded columns\n",
    "print(\"Final Houses GeoDataFrame with encoded road class groups (first 5 rows):\")\n",
    "merged_gdf.head()"
   ],
   "metadata": {
    "collapsed": false,
    "ExecuteTime": {
     "end_time": "2024-07-06T14:34:54.913289200Z",
     "start_time": "2024-07-06T14:34:54.749249Z"
    }
   }
  },
  {
   "cell_type": "markdown",
   "source": [
    "- Drop original column before one-hot encoding"
   ],
   "metadata": {
    "collapsed": false
   }
  },
  {
   "cell_type": "code",
   "execution_count": 79,
   "outputs": [
    {
     "data": {
      "text/plain": "                 ASSETID   PRICE  CONSTRUCTEDAREA  ROOMNUMBER  BATHNUMBER  \\\n0  A10000037964896093228  255000               97           3           2   \n1  A10000072440601830803   82000               62           2           1   \n2  A10000538600815177437  133000               67           3           1   \n3  A10000654405436195291  204000              180           3           2   \n4  A10000872160480475600  161000               54           2           1   \n\n   AMENITYID  HASPARKINGSPACE  PARKINGSPACEPRICE  HASTERRACE  HASLIFT  ...  \\\n0          3                0                1.0           0        1  ...   \n1          3                0                1.0           0        1  ...   \n2          3                0                1.0           1        0  ...   \n3          3                0                1.0           0        1  ...   \n4          3                0                1.0           0        0  ...   \n\n        NEIGHBORHOOD  ZIP_CODE  PERIOD_201803  PERIOD_201806  PERIOD_201809  \\\n0      Pinar del Rey     28033              0              0              1   \n1  Palomeras sureste     28018              0              1              0   \n2          San Diego     28018              1              0              0   \n3             Ventas     28017              1              0              0   \n4        Buena Vista     28019              0              0              0   \n\n   PERIOD_201812  MOTORWAY/PRIMARY  OTHER  PEDESTRIAN  SECONDARY/TERTIARY  \n0              0             False   True       False               False  \n1              0             False   True       False               False  \n2              0             False   True       False               False  \n3              0             False   True       False               False  \n4              1             False   True       False               False  \n\n[5 rows x 47 columns]",
      "text/html": "<div>\n<style scoped>\n    .dataframe tbody tr th:only-of-type {\n        vertical-align: middle;\n    }\n\n    .dataframe tbody tr th {\n        vertical-align: top;\n    }\n\n    .dataframe thead th {\n        text-align: right;\n    }\n</style>\n<table border=\"1\" class=\"dataframe\">\n  <thead>\n    <tr style=\"text-align: right;\">\n      <th></th>\n      <th>ASSETID</th>\n      <th>PRICE</th>\n      <th>CONSTRUCTEDAREA</th>\n      <th>ROOMNUMBER</th>\n      <th>BATHNUMBER</th>\n      <th>AMENITYID</th>\n      <th>HASPARKINGSPACE</th>\n      <th>PARKINGSPACEPRICE</th>\n      <th>HASTERRACE</th>\n      <th>HASLIFT</th>\n      <th>...</th>\n      <th>NEIGHBORHOOD</th>\n      <th>ZIP_CODE</th>\n      <th>PERIOD_201803</th>\n      <th>PERIOD_201806</th>\n      <th>PERIOD_201809</th>\n      <th>PERIOD_201812</th>\n      <th>MOTORWAY/PRIMARY</th>\n      <th>OTHER</th>\n      <th>PEDESTRIAN</th>\n      <th>SECONDARY/TERTIARY</th>\n    </tr>\n  </thead>\n  <tbody>\n    <tr>\n      <th>0</th>\n      <td>A10000037964896093228</td>\n      <td>255000</td>\n      <td>97</td>\n      <td>3</td>\n      <td>2</td>\n      <td>3</td>\n      <td>0</td>\n      <td>1.0</td>\n      <td>0</td>\n      <td>1</td>\n      <td>...</td>\n      <td>Pinar del Rey</td>\n      <td>28033</td>\n      <td>0</td>\n      <td>0</td>\n      <td>1</td>\n      <td>0</td>\n      <td>False</td>\n      <td>True</td>\n      <td>False</td>\n      <td>False</td>\n    </tr>\n    <tr>\n      <th>1</th>\n      <td>A10000072440601830803</td>\n      <td>82000</td>\n      <td>62</td>\n      <td>2</td>\n      <td>1</td>\n      <td>3</td>\n      <td>0</td>\n      <td>1.0</td>\n      <td>0</td>\n      <td>1</td>\n      <td>...</td>\n      <td>Palomeras sureste</td>\n      <td>28018</td>\n      <td>0</td>\n      <td>1</td>\n      <td>0</td>\n      <td>0</td>\n      <td>False</td>\n      <td>True</td>\n      <td>False</td>\n      <td>False</td>\n    </tr>\n    <tr>\n      <th>2</th>\n      <td>A10000538600815177437</td>\n      <td>133000</td>\n      <td>67</td>\n      <td>3</td>\n      <td>1</td>\n      <td>3</td>\n      <td>0</td>\n      <td>1.0</td>\n      <td>1</td>\n      <td>0</td>\n      <td>...</td>\n      <td>San Diego</td>\n      <td>28018</td>\n      <td>1</td>\n      <td>0</td>\n      <td>0</td>\n      <td>0</td>\n      <td>False</td>\n      <td>True</td>\n      <td>False</td>\n      <td>False</td>\n    </tr>\n    <tr>\n      <th>3</th>\n      <td>A10000654405436195291</td>\n      <td>204000</td>\n      <td>180</td>\n      <td>3</td>\n      <td>2</td>\n      <td>3</td>\n      <td>0</td>\n      <td>1.0</td>\n      <td>0</td>\n      <td>1</td>\n      <td>...</td>\n      <td>Ventas</td>\n      <td>28017</td>\n      <td>1</td>\n      <td>0</td>\n      <td>0</td>\n      <td>0</td>\n      <td>False</td>\n      <td>True</td>\n      <td>False</td>\n      <td>False</td>\n    </tr>\n    <tr>\n      <th>4</th>\n      <td>A10000872160480475600</td>\n      <td>161000</td>\n      <td>54</td>\n      <td>2</td>\n      <td>1</td>\n      <td>3</td>\n      <td>0</td>\n      <td>1.0</td>\n      <td>0</td>\n      <td>0</td>\n      <td>...</td>\n      <td>Buena Vista</td>\n      <td>28019</td>\n      <td>0</td>\n      <td>0</td>\n      <td>0</td>\n      <td>1</td>\n      <td>False</td>\n      <td>True</td>\n      <td>False</td>\n      <td>False</td>\n    </tr>\n  </tbody>\n</table>\n<p>5 rows × 47 columns</p>\n</div>"
     },
     "execution_count": 79,
     "metadata": {},
     "output_type": "execute_result"
    }
   ],
   "source": [
    "merged_gdf = merged_gdf.drop(columns=[\"GEOMETRY\", \"CLASSIFIED_ROAD_FCLASS\", \"ROAD_CLASS_GROUP\"])\n",
    "merged_gdf.head()"
   ],
   "metadata": {
    "collapsed": false,
    "ExecuteTime": {
     "end_time": "2024-07-06T14:34:54.913289200Z",
     "start_time": "2024-07-06T14:34:54.813760900Z"
    }
   }
  },
  {
   "cell_type": "markdown",
   "source": [
    "# Write the resulting GeoDataFrame to csv"
   ],
   "metadata": {
    "collapsed": false
   }
  },
  {
   "cell_type": "code",
   "execution_count": 80,
   "outputs": [],
   "source": [
    "if city == \"Madrid\":\n",
    "    merged_gdf.to_csv(\"../../data/5_cleaned_and_feature_engineering/feature_road_type/madrid_cleaned_incl_road_type.csv\", index=False)\n",
    "elif city == \"Barcelona\":\n",
    "    merged_gdf.to_csv(\"../../data/5_cleaned_and_feature_engineeringfeature_/road_type/barcelona_cleaned_incl_road_type.csv\", index=False)\n",
    "elif city == \"Valencia\":\n",
    "    merged_gdf.to_csv(\"../../data/5_cleaned_and_feature_engineering/feature_road_type/valencia_cleaned_incl_road_type.csv\", index=False)"
   ],
   "metadata": {
    "collapsed": false,
    "ExecuteTime": {
     "end_time": "2024-07-06T14:34:56.189591500Z",
     "start_time": "2024-07-06T14:34:54.865250900Z"
    }
   }
  }
 ]
}
