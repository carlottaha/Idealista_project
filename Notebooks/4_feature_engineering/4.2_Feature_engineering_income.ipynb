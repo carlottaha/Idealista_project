{
 "cells": [
  {
   "cell_type": "markdown",
   "metadata": {},
   "source": [
    "# Notebook 4.2 Feature Engineering (Income)"
   ]
  },
  {
   "cell_type": "markdown",
   "metadata": {},
   "source": [
    "# Import libraries"
   ]
  },
  {
   "cell_type": "code",
   "execution_count": 187,
   "metadata": {
    "ExecuteTime": {
     "end_time": "2024-07-04T15:05:45.605377900Z",
     "start_time": "2024-07-04T15:05:45.458304500Z"
    }
   },
   "outputs": [],
   "source": [
    "import pandas as pd"
   ]
  },
  {
   "cell_type": "markdown",
   "source": [
    "# Choose the city"
   ],
   "metadata": {
    "collapsed": false
   }
  },
  {
   "cell_type": "code",
   "execution_count": 188,
   "outputs": [],
   "source": [
    "#Choose city (\"Madrid\", \"Barcelona\", or \"Valencia\")\n",
    "city = \"Madrid\""
   ],
   "metadata": {
    "collapsed": false,
    "ExecuteTime": {
     "end_time": "2024-07-04T15:05:45.621005Z",
     "start_time": "2024-07-04T15:05:45.485911900Z"
    }
   }
  },
  {
   "cell_type": "markdown",
   "metadata": {},
   "source": [
    "# Load cleaned data incl zip code"
   ]
  },
  {
   "cell_type": "code",
   "execution_count": 189,
   "metadata": {
    "ExecuteTime": {
     "end_time": "2024-07-04T15:05:45.935683300Z",
     "start_time": "2024-07-04T15:05:45.486432400Z"
    }
   },
   "outputs": [],
   "source": [
    "#Read corresponding files (cleaned data and income data)\n",
    "if city == \"Madrid\":\n",
    "    sale_data_cleaned = pd.read_csv('../../data/4_data_cleaned/madrid_cleaned_base_features.csv', dtype={'ZIP_CODE': str})\n",
    "    income_data = pd.read_csv('../../data/3_external_data/income/madrid_income_data.csv')\n",
    "elif city == \"Barcelona\":\n",
    "    sale_data_cleaned = pd.read_csv('../../data/4_data_cleaned/barcelona_cleaned_base_features.csv', dtype={'ZIP_CODE': str})\n",
    "    income_data = pd.read_csv('../../data/3_external_data/income/barcelona_income_data.csv')\n",
    "elif city == \"Valencia\":\n",
    "    sale_data_cleaned = pd.read_csv('../../data/4_data_cleaned/valencia_cleaned_base_features.csv', dtype={'ZIP_CODE': str})\n",
    "    income_data = pd.read_csv('../../data/3_external_data/income/valencia_income_data.csv')\n",
    "else:\n",
    "    raise ValueError(\"City not recognized. Please choose either 'Madrid', 'Barcelona', or 'Valencia'.\")"
   ]
  },
  {
   "cell_type": "markdown",
   "source": [
    "# Create income feature"
   ],
   "metadata": {
    "collapsed": false
   }
  },
  {
   "cell_type": "markdown",
   "metadata": {},
   "source": [
    "__Rename columns (from spanish to english in income dataset)__"
   ]
  },
  {
   "cell_type": "code",
   "execution_count": 190,
   "metadata": {
    "ExecuteTime": {
     "end_time": "2024-07-04T15:05:45.947476500Z",
     "start_time": "2024-07-04T15:05:45.935683300Z"
    }
   },
   "outputs": [
    {
     "data": {
      "text/plain": "Index(['AREA', 'NUMER_OF_DECLARATIONS', 'AVERAGE_GROSS_INCOME',\n       'AVERAGE_DISPOSABLE_INCOME', 'LABOR_INCOME', 'EXEMPT_INCOME',\n       'GROSS_INCOME', 'SOCIAL_SECURITY_CONTRIBUTIONS',\n       'SELF_ASSESSMENT_QUOTA', 'DISPOSABLE_INCOME'],\n      dtype='object')"
     },
     "execution_count": 190,
     "metadata": {},
     "output_type": "execute_result"
    }
   ],
   "source": [
    "# Define a dictionary to map Spanish column names to English\n",
    "column_rename_map = {\n",
    "    'Area': 'AREA',\n",
    "    'Numero de declaraciones': 'NUMER_OF_DECLARATIONS',\n",
    "    'Renta bruta media': 'AVERAGE_GROSS_INCOME',\n",
    "    'Renta disponible media': 'AVERAGE_DISPOSABLE_INCOME',\n",
    "    'Rentas del trabajo': 'LABOR_INCOME',\n",
    "    'Rentas exentas': 'EXEMPT_INCOME',\n",
    "    'Renta bruta': 'GROSS_INCOME',\n",
    "    'Cotizaciones sociales a la SS': 'SOCIAL_SECURITY_CONTRIBUTIONS',\n",
    "    'Cuota resultante de autoliquidación': 'SELF_ASSESSMENT_QUOTA',\n",
    "    'Renta disponible': 'DISPOSABLE_INCOME'\n",
    "}\n",
    "\n",
    "# Rename columns in rent data\n",
    "income_data.rename(columns=column_rename_map, inplace=True)\n",
    "\n",
    "#Check results of renaming\n",
    "income_data.columns"
   ]
  },
  {
   "cell_type": "markdown",
   "metadata": {},
   "source": [
    "__Extract the zipcode__ \n"
   ]
  },
  {
   "cell_type": "code",
   "execution_count": 191,
   "metadata": {
    "ExecuteTime": {
     "end_time": "2024-07-04T15:05:46.008711100Z",
     "start_time": "2024-07-04T15:05:45.947476500Z"
    }
   },
   "outputs": [
    {
     "name": "stdout",
     "output_type": "stream",
     "text": [
      "object\n",
      "object\n"
     ]
    }
   ],
   "source": [
    "# Extract the ZIP code from the Area column, drop Area afterwards\n",
    "income_data['ZIP_CODE'] = income_data['AREA'].str.extract(r'(\\d{5})')\n",
    "\n",
    "# When Area says \"Resto\", ZIP_CODE should say \"Rest\"\n",
    "income_data.loc[income_data['AREA'] == 'Resto', 'ZIP_CODE'] = 'Rest'\n",
    "\n",
    "#Drop Area column\n",
    "income_data = income_data.drop(columns=['AREA'])\n",
    "\n",
    "# Convert ZIP code columns to strings\n",
    "sale_data_cleaned['ZIP_CODE'] = sale_data_cleaned['ZIP_CODE'].astype(str)\n",
    "income_data['ZIP_CODE'] = income_data['ZIP_CODE'].astype(str)\n",
    "\n",
    "# Verify data types\n",
    "print(sale_data_cleaned['ZIP_CODE'].dtype)\n",
    "print(income_data['ZIP_CODE'].dtype)"
   ]
  },
  {
   "cell_type": "code",
   "execution_count": 192,
   "outputs": [
    {
     "data": {
      "text/plain": "                 ASSETID   PRICE  CONSTRUCTEDAREA  ROOMNUMBER  BATHNUMBER  \\\n0  A10000037964896093228  255000               97           3           2   \n1  A10000072440601830803   82000               62           2           1   \n2  A10000538600815177437  133000               67           3           1   \n3  A10000654405436195291  204000              180           3           2   \n4  A10000872160480475600  161000               54           2           1   \n\n   AMENITYID  HASPARKINGSPACE  PARKINGSPACEPRICE  HASTERRACE  HASLIFT  ...  \\\n0          3                0                1.0           0        1  ...   \n1          3                0                1.0           0        1  ...   \n2          3                0                1.0           1        0  ...   \n3          3                0                1.0           0        1  ...   \n4          3                0                1.0           0        0  ...   \n\n   DISTANCE_TO_METRO  DISTANCE_TO_MAIN_STREET  LONGITUDE   LATITUDE  \\\n0           0.254412                 3.027988  -3.650253  40.473921   \n1           0.268472                 4.693939  -3.640243  40.384968   \n2           1.061146                 2.623258  -3.665263  40.384547   \n3           0.427977                 3.131739  -3.651790  40.430336   \n4           0.377045                 2.702218  -3.725637  40.384103   \n\n        NEIGHBORHOOD  ZIP_CODE  PERIOD_201803  PERIOD_201806  PERIOD_201809  \\\n0      Pinar del Rey     28033              0              0              1   \n1  Palomeras sureste     28018              0              1              0   \n2          San Diego     28018              1              0              0   \n3             Ventas     28017              1              0              0   \n4        Buena Vista     28019              0              0              0   \n\n   PERIOD_201812  \n0              0  \n1              0  \n2              0  \n3              0  \n4              1  \n\n[5 rows x 43 columns]",
      "text/html": "<div>\n<style scoped>\n    .dataframe tbody tr th:only-of-type {\n        vertical-align: middle;\n    }\n\n    .dataframe tbody tr th {\n        vertical-align: top;\n    }\n\n    .dataframe thead th {\n        text-align: right;\n    }\n</style>\n<table border=\"1\" class=\"dataframe\">\n  <thead>\n    <tr style=\"text-align: right;\">\n      <th></th>\n      <th>ASSETID</th>\n      <th>PRICE</th>\n      <th>CONSTRUCTEDAREA</th>\n      <th>ROOMNUMBER</th>\n      <th>BATHNUMBER</th>\n      <th>AMENITYID</th>\n      <th>HASPARKINGSPACE</th>\n      <th>PARKINGSPACEPRICE</th>\n      <th>HASTERRACE</th>\n      <th>HASLIFT</th>\n      <th>...</th>\n      <th>DISTANCE_TO_METRO</th>\n      <th>DISTANCE_TO_MAIN_STREET</th>\n      <th>LONGITUDE</th>\n      <th>LATITUDE</th>\n      <th>NEIGHBORHOOD</th>\n      <th>ZIP_CODE</th>\n      <th>PERIOD_201803</th>\n      <th>PERIOD_201806</th>\n      <th>PERIOD_201809</th>\n      <th>PERIOD_201812</th>\n    </tr>\n  </thead>\n  <tbody>\n    <tr>\n      <th>0</th>\n      <td>A10000037964896093228</td>\n      <td>255000</td>\n      <td>97</td>\n      <td>3</td>\n      <td>2</td>\n      <td>3</td>\n      <td>0</td>\n      <td>1.0</td>\n      <td>0</td>\n      <td>1</td>\n      <td>...</td>\n      <td>0.254412</td>\n      <td>3.027988</td>\n      <td>-3.650253</td>\n      <td>40.473921</td>\n      <td>Pinar del Rey</td>\n      <td>28033</td>\n      <td>0</td>\n      <td>0</td>\n      <td>1</td>\n      <td>0</td>\n    </tr>\n    <tr>\n      <th>1</th>\n      <td>A10000072440601830803</td>\n      <td>82000</td>\n      <td>62</td>\n      <td>2</td>\n      <td>1</td>\n      <td>3</td>\n      <td>0</td>\n      <td>1.0</td>\n      <td>0</td>\n      <td>1</td>\n      <td>...</td>\n      <td>0.268472</td>\n      <td>4.693939</td>\n      <td>-3.640243</td>\n      <td>40.384968</td>\n      <td>Palomeras sureste</td>\n      <td>28018</td>\n      <td>0</td>\n      <td>1</td>\n      <td>0</td>\n      <td>0</td>\n    </tr>\n    <tr>\n      <th>2</th>\n      <td>A10000538600815177437</td>\n      <td>133000</td>\n      <td>67</td>\n      <td>3</td>\n      <td>1</td>\n      <td>3</td>\n      <td>0</td>\n      <td>1.0</td>\n      <td>1</td>\n      <td>0</td>\n      <td>...</td>\n      <td>1.061146</td>\n      <td>2.623258</td>\n      <td>-3.665263</td>\n      <td>40.384547</td>\n      <td>San Diego</td>\n      <td>28018</td>\n      <td>1</td>\n      <td>0</td>\n      <td>0</td>\n      <td>0</td>\n    </tr>\n    <tr>\n      <th>3</th>\n      <td>A10000654405436195291</td>\n      <td>204000</td>\n      <td>180</td>\n      <td>3</td>\n      <td>2</td>\n      <td>3</td>\n      <td>0</td>\n      <td>1.0</td>\n      <td>0</td>\n      <td>1</td>\n      <td>...</td>\n      <td>0.427977</td>\n      <td>3.131739</td>\n      <td>-3.651790</td>\n      <td>40.430336</td>\n      <td>Ventas</td>\n      <td>28017</td>\n      <td>1</td>\n      <td>0</td>\n      <td>0</td>\n      <td>0</td>\n    </tr>\n    <tr>\n      <th>4</th>\n      <td>A10000872160480475600</td>\n      <td>161000</td>\n      <td>54</td>\n      <td>2</td>\n      <td>1</td>\n      <td>3</td>\n      <td>0</td>\n      <td>1.0</td>\n      <td>0</td>\n      <td>0</td>\n      <td>...</td>\n      <td>0.377045</td>\n      <td>2.702218</td>\n      <td>-3.725637</td>\n      <td>40.384103</td>\n      <td>Buena Vista</td>\n      <td>28019</td>\n      <td>0</td>\n      <td>0</td>\n      <td>0</td>\n      <td>1</td>\n    </tr>\n  </tbody>\n</table>\n<p>5 rows × 43 columns</p>\n</div>"
     },
     "execution_count": 192,
     "metadata": {},
     "output_type": "execute_result"
    }
   ],
   "source": [
    "sale_data_cleaned.head()"
   ],
   "metadata": {
    "collapsed": false,
    "ExecuteTime": {
     "end_time": "2024-07-04T15:05:46.008711100Z",
     "start_time": "2024-07-04T15:05:45.962868400Z"
    }
   }
  },
  {
   "cell_type": "code",
   "execution_count": 193,
   "outputs": [
    {
     "data": {
      "text/plain": "   NUMER_OF_DECLARATIONS  AVERAGE_GROSS_INCOME  AVERAGE_DISPOSABLE_INCOME  \\\n52                  4.77                32.327                     25.763   \n53                 26.49                21.022                     17.881   \n54                16.334                35.015                     27.842   \n55                12.286                63.064                     46.667   \n56                41.769                34.400                     26.979   \n\n     LABOR_INCOME EXEMPT_INCOME   GROSS_INCOME SOCIAL_SECURITY_CONTRIBUTIONS  \\\n52    131.171.315     7.675.070    154.198.537                     7.925.100   \n53    481.905.745    25.332.565    556.885.435                    25.332.565   \n54    498.211.190    20.338.276    571.943.019                    28.583.667   \n55    600.161.494    36.820.739    774.800.442                    46.432.831   \n56  1.115.520.078    52.161.118  1.436.873.713                    60.496.019   \n\n   SELF_ASSESSMENT_QUOTA DISPOSABLE_INCOME ZIP_CODE  \n52            23.383.895       122.889.543    28052  \n53            57.885.197       473.678.613    28053  \n54            88.587.835       454.771.806    28054  \n55           175.030.538       573.349.198    28055  \n56           258.362.359     1.126.891.821     Rest  ",
      "text/html": "<div>\n<style scoped>\n    .dataframe tbody tr th:only-of-type {\n        vertical-align: middle;\n    }\n\n    .dataframe tbody tr th {\n        vertical-align: top;\n    }\n\n    .dataframe thead th {\n        text-align: right;\n    }\n</style>\n<table border=\"1\" class=\"dataframe\">\n  <thead>\n    <tr style=\"text-align: right;\">\n      <th></th>\n      <th>NUMER_OF_DECLARATIONS</th>\n      <th>AVERAGE_GROSS_INCOME</th>\n      <th>AVERAGE_DISPOSABLE_INCOME</th>\n      <th>LABOR_INCOME</th>\n      <th>EXEMPT_INCOME</th>\n      <th>GROSS_INCOME</th>\n      <th>SOCIAL_SECURITY_CONTRIBUTIONS</th>\n      <th>SELF_ASSESSMENT_QUOTA</th>\n      <th>DISPOSABLE_INCOME</th>\n      <th>ZIP_CODE</th>\n    </tr>\n  </thead>\n  <tbody>\n    <tr>\n      <th>52</th>\n      <td>4.77</td>\n      <td>32.327</td>\n      <td>25.763</td>\n      <td>131.171.315</td>\n      <td>7.675.070</td>\n      <td>154.198.537</td>\n      <td>7.925.100</td>\n      <td>23.383.895</td>\n      <td>122.889.543</td>\n      <td>28052</td>\n    </tr>\n    <tr>\n      <th>53</th>\n      <td>26.49</td>\n      <td>21.022</td>\n      <td>17.881</td>\n      <td>481.905.745</td>\n      <td>25.332.565</td>\n      <td>556.885.435</td>\n      <td>25.332.565</td>\n      <td>57.885.197</td>\n      <td>473.678.613</td>\n      <td>28053</td>\n    </tr>\n    <tr>\n      <th>54</th>\n      <td>16.334</td>\n      <td>35.015</td>\n      <td>27.842</td>\n      <td>498.211.190</td>\n      <td>20.338.276</td>\n      <td>571.943.019</td>\n      <td>28.583.667</td>\n      <td>88.587.835</td>\n      <td>454.771.806</td>\n      <td>28054</td>\n    </tr>\n    <tr>\n      <th>55</th>\n      <td>12.286</td>\n      <td>63.064</td>\n      <td>46.667</td>\n      <td>600.161.494</td>\n      <td>36.820.739</td>\n      <td>774.800.442</td>\n      <td>46.432.831</td>\n      <td>175.030.538</td>\n      <td>573.349.198</td>\n      <td>28055</td>\n    </tr>\n    <tr>\n      <th>56</th>\n      <td>41.769</td>\n      <td>34.400</td>\n      <td>26.979</td>\n      <td>1.115.520.078</td>\n      <td>52.161.118</td>\n      <td>1.436.873.713</td>\n      <td>60.496.019</td>\n      <td>258.362.359</td>\n      <td>1.126.891.821</td>\n      <td>Rest</td>\n    </tr>\n  </tbody>\n</table>\n</div>"
     },
     "execution_count": 193,
     "metadata": {},
     "output_type": "execute_result"
    }
   ],
   "source": [
    "income_data.tail()"
   ],
   "metadata": {
    "collapsed": false,
    "ExecuteTime": {
     "end_time": "2024-07-04T15:05:46.008711100Z",
     "start_time": "2024-07-04T15:05:45.984543Z"
    }
   }
  },
  {
   "cell_type": "markdown",
   "metadata": {},
   "source": [
    "__Merge the dataset__"
   ]
  },
  {
   "cell_type": "code",
   "execution_count": 194,
   "metadata": {
    "ExecuteTime": {
     "end_time": "2024-07-04T15:05:46.159590600Z",
     "start_time": "2024-07-04T15:05:46.008711100Z"
    }
   },
   "outputs": [
    {
     "name": "stdout",
     "output_type": "stream",
     "text": [
      "                 ASSETID   PRICE  CONSTRUCTEDAREA  ROOMNUMBER  BATHNUMBER  \\\n",
      "0  A10000037964896093228  255000               97           3           2   \n",
      "1  A10000072440601830803   82000               62           2           1   \n",
      "2  A10000538600815177437  133000               67           3           1   \n",
      "3  A10000654405436195291  204000              180           3           2   \n",
      "4  A10000872160480475600  161000               54           2           1   \n",
      "\n",
      "   AMENITYID  HASPARKINGSPACE  PARKINGSPACEPRICE  HASTERRACE  HASLIFT  ...  \\\n",
      "0          3                0                1.0           0        1  ...   \n",
      "1          3                0                1.0           0        1  ...   \n",
      "2          3                0                1.0           1        0  ...   \n",
      "3          3                0                1.0           0        1  ...   \n",
      "4          3                0                1.0           0        0  ...   \n",
      "\n",
      "   PERIOD_201812  NUMER_OF_DECLARATIONS  AVERAGE_GROSS_INCOME  \\\n",
      "0              0                 47.929                42.679   \n",
      "1              0                 33.225                24.517   \n",
      "2              0                 33.225                24.517   \n",
      "3              0                 55.687                27.477   \n",
      "4              1                 47.809                27.218   \n",
      "\n",
      "   AVERAGE_DISPOSABLE_INCOME   LABOR_INCOME  EXEMPT_INCOME   GROSS_INCOME  \\\n",
      "0                     33.099  1.597.692.272     76.274.309  2.045.547.996   \n",
      "1                     20.458    696.542.369     36.917.201    814.568.445   \n",
      "2                     20.458    696.542.369     36.917.201    814.568.445   \n",
      "3                     22.618  1.311.609.393     54.700.472  1.530.128.767   \n",
      "4                     22.399  1.097.802.254     48.959.836  1.301.281.721   \n",
      "\n",
      "   SOCIAL_SECURITY_CONTRIBUTIONS  SELF_ASSESSMENT_QUOTA  DISPOSABLE_INCOME  \n",
      "0                     62.934.177            396.256.316      1.586.412.729  \n",
      "1                     35.486.524             99.378.073        679.721.800  \n",
      "2                     35.486.524             99.378.073        679.721.800  \n",
      "3                     61.816.758            208.884.677      1.259.502.146  \n",
      "4                     51.743.635            178.718.832      1.070.854.368  \n",
      "\n",
      "[5 rows x 52 columns]\n"
     ]
    }
   ],
   "source": [
    "# Merge the datasets on the ZIP code\n",
    "data_incl_income = pd.merge(sale_data_cleaned, income_data, left_on='ZIP_CODE', right_on='ZIP_CODE', how='left')\n",
    "\n",
    "# Display the first few rows of the merged dataset\n",
    "print(data_incl_income.head())"
   ]
  },
  {
   "cell_type": "markdown",
   "source": [
    "__Check whether there are any houses in zip codes not available in income data__"
   ],
   "metadata": {
    "collapsed": false
   }
  },
  {
   "cell_type": "code",
   "execution_count": 195,
   "outputs": [
    {
     "data": {
      "text/plain": "4431"
     },
     "execution_count": 195,
     "metadata": {},
     "output_type": "execute_result"
    }
   ],
   "source": [
    "num_unmatched_rows = data_incl_income[\"DISPOSABLE_INCOME\"].isna().sum()\n",
    "num_unmatched_rows"
   ],
   "metadata": {
    "collapsed": false,
    "ExecuteTime": {
     "end_time": "2024-07-04T15:05:46.259877800Z",
     "start_time": "2024-07-04T15:05:46.059153200Z"
    }
   }
  },
  {
   "cell_type": "markdown",
   "source": [
    "__Assign income data of \"rest of city\" to houses in zip code not available__"
   ],
   "metadata": {
    "collapsed": false
   }
  },
  {
   "cell_type": "code",
   "execution_count": 196,
   "outputs": [
    {
     "data": {
      "text/plain": "                  ASSETID    PRICE  CONSTRUCTEDAREA  ROOMNUMBER  BATHNUMBER  \\\n20  A10005090920840447561    81000               64           2           1   \n29  A10007409135024974279  2901000              420           6           5   \n55  A10011318022231015213   226333               89           2           2   \n60  A10012221470240925424   174000               41           1           1   \n73  A10015633877553382753   246000               60           2           1   \n\n    AMENITYID  HASPARKINGSPACE  PARKINGSPACEPRICE  HASTERRACE  HASLIFT  ...  \\\n20          3                0                1.0           1        0  ...   \n29          3                1                1.0           1        1  ...   \n55          3                1                1.0           1        1  ...   \n60          3                0                1.0           0        0  ...   \n73          3                0                1.0           0        1  ...   \n\n    PERIOD_201812  NUMER_OF_DECLARATIONS  AVERAGE_GROSS_INCOME  \\\n20              0                    NaN                   NaN   \n29              0                    NaN                   NaN   \n55              1                    NaN                   NaN   \n60              0                    NaN                   NaN   \n73              1                    NaN                   NaN   \n\n    AVERAGE_DISPOSABLE_INCOME  LABOR_INCOME  EXEMPT_INCOME  GROSS_INCOME  \\\n20                        NaN           NaN            NaN           NaN   \n29                        NaN           NaN            NaN           NaN   \n55                        NaN           NaN            NaN           NaN   \n60                        NaN           NaN            NaN           NaN   \n73                        NaN           NaN            NaN           NaN   \n\n    SOCIAL_SECURITY_CONTRIBUTIONS  SELF_ASSESSMENT_QUOTA  DISPOSABLE_INCOME  \n20                            NaN                    NaN                NaN  \n29                            NaN                    NaN                NaN  \n55                            NaN                    NaN                NaN  \n60                            NaN                    NaN                NaN  \n73                            NaN                    NaN                NaN  \n\n[5 rows x 52 columns]",
      "text/html": "<div>\n<style scoped>\n    .dataframe tbody tr th:only-of-type {\n        vertical-align: middle;\n    }\n\n    .dataframe tbody tr th {\n        vertical-align: top;\n    }\n\n    .dataframe thead th {\n        text-align: right;\n    }\n</style>\n<table border=\"1\" class=\"dataframe\">\n  <thead>\n    <tr style=\"text-align: right;\">\n      <th></th>\n      <th>ASSETID</th>\n      <th>PRICE</th>\n      <th>CONSTRUCTEDAREA</th>\n      <th>ROOMNUMBER</th>\n      <th>BATHNUMBER</th>\n      <th>AMENITYID</th>\n      <th>HASPARKINGSPACE</th>\n      <th>PARKINGSPACEPRICE</th>\n      <th>HASTERRACE</th>\n      <th>HASLIFT</th>\n      <th>...</th>\n      <th>PERIOD_201812</th>\n      <th>NUMER_OF_DECLARATIONS</th>\n      <th>AVERAGE_GROSS_INCOME</th>\n      <th>AVERAGE_DISPOSABLE_INCOME</th>\n      <th>LABOR_INCOME</th>\n      <th>EXEMPT_INCOME</th>\n      <th>GROSS_INCOME</th>\n      <th>SOCIAL_SECURITY_CONTRIBUTIONS</th>\n      <th>SELF_ASSESSMENT_QUOTA</th>\n      <th>DISPOSABLE_INCOME</th>\n    </tr>\n  </thead>\n  <tbody>\n    <tr>\n      <th>20</th>\n      <td>A10005090920840447561</td>\n      <td>81000</td>\n      <td>64</td>\n      <td>2</td>\n      <td>1</td>\n      <td>3</td>\n      <td>0</td>\n      <td>1.0</td>\n      <td>1</td>\n      <td>0</td>\n      <td>...</td>\n      <td>0</td>\n      <td>NaN</td>\n      <td>NaN</td>\n      <td>NaN</td>\n      <td>NaN</td>\n      <td>NaN</td>\n      <td>NaN</td>\n      <td>NaN</td>\n      <td>NaN</td>\n      <td>NaN</td>\n    </tr>\n    <tr>\n      <th>29</th>\n      <td>A10007409135024974279</td>\n      <td>2901000</td>\n      <td>420</td>\n      <td>6</td>\n      <td>5</td>\n      <td>3</td>\n      <td>1</td>\n      <td>1.0</td>\n      <td>1</td>\n      <td>1</td>\n      <td>...</td>\n      <td>0</td>\n      <td>NaN</td>\n      <td>NaN</td>\n      <td>NaN</td>\n      <td>NaN</td>\n      <td>NaN</td>\n      <td>NaN</td>\n      <td>NaN</td>\n      <td>NaN</td>\n      <td>NaN</td>\n    </tr>\n    <tr>\n      <th>55</th>\n      <td>A10011318022231015213</td>\n      <td>226333</td>\n      <td>89</td>\n      <td>2</td>\n      <td>2</td>\n      <td>3</td>\n      <td>1</td>\n      <td>1.0</td>\n      <td>1</td>\n      <td>1</td>\n      <td>...</td>\n      <td>1</td>\n      <td>NaN</td>\n      <td>NaN</td>\n      <td>NaN</td>\n      <td>NaN</td>\n      <td>NaN</td>\n      <td>NaN</td>\n      <td>NaN</td>\n      <td>NaN</td>\n      <td>NaN</td>\n    </tr>\n    <tr>\n      <th>60</th>\n      <td>A10012221470240925424</td>\n      <td>174000</td>\n      <td>41</td>\n      <td>1</td>\n      <td>1</td>\n      <td>3</td>\n      <td>0</td>\n      <td>1.0</td>\n      <td>0</td>\n      <td>0</td>\n      <td>...</td>\n      <td>0</td>\n      <td>NaN</td>\n      <td>NaN</td>\n      <td>NaN</td>\n      <td>NaN</td>\n      <td>NaN</td>\n      <td>NaN</td>\n      <td>NaN</td>\n      <td>NaN</td>\n      <td>NaN</td>\n    </tr>\n    <tr>\n      <th>73</th>\n      <td>A10015633877553382753</td>\n      <td>246000</td>\n      <td>60</td>\n      <td>2</td>\n      <td>1</td>\n      <td>3</td>\n      <td>0</td>\n      <td>1.0</td>\n      <td>0</td>\n      <td>1</td>\n      <td>...</td>\n      <td>1</td>\n      <td>NaN</td>\n      <td>NaN</td>\n      <td>NaN</td>\n      <td>NaN</td>\n      <td>NaN</td>\n      <td>NaN</td>\n      <td>NaN</td>\n      <td>NaN</td>\n      <td>NaN</td>\n    </tr>\n  </tbody>\n</table>\n<p>5 rows × 52 columns</p>\n</div>"
     },
     "execution_count": 196,
     "metadata": {},
     "output_type": "execute_result"
    }
   ],
   "source": [
    "# Identify rows with NaN values in the 'DISPOSABLE_INCOME' column after the merge\n",
    "unmatched_rows = data_incl_income[data_incl_income['DISPOSABLE_INCOME'].isna()]\n",
    "unmatched_rows.head()"
   ],
   "metadata": {
    "collapsed": false,
    "ExecuteTime": {
     "end_time": "2024-07-04T15:05:46.291131200Z",
     "start_time": "2024-07-04T15:05:46.076238300Z"
    }
   }
  },
  {
   "cell_type": "code",
   "execution_count": 197,
   "outputs": [
    {
     "data": {
      "text/plain": "Index(['ASSETID', 'PRICE', 'CONSTRUCTEDAREA', 'ROOMNUMBER', 'BATHNUMBER',\n       'AMENITYID', 'HASPARKINGSPACE', 'PARKINGSPACEPRICE', 'HASTERRACE',\n       'HASLIFT', 'HASAIRCONDITIONING', 'HASNORTHORIENTATION',\n       'HASSOUTHORIENTATION', 'HASEASTORIENTATION', 'HASWESTORIENTATION',\n       'HASBOXROOM', 'HASWARDROBE', 'HASSWIMMINGPOOL', 'HASDOORMAN',\n       'HASGARDEN', 'ISDUPLEX', 'ISSTUDIO', 'HASEXTERNALVIEW', 'ISINTOPFLOOR',\n       'FLOORCLEAN', 'CADMAXBUILDINGFLOOR', 'CADCONSTRUCTIONYEAR',\n       'CADDWELLINGCOUNT', 'CADASTRALQUALITYID', 'BUILTTYPEID_1',\n       'BUILTTYPEID_2', 'BUILTTYPEID_3', 'DISTANCE_TO_CITY_CENTER',\n       'DISTANCE_TO_METRO', 'DISTANCE_TO_MAIN_STREET', 'LONGITUDE', 'LATITUDE',\n       'NEIGHBORHOOD', 'ZIP_CODE', 'PERIOD_201803', 'PERIOD_201806',\n       'PERIOD_201809', 'PERIOD_201812', 'NUMER_OF_DECLARATIONS',\n       'AVERAGE_GROSS_INCOME', 'AVERAGE_DISPOSABLE_INCOME', 'LABOR_INCOME',\n       'EXEMPT_INCOME', 'GROSS_INCOME', 'SOCIAL_SECURITY_CONTRIBUTIONS',\n       'SELF_ASSESSMENT_QUOTA', 'DISPOSABLE_INCOME'],\n      dtype='object')"
     },
     "execution_count": 197,
     "metadata": {},
     "output_type": "execute_result"
    }
   ],
   "source": [
    "unmatched_rows.columns"
   ],
   "metadata": {
    "collapsed": false,
    "ExecuteTime": {
     "end_time": "2024-07-04T15:05:46.291131200Z",
     "start_time": "2024-07-04T15:05:46.108246300Z"
    }
   }
  },
  {
   "cell_type": "code",
   "execution_count": 198,
   "outputs": [],
   "source": [
    "# Remove these rows from the merged DataFrame\n",
    "data_incl_income = data_incl_income.dropna(subset=['DISPOSABLE_INCOME'])\n",
    "\n",
    "# Ensure ZIP_CODE is of type string\n",
    "unmatched_rows['ZIP_CODE'] = unmatched_rows['ZIP_CODE'].astype(str)\n",
    "\n",
    "# Set ZIP_CODE to \"Rest\" for the rows with NaN values\n",
    "unmatched_rows['ZIP_CODE'] = 'Rest'\n",
    "\n",
    "#Drop all columns from the income data (to be added in next step again)\n",
    "columns_to_drop = [\n",
    "    'NUMER_OF_DECLARATIONS', 'AVERAGE_GROSS_INCOME', 'AVERAGE_DISPOSABLE_INCOME',\n",
    "    'LABOR_INCOME', 'EXEMPT_INCOME', 'GROSS_INCOME', \n",
    "    'SOCIAL_SECURITY_CONTRIBUTIONS', 'SELF_ASSESSMENT_QUOTA', 'DISPOSABLE_INCOME'\n",
    "]\n",
    "unmatched_rows = unmatched_rows.drop(columns=columns_to_drop)\n",
    "\n",
    "# Merge these rows with the income_data DataFrame using the ZIP_CODE value \"Rest\"\n",
    "unmatched_rows = pd.merge(unmatched_rows, income_data, on='ZIP_CODE', how='left')\n",
    "\n",
    "# Append the corrected rows back to the main DataFrame\n",
    "data_incl_income = pd.concat([data_incl_income, unmatched_rows], ignore_index=True)"
   ],
   "metadata": {
    "collapsed": false,
    "ExecuteTime": {
     "end_time": "2024-07-04T15:05:46.476147500Z",
     "start_time": "2024-07-04T15:05:46.119240800Z"
    }
   }
  },
  {
   "cell_type": "code",
   "execution_count": 199,
   "outputs": [
    {
     "data": {
      "text/plain": "0"
     },
     "execution_count": 199,
     "metadata": {},
     "output_type": "execute_result"
    }
   ],
   "source": [
    "#Check that no missing values are left\n",
    "num_unmatched_rows_after_cleaning = data_incl_income[\"DISPOSABLE_INCOME\"].isna().sum()\n",
    "num_unmatched_rows_after_cleaning"
   ],
   "metadata": {
    "collapsed": false,
    "ExecuteTime": {
     "end_time": "2024-07-04T15:05:46.491769800Z",
     "start_time": "2024-07-04T15:05:46.175725500Z"
    }
   }
  },
  {
   "cell_type": "markdown",
   "source": [
    "__Check that the number of houses is the same as before__"
   ],
   "metadata": {
    "collapsed": false
   }
  },
  {
   "cell_type": "code",
   "execution_count": 200,
   "outputs": [
    {
     "name": "stdout",
     "output_type": "stream",
     "text": [
      "Number of rows before merging: 75747\n",
      "Number of rows after merging: 75747\n"
     ]
    }
   ],
   "source": [
    "print(\"Number of rows before merging:\", len(sale_data_cleaned))\n",
    "print(\"Number of rows after merging:\", len(data_incl_income))"
   ],
   "metadata": {
    "collapsed": false,
    "ExecuteTime": {
     "end_time": "2024-07-04T15:05:46.491769800Z",
     "start_time": "2024-07-04T15:05:46.189227Z"
    }
   }
  },
  {
   "cell_type": "markdown",
   "source": [
    "__Ensure added columns are of the correct data type__"
   ],
   "metadata": {
    "collapsed": false
   }
  },
  {
   "cell_type": "code",
   "execution_count": 201,
   "outputs": [],
   "source": [
    "# List of columns to be converted to float\n",
    "columns_to_convert = [\n",
    "    'NUMER_OF_DECLARATIONS', \n",
    "    'AVERAGE_GROSS_INCOME', \n",
    "    'AVERAGE_DISPOSABLE_INCOME',\n",
    "    'LABOR_INCOME', \n",
    "    'EXEMPT_INCOME', \n",
    "    'GROSS_INCOME', \n",
    "    'SOCIAL_SECURITY_CONTRIBUTIONS', \n",
    "    'SELF_ASSESSMENT_QUOTA', \n",
    "    'DISPOSABLE_INCOME'\n",
    "]\n",
    "\n",
    "# Removing commas and converting the specified columns to float data type\n",
    "for column in columns_to_convert:\n",
    "    # Convert to string first\n",
    "    data_incl_income[column] = data_incl_income[column].astype(str)\n",
    "    # Replace thousand separators and convert to float\n",
    "    data_incl_income[column] = data_incl_income[column].str.replace('.', '', regex=False).str.replace(',', '.', regex=False).astype(float)"
   ],
   "metadata": {
    "collapsed": false,
    "ExecuteTime": {
     "end_time": "2024-07-04T15:05:46.885898500Z",
     "start_time": "2024-07-04T15:05:46.199910800Z"
    }
   }
  },
  {
   "cell_type": "code",
   "execution_count": 202,
   "outputs": [],
   "source": [
    "data_incl_income['ZIP_CODE'] = data_incl_income['ZIP_CODE'].astype(str)"
   ],
   "metadata": {
    "collapsed": false,
    "ExecuteTime": {
     "end_time": "2024-07-04T15:05:46.899763700Z",
     "start_time": "2024-07-04T15:05:46.885898500Z"
    }
   }
  },
  {
   "cell_type": "markdown",
   "source": [
    "__Check final merged dataframe__"
   ],
   "metadata": {
    "collapsed": false
   }
  },
  {
   "cell_type": "code",
   "execution_count": 203,
   "outputs": [
    {
     "data": {
      "text/plain": "                 ASSETID   PRICE  CONSTRUCTEDAREA  ROOMNUMBER  BATHNUMBER  \\\n0  A10000037964896093228  255000               97           3           2   \n1  A10000072440601830803   82000               62           2           1   \n2  A10000538600815177437  133000               67           3           1   \n3  A10000654405436195291  204000              180           3           2   \n4  A10000872160480475600  161000               54           2           1   \n\n   AMENITYID  HASPARKINGSPACE  PARKINGSPACEPRICE  HASTERRACE  HASLIFT  ...  \\\n0          3                0                1.0           0        1  ...   \n1          3                0                1.0           0        1  ...   \n2          3                0                1.0           1        0  ...   \n3          3                0                1.0           0        1  ...   \n4          3                0                1.0           0        0  ...   \n\n   PERIOD_201812  NUMER_OF_DECLARATIONS  AVERAGE_GROSS_INCOME  \\\n0              0                47929.0               42679.0   \n1              0                33225.0               24517.0   \n2              0                33225.0               24517.0   \n3              0                55687.0               27477.0   \n4              1                47809.0               27218.0   \n\n   AVERAGE_DISPOSABLE_INCOME  LABOR_INCOME  EXEMPT_INCOME  GROSS_INCOME  \\\n0                    33099.0  1.597692e+09     76274309.0  2.045548e+09   \n1                    20458.0  6.965424e+08     36917201.0  8.145684e+08   \n2                    20458.0  6.965424e+08     36917201.0  8.145684e+08   \n3                    22618.0  1.311609e+09     54700472.0  1.530129e+09   \n4                    22399.0  1.097802e+09     48959836.0  1.301282e+09   \n\n   SOCIAL_SECURITY_CONTRIBUTIONS  SELF_ASSESSMENT_QUOTA  DISPOSABLE_INCOME  \n0                     62934177.0            396256316.0       1.586413e+09  \n1                     35486524.0             99378073.0       6.797218e+08  \n2                     35486524.0             99378073.0       6.797218e+08  \n3                     61816758.0            208884677.0       1.259502e+09  \n4                     51743635.0            178718832.0       1.070854e+09  \n\n[5 rows x 52 columns]",
      "text/html": "<div>\n<style scoped>\n    .dataframe tbody tr th:only-of-type {\n        vertical-align: middle;\n    }\n\n    .dataframe tbody tr th {\n        vertical-align: top;\n    }\n\n    .dataframe thead th {\n        text-align: right;\n    }\n</style>\n<table border=\"1\" class=\"dataframe\">\n  <thead>\n    <tr style=\"text-align: right;\">\n      <th></th>\n      <th>ASSETID</th>\n      <th>PRICE</th>\n      <th>CONSTRUCTEDAREA</th>\n      <th>ROOMNUMBER</th>\n      <th>BATHNUMBER</th>\n      <th>AMENITYID</th>\n      <th>HASPARKINGSPACE</th>\n      <th>PARKINGSPACEPRICE</th>\n      <th>HASTERRACE</th>\n      <th>HASLIFT</th>\n      <th>...</th>\n      <th>PERIOD_201812</th>\n      <th>NUMER_OF_DECLARATIONS</th>\n      <th>AVERAGE_GROSS_INCOME</th>\n      <th>AVERAGE_DISPOSABLE_INCOME</th>\n      <th>LABOR_INCOME</th>\n      <th>EXEMPT_INCOME</th>\n      <th>GROSS_INCOME</th>\n      <th>SOCIAL_SECURITY_CONTRIBUTIONS</th>\n      <th>SELF_ASSESSMENT_QUOTA</th>\n      <th>DISPOSABLE_INCOME</th>\n    </tr>\n  </thead>\n  <tbody>\n    <tr>\n      <th>0</th>\n      <td>A10000037964896093228</td>\n      <td>255000</td>\n      <td>97</td>\n      <td>3</td>\n      <td>2</td>\n      <td>3</td>\n      <td>0</td>\n      <td>1.0</td>\n      <td>0</td>\n      <td>1</td>\n      <td>...</td>\n      <td>0</td>\n      <td>47929.0</td>\n      <td>42679.0</td>\n      <td>33099.0</td>\n      <td>1.597692e+09</td>\n      <td>76274309.0</td>\n      <td>2.045548e+09</td>\n      <td>62934177.0</td>\n      <td>396256316.0</td>\n      <td>1.586413e+09</td>\n    </tr>\n    <tr>\n      <th>1</th>\n      <td>A10000072440601830803</td>\n      <td>82000</td>\n      <td>62</td>\n      <td>2</td>\n      <td>1</td>\n      <td>3</td>\n      <td>0</td>\n      <td>1.0</td>\n      <td>0</td>\n      <td>1</td>\n      <td>...</td>\n      <td>0</td>\n      <td>33225.0</td>\n      <td>24517.0</td>\n      <td>20458.0</td>\n      <td>6.965424e+08</td>\n      <td>36917201.0</td>\n      <td>8.145684e+08</td>\n      <td>35486524.0</td>\n      <td>99378073.0</td>\n      <td>6.797218e+08</td>\n    </tr>\n    <tr>\n      <th>2</th>\n      <td>A10000538600815177437</td>\n      <td>133000</td>\n      <td>67</td>\n      <td>3</td>\n      <td>1</td>\n      <td>3</td>\n      <td>0</td>\n      <td>1.0</td>\n      <td>1</td>\n      <td>0</td>\n      <td>...</td>\n      <td>0</td>\n      <td>33225.0</td>\n      <td>24517.0</td>\n      <td>20458.0</td>\n      <td>6.965424e+08</td>\n      <td>36917201.0</td>\n      <td>8.145684e+08</td>\n      <td>35486524.0</td>\n      <td>99378073.0</td>\n      <td>6.797218e+08</td>\n    </tr>\n    <tr>\n      <th>3</th>\n      <td>A10000654405436195291</td>\n      <td>204000</td>\n      <td>180</td>\n      <td>3</td>\n      <td>2</td>\n      <td>3</td>\n      <td>0</td>\n      <td>1.0</td>\n      <td>0</td>\n      <td>1</td>\n      <td>...</td>\n      <td>0</td>\n      <td>55687.0</td>\n      <td>27477.0</td>\n      <td>22618.0</td>\n      <td>1.311609e+09</td>\n      <td>54700472.0</td>\n      <td>1.530129e+09</td>\n      <td>61816758.0</td>\n      <td>208884677.0</td>\n      <td>1.259502e+09</td>\n    </tr>\n    <tr>\n      <th>4</th>\n      <td>A10000872160480475600</td>\n      <td>161000</td>\n      <td>54</td>\n      <td>2</td>\n      <td>1</td>\n      <td>3</td>\n      <td>0</td>\n      <td>1.0</td>\n      <td>0</td>\n      <td>0</td>\n      <td>...</td>\n      <td>1</td>\n      <td>47809.0</td>\n      <td>27218.0</td>\n      <td>22399.0</td>\n      <td>1.097802e+09</td>\n      <td>48959836.0</td>\n      <td>1.301282e+09</td>\n      <td>51743635.0</td>\n      <td>178718832.0</td>\n      <td>1.070854e+09</td>\n    </tr>\n  </tbody>\n</table>\n<p>5 rows × 52 columns</p>\n</div>"
     },
     "execution_count": 203,
     "metadata": {},
     "output_type": "execute_result"
    }
   ],
   "source": [
    "data_incl_income.head()"
   ],
   "metadata": {
    "collapsed": false,
    "ExecuteTime": {
     "end_time": "2024-07-04T15:05:46.945729300Z",
     "start_time": "2024-07-04T15:05:46.899763700Z"
    }
   }
  },
  {
   "cell_type": "markdown",
   "metadata": {},
   "source": [
    "# Write data incl. new feature to csv"
   ]
  },
  {
   "cell_type": "code",
   "execution_count": 204,
   "metadata": {
    "ExecuteTime": {
     "end_time": "2024-07-04T15:05:49.359979700Z",
     "start_time": "2024-07-04T15:05:46.946913600Z"
    }
   },
   "outputs": [],
   "source": [
    "if city == \"Madrid\":\n",
    "    data_incl_income.to_csv(\"../../data/5_cleaned_and_feature_engineering/feature_income/madrid_cleaned_incl_income.csv\", index=False)\n",
    "elif city == \"Barcelona\":\n",
    "    data_incl_income.to_csv(\"../../data/5_cleaned_and_feature_engineering/feature_income/barcelona_cleaned_incl_income.csv\", index=False)\n",
    "elif city == \"Valencia\":\n",
    "    data_incl_income.to_csv(\"../../data/5_cleaned_and_feature_engineering/feature_income/valencia_cleaned_incl_income.csv\", index=False)"
   ]
  }
 ],
 "metadata": {
  "kernelspec": {
   "display_name": "Python 3",
   "language": "python",
   "name": "python3"
  },
  "language_info": {
   "codemirror_mode": {
    "name": "ipython",
    "version": 3
   },
   "file_extension": ".py",
   "mimetype": "text/x-python",
   "name": "python",
   "nbconvert_exporter": "python",
   "pygments_lexer": "ipython3",
   "version": "3.11.5"
  }
 },
 "nbformat": 4,
 "nbformat_minor": 2
}
