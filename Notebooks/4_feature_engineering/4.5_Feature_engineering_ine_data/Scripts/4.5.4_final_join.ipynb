{
 "cells": [
  {
   "cell_type": "markdown",
   "source": [
    "# 4.5.4 Final join of census data"
   ],
   "metadata": {
    "collapsed": false
   },
   "id": "5d44387737ddd7c5"
  },
  {
   "cell_type": "markdown",
   "source": [
    "The purpose of this notebook is to join the cleaned Idealista property data with the processed INE data"
   ],
   "metadata": {
    "collapsed": false
   },
   "id": "9d94cc3f4c9a23f2"
  },
  {
   "cell_type": "markdown",
   "source": [
    "### Import libraries"
   ],
   "metadata": {
    "collapsed": false
   },
   "id": "e9e277a54f89c7be"
  },
  {
   "cell_type": "code",
   "execution_count": 17,
   "id": "22eda3c1",
   "metadata": {
    "ExecuteTime": {
     "end_time": "2024-07-10T07:39:04.335940500Z",
     "start_time": "2024-07-10T07:39:04.309522400Z"
    }
   },
   "outputs": [],
   "source": [
    "import pandas as pd"
   ]
  },
  {
   "cell_type": "code",
   "execution_count": 18,
   "id": "fcb7152e",
   "metadata": {
    "ExecuteTime": {
     "end_time": "2024-07-10T07:39:04.403083400Z",
     "start_time": "2024-07-10T07:39:04.314240700Z"
    }
   },
   "outputs": [],
   "source": [
    "pd.set_option('display.max_columns', None)"
   ]
  },
  {
   "cell_type": "markdown",
   "source": [
    "### Read data"
   ],
   "metadata": {
    "collapsed": false
   },
   "id": "e087e51e1c58a7ea"
  },
  {
   "cell_type": "code",
   "execution_count": 19,
   "outputs": [],
   "source": [
    "df_madrid = pd.read_csv('../../../../data/4_data_cleaned/madrid_cleaned_base_features.csv')\n",
    "df_barcelona = pd.read_csv('../../../../data/4_data_cleaned/barcelona_cleaned_base_features.csv')\n",
    "df_valencia = pd.read_csv('../../../../data/4_data_cleaned/valencia_cleaned_base_features.csv')\n",
    "\n",
    "dfs = [df_barcelona, df_valencia, df_madrid]\n",
    "\n",
    "ine_data = pd.read_csv('../../../../data/3_external_data/census/mapping_data/INE_DATA_1.csv')\n",
    "mapping_df = pd.read_csv('../../../../data/3_external_data/census/mapping_data/map_cs_pc.csv')"
   ],
   "metadata": {
    "collapsed": false,
    "ExecuteTime": {
     "end_time": "2024-07-10T07:39:05.172589400Z",
     "start_time": "2024-07-10T07:39:04.320297400Z"
    }
   },
   "id": "7be5d5fb325e080e"
  },
  {
   "cell_type": "markdown",
   "source": [
    "### Merge cleaned Idealista data with census data"
   ],
   "metadata": {
    "collapsed": false
   },
   "id": "733bc3db0baa5fd0"
  },
  {
   "cell_type": "code",
   "execution_count": 20,
   "id": "1b534681",
   "metadata": {
    "ExecuteTime": {
     "end_time": "2024-07-10T07:39:05.180073800Z",
     "start_time": "2024-07-10T07:39:05.172589400Z"
    }
   },
   "outputs": [
    {
     "data": {
      "text/plain": "64"
     },
     "execution_count": 20,
     "metadata": {},
     "output_type": "execute_result"
    }
   ],
   "source": [
    "len(df_madrid['ZIP_CODE'].unique())"
   ]
  },
  {
   "cell_type": "code",
   "execution_count": 21,
   "id": "185453d9",
   "metadata": {
    "ExecuteTime": {
     "end_time": "2024-07-10T07:39:05.191957800Z",
     "start_time": "2024-07-10T07:39:05.180073800Z"
    }
   },
   "outputs": [],
   "source": [
    "mapping_df.drop(columns='Unnamed: 0', inplace=True)"
   ]
  },
  {
   "cell_type": "code",
   "execution_count": 22,
   "id": "22c620f5",
   "metadata": {
    "ExecuteTime": {
     "end_time": "2024-07-10T07:39:05.266696600Z",
     "start_time": "2024-07-10T07:39:05.191957800Z"
    }
   },
   "outputs": [],
   "source": [
    "mapping_df['Postal_Code'] = mapping_df['Postal_Code'].astype(str).str.zfill(5)\n",
    "df_barcelona['ZIP_CODE'] = df_barcelona['ZIP_CODE'].astype(str).str.zfill(5)\n",
    "ine_data['Census section'] = ine_data['Census section'].astype(str).str.zfill(10)\n",
    "mapping_df['Nearest_Centroid_ID'] = mapping_df['Nearest_Centroid_ID'].astype(str).str.zfill(10)\n",
    "mapping_df['Distance_to_Centroid'] = pd.to_numeric(mapping_df['Distance_to_Centroid'], errors='coerce')\n",
    "\n",
    "duplicates = mapping_df[mapping_df.duplicated('Postal_Code', keep=False)]\n",
    "\n",
    "filtered_df = duplicates.loc[duplicates.groupby('Postal_Code')['Distance_to_Centroid'].idxmin()]\n",
    "unique_postal_codes = mapping_df.drop_duplicates('Postal_Code', keep=False)\n",
    "\n",
    "final_df = pd.concat([filtered_df, unique_postal_codes])\n",
    "final_df = final_df.reset_index(drop=True)\n",
    "\n",
    "ine_data['Census section'] = ine_data['Census section'].astype(str)"
   ]
  },
  {
   "cell_type": "code",
   "execution_count": 23,
   "id": "b183940b",
   "metadata": {
    "ExecuteTime": {
     "end_time": "2024-07-10T07:39:05.292226100Z",
     "start_time": "2024-07-10T07:39:05.266696600Z"
    }
   },
   "outputs": [],
   "source": [
    "final_df = final_df.rename(columns={'Nearest_Centroid_ID': 'Census section'})\n",
    "merged_df = pd.merge(final_df, ine_data, on='Census section')"
   ]
  },
  {
   "cell_type": "code",
   "execution_count": 24,
   "id": "adf4caaa",
   "metadata": {
    "ExecuteTime": {
     "end_time": "2024-07-10T07:39:05.303002700Z",
     "start_time": "2024-07-10T07:39:05.292226100Z"
    }
   },
   "outputs": [],
   "source": [
    "merged_df = (merged_df.drop(columns=['Latitude', 'Longitude', 'Admin_Code3', 'Distance_to_Centroid'])\n",
    "                     .rename(columns={'Postal_Code':'ZIP_CODE'}))"
   ]
  },
  {
   "cell_type": "code",
   "execution_count": 25,
   "id": "7af7f29d",
   "metadata": {
    "ExecuteTime": {
     "end_time": "2024-07-10T07:39:05.333703100Z",
     "start_time": "2024-07-10T07:39:05.303002700Z"
    }
   },
   "outputs": [],
   "source": [
    "merged_df['ZIP_CODE'] = merged_df['ZIP_CODE'].astype(str)\n",
    "df_barcelona['ZIP_CODE'] = df_barcelona['ZIP_CODE'].astype(str)\n",
    "df_madrid['ZIP_CODE'] = df_madrid['ZIP_CODE'].astype(str)\n",
    "df_valencia['ZIP_CODE'] = df_valencia['ZIP_CODE'].astype(str)"
   ]
  },
  {
   "cell_type": "code",
   "execution_count": 26,
   "id": "7c672686",
   "metadata": {
    "ExecuteTime": {
     "end_time": "2024-07-10T07:39:05.334255400Z",
     "start_time": "2024-07-10T07:39:05.334255400Z"
    }
   },
   "outputs": [],
   "source": [
    "def final_join(city_df, merged_df):  \n",
    "    joined_df = pd.merge(city_df, merged_df, on='ZIP_CODE')\n",
    "    return joined_df"
   ]
  },
  {
   "cell_type": "code",
   "execution_count": 27,
   "id": "71ecd68d",
   "metadata": {
    "ExecuteTime": {
     "end_time": "2024-07-10T07:39:05.489877400Z",
     "start_time": "2024-07-10T07:39:05.334255400Z"
    }
   },
   "outputs": [],
   "source": [
    "madrid_final = final_join(df_madrid, merged_df)\n",
    "barcelona_final = final_join(df_barcelona, merged_df)\n",
    "valencia_final = final_join(df_valencia, merged_df)"
   ]
  },
  {
   "cell_type": "markdown",
   "source": [
    "### Write joined data to CSV"
   ],
   "metadata": {
    "collapsed": false
   },
   "id": "f5d77c9bc452d235"
  },
  {
   "cell_type": "code",
   "execution_count": 29,
   "id": "bc1ad53b",
   "metadata": {
    "ExecuteTime": {
     "end_time": "2024-07-10T07:39:59.672396400Z",
     "start_time": "2024-07-10T07:39:53.308920400Z"
    }
   },
   "outputs": [],
   "source": [
    "madrid_final.to_csv('../../../../data/5_cleaned_and_feature_engineering/cleaned_with_ine/madrid_cleaned_with_ine.csv')\n",
    "barcelona_final.to_csv('../../../../data/5_cleaned_and_feature_engineering/cleaned_with_ine/barcelona_cleaned_with_ine.csv')\n",
    "valencia_final.to_csv('../../../../data/5_cleaned_and_feature_engineering/cleaned_with_ine/valencia_cleaned_with_ine.csv')"
   ]
  }
 ],
 "metadata": {
  "kernelspec": {
   "display_name": "Python 3 (ipykernel)",
   "language": "python",
   "name": "python3"
  },
  "language_info": {
   "codemirror_mode": {
    "name": "ipython",
    "version": 3
   },
   "file_extension": ".py",
   "mimetype": "text/x-python",
   "name": "python",
   "nbconvert_exporter": "python",
   "pygments_lexer": "ipython3",
   "version": "3.11.4"
  }
 },
 "nbformat": 4,
 "nbformat_minor": 5
}
