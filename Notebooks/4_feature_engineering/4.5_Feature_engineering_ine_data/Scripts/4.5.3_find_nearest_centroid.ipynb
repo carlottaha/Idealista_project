{
 "cells": [
  {
   "cell_type": "markdown",
   "source": [
    "# Find nearest centroids for census data"
   ],
   "metadata": {
    "collapsed": false
   },
   "id": "48f4ccfc8aa9a9c4"
  },
  {
   "cell_type": "markdown",
   "source": [
    "The purpose of this notebook is to map the processed census data to specific locations, using  geographic information system (GIS) tools.\n",
    "This will enable us to integrate it with our real estate information.\n",
    "More details available in the README file."
   ],
   "metadata": {
    "collapsed": false
   },
   "id": "22d2a7802dbf047b"
  },
  {
   "cell_type": "markdown",
   "source": [
    "### Import libraries"
   ],
   "metadata": {
    "collapsed": false
   },
   "id": "12607bdde6fe8518"
  },
  {
   "cell_type": "code",
   "execution_count": 59,
   "id": "421e23f3",
   "metadata": {},
   "outputs": [],
   "source": [
    "import pandas as pd\n",
    "from geopy.distance import geodesic"
   ]
  },
  {
   "cell_type": "markdown",
   "source": [
    "### Read data"
   ],
   "metadata": {
    "collapsed": false
   },
   "id": "bfbc2ddd0f2a05fb"
  },
  {
   "cell_type": "code",
   "execution_count": 146,
   "id": "ec8b2dfc",
   "metadata": {},
   "outputs": [],
   "source": [
    "df_pc = pd.read_csv('../../../../data/3_external_data/census/geodata/Spain_Postal_Code.csv', dtype={'Admin_Code3': str, 'Postal_Code': str})\n",
    "df_cs = pd.read_csv('../../../../data/3_external_data/census/geodata/seccion_censal_centroids.csv', dtype={'CUMUN': str})"
   ]
  },
  {
   "cell_type": "code",
   "execution_count": 147,
   "id": "39f78f7d",
   "metadata": {},
   "outputs": [],
   "source": [
    "df_pc = df_pc[['Postal_Code', 'Latitude', 'Longitude', 'Admin_Code3']]\n",
    "df_cs = df_cs[['CUSEC', 'CUMUN','longitude','latitude']]\n",
    "\n",
    "df_pc['Admin_Code3'] = df_pc['Admin_Code3'].astype(str).str.zfill(5)\n",
    "df_pc['Postal_Code'] = df_pc['Postal_Code'].astype(str).str.zfill(5)"
   ]
  },
  {
   "cell_type": "code",
   "execution_count": 148,
   "id": "eb1b4472",
   "metadata": {},
   "outputs": [
    {
     "data": {
      "text/html": [
       "<div>\n",
       "<style scoped>\n",
       "    .dataframe tbody tr th:only-of-type {\n",
       "        vertical-align: middle;\n",
       "    }\n",
       "\n",
       "    .dataframe tbody tr th {\n",
       "        vertical-align: top;\n",
       "    }\n",
       "\n",
       "    .dataframe thead th {\n",
       "        text-align: right;\n",
       "    }\n",
       "</style>\n",
       "<table border=\"1\" class=\"dataframe\">\n",
       "  <thead>\n",
       "    <tr style=\"text-align: right;\">\n",
       "      <th></th>\n",
       "      <th>Postal_Code</th>\n",
       "      <th>Latitude</th>\n",
       "      <th>Longitude</th>\n",
       "      <th>Admin_Code3</th>\n",
       "    </tr>\n",
       "  </thead>\n",
       "  <tbody>\n",
       "    <tr>\n",
       "      <th>0</th>\n",
       "      <td>39812</td>\n",
       "      <td>43.2881</td>\n",
       "      <td>-3.5391</td>\n",
       "      <td>39067</td>\n",
       "    </tr>\n",
       "    <tr>\n",
       "      <th>1</th>\n",
       "      <td>15688</td>\n",
       "      <td>43.1063</td>\n",
       "      <td>-8.4458</td>\n",
       "      <td>15060</td>\n",
       "    </tr>\n",
       "    <tr>\n",
       "      <th>2</th>\n",
       "      <td>39213</td>\n",
       "      <td>42.9659</td>\n",
       "      <td>-4.1171</td>\n",
       "      <td>39027</td>\n",
       "    </tr>\n",
       "    <tr>\n",
       "      <th>3</th>\n",
       "      <td>04409</td>\n",
       "      <td>36.9658</td>\n",
       "      <td>-2.6021</td>\n",
       "      <td>04012</td>\n",
       "    </tr>\n",
       "    <tr>\n",
       "      <th>4</th>\n",
       "      <td>33844</td>\n",
       "      <td>43.2217</td>\n",
       "      <td>-6.2505</td>\n",
       "      <td>33005</td>\n",
       "    </tr>\n",
       "  </tbody>\n",
       "</table>\n",
       "</div>"
      ],
      "text/plain": [
       "  Postal_Code  Latitude  Longitude Admin_Code3\n",
       "0       39812   43.2881    -3.5391       39067\n",
       "1       15688   43.1063    -8.4458       15060\n",
       "2       39213   42.9659    -4.1171       39027\n",
       "3       04409   36.9658    -2.6021       04012\n",
       "4       33844   43.2217    -6.2505       33005"
      ]
     },
     "execution_count": 148,
     "metadata": {},
     "output_type": "execute_result"
    }
   ],
   "source": [
    "df_pc.head()"
   ]
  },
  {
   "cell_type": "markdown",
   "source": [
    "### Find the nearest centroids"
   ],
   "metadata": {
    "collapsed": false
   },
   "id": "67bafb9415df0bc3"
  },
  {
   "cell_type": "code",
   "execution_count": 149,
   "id": "ad91cde7",
   "metadata": {},
   "outputs": [],
   "source": [
    "def find_nearest_centroid(lat, lon, municipality, centroids_df):\n",
    "    # Filter centroids by the same municipality\n",
    "    same_municipality_centroids = centroids_df[centroids_df['CUMUN'] == municipality]\n",
    "    \n",
    "    # If there are centroids in the same municipality, search among them\n",
    "    if not same_municipality_centroids.empty:\n",
    "        nearest_centroid_id, min_distance = _find_nearest(lat, lon, same_municipality_centroids)\n",
    "        # Check if the nearest distance is greater than 20 km\n",
    "        if min_distance <= 20000:\n",
    "            return nearest_centroid_id, min_distance\n",
    "    \n",
    "    # If no centroids in the same municipality or distance > 20 km, search the entire DataFrame\n",
    "    return _find_nearest(lat, lon, centroids_df)\n",
    "\n",
    "def _find_nearest(lat, lon, centroids):\n",
    "    min_distance = float('inf')\n",
    "    nearest_centroid_id = None\n",
    "    for _, centroid in centroids.iterrows():\n",
    "        centroid_coords = (centroid['latitude'], centroid['longitude'])\n",
    "        address_coords = (lat, lon)\n",
    "        distance = geodesic(address_coords, centroid_coords).meters\n",
    "        if distance < min_distance:\n",
    "            min_distance = distance\n",
    "            nearest_centroid_id = centroid['CUSEC']\n",
    "    return nearest_centroid_id, min_distance"
   ]
  },
  {
   "cell_type": "code",
   "execution_count": 150,
   "id": "df2827f7",
   "metadata": {},
   "outputs": [],
   "source": [
    "df_pc['Nearest_Centroid_ID'] = None\n",
    "df_pc['Distance_to_Centroid'] = None"
   ]
  },
  {
   "cell_type": "code",
   "execution_count": 151,
   "id": "841b5f85",
   "metadata": {},
   "outputs": [],
   "source": [
    "for idx, postal_code in df_pc.iterrows():\n",
    "    nearest_centroid_id, distance = find_nearest_centroid(postal_code['Latitude'], postal_code['Longitude'], postal_code['Admin_Code3'], df_cs)\n",
    "    df_pc.at[idx, 'Nearest_Centroid_ID'] = nearest_centroid_id\n",
    "    df_pc.at[idx, 'Distance_to_Centroid'] = distance"
   ]
  },
  {
   "cell_type": "code",
   "execution_count": 152,
   "id": "b24444bd",
   "metadata": {},
   "outputs": [
    {
     "data": {
      "text/html": [
       "<div>\n",
       "<style scoped>\n",
       "    .dataframe tbody tr th:only-of-type {\n",
       "        vertical-align: middle;\n",
       "    }\n",
       "\n",
       "    .dataframe tbody tr th {\n",
       "        vertical-align: top;\n",
       "    }\n",
       "\n",
       "    .dataframe thead th {\n",
       "        text-align: right;\n",
       "    }\n",
       "</style>\n",
       "<table border=\"1\" class=\"dataframe\">\n",
       "  <thead>\n",
       "    <tr style=\"text-align: right;\">\n",
       "      <th></th>\n",
       "      <th>Postal_Code</th>\n",
       "      <th>Latitude</th>\n",
       "      <th>Longitude</th>\n",
       "      <th>Admin_Code3</th>\n",
       "      <th>Nearest_Centroid_ID</th>\n",
       "      <th>Distance_to_Centroid</th>\n",
       "    </tr>\n",
       "  </thead>\n",
       "  <tbody>\n",
       "    <tr>\n",
       "      <th>25555</th>\n",
       "      <td>30382</td>\n",
       "      <td>37.6333</td>\n",
       "      <td>-0.0833</td>\n",
       "      <td>30016</td>\n",
       "      <td>3001606008</td>\n",
       "      <td>55495.527921</td>\n",
       "    </tr>\n",
       "  </tbody>\n",
       "</table>\n",
       "</div>"
      ],
      "text/plain": [
       "      Postal_Code  Latitude  Longitude Admin_Code3 Nearest_Centroid_ID  \\\n",
       "25555       30382   37.6333    -0.0833       30016          3001606008   \n",
       "\n",
       "      Distance_to_Centroid  \n",
       "25555         55495.527921  "
      ]
     },
     "execution_count": 152,
     "metadata": {},
     "output_type": "execute_result"
    }
   ],
   "source": [
    "df_pc[df_pc['Distance_to_Centroid'] == df_pc['Distance_to_Centroid'].max()]"
   ]
  },
  {
   "cell_type": "code",
   "execution_count": 158,
   "id": "e4f452df",
   "metadata": {},
   "outputs": [],
   "source": [
    "df_pc = df_pc.rename(columns={\"Nearest_Centroid_ID\": \"Census_Section\"})\n"
   ]
  },
  {
   "cell_type": "code",
   "execution_count": 166,
   "id": "9ed589da",
   "metadata": {},
   "outputs": [
    {
     "data": {
      "text/plain": [
       "0"
      ]
     },
     "execution_count": 166,
     "metadata": {},
     "output_type": "execute_result"
    }
   ],
   "source": [
    "df_pc['Census_Section'].isnull().sum()"
   ]
  },
  {
   "cell_type": "markdown",
   "source": [
    "### Write resulting mapping data to CSV"
   ],
   "metadata": {
    "collapsed": false
   },
   "id": "2f82233c7b519b54"
  },
  {
   "cell_type": "code",
   "execution_count": null,
   "id": "4b8e42b5",
   "metadata": {},
   "outputs": [],
   "source": [
    "df_pc.to_csv('../../../../data/3_external_data/census/mapping_data/map_cs_pc.csv')"
   ]
  }
 ],
 "metadata": {
  "kernelspec": {
   "display_name": "Python 3 (ipykernel)",
   "language": "python",
   "name": "python3"
  },
  "language_info": {
   "codemirror_mode": {
    "name": "ipython",
    "version": 3
   },
   "file_extension": ".py",
   "mimetype": "text/x-python",
   "name": "python",
   "nbconvert_exporter": "python",
   "pygments_lexer": "ipython3",
   "version": "3.11.4"
  }
 },
 "nbformat": 4,
 "nbformat_minor": 5
}
