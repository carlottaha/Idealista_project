{
 "cells": [
  {
   "cell_type": "markdown",
   "id": "fcddbc36",
   "metadata": {},
   "source": [
    "## 4.5.1 Extraction of National Data : \n",
    "\n",
    "The goal of this notebook is to collect data from *INE*, to create a table ready to be joined with property data. \n",
    "We use the INE API to fetch demographic and economic data at the census section level.\n",
    "We ensure compliance with INE's terms of service and scraping policies.\n"
   ]
  },
  {
   "cell_type": "markdown",
   "source": [
    "### Import libraries"
   ],
   "metadata": {
    "collapsed": false
   },
   "id": "7e7a69156fc58b37"
  },
  {
   "cell_type": "code",
   "execution_count": 1,
   "id": "5f40d9e1",
   "metadata": {},
   "outputs": [],
   "source": [
    "import pandas as pd\n",
    "import re\n",
    "import os\n",
    "import requests\n",
    "import zipfile\n",
    "import io\n",
    "import json\n",
    "import time\n",
    "import sys\n",
    "from delta import *\n",
    "from datetime import datetime\n",
    "from openpyxl import load_workbook\n",
    "from os import makedirs, getcwd\n",
    "from os.path import exists, join\n",
    "from selenium import webdriver\n",
    "from selenium.webdriver.common.by import By\n",
    "from selenium.webdriver.support.ui import Select\n",
    "from selenium.webdriver.chrome.service import Service\n",
    "from selenium.webdriver.chrome.options import Options\n",
    "from selenium.common.exceptions import NoSuchElementException\n",
    "from pyspark.sql import DataFrame\n",
    "from pyspark.sql import functions as F\n",
    "from pyspark.sql.functions import col, udf, when, coalesce, array, transform, lit, struct, concat, expr, regexp_replace, lpad, length\n",
    "from pyspark.sql.types import StructType, ArrayType, StringType, DoubleType, BooleanType, LongType"
   ]
  },
  {
   "cell_type": "markdown",
   "source": [
    "### Define paths and functions"
   ],
   "metadata": {
    "collapsed": false
   },
   "id": "3ecc906736db45aa"
  },
  {
   "cell_type": "code",
   "execution_count": 3,
   "id": "460af526",
   "metadata": {},
   "outputs": [],
   "source": [
    "conf_table = pd.read_csv(\"../CONF/conf.csv\")\n",
    "raw = '../../../../data/3_external_data/census/RAW'"
   ]
  },
  {
   "cell_type": "code",
   "execution_count": 4,
   "id": "2c1d9d30",
   "metadata": {},
   "outputs": [],
   "source": [
    "def sanitize_table_name(name: str) -> str:\n",
    "    # Replace any character that is not a letter, number, or underscore with an underscore\n",
    "    return re.sub(r'\\W+', '_', name)\n",
    "\n",
    "def df_to_delta(df: DataFrame, path: str, table_name: str):\n",
    "# This function will serve to save our DataFrames to the Delta Lake\n",
    "    table_name = sanitize_table_name(table_name)\n",
    "    df.to_csv(f'{path}/{table_name}.csv', index=False)"
   ]
  },
  {
   "cell_type": "markdown",
   "id": "27e5c01d",
   "metadata": {},
   "source": [
    "#### Extracting INE data using API requests : \n",
    "This is where the biggest chunk of the data will be coming from"
   ]
  },
  {
   "cell_type": "code",
   "execution_count": 5,
   "id": "47ad9c6c",
   "metadata": {},
   "outputs": [],
   "source": [
    "def get_and_save_api_data(identificator, name):\n",
    "    # This function makes API requests to the INE website and stores the resulting data in the DataLake\n",
    "    url = fr'https://servicios.ine.es/wstempus/jsCache/ES/DATOS_TABLA/{identificator}'\n",
    "    response = requests.get(url)   \n",
    "    if response.status_code == 200:\n",
    "        df_response = pd.DataFrame(response.json())\n",
    "    else:\n",
    "        print(response.status_code, f\"Could not retrieve {name}\")\n",
    "        exit()\n",
    "    df_to_delta(df_response, raw, f\"raw_{name}\")"
   ]
  },
  {
   "cell_type": "code",
   "execution_count": 8,
   "id": "f40cba20",
   "metadata": {},
   "outputs": [],
   "source": [
    "tables_api_ine = conf_table[conf_table['EXTRACTION_TYPE'] == 'API_INE']"
   ]
  },
  {
   "cell_type": "code",
   "execution_count": 20,
   "id": "0235d973",
   "metadata": {},
   "outputs": [],
   "source": [
    "for index, row in tables_api_ine.iterrows():\n",
    "    get_and_save_api_data(row['REQUEST_ID'], row['OUTPUT_NAME'])"
   ]
  },
  {
   "cell_type": "markdown",
   "id": "a6a86bef",
   "metadata": {},
   "source": [
    "#### Extracting rent data from INE using a web scrapper "
   ]
  },
  {
   "cell_type": "code",
   "execution_count": 9,
   "id": "eb27a052",
   "metadata": {},
   "outputs": [],
   "source": [
    "tablas_padron_ine = conf_table[conf_table['EXTRACTION_TYPE'] == 'PADRON']"
   ]
  },
  {
   "cell_type": "code",
   "execution_count": 23,
   "id": "6783304e",
   "metadata": {},
   "outputs": [],
   "source": [
    "for index, row in tablas_padron_ine.iterrows():\n",
    "    url = row['REQUEST_ID']\n",
    "    output_name = row['OUTPUT_NAME']\n",
    "    response = requests.get(url)\n",
    "    open(f'{raw}/{output_name}.xlsx', \"wb\").write(response.content)"
   ]
  },
  {
   "cell_type": "code",
   "execution_count": 24,
   "id": "30b353b0",
   "metadata": {},
   "outputs": [],
   "source": [
    "tablas_padron_ine = conf_table[conf_table['EXTRACTION_TYPE'] == 'INE_SCRAPPER']"
   ]
  },
  {
   "cell_type": "code",
   "execution_count": 30,
   "id": "3ea91161",
   "metadata": {},
   "outputs": [],
   "source": [
    "driver_path = \"../CONF/chromedriver\"\n",
    "\n",
    "# Configuring the browser\n",
    "options = webdriver.ChromeOptions()\n",
    "options.add_experimental_option(\"prefs\", {\n",
    "    \"download.default_directory\": raw,\n",
    "    \"download.prompt_for_download\": False,\n",
    "    \"download.directory_upgrade\": True,\n",
    "    \"plugins.always_open_pdf_externally\": True\n",
    "})\n",
    "\n",
    "s = Service(driver_path)\n",
    "driver = webdriver.Chrome(options = options , service=s)\n",
    "\n",
    "\n",
    "url = tablas_padron_ine['REQUEST_ID'].iloc[0]\n",
    "driver.get(url)\n",
    "time.sleep(2)\n",
    "\n",
    "\n",
    "todo = driver.find_element(By.ID, \"listadoInebase\")\n",
    "provinces = todo.find_elements(By.XPATH, './/li[@role = \"treeitem\"]')\n",
    "\n",
    "\n",
    "links_provinces = []\n",
    "name_provinces = []\n",
    "dic_provinces = {}\n",
    "\n",
    "\n",
    "for province in provinces:\n",
    "    id_province = province.find_element(By.TAG_NAME, \"a\")\n",
    "    links_provinces.append(id_province.get_attribute('href'))\n",
    "    name_provinces.append(id_province.text)\n",
    "\n",
    "    \n",
    "for i in range(len(links_provinces)):\n",
    "    driver.get(links_provinces[i]) \n",
    "    time.sleep(0.5)\n",
    "    apartados = driver.find_element(By.XPATH, './/ul[@role = \"group\"]')\n",
    "    elementos = apartados.find_elements(By.TAG_NAME,'li')\n",
    "    dic_provinces[name_provinces[i]] = {}\n",
    "    for elemento in elementos:\n",
    "        id_apartado = elemento.get_attribute('id')\n",
    "        name_apartado = elemento.text\n",
    "        dic_provinces[name_provinces[i]][name_apartado] = id_apartado\n",
    "        \n",
    "driver.quit()"
   ]
  },
  {
   "cell_type": "code",
   "execution_count": 45,
   "id": "739b6180",
   "metadata": {},
   "outputs": [],
   "source": [
    "def peticion_INE(codigo, funcion = 'DATOS_TABLA', idioma = 'ES', DataFrame = True):\n",
    "    \"\"\"\n",
    "    Function responsible for making the request to the INE website.\n",
    "    Retries the request if the status message indicates the data is not yet ready.\n",
    "    \"\"\"\n",
    "    \n",
    "    response = requests.get(fr'https://servicios.ine.es/wstempus/js/{idioma}/{funcion}/{codigo}')\n",
    "    if DataFrame:\n",
    "        response = pd.DataFrame(response.json())\n",
    "    return response\n",
    "\n",
    "def seccion_scrappeo(dic_provinces, apartado):\n",
    "    \"\"\"\n",
    "    Function that takes the filters we've gathered and retreives the relevant information from the scrapped page, on all municipalities, returned in a dataframe. \n",
    "    \"\"\"\n",
    "    df = pd.DataFrame()\n",
    "    for element in list(dic_provinces):\n",
    "        codigo = dic_provinces[element][apartado].replace('idt_',\"\")\n",
    "        response = peticion_INE(codigo)\n",
    "        df_auxiliar = pd.DataFrame(response)\n",
    "        df = pd.concat([df,df_auxiliar])\n",
    "    \n",
    "    return df"
   ]
  },
  {
   "cell_type": "code",
   "execution_count": 46,
   "id": "d8fff89a",
   "metadata": {},
   "outputs": [],
   "source": [
    "with open(f'{raw}/Codigos_Indicadores_renta.json', 'w', encoding='utf-8') as f:\n",
    "    json.dump(dic_provinces, f, ensure_ascii=False, indent=4)"
   ]
  },
  {
   "cell_type": "code",
   "execution_count": 47,
   "id": "3d040646",
   "metadata": {},
   "outputs": [],
   "source": [
    "table_provinces = pd.read_json(f'{raw}/Codigos_Indicadores_renta.json')\n",
    "lista_apartados = table_provinces.index.tolist()"
   ]
  },
  {
   "cell_type": "code",
   "execution_count": 49,
   "id": "ba2ebd93",
   "metadata": {},
   "outputs": [],
   "source": [
    "apartado = lista_apartados[0]\n",
    "df = seccion_scrappeo(dic_provinces, apartado)\n",
    "output_name = tablas_padron_ine['OUTPUT_NAME'].iloc[0]\n",
    "df.to_csv(fr'{raw}/{output_name}.csv', index=False)"
   ]
  },
  {
   "cell_type": "markdown",
   "id": "156d2782",
   "metadata": {},
   "source": [
    "#### Auxilliary Tables \n",
    "Allows us to map data"
   ]
  },
  {
   "cell_type": "code",
   "execution_count": 5,
   "id": "51879ddd",
   "metadata": {},
   "outputs": [],
   "source": [
    "tablas_municipios_nacional = conf_table[conf_table['EXTRACTION_TYPE'] == 'MUNICIPIOS']\n",
    "url_tabla_municipios_nacional = tablas_municipios_nacional['REQUEST_ID'].iloc[0]\n",
    "output_tabla_municipios_nacional = tablas_municipios_nacional['OUTPUT_NAME'].iloc[0]"
   ]
  },
  {
   "cell_type": "code",
   "execution_count": 15,
   "id": "000d1bba",
   "metadata": {},
   "outputs": [
    {
     "data": {
      "text/plain": [
       "306546"
      ]
     },
     "execution_count": 15,
     "metadata": {},
     "output_type": "execute_result"
    }
   ],
   "source": [
    "response = requests.get(url_tabla_municipios_nacional)\n",
    "open(f'{raw}/{output_tabla_municipios_nacional}.xlsx', \"wb\").write(response.content)"
   ]
  },
  {
   "cell_type": "code",
   "execution_count": 19,
   "id": "e8d0fe85",
   "metadata": {},
   "outputs": [
    {
     "data": {
      "text/html": [
       "<div>\n",
       "<style scoped>\n",
       "    .dataframe tbody tr th:only-of-type {\n",
       "        vertical-align: middle;\n",
       "    }\n",
       "\n",
       "    .dataframe tbody tr th {\n",
       "        vertical-align: top;\n",
       "    }\n",
       "\n",
       "    .dataframe thead th {\n",
       "        text-align: right;\n",
       "    }\n",
       "</style>\n",
       "<table border=\"1\" class=\"dataframe\">\n",
       "  <thead>\n",
       "    <tr style=\"text-align: right;\">\n",
       "      <th></th>\n",
       "      <th>NOMBRE</th>\n",
       "      <th>COD_PRO_MUN</th>\n",
       "    </tr>\n",
       "  </thead>\n",
       "  <tbody>\n",
       "    <tr>\n",
       "      <th>0</th>\n",
       "      <td>Agurain/Salvatierra</td>\n",
       "      <td>01051</td>\n",
       "    </tr>\n",
       "    <tr>\n",
       "      <th>1</th>\n",
       "      <td>Alegría-Dulantzi</td>\n",
       "      <td>01001</td>\n",
       "    </tr>\n",
       "    <tr>\n",
       "      <th>2</th>\n",
       "      <td>Amurrio</td>\n",
       "      <td>01002</td>\n",
       "    </tr>\n",
       "    <tr>\n",
       "      <th>3</th>\n",
       "      <td>Añana</td>\n",
       "      <td>01049</td>\n",
       "    </tr>\n",
       "    <tr>\n",
       "      <th>4</th>\n",
       "      <td>Aramaio</td>\n",
       "      <td>01003</td>\n",
       "    </tr>\n",
       "    <tr>\n",
       "      <th>...</th>\n",
       "      <td>...</td>\n",
       "      <td>...</td>\n",
       "    </tr>\n",
       "    <tr>\n",
       "      <th>8126</th>\n",
       "      <td>Zaida, La</td>\n",
       "      <td>50296</td>\n",
       "    </tr>\n",
       "    <tr>\n",
       "      <th>8127</th>\n",
       "      <td>Zaragoza</td>\n",
       "      <td>50297</td>\n",
       "    </tr>\n",
       "    <tr>\n",
       "      <th>8128</th>\n",
       "      <td>Zuera</td>\n",
       "      <td>50298</td>\n",
       "    </tr>\n",
       "    <tr>\n",
       "      <th>8129</th>\n",
       "      <td>Ceuta</td>\n",
       "      <td>51001</td>\n",
       "    </tr>\n",
       "    <tr>\n",
       "      <th>8130</th>\n",
       "      <td>Melilla</td>\n",
       "      <td>52001</td>\n",
       "    </tr>\n",
       "  </tbody>\n",
       "</table>\n",
       "<p>8131 rows × 2 columns</p>\n",
       "</div>"
      ],
      "text/plain": [
       "                  NOMBRE  COD_PRO_MUN\n",
       "0     Agurain/Salvatierra       01051\n",
       "1        Alegría-Dulantzi       01001\n",
       "2                 Amurrio       01002\n",
       "3                   Añana       01049\n",
       "4                 Aramaio       01003\n",
       "...                   ...         ...\n",
       "8126            Zaida, La       50296\n",
       "8127             Zaragoza       50297\n",
       "8128                Zuera       50298\n",
       "8129                Ceuta       51001\n",
       "8130              Melilla       52001\n",
       "\n",
       "[8131 rows x 2 columns]"
      ]
     },
     "execution_count": 19,
     "metadata": {},
     "output_type": "execute_result"
    }
   ],
   "source": [
    "t = pd.read_excel(f'{raw}/cod_mun_raw.xlsx', header = 1, dtype={'CODAUTO': str, 'CPRO' : str , 'CMUN' : str, 'DC':str})\n",
    "t.insert(0, 'COD_PRO_MUN', t[['CPRO', 'CMUN']].apply(lambda row: ''.join(row.values.astype(str)), axis=1))\n",
    "col_nombre = [col for col in t.columns if 'NOMBRE' in col]\n",
    "col_nombre.append('COD_PRO_MUN')\n",
    "t = t[col_nombre]\n",
    "t"
   ]
  },
  {
   "cell_type": "code",
   "execution_count": 20,
   "id": "9db53d6f",
   "metadata": {},
   "outputs": [],
   "source": [
    "path = f'{raw}/indicators.xlsx'\n",
    "columnas_municipio = ['cpro', 'cmun']\n",
    "columnas_seccion_censal = ['cpro', 'cmun', 'dist', 'secc']"
   ]
  },
  {
   "cell_type": "code",
   "execution_count": 21,
   "id": "5f2a2292",
   "metadata": {},
   "outputs": [],
   "source": [
    "t1 = pd.read_excel(path, dtype={'cpro': str, 'cmun' : str , 'dist' : str, 'secc':str})"
   ]
  },
  {
   "cell_type": "code",
   "execution_count": 22,
   "id": "12402fa5",
   "metadata": {},
   "outputs": [],
   "source": [
    "t1 = t1[['cpro', 'cmun', 'dist', 'secc']]"
   ]
  },
  {
   "cell_type": "code",
   "execution_count": 23,
   "id": "b377e104",
   "metadata": {},
   "outputs": [],
   "source": [
    "t1.insert(0, 'Seccion censal', t1[columnas_seccion_censal].apply(lambda row: ''.join(row.values.astype(str)), axis=1))\n",
    "t1.insert(1, 'Municipio', t1[columnas_municipio].apply(lambda row: ''.join(row.values.astype(str)), axis=1))"
   ]
  },
  {
   "cell_type": "code",
   "execution_count": 24,
   "id": "717c9c87",
   "metadata": {},
   "outputs": [],
   "source": [
    "t_final = pd.merge(t1, t, left_on='Municipio', right_on='COD_PRO_MUN', how='left')\n",
    "t_final.drop('COD_PRO_MUN', axis = 1, inplace = True)\n",
    "t_final.rename(columns={'NOMBRE ': 'Nombre_municipio'}, inplace = True)"
   ]
  },
  {
   "cell_type": "code",
   "execution_count": 26,
   "id": "e54ceb97",
   "metadata": {},
   "outputs": [],
   "source": [
    "t_final.to_csv(f'{raw}/mapeo_cs_municipio.csv', index = False)"
   ]
  },
  {
   "cell_type": "markdown",
   "id": "5816cfa7",
   "metadata": {},
   "source": [
    "#### Obtaining Coordinate data for each municipality "
   ]
  },
  {
   "cell_type": "code",
   "execution_count": 18,
   "id": "2e040d4f",
   "metadata": {},
   "outputs": [],
   "source": [
    "tablas_municipios_coordenadas = conf_table[conf_table['EXTRACTION_TYPE'] == 'MUNICIPIOS_COORDENADAS']\n",
    "url_tabla_municipios_coordenadas = tablas_municipios_coordenadas['REQUEST_ID'].iloc[0]\n",
    "output_tabla_municipios_coordenadas = tablas_municipios_coordenadas['OUTPUT_NAME'].iloc[0]"
   ]
  },
  {
   "cell_type": "code",
   "execution_count": 20,
   "id": "7c0adaf4",
   "metadata": {},
   "outputs": [
    {
     "data": {
      "text/plain": [
       "1349120"
      ]
     },
     "execution_count": 20,
     "metadata": {},
     "output_type": "execute_result"
    }
   ],
   "source": [
    "response = requests.get(url_tabla_municipios_coordenadas)\n",
    "open(f'{raw}/{output_tabla_municipios_coordenadas}.xlsx', \"wb\").write(response.content)"
   ]
  },
  {
   "cell_type": "code",
   "execution_count": 23,
   "id": "7b0b3e84",
   "metadata": {},
   "outputs": [],
   "source": [
    "tabla_coordenadas = pd.read_excel(f'{raw}/coord_mun.xlsx', header=2)"
   ]
  },
  {
   "cell_type": "code",
   "execution_count": 25,
   "id": "ab4a87b4",
   "metadata": {},
   "outputs": [],
   "source": [
    "tabla_coordenadas[\"Población\"] = tabla_coordenadas[\"Población\"].apply(lambda x: x.replace(\" (\", \", \").replace(\")\", \"\"))"
   ]
  },
  {
   "cell_type": "code",
   "execution_count": 26,
   "id": "5477eb30",
   "metadata": {},
   "outputs": [],
   "source": [
    "data_cpro_pro = [['01','Álava'], ['02','Albacete'], ['03','Alicante/Alacant'], ['04','Almería'], ['05','Ávila'], ['06','Badajoz'],\n",
    "                ['07', 'Illes Balears'], ['08', 'Barcelona'], ['09', 'Burgos'], ['10', 'Cáceres'], ['11', 'Cádiz'], ['12', 'Castellón/Castelló'],\n",
    "                ['13', 'Ciudad Real'], ['14', 'Córdoba'], ['15', 'A Coruña'], ['16', 'Cuenca'], ['17', 'Girona'], ['18', 'Granada'],\n",
    "                ['19', 'Guadalajara'], ['20', 'Guipúzcoa'], ['21', 'Huelva'], ['22', 'Huesca'], ['23', 'Jaén'], ['24', 'León'],\n",
    "                ['25', 'Lleida'], ['26', 'La Rioja'], ['27', 'Lugo'], ['28', 'Madrid'], ['29', 'Málaga'], ['30', 'Murcia'],\n",
    "                ['31', 'Navarra'], ['32', 'Ourense'], ['33', 'Asturias'], ['34', 'Palencia'], ['35', 'Las Palmas'], ['36', 'Pontevedra'],\n",
    "                ['37', 'Salamanca'], ['38', 'Santa Cruz de Tenerife'], ['39', 'Cantabria'], ['40', 'Segovia'], ['41', 'Sevilla'], ['42', 'Soria'],\n",
    "                ['43', 'Tarragona'], ['44', 'Teruel'], ['45', 'Toledo'], ['46', 'Valencia/València'], ['47', 'Valladolid'], ['48', 'Vizcaya'],\n",
    "                ['49', 'Zamora'], ['50', 'Zaragoza'], ['51', 'Ceuta'], ['52', 'Melilla']]"
   ]
  },
  {
   "cell_type": "code",
   "execution_count": 27,
   "id": "ba4b1d87",
   "metadata": {},
   "outputs": [
    {
     "data": {
      "text/html": [
       "<div>\n",
       "<style scoped>\n",
       "    .dataframe tbody tr th:only-of-type {\n",
       "        vertical-align: middle;\n",
       "    }\n",
       "\n",
       "    .dataframe tbody tr th {\n",
       "        vertical-align: top;\n",
       "    }\n",
       "\n",
       "    .dataframe thead th {\n",
       "        text-align: right;\n",
       "    }\n",
       "</style>\n",
       "<table border=\"1\" class=\"dataframe\">\n",
       "  <thead>\n",
       "    <tr style=\"text-align: right;\">\n",
       "      <th></th>\n",
       "      <th>cpro</th>\n",
       "      <th>Nombre provincia</th>\n",
       "    </tr>\n",
       "  </thead>\n",
       "  <tbody>\n",
       "    <tr>\n",
       "      <th>0</th>\n",
       "      <td>01</td>\n",
       "      <td>Álava</td>\n",
       "    </tr>\n",
       "    <tr>\n",
       "      <th>1</th>\n",
       "      <td>02</td>\n",
       "      <td>Albacete</td>\n",
       "    </tr>\n",
       "    <tr>\n",
       "      <th>2</th>\n",
       "      <td>03</td>\n",
       "      <td>Alicante/Alacant</td>\n",
       "    </tr>\n",
       "    <tr>\n",
       "      <th>3</th>\n",
       "      <td>04</td>\n",
       "      <td>Almería</td>\n",
       "    </tr>\n",
       "    <tr>\n",
       "      <th>4</th>\n",
       "      <td>05</td>\n",
       "      <td>Ávila</td>\n",
       "    </tr>\n",
       "  </tbody>\n",
       "</table>\n",
       "</div>"
      ],
      "text/plain": [
       "  cpro  Nombre provincia\n",
       "0   01             Álava\n",
       "1   02          Albacete\n",
       "2   03  Alicante/Alacant\n",
       "3   04           Almería\n",
       "4   05             Ávila"
      ]
     },
     "execution_count": 27,
     "metadata": {},
     "output_type": "execute_result"
    }
   ],
   "source": [
    "df_cpro_pro = pd.DataFrame(data_cpro_pro, columns=['cpro', 'Nombre provincia'])\n",
    "df_cpro_pro.head()"
   ]
  },
  {
   "cell_type": "code",
   "execution_count": 28,
   "id": "6671405b",
   "metadata": {},
   "outputs": [],
   "source": [
    "tabla_coordenadas_final = tabla_coordenadas.merge(df_cpro_pro, left_on=['Provincia'], right_on=['Nombre provincia'], how='left').drop('Nombre provincia', axis = 1)"
   ]
  },
  {
   "cell_type": "code",
   "execution_count": 36,
   "id": "775310f5",
   "metadata": {},
   "outputs": [
    {
     "data": {
      "text/plain": [
       "Index(['NOMBRE ', 'COD_PRO_MUN'], dtype='object')"
      ]
     },
     "execution_count": 36,
     "metadata": {},
     "output_type": "execute_result"
    }
   ],
   "source": [
    "t.columns"
   ]
  },
  {
   "cell_type": "code",
   "execution_count": 32,
   "id": "8416da83",
   "metadata": {},
   "outputs": [
    {
     "data": {
      "text/html": [
       "<div>\n",
       "<style scoped>\n",
       "    .dataframe tbody tr th:only-of-type {\n",
       "        vertical-align: middle;\n",
       "    }\n",
       "\n",
       "    .dataframe tbody tr th {\n",
       "        vertical-align: top;\n",
       "    }\n",
       "\n",
       "    .dataframe thead th {\n",
       "        text-align: right;\n",
       "    }\n",
       "</style>\n",
       "<table border=\"1\" class=\"dataframe\">\n",
       "  <thead>\n",
       "    <tr style=\"text-align: right;\">\n",
       "      <th></th>\n",
       "      <th>Comunidad</th>\n",
       "      <th>Provincia</th>\n",
       "      <th>Población</th>\n",
       "      <th>Latitud</th>\n",
       "      <th>Longitud</th>\n",
       "      <th>Altitud</th>\n",
       "      <th>Habitantes</th>\n",
       "      <th>Hombres</th>\n",
       "      <th>Mujeres</th>\n",
       "      <th>cpro</th>\n",
       "    </tr>\n",
       "  </thead>\n",
       "  <tbody>\n",
       "    <tr>\n",
       "      <th>0</th>\n",
       "      <td>Andalucía</td>\n",
       "      <td>Almería</td>\n",
       "      <td>Abla</td>\n",
       "      <td>37.14114</td>\n",
       "      <td>-2.780104</td>\n",
       "      <td>871.16840</td>\n",
       "      <td>1504</td>\n",
       "      <td>783</td>\n",
       "      <td>721</td>\n",
       "      <td>04</td>\n",
       "    </tr>\n",
       "    <tr>\n",
       "      <th>1</th>\n",
       "      <td>Andalucía</td>\n",
       "      <td>Almería</td>\n",
       "      <td>Abrucena</td>\n",
       "      <td>37.13305</td>\n",
       "      <td>-2.797098</td>\n",
       "      <td>976.93870</td>\n",
       "      <td>1341</td>\n",
       "      <td>682</td>\n",
       "      <td>659</td>\n",
       "      <td>04</td>\n",
       "    </tr>\n",
       "    <tr>\n",
       "      <th>2</th>\n",
       "      <td>Andalucía</td>\n",
       "      <td>Almería</td>\n",
       "      <td>Adra</td>\n",
       "      <td>36.74807</td>\n",
       "      <td>-3.022522</td>\n",
       "      <td>10.97898</td>\n",
       "      <td>24373</td>\n",
       "      <td>12338</td>\n",
       "      <td>12035</td>\n",
       "      <td>04</td>\n",
       "    </tr>\n",
       "    <tr>\n",
       "      <th>3</th>\n",
       "      <td>Andalucía</td>\n",
       "      <td>Almería</td>\n",
       "      <td>Albánchez</td>\n",
       "      <td>37.28710</td>\n",
       "      <td>-2.181163</td>\n",
       "      <td>481.31230</td>\n",
       "      <td>815</td>\n",
       "      <td>422</td>\n",
       "      <td>393</td>\n",
       "      <td>04</td>\n",
       "    </tr>\n",
       "    <tr>\n",
       "      <th>4</th>\n",
       "      <td>Andalucía</td>\n",
       "      <td>Almería</td>\n",
       "      <td>Alboloduy</td>\n",
       "      <td>37.03319</td>\n",
       "      <td>-2.621750</td>\n",
       "      <td>388.43460</td>\n",
       "      <td>674</td>\n",
       "      <td>334</td>\n",
       "      <td>340</td>\n",
       "      <td>04</td>\n",
       "    </tr>\n",
       "  </tbody>\n",
       "</table>\n",
       "</div>"
      ],
      "text/plain": [
       "   Comunidad Provincia  Población   Latitud  Longitud    Altitud  Habitantes  \\\n",
       "0  Andalucía   Almería       Abla  37.14114 -2.780104  871.16840        1504   \n",
       "1  Andalucía   Almería   Abrucena  37.13305 -2.797098  976.93870        1341   \n",
       "2  Andalucía   Almería       Adra  36.74807 -3.022522   10.97898       24373   \n",
       "3  Andalucía   Almería  Albánchez  37.28710 -2.181163  481.31230         815   \n",
       "4  Andalucía   Almería  Alboloduy  37.03319 -2.621750  388.43460         674   \n",
       "\n",
       "   Hombres  Mujeres cpro  \n",
       "0      783      721   04  \n",
       "1      682      659   04  \n",
       "2    12338    12035   04  \n",
       "3      422      393   04  \n",
       "4      334      340   04  "
      ]
     },
     "execution_count": 32,
     "metadata": {},
     "output_type": "execute_result"
    }
   ],
   "source": [
    "tabla_coordenadas_final.head()"
   ]
  },
  {
   "cell_type": "code",
   "execution_count": 39,
   "id": "381f07a8",
   "metadata": {},
   "outputs": [],
   "source": [
    "t_final = t.merge(tabla_coordenadas_final[['Latitud', 'Longitud', 'Altitud', 'Población']], \n",
    "              left_on=['NOMBRE '], right_on=['Población'], how = 'left').drop('Población', axis = 1)"
   ]
  },
  {
   "cell_type": "markdown",
   "source": [
    "# Inspect the scraped data"
   ],
   "metadata": {
    "collapsed": false
   },
   "id": "a8611e57c0173d64"
  },
  {
   "cell_type": "code",
   "execution_count": 40,
   "id": "d8b4ce9d",
   "metadata": {},
   "outputs": [
    {
     "data": {
      "text/html": [
       "<div>\n",
       "<style scoped>\n",
       "    .dataframe tbody tr th:only-of-type {\n",
       "        vertical-align: middle;\n",
       "    }\n",
       "\n",
       "    .dataframe tbody tr th {\n",
       "        vertical-align: top;\n",
       "    }\n",
       "\n",
       "    .dataframe thead th {\n",
       "        text-align: right;\n",
       "    }\n",
       "</style>\n",
       "<table border=\"1\" class=\"dataframe\">\n",
       "  <thead>\n",
       "    <tr style=\"text-align: right;\">\n",
       "      <th></th>\n",
       "      <th>NOMBRE</th>\n",
       "      <th>COD_PRO_MUN</th>\n",
       "      <th>Latitud</th>\n",
       "      <th>Longitud</th>\n",
       "      <th>Altitud</th>\n",
       "    </tr>\n",
       "  </thead>\n",
       "  <tbody>\n",
       "    <tr>\n",
       "      <th>0</th>\n",
       "      <td>Agurain/Salvatierra</td>\n",
       "      <td>01051</td>\n",
       "      <td>NaN</td>\n",
       "      <td>NaN</td>\n",
       "      <td>NaN</td>\n",
       "    </tr>\n",
       "    <tr>\n",
       "      <th>1</th>\n",
       "      <td>Alegría-Dulantzi</td>\n",
       "      <td>01001</td>\n",
       "      <td>42.84149</td>\n",
       "      <td>-2.513507</td>\n",
       "      <td>561.6857</td>\n",
       "    </tr>\n",
       "    <tr>\n",
       "      <th>2</th>\n",
       "      <td>Amurrio</td>\n",
       "      <td>01002</td>\n",
       "      <td>43.05265</td>\n",
       "      <td>-3.001022</td>\n",
       "      <td>219.6910</td>\n",
       "    </tr>\n",
       "    <tr>\n",
       "      <th>3</th>\n",
       "      <td>Añana</td>\n",
       "      <td>01049</td>\n",
       "      <td>42.80235</td>\n",
       "      <td>-2.982607</td>\n",
       "      <td>628.5115</td>\n",
       "    </tr>\n",
       "    <tr>\n",
       "      <th>4</th>\n",
       "      <td>Aramaio</td>\n",
       "      <td>01003</td>\n",
       "      <td>43.05400</td>\n",
       "      <td>-2.566000</td>\n",
       "      <td>381.8797</td>\n",
       "    </tr>\n",
       "  </tbody>\n",
       "</table>\n",
       "</div>"
      ],
      "text/plain": [
       "               NOMBRE  COD_PRO_MUN   Latitud  Longitud   Altitud\n",
       "0  Agurain/Salvatierra       01051       NaN       NaN       NaN\n",
       "1     Alegría-Dulantzi       01001  42.84149 -2.513507  561.6857\n",
       "2              Amurrio       01002  43.05265 -3.001022  219.6910\n",
       "3                Añana       01049  42.80235 -2.982607  628.5115\n",
       "4              Aramaio       01003  43.05400 -2.566000  381.8797"
      ]
     },
     "execution_count": 40,
     "metadata": {},
     "output_type": "execute_result"
    }
   ],
   "source": [
    "t_final.head()"
   ]
  },
  {
   "cell_type": "markdown",
   "source": [
    "# Write the data from scraping to a CSV "
   ],
   "metadata": {
    "collapsed": false
   },
   "id": "40ab6b6da2c74f65"
  },
  {
   "cell_type": "code",
   "execution_count": 41,
   "id": "76394d96",
   "metadata": {},
   "outputs": [],
   "source": [
    "t_final.to_csv(f'../../../../data/3_external_data/census/RAW/mapeo_cs_municipio.csv', index = False)"
   ]
  }
 ],
 "metadata": {
  "kernelspec": {
   "display_name": "Python 3 (ipykernel)",
   "language": "python",
   "name": "python3"
  },
  "language_info": {
   "codemirror_mode": {
    "name": "ipython",
    "version": 3
   },
   "file_extension": ".py",
   "mimetype": "text/x-python",
   "name": "python",
   "nbconvert_exporter": "python",
   "pygments_lexer": "ipython3",
   "version": "3.11.4"
  }
 },
 "nbformat": 4,
 "nbformat_minor": 5
}
