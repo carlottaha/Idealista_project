{
 "nbformat": 4,
 "nbformat_minor": 0,
 "metadata": {
  "colab": {
   "provenance": []
  },
  "kernelspec": {
   "name": "python3",
   "language": "python",
   "display_name": "Python 3 (ipykernel)"
  },
  "language_info": {
   "name": "python"
  }
 },
 "cells": [
  {
   "cell_type": "markdown",
   "source": [
    "# Notebook 3.1 - Generation of address of metro stations"
   ],
   "metadata": {
    "collapsed": false
   }
  },
  {
   "cell_type": "markdown",
   "source": [
    "This notebook generates the addresses of points of interest. These are leveraged in the data cleaning to engineer the feature of zip code for each house."
   ],
   "metadata": {
    "collapsed": false
   }
  },
  {
   "cell_type": "markdown",
   "source": [
    "__Import libraries__"
   ],
   "metadata": {
    "collapsed": false
   }
  },
  {
   "cell_type": "code",
   "execution_count": 1,
   "metadata": {
    "id": "bF5cOXZmrilK",
    "ExecuteTime": {
     "end_time": "2024-07-10T08:44:54.991822Z",
     "start_time": "2024-07-10T08:44:54.398984800Z"
    }
   },
   "outputs": [],
   "source": [
    "import pandas as pd\n",
    "# import numpy as np\n",
    "# import geopandas as gpd\n",
    "# from shapely.geometry import Point, Polygon\n",
    "# from shapely.validation import explain_validity\n",
    "# import os\n",
    "import requests\n",
    "# import io\n",
    "from geopy.geocoders import OpenCage"
   ]
  },
  {
   "cell_type": "markdown",
   "source": [
    "__Read the data sets on points of interest__"
   ],
   "metadata": {
    "collapsed": false
   }
  },
  {
   "cell_type": "code",
   "source": [
    "madrid_pois = pd.read_csv('../../data/1_raw_idealista_data/Madrid_pois.csv')\n",
    "barcelona_pois = pd.read_csv('../../data/1_raw_idealista_data/Barcelona_pois.csv')\n",
    "valencia_pois = pd.read_csv('../../data/1_raw_idealista_data/Valencia_pois.csv')"
   ],
   "metadata": {
    "id": "rFvrUkEZrnC5",
    "ExecuteTime": {
     "end_time": "2024-07-10T08:44:55.046405400Z",
     "start_time": "2024-07-10T08:44:54.991822Z"
    }
   },
   "execution_count": 2,
   "outputs": []
  },
  {
   "cell_type": "markdown",
   "source": [
    "__Use OpenCage API to generate the address for points of interest__"
   ],
   "metadata": {
    "collapsed": false
   }
  },
  {
   "cell_type": "code",
   "source": [
    "# Initialize the OpenCage geocoder\n",
    "api_key = \"ec169d1ecff74642920801221b80e722\"\n",
    "geolocator = OpenCage(api_key)\n",
    "\n",
    "# Define the reverse geocode function\n",
    "def reverse_geocode(lat, lng):\n",
    "    url = f\"https://api.opencagedata.com/geocode/v1/json?q={lat}+{lng}&key={api_key}\"\n",
    "    response = requests.get(url)\n",
    "    if response.status_code == 200:\n",
    "        data = response.json()\n",
    "        if data['results']:\n",
    "            return data['results'][0]['formatted']\n",
    "        else:\n",
    "            return \"No results found\"\n",
    "    else:\n",
    "        return f\"HTTP Error: {response.status_code}\"\n",
    "\n",
    "\n",
    "# Add the address column for each city\n",
    "madrid_pois['Address'] = madrid_pois.apply(lambda row: reverse_geocode(row['Lat'], row['Lon']), axis=1)\n",
    "\n",
    "barcelona_pois['Address'] = barcelona_pois.apply(lambda row: reverse_geocode(row['Lat'], row['Lon']), axis=1)\n",
    "\n",
    "valencia_pois['Address'] = valencia_pois.apply(lambda row: reverse_geocode(row['Lat'], row['Lon']), axis=1)"
   ],
   "metadata": {
    "id": "OVV1wr6ZrzN5",
    "ExecuteTime": {
     "end_time": "2024-07-10T08:51:46.185319900Z",
     "start_time": "2024-07-10T08:44:55.046405400Z"
    }
   },
   "execution_count": 3,
   "outputs": []
  },
  {
   "cell_type": "markdown",
   "source": [
    "__Write the points of interest incl. addresses to CSVs__"
   ],
   "metadata": {
    "collapsed": false
   }
  },
  {
   "cell_type": "code",
   "source": [
    "madrid_pois.to_csv('../../data/3_external_data/pois_incl_address/madrid_pois_address.csv', index=False)\n",
    "barcelona_pois.to_csv('../../data/3_external_data/pois_incl_address/barcelona_pois_address.csv', index=False)\n",
    "valencia_pois.to_csv('../../data/3_external_data/pois_incl_address/valencia_pois_address.csv', index=False)"
   ],
   "metadata": {
    "colab": {
     "base_uri": "https://localhost:8080/",
     "height": 17
    },
    "id": "mqlFrMuIuf6X",
    "outputId": "05b32526-a573-44c5-dc4b-4b762a472f39",
    "ExecuteTime": {
     "end_time": "2024-07-10T09:01:45.520524300Z",
     "start_time": "2024-07-10T09:01:45.439489700Z"
    }
   },
   "execution_count": 5,
   "outputs": []
  }
 ]
}
