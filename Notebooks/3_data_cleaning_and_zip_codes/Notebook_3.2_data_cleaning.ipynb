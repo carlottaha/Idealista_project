{
 "cells": [
  {
   "cell_type": "markdown",
   "id": "63c38e9a75e4487",
   "metadata": {},
   "source": [
    "# Notebook 3.2 - Data Cleaning"
   ]
  },
  {
   "cell_type": "markdown",
   "id": "141dcf5ea4d0afd1",
   "metadata": {},
   "source": [
    "Note: In the section Dataset choice, the respective raw dataset can be chosen (Madrid, Barcelona, or Valencia). The cleaning process is then performed on the respective city. This way, consistency in the cleaning process is maintained, while at the same time keeping data (e.g., mean values to replace outliers) specific to each city.\n",
    "\n",
    "All transformations of variables (standardization, Box-Cox, logarithm) are implemented in the modelling step to test effect on model performance."
   ]
  },
  {
   "cell_type": "markdown",
   "id": "ee2c944c00f4640b",
   "metadata": {},
   "source": [
    "# Import libraries"
   ]
  },
  {
   "cell_type": "code",
   "execution_count": 1,
   "id": "162ef02526193d48",
   "metadata": {
    "ExecuteTime": {
     "end_time": "2024-07-10T08:49:27.048151300Z",
     "start_time": "2024-07-10T08:49:27.043155800Z"
    }
   },
   "outputs": [],
   "source": [
    "import pandas as pd\n",
    "import numpy as np\n",
    "import re\n",
    "from scipy.spatial import cKDTree\n",
    "pd.options.mode.chained_assignment = None"
   ]
  },
  {
   "cell_type": "markdown",
   "id": "e34cf0d1fed03596",
   "metadata": {},
   "source": [
    "# Choose the city"
   ]
  },
  {
   "cell_type": "code",
   "execution_count": 2,
   "id": "a1d6e70b5c8bffd2",
   "metadata": {
    "ExecuteTime": {
     "end_time": "2024-07-10T08:49:27.058335300Z",
     "start_time": "2024-07-10T08:49:27.048151300Z"
    }
   },
   "outputs": [],
   "source": [
    "#Choose city (\"Madrid\", \"Barcelona\", or \"Valencia\")\n",
    "city = \"Valencia\""
   ]
  },
  {
   "cell_type": "markdown",
   "id": "7ee26a6d2caa0b8c",
   "metadata": {},
   "source": [
    "# Load raw dataset after merge with polyon"
   ]
  },
  {
   "cell_type": "code",
   "execution_count": 3,
   "id": "initial_id",
   "metadata": {
    "collapsed": true,
    "ExecuteTime": {
     "end_time": "2024-07-10T08:49:27.209530400Z",
     "start_time": "2024-07-10T08:49:27.058335300Z"
    }
   },
   "outputs": [],
   "source": [
    "#Read corresponding file\n",
    "if city == \"Madrid\":\n",
    "    data = pd.read_csv('../../data/2_raw_idealista_data_incl_polygon/madrid_sale_with_polygon.csv')\n",
    "elif city == \"Barcelona\":\n",
    "    data = pd.read_csv('../../data/2_raw_idealista_data_incl_polygon/barcelona_sale_with_polygon.csv')\n",
    "elif city == \"Valencia\":\n",
    "    data = pd.read_csv('../../data/2_raw_idealista_data_incl_polygon/valencia_sale_with_polygon.csv')\n",
    "else:\n",
    "    raise ValueError(\"City not recognized. Please choose either 'Madrid', 'Barcelona', or 'Valencia'.\")"
   ]
  },
  {
   "cell_type": "code",
   "execution_count": 4,
   "id": "843f1f1fddd8e4d9",
   "metadata": {
    "ExecuteTime": {
     "end_time": "2024-07-10T08:49:27.232584200Z",
     "start_time": "2024-07-10T08:49:27.209530400Z"
    }
   },
   "outputs": [
    {
     "data": {
      "text/plain": "                  ASSETID  PERIOD     PRICE    UNITPRICE  CONSTRUCTEDAREA  \\\n0    A9651535568269959084  201812  111000.0  1480.000000               75   \n1   A13801394133398327300  201812  169000.0  1320.312500              128   \n2    A8013965313053471366  201812  162000.0  1883.720930               86   \n3   A15308599866706500727  201812  199000.0  1792.792793              111   \n4    A7882254711596398998  201812   73000.0  1303.571429               56   \n5    A2296637762363569749  201812   45000.0   692.307692               65   \n6   A13832857238037339051  201812   81000.0  1012.500000               80   \n7   A10212260978174326059  201812   85000.0   923.913043               92   \n8   A12715105291622241260  201812   71000.0   612.068966              116   \n9   A13467229617683088257  201812   65000.0   955.882353               68   \n10  A11904042202533616296  201812   29000.0   491.525424               59   \n11  A14313607079142576060  201812   49000.0   816.666667               60   \n12  A15784798906965788442  201812   63000.0   926.470588               68   \n13   A2871533269318696809  201812  135000.0  1377.551020               98   \n14  A18148592523386736371  201812   47000.0   723.076923               65   \n15   A1811809078740429410  201812   24000.0   533.333333               45   \n16   A6858190486570139257  201812   80000.0   888.888889               90   \n17   A8939276526883850606  201812  136000.0   978.417266              139   \n18  A12030872982296859373  201812   37000.0   698.113208               53   \n19  A17346897276123057938  201812   59000.0   907.692308               65   \n\n    ROOMNUMBER  BATHNUMBER  HASTERRACE  HASLIFT  HASAIRCONDITIONING  ...  \\\n0            2           1           1        1                   1  ...   \n1            4           2           0        1                   1  ...   \n2            2           1           0        1                   1  ...   \n3            4           2           0        1                   0  ...   \n4            3           1           1        1                   0  ...   \n5            3           1           0        0                   0  ...   \n6            3           1           0        1                   0  ...   \n7            4           1           0        0                   0  ...   \n8            3           1           0        1                   0  ...   \n9            3           1           0        1                   0  ...   \n10           3           1           0        0                   0  ...   \n11           3           1           0        1                   0  ...   \n12           3           1           1        1                   0  ...   \n13           3           2           0        1                   0  ...   \n14           3           1           0        0                   0  ...   \n15           2           1           0        0                   0  ...   \n16           3           1           1        1                   0  ...   \n17           4           2           0        1                   1  ...   \n18           3           1           0        0                   0  ...   \n19           4           1           0        0                   0  ...   \n\n    BUILTTYPEID_1  BUILTTYPEID_2  BUILTTYPEID_3  DISTANCE_TO_CITY_CENTER  \\\n0               0              0              1                 3.759093   \n1               0              0              1                 2.073773   \n2               0              0              1                 2.099641   \n3               0              0              1                 2.120917   \n4               0              0              1                 3.087950   \n5               0              0              1                 2.723051   \n6               0              0              1                 2.967437   \n7               0              0              1                 2.744555   \n8               0              0              1                 2.272737   \n9               0              0              1                 2.629768   \n10              0              0              1                 3.004654   \n11              0              0              1                 2.875414   \n12              0              0              1                 2.694044   \n13              0              0              1                 2.727640   \n14              0              0              1                 2.756197   \n15              0              1              0                 2.912527   \n16              0              1              0                 2.725240   \n17              0              0              1                 3.026890   \n18              0              0              1                 2.868475   \n19              0              0              1                 2.517293   \n\n    DISTANCE_TO_METRO  DISTANCE_TO_BLASCO  LONGITUDE   LATITUDE  \\\n0            0.756517            3.373132  -0.393538  39.500908   \n1            0.370680            0.540594  -0.359125  39.482599   \n2            0.038560            0.719203  -0.362470  39.485144   \n3            0.524827            0.915379  -0.367417  39.487445   \n4            1.129985            2.009535  -0.370182  39.497057   \n5            0.950909            1.624347  -0.369603  39.493621   \n6            0.936006            1.837951  -0.368560  39.495687   \n7            1.080070            1.697090  -0.371029  39.494040   \n8            0.942046            1.248427  -0.371248  39.489757   \n9            0.971491            1.544579  -0.369981  39.492827   \n10           1.013053            1.897434  -0.369263  39.496153   \n11           0.906394            1.746426  -0.368638  39.494851   \n12           0.965162            1.603000  -0.369820  39.493391   \n13           0.810782            1.574126  -0.368008  39.493350   \n14           1.002284            1.675598  -0.370111  39.494010   \n15           0.900754            1.777397  -0.368417  39.495152   \n16           1.348382            1.798615  -0.374174  39.494174   \n17           1.755264            2.310133  -0.380471  39.496794   \n18           1.375337            1.929496  -0.374114  39.495461   \n19           1.474703            1.709752  -0.376440  39.492379   \n\n                                       geometry    neighborhood  \n0   POINT (-0.393538331726532 39.5009075674168)  Ciutat Fallera  \n1   POINT (-0.359124975348099 39.4825994457946)      Benimaclet  \n2   POINT (-0.362469934782961 39.4851438187497)      Benimaclet  \n3   POINT (-0.367417112798973 39.4874451366112)      Benimaclet  \n4   POINT (-0.370182227980988 39.4970570379316)     Els Orriols  \n5   POINT (-0.369602531049724 39.4936205880565)     Els Orriols  \n6   POINT (-0.368559503741238 39.4956870025172)     Els Orriols  \n7   POINT (-0.371028501520023 39.4940402375392)     Els Orriols  \n8    POINT (-0.37124805792905 39.4897570335793)     Sant Antoni  \n9    POINT (-0.36998125894077 39.4928273815343)     Els Orriols  \n10  POINT (-0.369262827835022 39.4961533667717)     Els Orriols  \n11  POINT (-0.368637556495972 39.4948509559094)     Els Orriols  \n12  POINT (-0.369820469032608 39.4933912938446)     Els Orriols  \n13  POINT (-0.368008162218735 39.4933502556464)     Els Orriols  \n14   POINT (-0.370111060256943 39.494010467075)     Els Orriols  \n15  POINT (-0.368416893004271 39.4951522560781)     Els Orriols  \n16    POINT (-0.374174472855063 39.49417443719)       Torrefiel  \n17  POINT (-0.380471173486339 39.4967939775716)       Torrefiel  \n18  POINT (-0.374114396547449 39.4954613327563)       Torrefiel  \n19  POINT (-0.376439594755939 39.4923788068466)       Torrefiel  \n\n[20 rows x 43 columns]",
      "text/html": "<div>\n<style scoped>\n    .dataframe tbody tr th:only-of-type {\n        vertical-align: middle;\n    }\n\n    .dataframe tbody tr th {\n        vertical-align: top;\n    }\n\n    .dataframe thead th {\n        text-align: right;\n    }\n</style>\n<table border=\"1\" class=\"dataframe\">\n  <thead>\n    <tr style=\"text-align: right;\">\n      <th></th>\n      <th>ASSETID</th>\n      <th>PERIOD</th>\n      <th>PRICE</th>\n      <th>UNITPRICE</th>\n      <th>CONSTRUCTEDAREA</th>\n      <th>ROOMNUMBER</th>\n      <th>BATHNUMBER</th>\n      <th>HASTERRACE</th>\n      <th>HASLIFT</th>\n      <th>HASAIRCONDITIONING</th>\n      <th>...</th>\n      <th>BUILTTYPEID_1</th>\n      <th>BUILTTYPEID_2</th>\n      <th>BUILTTYPEID_3</th>\n      <th>DISTANCE_TO_CITY_CENTER</th>\n      <th>DISTANCE_TO_METRO</th>\n      <th>DISTANCE_TO_BLASCO</th>\n      <th>LONGITUDE</th>\n      <th>LATITUDE</th>\n      <th>geometry</th>\n      <th>neighborhood</th>\n    </tr>\n  </thead>\n  <tbody>\n    <tr>\n      <th>0</th>\n      <td>A9651535568269959084</td>\n      <td>201812</td>\n      <td>111000.0</td>\n      <td>1480.000000</td>\n      <td>75</td>\n      <td>2</td>\n      <td>1</td>\n      <td>1</td>\n      <td>1</td>\n      <td>1</td>\n      <td>...</td>\n      <td>0</td>\n      <td>0</td>\n      <td>1</td>\n      <td>3.759093</td>\n      <td>0.756517</td>\n      <td>3.373132</td>\n      <td>-0.393538</td>\n      <td>39.500908</td>\n      <td>POINT (-0.393538331726532 39.5009075674168)</td>\n      <td>Ciutat Fallera</td>\n    </tr>\n    <tr>\n      <th>1</th>\n      <td>A13801394133398327300</td>\n      <td>201812</td>\n      <td>169000.0</td>\n      <td>1320.312500</td>\n      <td>128</td>\n      <td>4</td>\n      <td>2</td>\n      <td>0</td>\n      <td>1</td>\n      <td>1</td>\n      <td>...</td>\n      <td>0</td>\n      <td>0</td>\n      <td>1</td>\n      <td>2.073773</td>\n      <td>0.370680</td>\n      <td>0.540594</td>\n      <td>-0.359125</td>\n      <td>39.482599</td>\n      <td>POINT (-0.359124975348099 39.4825994457946)</td>\n      <td>Benimaclet</td>\n    </tr>\n    <tr>\n      <th>2</th>\n      <td>A8013965313053471366</td>\n      <td>201812</td>\n      <td>162000.0</td>\n      <td>1883.720930</td>\n      <td>86</td>\n      <td>2</td>\n      <td>1</td>\n      <td>0</td>\n      <td>1</td>\n      <td>1</td>\n      <td>...</td>\n      <td>0</td>\n      <td>0</td>\n      <td>1</td>\n      <td>2.099641</td>\n      <td>0.038560</td>\n      <td>0.719203</td>\n      <td>-0.362470</td>\n      <td>39.485144</td>\n      <td>POINT (-0.362469934782961 39.4851438187497)</td>\n      <td>Benimaclet</td>\n    </tr>\n    <tr>\n      <th>3</th>\n      <td>A15308599866706500727</td>\n      <td>201812</td>\n      <td>199000.0</td>\n      <td>1792.792793</td>\n      <td>111</td>\n      <td>4</td>\n      <td>2</td>\n      <td>0</td>\n      <td>1</td>\n      <td>0</td>\n      <td>...</td>\n      <td>0</td>\n      <td>0</td>\n      <td>1</td>\n      <td>2.120917</td>\n      <td>0.524827</td>\n      <td>0.915379</td>\n      <td>-0.367417</td>\n      <td>39.487445</td>\n      <td>POINT (-0.367417112798973 39.4874451366112)</td>\n      <td>Benimaclet</td>\n    </tr>\n    <tr>\n      <th>4</th>\n      <td>A7882254711596398998</td>\n      <td>201812</td>\n      <td>73000.0</td>\n      <td>1303.571429</td>\n      <td>56</td>\n      <td>3</td>\n      <td>1</td>\n      <td>1</td>\n      <td>1</td>\n      <td>0</td>\n      <td>...</td>\n      <td>0</td>\n      <td>0</td>\n      <td>1</td>\n      <td>3.087950</td>\n      <td>1.129985</td>\n      <td>2.009535</td>\n      <td>-0.370182</td>\n      <td>39.497057</td>\n      <td>POINT (-0.370182227980988 39.4970570379316)</td>\n      <td>Els Orriols</td>\n    </tr>\n    <tr>\n      <th>5</th>\n      <td>A2296637762363569749</td>\n      <td>201812</td>\n      <td>45000.0</td>\n      <td>692.307692</td>\n      <td>65</td>\n      <td>3</td>\n      <td>1</td>\n      <td>0</td>\n      <td>0</td>\n      <td>0</td>\n      <td>...</td>\n      <td>0</td>\n      <td>0</td>\n      <td>1</td>\n      <td>2.723051</td>\n      <td>0.950909</td>\n      <td>1.624347</td>\n      <td>-0.369603</td>\n      <td>39.493621</td>\n      <td>POINT (-0.369602531049724 39.4936205880565)</td>\n      <td>Els Orriols</td>\n    </tr>\n    <tr>\n      <th>6</th>\n      <td>A13832857238037339051</td>\n      <td>201812</td>\n      <td>81000.0</td>\n      <td>1012.500000</td>\n      <td>80</td>\n      <td>3</td>\n      <td>1</td>\n      <td>0</td>\n      <td>1</td>\n      <td>0</td>\n      <td>...</td>\n      <td>0</td>\n      <td>0</td>\n      <td>1</td>\n      <td>2.967437</td>\n      <td>0.936006</td>\n      <td>1.837951</td>\n      <td>-0.368560</td>\n      <td>39.495687</td>\n      <td>POINT (-0.368559503741238 39.4956870025172)</td>\n      <td>Els Orriols</td>\n    </tr>\n    <tr>\n      <th>7</th>\n      <td>A10212260978174326059</td>\n      <td>201812</td>\n      <td>85000.0</td>\n      <td>923.913043</td>\n      <td>92</td>\n      <td>4</td>\n      <td>1</td>\n      <td>0</td>\n      <td>0</td>\n      <td>0</td>\n      <td>...</td>\n      <td>0</td>\n      <td>0</td>\n      <td>1</td>\n      <td>2.744555</td>\n      <td>1.080070</td>\n      <td>1.697090</td>\n      <td>-0.371029</td>\n      <td>39.494040</td>\n      <td>POINT (-0.371028501520023 39.4940402375392)</td>\n      <td>Els Orriols</td>\n    </tr>\n    <tr>\n      <th>8</th>\n      <td>A12715105291622241260</td>\n      <td>201812</td>\n      <td>71000.0</td>\n      <td>612.068966</td>\n      <td>116</td>\n      <td>3</td>\n      <td>1</td>\n      <td>0</td>\n      <td>1</td>\n      <td>0</td>\n      <td>...</td>\n      <td>0</td>\n      <td>0</td>\n      <td>1</td>\n      <td>2.272737</td>\n      <td>0.942046</td>\n      <td>1.248427</td>\n      <td>-0.371248</td>\n      <td>39.489757</td>\n      <td>POINT (-0.37124805792905 39.4897570335793)</td>\n      <td>Sant Antoni</td>\n    </tr>\n    <tr>\n      <th>9</th>\n      <td>A13467229617683088257</td>\n      <td>201812</td>\n      <td>65000.0</td>\n      <td>955.882353</td>\n      <td>68</td>\n      <td>3</td>\n      <td>1</td>\n      <td>0</td>\n      <td>1</td>\n      <td>0</td>\n      <td>...</td>\n      <td>0</td>\n      <td>0</td>\n      <td>1</td>\n      <td>2.629768</td>\n      <td>0.971491</td>\n      <td>1.544579</td>\n      <td>-0.369981</td>\n      <td>39.492827</td>\n      <td>POINT (-0.36998125894077 39.4928273815343)</td>\n      <td>Els Orriols</td>\n    </tr>\n    <tr>\n      <th>10</th>\n      <td>A11904042202533616296</td>\n      <td>201812</td>\n      <td>29000.0</td>\n      <td>491.525424</td>\n      <td>59</td>\n      <td>3</td>\n      <td>1</td>\n      <td>0</td>\n      <td>0</td>\n      <td>0</td>\n      <td>...</td>\n      <td>0</td>\n      <td>0</td>\n      <td>1</td>\n      <td>3.004654</td>\n      <td>1.013053</td>\n      <td>1.897434</td>\n      <td>-0.369263</td>\n      <td>39.496153</td>\n      <td>POINT (-0.369262827835022 39.4961533667717)</td>\n      <td>Els Orriols</td>\n    </tr>\n    <tr>\n      <th>11</th>\n      <td>A14313607079142576060</td>\n      <td>201812</td>\n      <td>49000.0</td>\n      <td>816.666667</td>\n      <td>60</td>\n      <td>3</td>\n      <td>1</td>\n      <td>0</td>\n      <td>1</td>\n      <td>0</td>\n      <td>...</td>\n      <td>0</td>\n      <td>0</td>\n      <td>1</td>\n      <td>2.875414</td>\n      <td>0.906394</td>\n      <td>1.746426</td>\n      <td>-0.368638</td>\n      <td>39.494851</td>\n      <td>POINT (-0.368637556495972 39.4948509559094)</td>\n      <td>Els Orriols</td>\n    </tr>\n    <tr>\n      <th>12</th>\n      <td>A15784798906965788442</td>\n      <td>201812</td>\n      <td>63000.0</td>\n      <td>926.470588</td>\n      <td>68</td>\n      <td>3</td>\n      <td>1</td>\n      <td>1</td>\n      <td>1</td>\n      <td>0</td>\n      <td>...</td>\n      <td>0</td>\n      <td>0</td>\n      <td>1</td>\n      <td>2.694044</td>\n      <td>0.965162</td>\n      <td>1.603000</td>\n      <td>-0.369820</td>\n      <td>39.493391</td>\n      <td>POINT (-0.369820469032608 39.4933912938446)</td>\n      <td>Els Orriols</td>\n    </tr>\n    <tr>\n      <th>13</th>\n      <td>A2871533269318696809</td>\n      <td>201812</td>\n      <td>135000.0</td>\n      <td>1377.551020</td>\n      <td>98</td>\n      <td>3</td>\n      <td>2</td>\n      <td>0</td>\n      <td>1</td>\n      <td>0</td>\n      <td>...</td>\n      <td>0</td>\n      <td>0</td>\n      <td>1</td>\n      <td>2.727640</td>\n      <td>0.810782</td>\n      <td>1.574126</td>\n      <td>-0.368008</td>\n      <td>39.493350</td>\n      <td>POINT (-0.368008162218735 39.4933502556464)</td>\n      <td>Els Orriols</td>\n    </tr>\n    <tr>\n      <th>14</th>\n      <td>A18148592523386736371</td>\n      <td>201812</td>\n      <td>47000.0</td>\n      <td>723.076923</td>\n      <td>65</td>\n      <td>3</td>\n      <td>1</td>\n      <td>0</td>\n      <td>0</td>\n      <td>0</td>\n      <td>...</td>\n      <td>0</td>\n      <td>0</td>\n      <td>1</td>\n      <td>2.756197</td>\n      <td>1.002284</td>\n      <td>1.675598</td>\n      <td>-0.370111</td>\n      <td>39.494010</td>\n      <td>POINT (-0.370111060256943 39.494010467075)</td>\n      <td>Els Orriols</td>\n    </tr>\n    <tr>\n      <th>15</th>\n      <td>A1811809078740429410</td>\n      <td>201812</td>\n      <td>24000.0</td>\n      <td>533.333333</td>\n      <td>45</td>\n      <td>2</td>\n      <td>1</td>\n      <td>0</td>\n      <td>0</td>\n      <td>0</td>\n      <td>...</td>\n      <td>0</td>\n      <td>1</td>\n      <td>0</td>\n      <td>2.912527</td>\n      <td>0.900754</td>\n      <td>1.777397</td>\n      <td>-0.368417</td>\n      <td>39.495152</td>\n      <td>POINT (-0.368416893004271 39.4951522560781)</td>\n      <td>Els Orriols</td>\n    </tr>\n    <tr>\n      <th>16</th>\n      <td>A6858190486570139257</td>\n      <td>201812</td>\n      <td>80000.0</td>\n      <td>888.888889</td>\n      <td>90</td>\n      <td>3</td>\n      <td>1</td>\n      <td>1</td>\n      <td>1</td>\n      <td>0</td>\n      <td>...</td>\n      <td>0</td>\n      <td>1</td>\n      <td>0</td>\n      <td>2.725240</td>\n      <td>1.348382</td>\n      <td>1.798615</td>\n      <td>-0.374174</td>\n      <td>39.494174</td>\n      <td>POINT (-0.374174472855063 39.49417443719)</td>\n      <td>Torrefiel</td>\n    </tr>\n    <tr>\n      <th>17</th>\n      <td>A8939276526883850606</td>\n      <td>201812</td>\n      <td>136000.0</td>\n      <td>978.417266</td>\n      <td>139</td>\n      <td>4</td>\n      <td>2</td>\n      <td>0</td>\n      <td>1</td>\n      <td>1</td>\n      <td>...</td>\n      <td>0</td>\n      <td>0</td>\n      <td>1</td>\n      <td>3.026890</td>\n      <td>1.755264</td>\n      <td>2.310133</td>\n      <td>-0.380471</td>\n      <td>39.496794</td>\n      <td>POINT (-0.380471173486339 39.4967939775716)</td>\n      <td>Torrefiel</td>\n    </tr>\n    <tr>\n      <th>18</th>\n      <td>A12030872982296859373</td>\n      <td>201812</td>\n      <td>37000.0</td>\n      <td>698.113208</td>\n      <td>53</td>\n      <td>3</td>\n      <td>1</td>\n      <td>0</td>\n      <td>0</td>\n      <td>0</td>\n      <td>...</td>\n      <td>0</td>\n      <td>0</td>\n      <td>1</td>\n      <td>2.868475</td>\n      <td>1.375337</td>\n      <td>1.929496</td>\n      <td>-0.374114</td>\n      <td>39.495461</td>\n      <td>POINT (-0.374114396547449 39.4954613327563)</td>\n      <td>Torrefiel</td>\n    </tr>\n    <tr>\n      <th>19</th>\n      <td>A17346897276123057938</td>\n      <td>201812</td>\n      <td>59000.0</td>\n      <td>907.692308</td>\n      <td>65</td>\n      <td>4</td>\n      <td>1</td>\n      <td>0</td>\n      <td>0</td>\n      <td>0</td>\n      <td>...</td>\n      <td>0</td>\n      <td>0</td>\n      <td>1</td>\n      <td>2.517293</td>\n      <td>1.474703</td>\n      <td>1.709752</td>\n      <td>-0.376440</td>\n      <td>39.492379</td>\n      <td>POINT (-0.376439594755939 39.4923788068466)</td>\n      <td>Torrefiel</td>\n    </tr>\n  </tbody>\n</table>\n<p>20 rows × 43 columns</p>\n</div>"
     },
     "execution_count": 4,
     "metadata": {},
     "output_type": "execute_result"
    }
   ],
   "source": [
    "data.head(20)"
   ]
  },
  {
   "cell_type": "markdown",
   "id": "f4b44fadfeacbc6c",
   "metadata": {},
   "source": [
    "__Create copy of dataset on which to perform manipulations__"
   ]
  },
  {
   "cell_type": "code",
   "execution_count": 5,
   "id": "529e732da44c98b9",
   "metadata": {
    "ExecuteTime": {
     "end_time": "2024-07-10T08:49:27.242012600Z",
     "start_time": "2024-07-10T08:49:27.232584200Z"
    }
   },
   "outputs": [],
   "source": [
    "data_cleaned = data.copy()"
   ]
  },
  {
   "cell_type": "markdown",
   "id": "b62d16c6c3b41f35",
   "metadata": {},
   "source": [
    "# Data cleaning"
   ]
  },
  {
   "cell_type": "markdown",
   "id": "520bdc37a4a4911d",
   "metadata": {},
   "source": [
    "__Column names and data types__"
   ]
  },
  {
   "cell_type": "code",
   "execution_count": 6,
   "id": "dd870250cdab9633",
   "metadata": {
    "ExecuteTime": {
     "end_time": "2024-07-10T08:49:27.260887900Z",
     "start_time": "2024-07-10T08:49:27.242012600Z"
    }
   },
   "outputs": [],
   "source": [
    "# Convert all column names to uppercase for consistency\n",
    "data_cleaned.columns = data_cleaned.columns.str.upper()"
   ]
  },
  {
   "cell_type": "code",
   "execution_count": 7,
   "id": "1373c7a90ea5fb1f",
   "metadata": {
    "ExecuteTime": {
     "end_time": "2024-07-10T08:49:27.276533900Z",
     "start_time": "2024-07-10T08:49:27.249644400Z"
    }
   },
   "outputs": [],
   "source": [
    "#Create consistent name for column \"Distance_to_main_street\" to be able to merge datasets later\n",
    "if city == \"Madrid\":\n",
    "    data_cleaned.rename(columns={\"DISTANCE_TO_CASTELLANA\": \"DISTANCE_TO_MAIN_STREET\"}, inplace=True)\n",
    "elif city == \"Barcelona\":\n",
    "    data_cleaned.rename(columns={\"DISTANCE_TO_DIAGONAL\": \"DISTANCE_TO_MAIN_STREET\"}, inplace=True)\n",
    "elif city == \"Valencia\":\n",
    "    data_cleaned.rename(columns={\"DISTANCE_TO_BLASCO\":  \"DISTANCE_TO_MAIN_STREET\"}, inplace=True)"
   ]
  },
  {
   "cell_type": "code",
   "execution_count": 8,
   "id": "188bb51f35ecc30",
   "metadata": {
    "ExecuteTime": {
     "end_time": "2024-07-10T08:49:27.312757500Z",
     "start_time": "2024-07-10T08:49:27.260887900Z"
    }
   },
   "outputs": [
    {
     "name": "stdout",
     "output_type": "stream",
     "text": [
      "Madrid Data Types:\n",
      " ASSETID                           object\n",
      "PERIOD                            object\n",
      "PRICE                              Int64\n",
      "UNITPRICE                        float64\n",
      "CONSTRUCTEDAREA                    int64\n",
      "ROOMNUMBER                         Int64\n",
      "BATHNUMBER                         int64\n",
      "HASTERRACE                         int64\n",
      "HASLIFT                            int64\n",
      "HASAIRCONDITIONING                 int64\n",
      "AMENITYID                          int64\n",
      "HASPARKINGSPACE                    int64\n",
      "ISPARKINGSPACEINCLUDEDINPRICE      int64\n",
      "PARKINGSPACEPRICE                  int64\n",
      "HASNORTHORIENTATION                int64\n",
      "HASSOUTHORIENTATION                int64\n",
      "HASEASTORIENTATION                 int64\n",
      "HASWESTORIENTATION                 int64\n",
      "HASBOXROOM                         int64\n",
      "HASWARDROBE                        int64\n",
      "HASSWIMMINGPOOL                    int64\n",
      "HASDOORMAN                         int64\n",
      "HASGARDEN                          int64\n",
      "ISDUPLEX                           int64\n",
      "ISSTUDIO                           int64\n",
      "ISINTOPFLOOR                       int64\n",
      "CONSTRUCTIONYEAR                   Int64\n",
      "FLOORCLEAN                         Int64\n",
      "CADCONSTRUCTIONYEAR                int64\n",
      "CADMAXBUILDINGFLOOR                int64\n",
      "CADDWELLINGCOUNT                   int64\n",
      "CADASTRALQUALITYID                 Int64\n",
      "BUILTTYPEID_1                      int64\n",
      "BUILTTYPEID_2                      int64\n",
      "BUILTTYPEID_3                      int64\n",
      "DISTANCE_TO_CITY_CENTER          float64\n",
      "DISTANCE_TO_METRO                float64\n",
      "DISTANCE_TO_MAIN_STREET          float64\n",
      "LONGITUDE                        float64\n",
      "LATITUDE                         float64\n",
      "GEOMETRY                          object\n",
      "NEIGHBORHOOD                      object\n",
      "HASEXTERNALVIEW                  float64\n",
      "dtype: object\n"
     ]
    }
   ],
   "source": [
    "# Change PERIOD to string\n",
    "data_cleaned['PERIOD'] = data_cleaned['PERIOD'].astype(str)\n",
    "       \n",
    "#Convert columns to integers where relevant\n",
    "columns_to_int = ['PRICE', 'CONSTRUCTIONYEAR', 'FLATLOCATIONID', 'ROOMNUMBER', 'CADASTRALQUALITYID', 'FLOORCLEAN']\n",
    "for column in columns_to_int:\n",
    "    data_cleaned[column] = pd.to_numeric(data_cleaned[column], errors='coerce').astype('Int64')\n",
    "    \n",
    "#Change column FLATLOCATIONID to boolean (currently external view=1 vs. internal view=2)\n",
    "def assign_value(x):\n",
    "    if x == 1:\n",
    "        return 1\n",
    "    elif x == 2:\n",
    "        return 0\n",
    "    else:\n",
    "        return np.nan\n",
    "data_cleaned['HASEXTERNALVIEW'] = data_cleaned['FLATLOCATIONID'].apply(assign_value)\n",
    "data_cleaned.drop(columns=['FLATLOCATIONID'], inplace=True)\n",
    "\n",
    "# Print the data types to verify the changes\n",
    "print(\"Madrid Data Types:\\n\", data_cleaned.dtypes)"
   ]
  },
  {
   "cell_type": "markdown",
   "id": "3568005e06c96a76",
   "metadata": {},
   "source": [
    "__Missing values__"
   ]
  },
  {
   "cell_type": "markdown",
   "source": [
    "`NEIGHBORHOOD`: Drop rows where NEIGHBORHOOD is missing (<0.3%)"
   ],
   "metadata": {
    "collapsed": false
   },
   "id": "9bb8faf8526c87e5"
  },
  {
   "cell_type": "code",
   "execution_count": 9,
   "id": "d670b309023479cb",
   "metadata": {
    "ExecuteTime": {
     "end_time": "2024-07-10T08:49:27.328163900Z",
     "start_time": "2024-07-10T08:49:27.312757500Z"
    }
   },
   "outputs": [],
   "source": [
    "data_cleaned = data_cleaned.dropna(subset=['NEIGHBORHOOD'])"
   ]
  },
  {
   "cell_type": "markdown",
   "source": [
    "`CONSTRUCTIONYEAR`: Drop column, use cadastre information instead due to low share of missing values and only realistic values (see EDA)"
   ],
   "metadata": {
    "collapsed": false
   },
   "id": "b46e4afc44b438a8"
  },
  {
   "cell_type": "code",
   "execution_count": 10,
   "id": "2637fd6740380d49",
   "metadata": {
    "ExecuteTime": {
     "end_time": "2024-07-10T08:49:27.341856200Z",
     "start_time": "2024-07-10T08:49:27.328163900Z"
    }
   },
   "outputs": [],
   "source": [
    "data_cleaned = data_cleaned.drop(columns=\"CONSTRUCTIONYEAR\")"
   ]
  },
  {
   "cell_type": "markdown",
   "source": [
    "`FLOORCLEAN`, `CADASTRALQUALITYID`, `HASEXTERNALVIEW` (previous `FLATLOCATIONID`): Replace missing value with median of column for respective neighborhood that the house is in"
   ],
   "metadata": {
    "collapsed": false
   },
   "id": "12385511018ed7da"
  },
  {
   "cell_type": "code",
   "execution_count": 11,
   "id": "a3dff9793ec12537",
   "metadata": {
    "ExecuteTime": {
     "end_time": "2024-07-10T08:49:27.394285Z",
     "start_time": "2024-07-10T08:49:27.341856200Z"
    }
   },
   "outputs": [],
   "source": [
    "# Calculate median for each Neighborhood for FLOORCLEAN and CADASTRALQUALITYID and round to int\n",
    "median_floorclean = data_cleaned.groupby('NEIGHBORHOOD')['FLOORCLEAN'].median().round().astype(int).reset_index().rename(columns={'FLOORCLEAN': 'MEDIAN_FLOORCLEAN'})\n",
    "median_cadastral = data_cleaned.groupby('NEIGHBORHOOD')['CADASTRALQUALITYID'].median().round().astype(int).reset_index().rename(columns={'CADASTRALQUALITYID': 'MEDIAN_CADASTRALQUALITYID'})\n",
    "\n",
    "# Merge the median values back into the original DataFrame\n",
    "data_cleaned = data_cleaned.merge(median_floorclean, on='NEIGHBORHOOD', how='left')\n",
    "data_cleaned = data_cleaned.merge(median_cadastral, on='NEIGHBORHOOD', how='left')\n",
    "\n",
    "# Replace missing values with the median of the respective Neighborhood group for FLOORCLEAN and CADASTRALQUALITYID\n",
    "data_cleaned['FLOORCLEAN'] = data_cleaned['FLOORCLEAN'].fillna(data_cleaned['MEDIAN_FLOORCLEAN'])\n",
    "data_cleaned['CADASTRALQUALITYID'] = data_cleaned['CADASTRALQUALITYID'].fillna(data_cleaned['MEDIAN_CADASTRALQUALITYID'])\n",
    "\n",
    "# Drop the median columns as they are no longer needed\n",
    "data_cleaned = data_cleaned.drop(columns=['MEDIAN_FLOORCLEAN', 'MEDIAN_CADASTRALQUALITYID'])"
   ]
  },
  {
   "cell_type": "code",
   "execution_count": 12,
   "id": "7fe6eb364c445675",
   "metadata": {
    "ExecuteTime": {
     "end_time": "2024-07-10T08:49:27.625427200Z",
     "start_time": "2024-07-10T08:49:27.394285Z"
    }
   },
   "outputs": [],
   "source": [
    "# Calculate mode for HASEXTERNALVIEW for each NEIGHBORHOOD \n",
    "mode_values = data_cleaned.groupby('NEIGHBORHOOD')['HASEXTERNALVIEW'].apply(lambda x: x.mode()[0] if not x.mode().empty else np.nan)\n",
    "\n",
    "# Replace missing values in HASEXTERNALVIEW with the mode of the respective NEIGHBORHOOD\n",
    "data_cleaned['HASEXTERNALVIEW'] = data_cleaned.apply(\n",
    "    lambda row: mode_values[row['NEIGHBORHOOD']] if pd.isna(row['HASEXTERNALVIEW']) else row['HASEXTERNALVIEW'], axis=1\n",
    ")"
   ]
  },
  {
   "cell_type": "markdown",
   "source": [
    "Check that there are no missing values left"
   ],
   "metadata": {
    "collapsed": false
   },
   "id": "bf37a2b9555bf7a1"
  },
  {
   "cell_type": "code",
   "execution_count": 13,
   "id": "bebaf1b0666340a4",
   "metadata": {
    "ExecuteTime": {
     "end_time": "2024-07-10T08:49:27.637781400Z",
     "start_time": "2024-07-10T08:49:27.625427200Z"
    }
   },
   "outputs": [
    {
     "name": "stdout",
     "output_type": "stream",
     "text": [
      "There are no missing values left\n"
     ]
    }
   ],
   "source": [
    "#Count missing values\n",
    "missing_values_cleaned = data_cleaned.isnull().sum()\n",
    "missing_percent_cleaned = (missing_values_cleaned / len(data_cleaned)) * 100\n",
    "\n",
    "# Create a DataFrame to display the count and percentage of missing values\n",
    "missing_data_cleaned = pd.DataFrame({\n",
    "    'Missing Values': missing_values_cleaned,\n",
    "    'Percentage': missing_percent_cleaned\n",
    "})\n",
    "\n",
    "# Filter to show only rows with missing values\n",
    "missing_data_cleaned = missing_data_cleaned[missing_data_cleaned['Missing Values'] > 0]\n",
    "\n",
    "if missing_data_cleaned.empty:\n",
    "    print(\"There are no missing values left\")\n",
    "else:\n",
    "    print(\"\\nMissing values in the cleaned dataset:\")\n",
    "    print(missing_data_cleaned)"
   ]
  },
  {
   "cell_type": "markdown",
   "id": "b5a320497a4375b4",
   "metadata": {},
   "source": [
    "__Cleaning of outliers__"
   ]
  },
  {
   "cell_type": "markdown",
   "source": [
    "`CADDWELLINGCOUNT`: Due to some extremely high numbers likely to be an error (see EDA), we replace outliers in the 99th percentile with the column's median for the respective neighborhood"
   ],
   "metadata": {
    "collapsed": false
   },
   "id": "85a905123cf9bfa0"
  },
  {
   "cell_type": "code",
   "execution_count": 14,
   "id": "1389ad388f2f5815",
   "metadata": {
    "ExecuteTime": {
     "end_time": "2024-07-10T08:49:27.649954800Z",
     "start_time": "2024-07-10T08:49:27.637781400Z"
    }
   },
   "outputs": [],
   "source": [
    "# Function to replace outliers with the median value for the NEIGHBORHOOD (to be reused)\n",
    "def replace_outliers_with_neighborhood_median(df, column_name, threshold):\n",
    "    # Find the median for each neighborhood\n",
    "    neighborhood_medians = df.groupby('NEIGHBORHOOD')[column_name].transform('median')\n",
    "    \n",
    "    # Replace outliers with the median value\n",
    "    df[column_name] = np.where(df[column_name] > threshold, neighborhood_medians, df[column_name])\n",
    "    \n",
    "    return df\n",
    "\n",
    "# Identify the 99th percentile for CADDWELLINGCOUNT\n",
    "percentile_99_caddwellingcount = data_cleaned['CADDWELLINGCOUNT'].quantile(0.99)\n",
    "\n",
    "# Apply the function to replace outliers in CADDWELLINGCOUNT\n",
    "data_cleaned = replace_outliers_with_neighborhood_median(data_cleaned, 'CADDWELLINGCOUNT', percentile_99_caddwellingcount)"
   ]
  },
  {
   "cell_type": "markdown",
   "source": [
    "`ROOMNUMBER` and `BATHNUMBER`: Create feature SQUAREMETERSPERROOM to identify outliers, assign average number of rooms of houses with similar size"
   ],
   "metadata": {
    "collapsed": false
   },
   "id": "e31a5abb2176c60"
  },
  {
   "cell_type": "code",
   "execution_count": 15,
   "id": "aecda6c12ca5d0db",
   "metadata": {
    "ExecuteTime": {
     "end_time": "2024-07-10T08:49:27.677534800Z",
     "start_time": "2024-07-10T08:49:27.649954800Z"
    }
   },
   "outputs": [
    {
     "name": "stdout",
     "output_type": "stream",
     "text": [
      "Number of outliers replaced: 633\n",
      "ROOMNUMBER distribution after replacement:\n",
      "count     33578.0\n",
      "mean     3.068587\n",
      "std      0.958952\n",
      "min           1.0\n",
      "25%           3.0\n",
      "50%           3.0\n",
      "75%           4.0\n",
      "max          15.0\n",
      "Name: ROOMNUMBER, dtype: Float64\n"
     ]
    }
   ],
   "source": [
    "# ROOMNUMBER\n",
    "# Replace values equal to zero with 1 - 0 likely to be an error, and avoids division by zero\n",
    "data_cleaned['ROOMNUMBER'] = data_cleaned['ROOMNUMBER'].replace(0, 1)\n",
    "\n",
    "# Classify each house as small, medium, or large based on the ‘CONSTRUCTEDAREA’\n",
    "small_threshold = data_cleaned['CONSTRUCTEDAREA'].quantile(0.33)\n",
    "medium_threshold = data_cleaned['CONSTRUCTEDAREA'].quantile(0.66)\n",
    "\n",
    "def classify_house(constructed_area):\n",
    "    if (constructed_area <= small_threshold):\n",
    "        return 'small'\n",
    "    elif (constructed_area <= medium_threshold):\n",
    "        return 'medium'\n",
    "    else:\n",
    "        return 'large'\n",
    "\n",
    "data_cleaned['HOUSE_SIZE'] = data_cleaned['CONSTRUCTEDAREA'].apply(classify_house)\n",
    "\n",
    "# Calculate average ‘ROOMNUMBER’ for each cluster\n",
    "average_roomnumber = data_cleaned.groupby('HOUSE_SIZE')['ROOMNUMBER'].mean().to_dict()\n",
    "\n",
    "# Identify outliers with new feature ‘SQUAREMETERS_PER_ROOM’\n",
    "data_cleaned['SQUAREMETERS_PER_ROOM'] = data_cleaned['CONSTRUCTEDAREA'] / data_cleaned['ROOMNUMBER']\n",
    "lower_threshold = data_cleaned['SQUAREMETERS_PER_ROOM'].quantile(0.01)\n",
    "upper_threshold = data_cleaned['SQUAREMETERS_PER_ROOM'].quantile(0.99)\n",
    "outliers = (data_cleaned['SQUAREMETERS_PER_ROOM'] < lower_threshold) | (data_cleaned['SQUAREMETERS_PER_ROOM'] > upper_threshold)\n",
    "\n",
    "# Calculate the number of outliers\n",
    "num_outliers = outliers.sum()\n",
    "\n",
    "# Replace ‘ROOMNUMBER’ for identified outliers with average ‘ROOMNUMBER’ of the respective size cluster\n",
    "data_cleaned.loc[outliers, 'ROOMNUMBER'] = data_cleaned.loc[outliers, 'HOUSE_SIZE'].map(average_roomnumber).astype(int)\n",
    "\n",
    "# Print the number of outliers replaced\n",
    "print(f\"Number of outliers replaced: {num_outliers}\")\n",
    "\n",
    "# Print the distribution of ROOMNUMBER after replacement\n",
    "print(\"ROOMNUMBER distribution after replacement:\")\n",
    "print(data_cleaned['ROOMNUMBER'].describe())\n"
   ]
  },
  {
   "cell_type": "code",
   "execution_count": 16,
   "id": "d938dfd42f6f2aa9",
   "metadata": {
    "ExecuteTime": {
     "end_time": "2024-07-10T08:49:27.694982200Z",
     "start_time": "2024-07-10T08:49:27.677534800Z"
    }
   },
   "outputs": [
    {
     "name": "stdout",
     "output_type": "stream",
     "text": [
      "Number of outliers replaced: 633\n",
      "BATHNUMBER distribution after replacement:\n",
      "count    33578.000000\n",
      "mean         1.582911\n",
      "std          0.627892\n",
      "min          1.000000\n",
      "25%          1.000000\n",
      "50%          2.000000\n",
      "75%          2.000000\n",
      "max         12.000000\n",
      "Name: BATHNUMBER, dtype: float64\n"
     ]
    }
   ],
   "source": [
    "# BATHNUMBER\n",
    "# Replace values equal to zero in BATHNUMBER with 1 - 0 likely to be an error, and avoids division by zero\n",
    "data_cleaned['BATHNUMBER'] = data_cleaned['BATHNUMBER'].replace(0, 1)\n",
    "\n",
    "# Calculate average ‘BATHNUMBER’ for each cluster\n",
    "average_bathnumber = data_cleaned.groupby('HOUSE_SIZE')['BATHNUMBER'].mean().to_dict()\n",
    "\n",
    "# Identify outliers with new feature ‘SQUAREMETERS_PER_BATH’\n",
    "data_cleaned['SQUAREMETERS_PER_BATH'] = data_cleaned['CONSTRUCTEDAREA'] / data_cleaned['BATHNUMBER']\n",
    "lower_threshold = data_cleaned['SQUAREMETERS_PER_BATH'].quantile(0.01)\n",
    "upper_threshold = data_cleaned['SQUAREMETERS_PER_BATH'].quantile(0.99)\n",
    "outliers = (data_cleaned['SQUAREMETERS_PER_BATH'] < lower_threshold) | (data_cleaned['SQUAREMETERS_PER_BATH'] > upper_threshold)\n",
    "\n",
    "\n",
    "# Replace ‘BATHNUMBER’ for identified outliers with average ‘BATHNUMBER’ of the respective size cluster\n",
    "data_cleaned.loc[outliers, 'BATHNUMBER'] = data_cleaned.loc[outliers, 'HOUSE_SIZE'].map(average_bathnumber).astype(int)\n",
    "\n",
    "\n",
    "# Print the number of outliers replaced\n",
    "print(f\"Number of outliers replaced: {num_outliers}\")\n",
    "\n",
    "# Print the distribution of BATHNUMBER after replacement\n",
    "print(\"BATHNUMBER distribution after replacement:\")\n",
    "print(data_cleaned['BATHNUMBER'].describe())"
   ]
  },
  {
   "cell_type": "markdown",
   "source": [
    "`PARKINGSPACEPRICE`: Create a new column HASPARKINGSPACE_CLEANED that takes 1 if the previous column HASPARKINGSPACE is equal to 1, or if the price for parking is above 1. For the price itself, replace extremely high values likely to be an error (in the 99.9th percentile as very few outliers only) with the average parking space price in the respective neighborhood"
   ],
   "metadata": {
    "collapsed": false
   },
   "id": "5c54b872c892de65"
  },
  {
   "cell_type": "code",
   "execution_count": 17,
   "id": "c45e4547a280f0a4",
   "metadata": {
    "ExecuteTime": {
     "end_time": "2024-07-10T08:49:27.727471100Z",
     "start_time": "2024-07-10T08:49:27.694982200Z"
    }
   },
   "outputs": [],
   "source": [
    "# Identify the 99.9th percentile for PARKINGSPACEPRICE\n",
    "percentile_999_parkingspaceprice = data_cleaned['PARKINGSPACEPRICE'].quantile(0.999)\n",
    "\n",
    "# Apply the function to replace outliers in PARKINGSPACEPRICE\n",
    "data_cleaned = replace_outliers_with_neighborhood_median(data_cleaned, 'PARKINGSPACEPRICE', percentile_999_parkingspaceprice)"
   ]
  },
  {
   "cell_type": "code",
   "execution_count": 18,
   "id": "e38464aeca290b24",
   "metadata": {
    "ExecuteTime": {
     "end_time": "2024-07-10T08:49:27.727999600Z",
     "start_time": "2024-07-10T08:49:27.705214600Z"
    }
   },
   "outputs": [
    {
     "data": {
      "text/plain": "count    33578.000000\nmean       659.506016\nstd       4154.969207\nmin          1.000000\n25%          1.000000\n50%          1.000000\n75%          1.000000\nmax      50001.000000\nName: PARKINGSPACEPRICE, dtype: float64"
     },
     "execution_count": 18,
     "metadata": {},
     "output_type": "execute_result"
    }
   ],
   "source": [
    "data_cleaned[\"PARKINGSPACEPRICE\"].describe()"
   ]
  },
  {
   "cell_type": "markdown",
   "source": [
    "Drop auxiliary columns crated for outlier identification"
   ],
   "metadata": {
    "collapsed": false
   },
   "id": "85096b476b18dda6"
  },
  {
   "cell_type": "code",
   "execution_count": 19,
   "outputs": [],
   "source": [
    "data_cleaned = data_cleaned.drop(columns=['HOUSE_SIZE', 'SQUAREMETERS_PER_BATH', 'SQUAREMETERS_PER_ROOM'])"
   ],
   "metadata": {
    "collapsed": false,
    "ExecuteTime": {
     "end_time": "2024-07-10T08:49:27.727999600Z",
     "start_time": "2024-07-10T08:49:27.714673200Z"
    }
   },
   "id": "a117c4c4bec43b58"
  },
  {
   "cell_type": "markdown",
   "id": "e6682b1945dda611",
   "metadata": {},
   "source": [
    "__Aggregate duplicates in assets__"
   ]
  },
  {
   "cell_type": "code",
   "execution_count": 20,
   "outputs": [
    {
     "data": {
      "text/plain": "                 ASSETID  PERIOD   PRICE    UNITPRICE  CONSTRUCTEDAREA  \\\n0   A9651535568269959084  201812  111000  1480.000000               75   \n1  A13801394133398327300  201812  169000  1320.312500              128   \n2   A8013965313053471366  201812  162000  1883.720930               86   \n3  A15308599866706500727  201812  199000  1792.792793              111   \n4   A7882254711596398998  201812   73000  1303.571429               56   \n\n   ROOMNUMBER  BATHNUMBER  HASTERRACE  HASLIFT  HASAIRCONDITIONING  ...  \\\n0           2           1           1        1                   1  ...   \n1           4           2           0        1                   1  ...   \n2           2           1           0        1                   1  ...   \n3           4           2           0        1                   0  ...   \n4           2           1           1        1                   0  ...   \n\n   BUILTTYPEID_2  BUILTTYPEID_3  DISTANCE_TO_CITY_CENTER  DISTANCE_TO_METRO  \\\n0              0              1                 3.759093           0.756517   \n1              0              1                 2.073773           0.370680   \n2              0              1                 2.099641           0.038560   \n3              0              1                 2.120917           0.524827   \n4              0              1                 3.087950           1.129985   \n\n   DISTANCE_TO_MAIN_STREET  LONGITUDE   LATITUDE  \\\n0                 3.373132  -0.393538  39.500908   \n1                 0.540594  -0.359125  39.482599   \n2                 0.719203  -0.362470  39.485144   \n3                 0.915379  -0.367417  39.487445   \n4                 2.009535  -0.370182  39.497057   \n\n                                      GEOMETRY    NEIGHBORHOOD  \\\n0  POINT (-0.393538331726532 39.5009075674168)  Ciutat Fallera   \n1  POINT (-0.359124975348099 39.4825994457946)      Benimaclet   \n2  POINT (-0.362469934782961 39.4851438187497)      Benimaclet   \n3  POINT (-0.367417112798973 39.4874451366112)      Benimaclet   \n4  POINT (-0.370182227980988 39.4970570379316)     Els Orriols   \n\n   HASEXTERNALVIEW  \n0              1.0  \n1              1.0  \n2              1.0  \n3              1.0  \n4              1.0  \n\n[5 rows x 42 columns]",
      "text/html": "<div>\n<style scoped>\n    .dataframe tbody tr th:only-of-type {\n        vertical-align: middle;\n    }\n\n    .dataframe tbody tr th {\n        vertical-align: top;\n    }\n\n    .dataframe thead th {\n        text-align: right;\n    }\n</style>\n<table border=\"1\" class=\"dataframe\">\n  <thead>\n    <tr style=\"text-align: right;\">\n      <th></th>\n      <th>ASSETID</th>\n      <th>PERIOD</th>\n      <th>PRICE</th>\n      <th>UNITPRICE</th>\n      <th>CONSTRUCTEDAREA</th>\n      <th>ROOMNUMBER</th>\n      <th>BATHNUMBER</th>\n      <th>HASTERRACE</th>\n      <th>HASLIFT</th>\n      <th>HASAIRCONDITIONING</th>\n      <th>...</th>\n      <th>BUILTTYPEID_2</th>\n      <th>BUILTTYPEID_3</th>\n      <th>DISTANCE_TO_CITY_CENTER</th>\n      <th>DISTANCE_TO_METRO</th>\n      <th>DISTANCE_TO_MAIN_STREET</th>\n      <th>LONGITUDE</th>\n      <th>LATITUDE</th>\n      <th>GEOMETRY</th>\n      <th>NEIGHBORHOOD</th>\n      <th>HASEXTERNALVIEW</th>\n    </tr>\n  </thead>\n  <tbody>\n    <tr>\n      <th>0</th>\n      <td>A9651535568269959084</td>\n      <td>201812</td>\n      <td>111000</td>\n      <td>1480.000000</td>\n      <td>75</td>\n      <td>2</td>\n      <td>1</td>\n      <td>1</td>\n      <td>1</td>\n      <td>1</td>\n      <td>...</td>\n      <td>0</td>\n      <td>1</td>\n      <td>3.759093</td>\n      <td>0.756517</td>\n      <td>3.373132</td>\n      <td>-0.393538</td>\n      <td>39.500908</td>\n      <td>POINT (-0.393538331726532 39.5009075674168)</td>\n      <td>Ciutat Fallera</td>\n      <td>1.0</td>\n    </tr>\n    <tr>\n      <th>1</th>\n      <td>A13801394133398327300</td>\n      <td>201812</td>\n      <td>169000</td>\n      <td>1320.312500</td>\n      <td>128</td>\n      <td>4</td>\n      <td>2</td>\n      <td>0</td>\n      <td>1</td>\n      <td>1</td>\n      <td>...</td>\n      <td>0</td>\n      <td>1</td>\n      <td>2.073773</td>\n      <td>0.370680</td>\n      <td>0.540594</td>\n      <td>-0.359125</td>\n      <td>39.482599</td>\n      <td>POINT (-0.359124975348099 39.4825994457946)</td>\n      <td>Benimaclet</td>\n      <td>1.0</td>\n    </tr>\n    <tr>\n      <th>2</th>\n      <td>A8013965313053471366</td>\n      <td>201812</td>\n      <td>162000</td>\n      <td>1883.720930</td>\n      <td>86</td>\n      <td>2</td>\n      <td>1</td>\n      <td>0</td>\n      <td>1</td>\n      <td>1</td>\n      <td>...</td>\n      <td>0</td>\n      <td>1</td>\n      <td>2.099641</td>\n      <td>0.038560</td>\n      <td>0.719203</td>\n      <td>-0.362470</td>\n      <td>39.485144</td>\n      <td>POINT (-0.362469934782961 39.4851438187497)</td>\n      <td>Benimaclet</td>\n      <td>1.0</td>\n    </tr>\n    <tr>\n      <th>3</th>\n      <td>A15308599866706500727</td>\n      <td>201812</td>\n      <td>199000</td>\n      <td>1792.792793</td>\n      <td>111</td>\n      <td>4</td>\n      <td>2</td>\n      <td>0</td>\n      <td>1</td>\n      <td>0</td>\n      <td>...</td>\n      <td>0</td>\n      <td>1</td>\n      <td>2.120917</td>\n      <td>0.524827</td>\n      <td>0.915379</td>\n      <td>-0.367417</td>\n      <td>39.487445</td>\n      <td>POINT (-0.367417112798973 39.4874451366112)</td>\n      <td>Benimaclet</td>\n      <td>1.0</td>\n    </tr>\n    <tr>\n      <th>4</th>\n      <td>A7882254711596398998</td>\n      <td>201812</td>\n      <td>73000</td>\n      <td>1303.571429</td>\n      <td>56</td>\n      <td>2</td>\n      <td>1</td>\n      <td>1</td>\n      <td>1</td>\n      <td>0</td>\n      <td>...</td>\n      <td>0</td>\n      <td>1</td>\n      <td>3.087950</td>\n      <td>1.129985</td>\n      <td>2.009535</td>\n      <td>-0.370182</td>\n      <td>39.497057</td>\n      <td>POINT (-0.370182227980988 39.4970570379316)</td>\n      <td>Els Orriols</td>\n      <td>1.0</td>\n    </tr>\n  </tbody>\n</table>\n<p>5 rows × 42 columns</p>\n</div>"
     },
     "execution_count": 20,
     "metadata": {},
     "output_type": "execute_result"
    }
   ],
   "source": [
    "data_cleaned.head()"
   ],
   "metadata": {
    "collapsed": false,
    "ExecuteTime": {
     "end_time": "2024-07-10T08:49:27.746471800Z",
     "start_time": "2024-07-10T08:49:27.727999600Z"
    }
   },
   "id": "6902e071d04466a6"
  },
  {
   "cell_type": "markdown",
   "id": "8c0d37112d3aa591",
   "metadata": {},
   "source": [
    "As aligned with Idealista, the entries in the data are not necessarily sequential. Therefore, we take the average / mode for each ASSETID, depending on the column's type."
   ]
  },
  {
   "cell_type": "code",
   "execution_count": 21,
   "outputs": [
    {
     "data": {
      "text/plain": "Index(['ASSETID', 'PERIOD', 'PRICE', 'UNITPRICE', 'CONSTRUCTEDAREA',\n       'ROOMNUMBER', 'BATHNUMBER', 'HASTERRACE', 'HASLIFT',\n       'HASAIRCONDITIONING', 'AMENITYID', 'HASPARKINGSPACE',\n       'ISPARKINGSPACEINCLUDEDINPRICE', 'PARKINGSPACEPRICE',\n       'HASNORTHORIENTATION', 'HASSOUTHORIENTATION', 'HASEASTORIENTATION',\n       'HASWESTORIENTATION', 'HASBOXROOM', 'HASWARDROBE', 'HASSWIMMINGPOOL',\n       'HASDOORMAN', 'HASGARDEN', 'ISDUPLEX', 'ISSTUDIO', 'ISINTOPFLOOR',\n       'FLOORCLEAN', 'CADCONSTRUCTIONYEAR', 'CADMAXBUILDINGFLOOR',\n       'CADDWELLINGCOUNT', 'CADASTRALQUALITYID', 'BUILTTYPEID_1',\n       'BUILTTYPEID_2', 'BUILTTYPEID_3', 'DISTANCE_TO_CITY_CENTER',\n       'DISTANCE_TO_METRO', 'DISTANCE_TO_MAIN_STREET', 'LONGITUDE', 'LATITUDE',\n       'GEOMETRY', 'NEIGHBORHOOD', 'HASEXTERNALVIEW'],\n      dtype='object')"
     },
     "execution_count": 21,
     "metadata": {},
     "output_type": "execute_result"
    }
   ],
   "source": [
    "data_cleaned.columns"
   ],
   "metadata": {
    "collapsed": false,
    "ExecuteTime": {
     "end_time": "2024-07-10T08:49:27.753326800Z",
     "start_time": "2024-07-10T08:49:27.746471800Z"
    }
   },
   "id": "ba8588939cecd045"
  },
  {
   "cell_type": "code",
   "execution_count": 22,
   "id": "976c73cfd31b1d2",
   "metadata": {
    "ExecuteTime": {
     "end_time": "2024-07-10T08:50:56.729133Z",
     "start_time": "2024-07-10T08:49:27.753326800Z"
    }
   },
   "outputs": [
    {
     "data": {
      "text/plain": "                 ASSETID  PERIOD      PRICE    UNITPRICE  CONSTRUCTEDAREA  \\\n0  A10000434603646497633  201803   126500.0  1807.142857             70.0   \n1  A10001334147587469388  201812   630000.0  3165.829146            199.0   \n2  A10002599312155392987  201812   215000.0  2150.000000            100.0   \n3  A10002648121225460937  201812   240000.0  2142.857143            112.0   \n4  A10002658173109908582  201812  1160000.0  4013.840830            289.0   \n\n   ROOMNUMBER  BATHNUMBER  PARKINGSPACEPRICE  FLOORCLEAN  CADMAXBUILDINGFLOOR  \\\n0         2.0         1.0                1.0         1.0                  3.0   \n1         4.0         2.0                1.0        10.0                 14.0   \n2         3.0         2.0                1.0         3.0                  7.0   \n3         3.0         2.0                1.0    5.666667                  6.0   \n4         5.0         4.0                1.0         5.0                 14.0   \n\n   ...  ISDUPLEX  ISSTUDIO  HASEXTERNALVIEW  ISINTOPFLOOR  CADASTRALQUALITYID  \\\n0  ...         0         0              1.0             0                   3   \n1  ...         0         0              1.0             1                   3   \n2  ...         0         0              1.0             0                   5   \n3  ...         0         0              1.0             1                   5   \n4  ...         0         0              1.0             0                   1   \n\n   BUILTTYPEID_1  BUILTTYPEID_2  BUILTTYPEID_3  \\\n0              0              0              1   \n1              0              0              1   \n2              0              0              1   \n3              0              0              1   \n4              0              0              1   \n\n                           NEIGHBORHOOD  \\\n0             El Cabanyal-El Canyamelar   \n1  Ciutat de les Arts i de les Ciencies   \n2                               El Grau   \n3                             Nou Moles   \n4                      El Pla del Remei   \n\n                                      GEOMETRY  \n0  POINT (-0.330160605703139 39.4635957886042)  \n1  POINT (-0.357513093932358 39.4566986180307)  \n2  POINT (-0.334319928169434 39.4630246214926)  \n3  POINT (-0.401599173510795 39.4696293401522)  \n4   POINT (-0.367873821982046 39.472563980498)  \n\n[5 rows x 42 columns]",
      "text/html": "<div>\n<style scoped>\n    .dataframe tbody tr th:only-of-type {\n        vertical-align: middle;\n    }\n\n    .dataframe tbody tr th {\n        vertical-align: top;\n    }\n\n    .dataframe thead th {\n        text-align: right;\n    }\n</style>\n<table border=\"1\" class=\"dataframe\">\n  <thead>\n    <tr style=\"text-align: right;\">\n      <th></th>\n      <th>ASSETID</th>\n      <th>PERIOD</th>\n      <th>PRICE</th>\n      <th>UNITPRICE</th>\n      <th>CONSTRUCTEDAREA</th>\n      <th>ROOMNUMBER</th>\n      <th>BATHNUMBER</th>\n      <th>PARKINGSPACEPRICE</th>\n      <th>FLOORCLEAN</th>\n      <th>CADMAXBUILDINGFLOOR</th>\n      <th>...</th>\n      <th>ISDUPLEX</th>\n      <th>ISSTUDIO</th>\n      <th>HASEXTERNALVIEW</th>\n      <th>ISINTOPFLOOR</th>\n      <th>CADASTRALQUALITYID</th>\n      <th>BUILTTYPEID_1</th>\n      <th>BUILTTYPEID_2</th>\n      <th>BUILTTYPEID_3</th>\n      <th>NEIGHBORHOOD</th>\n      <th>GEOMETRY</th>\n    </tr>\n  </thead>\n  <tbody>\n    <tr>\n      <th>0</th>\n      <td>A10000434603646497633</td>\n      <td>201803</td>\n      <td>126500.0</td>\n      <td>1807.142857</td>\n      <td>70.0</td>\n      <td>2.0</td>\n      <td>1.0</td>\n      <td>1.0</td>\n      <td>1.0</td>\n      <td>3.0</td>\n      <td>...</td>\n      <td>0</td>\n      <td>0</td>\n      <td>1.0</td>\n      <td>0</td>\n      <td>3</td>\n      <td>0</td>\n      <td>0</td>\n      <td>1</td>\n      <td>El Cabanyal-El Canyamelar</td>\n      <td>POINT (-0.330160605703139 39.4635957886042)</td>\n    </tr>\n    <tr>\n      <th>1</th>\n      <td>A10001334147587469388</td>\n      <td>201812</td>\n      <td>630000.0</td>\n      <td>3165.829146</td>\n      <td>199.0</td>\n      <td>4.0</td>\n      <td>2.0</td>\n      <td>1.0</td>\n      <td>10.0</td>\n      <td>14.0</td>\n      <td>...</td>\n      <td>0</td>\n      <td>0</td>\n      <td>1.0</td>\n      <td>1</td>\n      <td>3</td>\n      <td>0</td>\n      <td>0</td>\n      <td>1</td>\n      <td>Ciutat de les Arts i de les Ciencies</td>\n      <td>POINT (-0.357513093932358 39.4566986180307)</td>\n    </tr>\n    <tr>\n      <th>2</th>\n      <td>A10002599312155392987</td>\n      <td>201812</td>\n      <td>215000.0</td>\n      <td>2150.000000</td>\n      <td>100.0</td>\n      <td>3.0</td>\n      <td>2.0</td>\n      <td>1.0</td>\n      <td>3.0</td>\n      <td>7.0</td>\n      <td>...</td>\n      <td>0</td>\n      <td>0</td>\n      <td>1.0</td>\n      <td>0</td>\n      <td>5</td>\n      <td>0</td>\n      <td>0</td>\n      <td>1</td>\n      <td>El Grau</td>\n      <td>POINT (-0.334319928169434 39.4630246214926)</td>\n    </tr>\n    <tr>\n      <th>3</th>\n      <td>A10002648121225460937</td>\n      <td>201812</td>\n      <td>240000.0</td>\n      <td>2142.857143</td>\n      <td>112.0</td>\n      <td>3.0</td>\n      <td>2.0</td>\n      <td>1.0</td>\n      <td>5.666667</td>\n      <td>6.0</td>\n      <td>...</td>\n      <td>0</td>\n      <td>0</td>\n      <td>1.0</td>\n      <td>1</td>\n      <td>5</td>\n      <td>0</td>\n      <td>0</td>\n      <td>1</td>\n      <td>Nou Moles</td>\n      <td>POINT (-0.401599173510795 39.4696293401522)</td>\n    </tr>\n    <tr>\n      <th>4</th>\n      <td>A10002658173109908582</td>\n      <td>201812</td>\n      <td>1160000.0</td>\n      <td>4013.840830</td>\n      <td>289.0</td>\n      <td>5.0</td>\n      <td>4.0</td>\n      <td>1.0</td>\n      <td>5.0</td>\n      <td>14.0</td>\n      <td>...</td>\n      <td>0</td>\n      <td>0</td>\n      <td>1.0</td>\n      <td>0</td>\n      <td>1</td>\n      <td>0</td>\n      <td>0</td>\n      <td>1</td>\n      <td>El Pla del Remei</td>\n      <td>POINT (-0.367873821982046 39.472563980498)</td>\n    </tr>\n  </tbody>\n</table>\n<p>5 rows × 42 columns</p>\n</div>"
     },
     "execution_count": 22,
     "metadata": {},
     "output_type": "execute_result"
    }
   ],
   "source": [
    "# Define for which columns we take the mean\n",
    "mean_columns = ['PRICE', 'UNITPRICE', 'CONSTRUCTEDAREA', 'ROOMNUMBER', 'BATHNUMBER', 'PARKINGSPACEPRICE', 'FLOORCLEAN', 'CADMAXBUILDINGFLOOR', 'CADCONSTRUCTIONYEAR',\n",
    "                'CADDWELLINGCOUNT', 'DISTANCE_TO_CITY_CENTER', 'DISTANCE_TO_METRO', 'DISTANCE_TO_MAIN_STREET', 'LONGITUDE', 'LATITUDE']\n",
    "\n",
    "# Define for which columns we take the mode \n",
    "mode_columns = ['AMENITYID', 'HASPARKINGSPACE', 'ISPARKINGSPACEINCLUDEDINPRICE', 'HASTERRACE', 'HASLIFT', 'HASAIRCONDITIONING', 'HASNORTHORIENTATION', 'HASSOUTHORIENTATION', \n",
    "                'HASEASTORIENTATION', 'HASWESTORIENTATION', 'HASBOXROOM', 'HASWARDROBE', 'HASSWIMMINGPOOL', 'HASDOORMAN', 'HASGARDEN', 'ISDUPLEX', \n",
    "                'ISSTUDIO', 'HASEXTERNALVIEW', 'ISINTOPFLOOR', 'CADASTRALQUALITYID', 'BUILTTYPEID_1', 'BUILTTYPEID_2', 'BUILTTYPEID_3', 'NEIGHBORHOOD', 'GEOMETRY']\n",
    "\n",
    "# Group by 'ASSETID' and 'PERIOD' and calculate the mean for mean_columns\n",
    "mean_df = data_cleaned.groupby(['ASSETID', 'PERIOD'])[mean_columns].mean().reset_index()\n",
    "\n",
    "# Group by 'ASSETID' and 'PERIOD' and calculate the mode for mode_columns\n",
    "def calculate_mode(series):\n",
    "    return series.mode().iloc[0] if not series.mode().empty else None\n",
    "\n",
    "mode_df = data_cleaned.groupby(['ASSETID', 'PERIOD'])[mode_columns].agg(lambda x: calculate_mode(x)).reset_index()\n",
    "\n",
    "# Merge the two DataFrames on 'ASSETID' and 'PERIOD'\n",
    "result = pd.merge(mean_df, mode_df, on=['ASSETID', 'PERIOD'])\n",
    "\n",
    "# Drop any duplicate columns that might arise from the merge\n",
    "result = result.loc[:, ~result.columns.duplicated()]\n",
    "\n",
    "# Assign the final result to data_cleaned\n",
    "data_cleaned = result\n",
    "\n",
    "# Display the first few rows of the cleaned data\n",
    "data_cleaned.head()"
   ]
  },
  {
   "cell_type": "code",
   "execution_count": 23,
   "id": "7323d9bae3c55e20",
   "metadata": {
    "ExecuteTime": {
     "end_time": "2024-07-10T08:50:56.737715500Z",
     "start_time": "2024-07-10T08:50:56.733317700Z"
    }
   },
   "outputs": [
    {
     "name": "stdout",
     "output_type": "stream",
     "text": [
      "Number of duplicates in the ASSETID column: 0\n",
      "Number of rows before aggregation: 33622\n",
      "Number of rows after aggregation: 27364\n"
     ]
    }
   ],
   "source": [
    "# Check that no duplicates in ASSETID are left\n",
    "num_duplicates = data_cleaned.duplicated(subset=['ASSETID']).sum()\n",
    "print(\"Number of duplicates in the ASSETID column:\", num_duplicates)\n",
    "\n",
    "# Analyze effect of aggregation on dataset\n",
    "num_rows_before_aggregation = len(data)\n",
    "print(\"Number of rows before aggregation:\", num_rows_before_aggregation)\n",
    "num_rows_after_aggregation = len(data_cleaned)\n",
    "print(\"Number of rows after aggregation:\", num_rows_after_aggregation)"
   ]
  },
  {
   "cell_type": "markdown",
   "id": "1962eb08cdffcf2f",
   "metadata": {},
   "source": [
    "__Change order of columns for interpretability and correct data types__"
   ]
  },
  {
   "cell_type": "code",
   "execution_count": 24,
   "id": "16957b5a28c82020",
   "metadata": {
    "ExecuteTime": {
     "end_time": "2024-07-10T08:50:56.773757800Z",
     "start_time": "2024-07-10T08:50:56.737715500Z"
    }
   },
   "outputs": [],
   "source": [
    "# Round columns that should not have a decimal number to nearest integer and convert to int\n",
    "columns_to_round = ['ROOMNUMBER', 'BATHNUMBER', 'FLOORCLEAN', 'CADMAXBUILDINGFLOOR', 'CADCONSTRUCTIONYEAR', 'CADDWELLINGCOUNT', 'PRICE', 'CONSTRUCTEDAREA']\n",
    "\n",
    "data_cleaned[columns_to_round] = data_cleaned[columns_to_round].round().astype(int)\n",
    "\n",
    "# Desired order of columns\n",
    "desired_order = [\n",
    "    'ASSETID', 'PERIOD', 'PRICE', 'UNITPRICE', 'CONSTRUCTEDAREA',\n",
    "    'ROOMNUMBER', 'BATHNUMBER',  'AMENITYID', 'HASPARKINGSPACE',\n",
    "    'ISPARKINGSPACEINCLUDEDINPRICE', 'PARKINGSPACEPRICE', 'HASTERRACE', 'HASLIFT',\n",
    "    'HASAIRCONDITIONING',  'HASNORTHORIENTATION', 'HASSOUTHORIENTATION', 'HASEASTORIENTATION',\n",
    "    'HASWESTORIENTATION', 'HASBOXROOM', 'HASWARDROBE', 'HASSWIMMINGPOOL',\n",
    "    'HASDOORMAN', 'HASGARDEN', 'ISDUPLEX', 'ISSTUDIO', 'HASEXTERNALVIEW', 'ISINTOPFLOOR',  'FLOORCLEAN', 'CADMAXBUILDINGFLOOR',  'CADCONSTRUCTIONYEAR',  'CADDWELLINGCOUNT','CADASTRALQUALITYID', 'BUILTTYPEID_1',  'BUILTTYPEID_2', 'BUILTTYPEID_3','DISTANCE_TO_CITY_CENTER', 'DISTANCE_TO_METRO',  'DISTANCE_TO_MAIN_STREET', 'LONGITUDE','LATITUDE',  'GEOMETRY', 'NEIGHBORHOOD'\n",
    "]\n",
    "\n",
    "# Reorder the columns\n",
    "data_cleaned = data_cleaned[desired_order]"
   ]
  },
  {
   "cell_type": "markdown",
   "id": "120033c5f6581c2",
   "metadata": {},
   "source": [
    "__Inspect dataset after cleaning__"
   ]
  },
  {
   "cell_type": "code",
   "execution_count": 25,
   "id": "8bb9fa8a4a8d520",
   "metadata": {
    "ExecuteTime": {
     "end_time": "2024-07-10T08:50:56.796793800Z",
     "start_time": "2024-07-10T08:50:56.758276400Z"
    }
   },
   "outputs": [
    {
     "data": {
      "text/plain": "                 ASSETID  PERIOD    PRICE    UNITPRICE  CONSTRUCTEDAREA  \\\n0  A10000434603646497633  201803   126500  1807.142857               70   \n1  A10001334147587469388  201812   630000  3165.829146              199   \n2  A10002599312155392987  201812   215000  2150.000000              100   \n3  A10002648121225460937  201812   240000  2142.857143              112   \n4  A10002658173109908582  201812  1160000  4013.840830              289   \n5  A10003205125900904965  201803   205000  2050.000000              100   \n6   A1000367650272331670  201809    60000   882.352941               68   \n7  A10003769364183389417  201809   146000  1269.565217              115   \n8  A10004094816451748467  201806    97000  1102.272727               88   \n9  A10004671247064458424  201812    94000  1287.671233               73   \n\n   ROOMNUMBER  BATHNUMBER  AMENITYID  HASPARKINGSPACE  \\\n0           2           1          3                0   \n1           4           2          3                1   \n2           3           2          3                0   \n3           3           2          1                0   \n4           5           4          2                0   \n5           3           2          3                1   \n6           2           1          3                0   \n7           3           2          3                0   \n8           3           1          3                0   \n9           3           1          2                0   \n\n   ISPARKINGSPACEINCLUDEDINPRICE  ...  BUILTTYPEID_1  BUILTTYPEID_2  \\\n0                              0  ...              0              0   \n1                              1  ...              0              0   \n2                              0  ...              0              0   \n3                              0  ...              0              0   \n4                              0  ...              0              0   \n5                              1  ...              0              0   \n6                              0  ...              0              1   \n7                              0  ...              0              0   \n8                              0  ...              0              0   \n9                              0  ...              0              0   \n\n   BUILTTYPEID_3  DISTANCE_TO_CITY_CENTER  DISTANCE_TO_METRO  \\\n0              1                 4.044289           0.734973   \n1              1                 2.193673           0.724361   \n2              1                 3.711768           0.423130   \n3              1                 2.175821           0.378732   \n4              1                 0.799293           0.186091   \n5              1                 1.180368           0.538609   \n6              0                 3.004559           0.947917   \n7              1                 1.966580           0.714995   \n8              1                 1.648895           0.948719   \n9              1                 4.216395           1.869873   \n\n   DISTANCE_TO_MAIN_STREET  LONGITUDE   LATITUDE  \\\n0                 0.854680  -0.330256  39.463535   \n1                 2.102044  -0.357513  39.456699   \n2                 0.800718  -0.334320  39.463025   \n3                 3.256303  -0.401935  39.469964   \n4                 0.770513  -0.367956  39.472377   \n5                 2.560039  -0.387754  39.463568   \n6                 1.874068  -0.368500  39.496019   \n7                 3.294269  -0.397264  39.462145   \n8                 1.474654  -0.382081  39.483966   \n9                 1.289646  -0.329772  39.481037   \n\n                                      GEOMETRY  \\\n0  POINT (-0.330160605703139 39.4635957886042)   \n1  POINT (-0.357513093932358 39.4566986180307)   \n2  POINT (-0.334319928169434 39.4630246214926)   \n3  POINT (-0.401599173510795 39.4696293401522)   \n4   POINT (-0.367873821982046 39.472563980498)   \n5   POINT (-0.38723918226041 39.4632444439486)   \n6  POINT (-0.368500467189448 39.4960189893973)   \n7  POINT (-0.397263705516888 39.4621450807861)   \n8  POINT (-0.382080539041303 39.4839657112742)   \n9  POINT (-0.329772432204423 39.4810367788998)   \n\n                           NEIGHBORHOOD  \n0             El Cabanyal-El Canyamelar  \n1  Ciutat de les Arts i de les Ciencies  \n2                               El Grau  \n3                             Nou Moles  \n4                      El Pla del Remei  \n5                          La Fontsanta  \n6                           Els Orriols  \n7                              Safranar  \n8                            Marxalenes  \n9                Playa de la Malvarrosa  \n\n[10 rows x 42 columns]",
      "text/html": "<div>\n<style scoped>\n    .dataframe tbody tr th:only-of-type {\n        vertical-align: middle;\n    }\n\n    .dataframe tbody tr th {\n        vertical-align: top;\n    }\n\n    .dataframe thead th {\n        text-align: right;\n    }\n</style>\n<table border=\"1\" class=\"dataframe\">\n  <thead>\n    <tr style=\"text-align: right;\">\n      <th></th>\n      <th>ASSETID</th>\n      <th>PERIOD</th>\n      <th>PRICE</th>\n      <th>UNITPRICE</th>\n      <th>CONSTRUCTEDAREA</th>\n      <th>ROOMNUMBER</th>\n      <th>BATHNUMBER</th>\n      <th>AMENITYID</th>\n      <th>HASPARKINGSPACE</th>\n      <th>ISPARKINGSPACEINCLUDEDINPRICE</th>\n      <th>...</th>\n      <th>BUILTTYPEID_1</th>\n      <th>BUILTTYPEID_2</th>\n      <th>BUILTTYPEID_3</th>\n      <th>DISTANCE_TO_CITY_CENTER</th>\n      <th>DISTANCE_TO_METRO</th>\n      <th>DISTANCE_TO_MAIN_STREET</th>\n      <th>LONGITUDE</th>\n      <th>LATITUDE</th>\n      <th>GEOMETRY</th>\n      <th>NEIGHBORHOOD</th>\n    </tr>\n  </thead>\n  <tbody>\n    <tr>\n      <th>0</th>\n      <td>A10000434603646497633</td>\n      <td>201803</td>\n      <td>126500</td>\n      <td>1807.142857</td>\n      <td>70</td>\n      <td>2</td>\n      <td>1</td>\n      <td>3</td>\n      <td>0</td>\n      <td>0</td>\n      <td>...</td>\n      <td>0</td>\n      <td>0</td>\n      <td>1</td>\n      <td>4.044289</td>\n      <td>0.734973</td>\n      <td>0.854680</td>\n      <td>-0.330256</td>\n      <td>39.463535</td>\n      <td>POINT (-0.330160605703139 39.4635957886042)</td>\n      <td>El Cabanyal-El Canyamelar</td>\n    </tr>\n    <tr>\n      <th>1</th>\n      <td>A10001334147587469388</td>\n      <td>201812</td>\n      <td>630000</td>\n      <td>3165.829146</td>\n      <td>199</td>\n      <td>4</td>\n      <td>2</td>\n      <td>3</td>\n      <td>1</td>\n      <td>1</td>\n      <td>...</td>\n      <td>0</td>\n      <td>0</td>\n      <td>1</td>\n      <td>2.193673</td>\n      <td>0.724361</td>\n      <td>2.102044</td>\n      <td>-0.357513</td>\n      <td>39.456699</td>\n      <td>POINT (-0.357513093932358 39.4566986180307)</td>\n      <td>Ciutat de les Arts i de les Ciencies</td>\n    </tr>\n    <tr>\n      <th>2</th>\n      <td>A10002599312155392987</td>\n      <td>201812</td>\n      <td>215000</td>\n      <td>2150.000000</td>\n      <td>100</td>\n      <td>3</td>\n      <td>2</td>\n      <td>3</td>\n      <td>0</td>\n      <td>0</td>\n      <td>...</td>\n      <td>0</td>\n      <td>0</td>\n      <td>1</td>\n      <td>3.711768</td>\n      <td>0.423130</td>\n      <td>0.800718</td>\n      <td>-0.334320</td>\n      <td>39.463025</td>\n      <td>POINT (-0.334319928169434 39.4630246214926)</td>\n      <td>El Grau</td>\n    </tr>\n    <tr>\n      <th>3</th>\n      <td>A10002648121225460937</td>\n      <td>201812</td>\n      <td>240000</td>\n      <td>2142.857143</td>\n      <td>112</td>\n      <td>3</td>\n      <td>2</td>\n      <td>1</td>\n      <td>0</td>\n      <td>0</td>\n      <td>...</td>\n      <td>0</td>\n      <td>0</td>\n      <td>1</td>\n      <td>2.175821</td>\n      <td>0.378732</td>\n      <td>3.256303</td>\n      <td>-0.401935</td>\n      <td>39.469964</td>\n      <td>POINT (-0.401599173510795 39.4696293401522)</td>\n      <td>Nou Moles</td>\n    </tr>\n    <tr>\n      <th>4</th>\n      <td>A10002658173109908582</td>\n      <td>201812</td>\n      <td>1160000</td>\n      <td>4013.840830</td>\n      <td>289</td>\n      <td>5</td>\n      <td>4</td>\n      <td>2</td>\n      <td>0</td>\n      <td>0</td>\n      <td>...</td>\n      <td>0</td>\n      <td>0</td>\n      <td>1</td>\n      <td>0.799293</td>\n      <td>0.186091</td>\n      <td>0.770513</td>\n      <td>-0.367956</td>\n      <td>39.472377</td>\n      <td>POINT (-0.367873821982046 39.472563980498)</td>\n      <td>El Pla del Remei</td>\n    </tr>\n    <tr>\n      <th>5</th>\n      <td>A10003205125900904965</td>\n      <td>201803</td>\n      <td>205000</td>\n      <td>2050.000000</td>\n      <td>100</td>\n      <td>3</td>\n      <td>2</td>\n      <td>3</td>\n      <td>1</td>\n      <td>1</td>\n      <td>...</td>\n      <td>0</td>\n      <td>0</td>\n      <td>1</td>\n      <td>1.180368</td>\n      <td>0.538609</td>\n      <td>2.560039</td>\n      <td>-0.387754</td>\n      <td>39.463568</td>\n      <td>POINT (-0.38723918226041 39.4632444439486)</td>\n      <td>La Fontsanta</td>\n    </tr>\n    <tr>\n      <th>6</th>\n      <td>A1000367650272331670</td>\n      <td>201809</td>\n      <td>60000</td>\n      <td>882.352941</td>\n      <td>68</td>\n      <td>2</td>\n      <td>1</td>\n      <td>3</td>\n      <td>0</td>\n      <td>0</td>\n      <td>...</td>\n      <td>0</td>\n      <td>1</td>\n      <td>0</td>\n      <td>3.004559</td>\n      <td>0.947917</td>\n      <td>1.874068</td>\n      <td>-0.368500</td>\n      <td>39.496019</td>\n      <td>POINT (-0.368500467189448 39.4960189893973)</td>\n      <td>Els Orriols</td>\n    </tr>\n    <tr>\n      <th>7</th>\n      <td>A10003769364183389417</td>\n      <td>201809</td>\n      <td>146000</td>\n      <td>1269.565217</td>\n      <td>115</td>\n      <td>3</td>\n      <td>2</td>\n      <td>3</td>\n      <td>0</td>\n      <td>0</td>\n      <td>...</td>\n      <td>0</td>\n      <td>0</td>\n      <td>1</td>\n      <td>1.966580</td>\n      <td>0.714995</td>\n      <td>3.294269</td>\n      <td>-0.397264</td>\n      <td>39.462145</td>\n      <td>POINT (-0.397263705516888 39.4621450807861)</td>\n      <td>Safranar</td>\n    </tr>\n    <tr>\n      <th>8</th>\n      <td>A10004094816451748467</td>\n      <td>201806</td>\n      <td>97000</td>\n      <td>1102.272727</td>\n      <td>88</td>\n      <td>3</td>\n      <td>1</td>\n      <td>3</td>\n      <td>0</td>\n      <td>0</td>\n      <td>...</td>\n      <td>0</td>\n      <td>0</td>\n      <td>1</td>\n      <td>1.648895</td>\n      <td>0.948719</td>\n      <td>1.474654</td>\n      <td>-0.382081</td>\n      <td>39.483966</td>\n      <td>POINT (-0.382080539041303 39.4839657112742)</td>\n      <td>Marxalenes</td>\n    </tr>\n    <tr>\n      <th>9</th>\n      <td>A10004671247064458424</td>\n      <td>201812</td>\n      <td>94000</td>\n      <td>1287.671233</td>\n      <td>73</td>\n      <td>3</td>\n      <td>1</td>\n      <td>2</td>\n      <td>0</td>\n      <td>0</td>\n      <td>...</td>\n      <td>0</td>\n      <td>0</td>\n      <td>1</td>\n      <td>4.216395</td>\n      <td>1.869873</td>\n      <td>1.289646</td>\n      <td>-0.329772</td>\n      <td>39.481037</td>\n      <td>POINT (-0.329772432204423 39.4810367788998)</td>\n      <td>Playa de la Malvarrosa</td>\n    </tr>\n  </tbody>\n</table>\n<p>10 rows × 42 columns</p>\n</div>"
     },
     "execution_count": 25,
     "metadata": {},
     "output_type": "execute_result"
    }
   ],
   "source": [
    "data_cleaned.head(10)"
   ]
  },
  {
   "cell_type": "markdown",
   "id": "6eaf8b8dba176a43",
   "metadata": {},
   "source": [
    "# Add zip code to enable feature engineering"
   ]
  },
  {
   "cell_type": "markdown",
   "id": "7ddf8cbe2d3ba590",
   "metadata": {},
   "source": [
    "__Read the respective dataset of metro with addresses created with API before__"
   ]
  },
  {
   "cell_type": "code",
   "execution_count": 26,
   "id": "46620aa06a0f8f2a",
   "metadata": {
    "ExecuteTime": {
     "end_time": "2024-07-10T08:50:56.812438500Z",
     "start_time": "2024-07-10T08:50:56.773757800Z"
    }
   },
   "outputs": [],
   "source": [
    "if city == \"Madrid\":\n",
    "    metro_with_addresses = pd.read_csv('../../data/3_external_data/pois_incl_address/madrid_pois_address.csv')\n",
    "elif city == \"Barcelona\":\n",
    "    metro_with_addresses = pd.read_csv('../../data/3_external_data/pois_incl_address/barcelona_pois_address.csv')\n",
    "elif city == \"Valencia\":\n",
    "    metro_with_addresses = pd.read_csv('../../data/3_external_data/pois_incl_address/valencia_pois_address.csv')"
   ]
  },
  {
   "cell_type": "markdown",
   "id": "5096971862a975ff",
   "metadata": {},
   "source": [
    "__Add address of closest metro to cleaned data and extract zip code__"
   ]
  },
  {
   "cell_type": "code",
   "execution_count": 27,
   "id": "6098705dd45d940d",
   "metadata": {
    "ExecuteTime": {
     "end_time": "2024-07-10T08:50:58.372150200Z",
     "start_time": "2024-07-10T08:50:56.796793800Z"
    }
   },
   "outputs": [],
   "source": [
    "# Build KDTrees for the metro coordinates\n",
    "metro_coords = metro_with_addresses[['Lat', 'Lon']].values\n",
    "tree = cKDTree(metro_coords)\n",
    "\n",
    "# Function to find the closest metro address\n",
    "def find_closest_address(row, tree, metro_data):\n",
    "    city_coords = (row['LATITUDE'], row['LONGITUDE'])\n",
    "    distance, index = tree.query(city_coords)\n",
    "    closest_row = metro_data.iloc[index]\n",
    "    return closest_row['Address']\n",
    "\n",
    "# Add address_closest_metro column to cleaned_data\n",
    "data_cleaned['ADDRESS_CLOSEST_METRO'] = data_cleaned.apply(\n",
    "    lambda row: find_closest_address(row, tree, metro_with_addresses), axis=1)\n",
    "\n",
    "# Function to extract ZIP code\n",
    "def extract_zip_code(address):\n",
    "    match = re.search(r'\\b\\d{5}\\b', address)\n",
    "    return match.group(0) if match else None\n",
    "\n",
    "# Add ZIP_code_metro column to cleaned data\n",
    "data_cleaned['ZIP_CODE'] = data_cleaned['ADDRESS_CLOSEST_METRO'].apply(extract_zip_code)\n",
    "\n",
    "#Change data type of zip code to string\n",
    "data_cleaned['ZIP_CODE'] = data_cleaned['ZIP_CODE'].astype(str)"
   ]
  },
  {
   "cell_type": "markdown",
   "id": "3fb0866c22cba457",
   "metadata": {},
   "source": [
    "# Categorical encoding"
   ]
  },
  {
   "cell_type": "markdown",
   "id": "f0942f98bb3440b7",
   "metadata": {},
   "source": [
    "Note: Target encoding of NEIGHBORHOOD / ZIP_CODE is implemented in modelling step to avoid data leakage from training to test set"
   ]
  },
  {
   "cell_type": "code",
   "execution_count": 28,
   "id": "2bf0e24cd4078f3e",
   "metadata": {
    "ExecuteTime": {
     "end_time": "2024-07-10T08:50:58.397167800Z",
     "start_time": "2024-07-10T08:50:58.372150200Z"
    }
   },
   "outputs": [],
   "source": [
    "#Ignore depreciation warning\n",
    "import warnings\n",
    "warnings.filterwarnings('ignore', category=DeprecationWarning)\n",
    "\n",
    "#PERIOD: One-hot encoding and turn boolean column to int for consistency\n",
    "data_cleaned = pd.get_dummies(data_cleaned, columns=['PERIOD'], prefix='PERIOD')\n",
    "for col in data_cleaned.columns:\n",
    "    if 'PERIOD_' in col:\n",
    "        data_cleaned[col] = data_cleaned[col].astype(int)\n",
    "\n",
    "#CADASTRALQUALITYID: Reverse order by subtracting the original ID from the maximum value 9 (for interpretability)\n",
    "data_cleaned['CADASTRALQUALITYID'] = 9 - data_cleaned['CADASTRALQUALITYID']"
   ]
  },
  {
   "cell_type": "markdown",
   "id": "c9fed92f0987576d",
   "metadata": {},
   "source": [
    "# Inspect dataset after cleaning, categorical encoding, and adding zip codes"
   ]
  },
  {
   "cell_type": "code",
   "execution_count": 29,
   "id": "f56894bea5b608ba",
   "metadata": {
    "ExecuteTime": {
     "end_time": "2024-07-10T08:50:58.411632200Z",
     "start_time": "2024-07-10T08:50:58.397167800Z"
    }
   },
   "outputs": [
    {
     "data": {
      "text/plain": "                 ASSETID    PRICE    UNITPRICE  CONSTRUCTEDAREA  ROOMNUMBER  \\\n0  A10000434603646497633   126500  1807.142857               70           2   \n1  A10001334147587469388   630000  3165.829146              199           4   \n2  A10002599312155392987   215000  2150.000000              100           3   \n3  A10002648121225460937   240000  2142.857143              112           3   \n4  A10002658173109908582  1160000  4013.840830              289           5   \n5  A10003205125900904965   205000  2050.000000              100           3   \n6   A1000367650272331670    60000   882.352941               68           2   \n7  A10003769364183389417   146000  1269.565217              115           3   \n8  A10004094816451748467    97000  1102.272727               88           3   \n9  A10004671247064458424    94000  1287.671233               73           3   \n\n   BATHNUMBER  AMENITYID  HASPARKINGSPACE  ISPARKINGSPACEINCLUDEDINPRICE  \\\n0           1          3                0                              0   \n1           2          3                1                              1   \n2           2          3                0                              0   \n3           2          1                0                              0   \n4           4          2                0                              0   \n5           2          3                1                              1   \n6           1          3                0                              0   \n7           2          3                0                              0   \n8           1          3                0                              0   \n9           1          2                0                              0   \n\n   PARKINGSPACEPRICE  ...  LONGITUDE   LATITUDE  \\\n0                1.0  ...  -0.330256  39.463535   \n1                1.0  ...  -0.357513  39.456699   \n2                1.0  ...  -0.334320  39.463025   \n3                1.0  ...  -0.401935  39.469964   \n4                1.0  ...  -0.367956  39.472377   \n5                1.0  ...  -0.387754  39.463568   \n6                1.0  ...  -0.368500  39.496019   \n7                1.0  ...  -0.397264  39.462145   \n8                1.0  ...  -0.382081  39.483966   \n9                1.0  ...  -0.329772  39.481037   \n\n                                      GEOMETRY  \\\n0  POINT (-0.330160605703139 39.4635957886042)   \n1  POINT (-0.357513093932358 39.4566986180307)   \n2  POINT (-0.334319928169434 39.4630246214926)   \n3  POINT (-0.401599173510795 39.4696293401522)   \n4   POINT (-0.367873821982046 39.472563980498)   \n5   POINT (-0.38723918226041 39.4632444439486)   \n6  POINT (-0.368500467189448 39.4960189893973)   \n7  POINT (-0.397263705516888 39.4621450807861)   \n8  POINT (-0.382080539041303 39.4839657112742)   \n9  POINT (-0.329772432204423 39.4810367788998)   \n\n                           NEIGHBORHOOD  \\\n0             El Cabanyal-El Canyamelar   \n1  Ciutat de les Arts i de les Ciencies   \n2                               El Grau   \n3                             Nou Moles   \n4                      El Pla del Remei   \n5                          La Fontsanta   \n6                           Els Orriols   \n7                              Safranar   \n8                            Marxalenes   \n9                Playa de la Malvarrosa   \n\n                               ADDRESS_CLOSEST_METRO  ZIP_CODE  PERIOD_201803  \\\n0                unnamed road, 46011 Valencia, Spain     46011              1   \n1  Amado Granell-Montolivet, Avinguda d'Amado Gra...     46005              0   \n2  Marítim, Carrer de Jeroni de Montsoriu, 46022 ...     46022              0   \n3            Avinguda del Cid, 46018 Valencia, Spain     46018              0   \n4  Alameda, Pont de l'Exposició, 46004 Valencia, ...     46004              0   \n5                unnamed road, 46007 Valencia, Spain     46007              1   \n6  Machado, Carrer d'Emili Baró, 46020 Valencia, ...     46020              0   \n7            Avinguda del Cid, 46018 Valencia, Spain     46018              0   \n8  Túria, Pont de les Glòries Valencianes, 46008 ...     46008              0   \n9                unnamed road, 46011 Valencia, Spain     46011              0   \n\n   PERIOD_201806  PERIOD_201809  PERIOD_201812  \n0              0              0              0  \n1              0              0              1  \n2              0              0              1  \n3              0              0              1  \n4              0              0              1  \n5              0              0              0  \n6              0              1              0  \n7              0              1              0  \n8              1              0              0  \n9              0              0              1  \n\n[10 rows x 47 columns]",
      "text/html": "<div>\n<style scoped>\n    .dataframe tbody tr th:only-of-type {\n        vertical-align: middle;\n    }\n\n    .dataframe tbody tr th {\n        vertical-align: top;\n    }\n\n    .dataframe thead th {\n        text-align: right;\n    }\n</style>\n<table border=\"1\" class=\"dataframe\">\n  <thead>\n    <tr style=\"text-align: right;\">\n      <th></th>\n      <th>ASSETID</th>\n      <th>PRICE</th>\n      <th>UNITPRICE</th>\n      <th>CONSTRUCTEDAREA</th>\n      <th>ROOMNUMBER</th>\n      <th>BATHNUMBER</th>\n      <th>AMENITYID</th>\n      <th>HASPARKINGSPACE</th>\n      <th>ISPARKINGSPACEINCLUDEDINPRICE</th>\n      <th>PARKINGSPACEPRICE</th>\n      <th>...</th>\n      <th>LONGITUDE</th>\n      <th>LATITUDE</th>\n      <th>GEOMETRY</th>\n      <th>NEIGHBORHOOD</th>\n      <th>ADDRESS_CLOSEST_METRO</th>\n      <th>ZIP_CODE</th>\n      <th>PERIOD_201803</th>\n      <th>PERIOD_201806</th>\n      <th>PERIOD_201809</th>\n      <th>PERIOD_201812</th>\n    </tr>\n  </thead>\n  <tbody>\n    <tr>\n      <th>0</th>\n      <td>A10000434603646497633</td>\n      <td>126500</td>\n      <td>1807.142857</td>\n      <td>70</td>\n      <td>2</td>\n      <td>1</td>\n      <td>3</td>\n      <td>0</td>\n      <td>0</td>\n      <td>1.0</td>\n      <td>...</td>\n      <td>-0.330256</td>\n      <td>39.463535</td>\n      <td>POINT (-0.330160605703139 39.4635957886042)</td>\n      <td>El Cabanyal-El Canyamelar</td>\n      <td>unnamed road, 46011 Valencia, Spain</td>\n      <td>46011</td>\n      <td>1</td>\n      <td>0</td>\n      <td>0</td>\n      <td>0</td>\n    </tr>\n    <tr>\n      <th>1</th>\n      <td>A10001334147587469388</td>\n      <td>630000</td>\n      <td>3165.829146</td>\n      <td>199</td>\n      <td>4</td>\n      <td>2</td>\n      <td>3</td>\n      <td>1</td>\n      <td>1</td>\n      <td>1.0</td>\n      <td>...</td>\n      <td>-0.357513</td>\n      <td>39.456699</td>\n      <td>POINT (-0.357513093932358 39.4566986180307)</td>\n      <td>Ciutat de les Arts i de les Ciencies</td>\n      <td>Amado Granell-Montolivet, Avinguda d'Amado Gra...</td>\n      <td>46005</td>\n      <td>0</td>\n      <td>0</td>\n      <td>0</td>\n      <td>1</td>\n    </tr>\n    <tr>\n      <th>2</th>\n      <td>A10002599312155392987</td>\n      <td>215000</td>\n      <td>2150.000000</td>\n      <td>100</td>\n      <td>3</td>\n      <td>2</td>\n      <td>3</td>\n      <td>0</td>\n      <td>0</td>\n      <td>1.0</td>\n      <td>...</td>\n      <td>-0.334320</td>\n      <td>39.463025</td>\n      <td>POINT (-0.334319928169434 39.4630246214926)</td>\n      <td>El Grau</td>\n      <td>Marítim, Carrer de Jeroni de Montsoriu, 46022 ...</td>\n      <td>46022</td>\n      <td>0</td>\n      <td>0</td>\n      <td>0</td>\n      <td>1</td>\n    </tr>\n    <tr>\n      <th>3</th>\n      <td>A10002648121225460937</td>\n      <td>240000</td>\n      <td>2142.857143</td>\n      <td>112</td>\n      <td>3</td>\n      <td>2</td>\n      <td>1</td>\n      <td>0</td>\n      <td>0</td>\n      <td>1.0</td>\n      <td>...</td>\n      <td>-0.401935</td>\n      <td>39.469964</td>\n      <td>POINT (-0.401599173510795 39.4696293401522)</td>\n      <td>Nou Moles</td>\n      <td>Avinguda del Cid, 46018 Valencia, Spain</td>\n      <td>46018</td>\n      <td>0</td>\n      <td>0</td>\n      <td>0</td>\n      <td>1</td>\n    </tr>\n    <tr>\n      <th>4</th>\n      <td>A10002658173109908582</td>\n      <td>1160000</td>\n      <td>4013.840830</td>\n      <td>289</td>\n      <td>5</td>\n      <td>4</td>\n      <td>2</td>\n      <td>0</td>\n      <td>0</td>\n      <td>1.0</td>\n      <td>...</td>\n      <td>-0.367956</td>\n      <td>39.472377</td>\n      <td>POINT (-0.367873821982046 39.472563980498)</td>\n      <td>El Pla del Remei</td>\n      <td>Alameda, Pont de l'Exposició, 46004 Valencia, ...</td>\n      <td>46004</td>\n      <td>0</td>\n      <td>0</td>\n      <td>0</td>\n      <td>1</td>\n    </tr>\n    <tr>\n      <th>5</th>\n      <td>A10003205125900904965</td>\n      <td>205000</td>\n      <td>2050.000000</td>\n      <td>100</td>\n      <td>3</td>\n      <td>2</td>\n      <td>3</td>\n      <td>1</td>\n      <td>1</td>\n      <td>1.0</td>\n      <td>...</td>\n      <td>-0.387754</td>\n      <td>39.463568</td>\n      <td>POINT (-0.38723918226041 39.4632444439486)</td>\n      <td>La Fontsanta</td>\n      <td>unnamed road, 46007 Valencia, Spain</td>\n      <td>46007</td>\n      <td>1</td>\n      <td>0</td>\n      <td>0</td>\n      <td>0</td>\n    </tr>\n    <tr>\n      <th>6</th>\n      <td>A1000367650272331670</td>\n      <td>60000</td>\n      <td>882.352941</td>\n      <td>68</td>\n      <td>2</td>\n      <td>1</td>\n      <td>3</td>\n      <td>0</td>\n      <td>0</td>\n      <td>1.0</td>\n      <td>...</td>\n      <td>-0.368500</td>\n      <td>39.496019</td>\n      <td>POINT (-0.368500467189448 39.4960189893973)</td>\n      <td>Els Orriols</td>\n      <td>Machado, Carrer d'Emili Baró, 46020 Valencia, ...</td>\n      <td>46020</td>\n      <td>0</td>\n      <td>0</td>\n      <td>1</td>\n      <td>0</td>\n    </tr>\n    <tr>\n      <th>7</th>\n      <td>A10003769364183389417</td>\n      <td>146000</td>\n      <td>1269.565217</td>\n      <td>115</td>\n      <td>3</td>\n      <td>2</td>\n      <td>3</td>\n      <td>0</td>\n      <td>0</td>\n      <td>1.0</td>\n      <td>...</td>\n      <td>-0.397264</td>\n      <td>39.462145</td>\n      <td>POINT (-0.397263705516888 39.4621450807861)</td>\n      <td>Safranar</td>\n      <td>Avinguda del Cid, 46018 Valencia, Spain</td>\n      <td>46018</td>\n      <td>0</td>\n      <td>0</td>\n      <td>1</td>\n      <td>0</td>\n    </tr>\n    <tr>\n      <th>8</th>\n      <td>A10004094816451748467</td>\n      <td>97000</td>\n      <td>1102.272727</td>\n      <td>88</td>\n      <td>3</td>\n      <td>1</td>\n      <td>3</td>\n      <td>0</td>\n      <td>0</td>\n      <td>1.0</td>\n      <td>...</td>\n      <td>-0.382081</td>\n      <td>39.483966</td>\n      <td>POINT (-0.382080539041303 39.4839657112742)</td>\n      <td>Marxalenes</td>\n      <td>Túria, Pont de les Glòries Valencianes, 46008 ...</td>\n      <td>46008</td>\n      <td>0</td>\n      <td>1</td>\n      <td>0</td>\n      <td>0</td>\n    </tr>\n    <tr>\n      <th>9</th>\n      <td>A10004671247064458424</td>\n      <td>94000</td>\n      <td>1287.671233</td>\n      <td>73</td>\n      <td>3</td>\n      <td>1</td>\n      <td>2</td>\n      <td>0</td>\n      <td>0</td>\n      <td>1.0</td>\n      <td>...</td>\n      <td>-0.329772</td>\n      <td>39.481037</td>\n      <td>POINT (-0.329772432204423 39.4810367788998)</td>\n      <td>Playa de la Malvarrosa</td>\n      <td>unnamed road, 46011 Valencia, Spain</td>\n      <td>46011</td>\n      <td>0</td>\n      <td>0</td>\n      <td>0</td>\n      <td>1</td>\n    </tr>\n  </tbody>\n</table>\n<p>10 rows × 47 columns</p>\n</div>"
     },
     "execution_count": 29,
     "metadata": {},
     "output_type": "execute_result"
    }
   ],
   "source": [
    "data_cleaned.head(10)"
   ]
  },
  {
   "cell_type": "markdown",
   "id": "3055677d34e61acc",
   "metadata": {},
   "source": [
    "# Drop features not relevant for modelling"
   ]
  },
  {
   "cell_type": "markdown",
   "id": "83dcc750061de3c9",
   "metadata": {},
   "source": [
    "- Drop UNITPRICE as the variable is a result of the target variable PRICE\n",
    "- Drop ASSETID as it is a unique identifier only\n",
    "- Drop GEOMETRY as it is a repetition of LONGITUDE and LATITUDE\n",
    "- Drop ISPARKINGSPACEINCLUDEDINPRICE as EDA showed that HASPARKINGPRICE and ISPARKINGSPACEINCLUDEDINPRICE are equal to each other for all assets for all 3 cities.\n",
    "- Keep for now for feature engineering, to be dropped for modelling: `ASSETID`, `NEIGHBORHOOD`, and `ZIP_CODE`"
   ]
  },
  {
   "cell_type": "code",
   "execution_count": 30,
   "id": "eccf436bc9d92b5e",
   "metadata": {
    "ExecuteTime": {
     "end_time": "2024-07-10T08:50:58.425010400Z",
     "start_time": "2024-07-10T08:50:58.411632200Z"
    }
   },
   "outputs": [],
   "source": [
    "data_cleaned = data_cleaned.drop(columns=['UNITPRICE', 'GEOMETRY', 'ISPARKINGSPACEINCLUDEDINPRICE', 'ADDRESS_CLOSEST_METRO'])"
   ]
  },
  {
   "cell_type": "code",
   "execution_count": 31,
   "id": "326e0bfb05bedeeb",
   "metadata": {
    "ExecuteTime": {
     "end_time": "2024-07-10T08:50:58.440354500Z",
     "start_time": "2024-07-10T08:50:58.425010400Z"
    }
   },
   "outputs": [
    {
     "data": {
      "text/plain": "                 ASSETID    PRICE  CONSTRUCTEDAREA  ROOMNUMBER  BATHNUMBER  \\\n0  A10000434603646497633   126500               70           2           1   \n1  A10001334147587469388   630000              199           4           2   \n2  A10002599312155392987   215000              100           3           2   \n3  A10002648121225460937   240000              112           3           2   \n4  A10002658173109908582  1160000              289           5           4   \n\n   AMENITYID  HASPARKINGSPACE  PARKINGSPACEPRICE  HASTERRACE  HASLIFT  ...  \\\n0          3                0                1.0           0        0  ...   \n1          3                1                1.0           1        1  ...   \n2          3                0                1.0           1        1  ...   \n3          1                0                1.0           0        1  ...   \n4          2                0                1.0           0        0  ...   \n\n   DISTANCE_TO_METRO  DISTANCE_TO_MAIN_STREET  LONGITUDE   LATITUDE  \\\n0           0.734973                 0.854680  -0.330256  39.463535   \n1           0.724361                 2.102044  -0.357513  39.456699   \n2           0.423130                 0.800718  -0.334320  39.463025   \n3           0.378732                 3.256303  -0.401935  39.469964   \n4           0.186091                 0.770513  -0.367956  39.472377   \n\n                           NEIGHBORHOOD  ZIP_CODE  PERIOD_201803  \\\n0             El Cabanyal-El Canyamelar     46011              1   \n1  Ciutat de les Arts i de les Ciencies     46005              0   \n2                               El Grau     46022              0   \n3                             Nou Moles     46018              0   \n4                      El Pla del Remei     46004              0   \n\n   PERIOD_201806  PERIOD_201809  PERIOD_201812  \n0              0              0              0  \n1              0              0              1  \n2              0              0              1  \n3              0              0              1  \n4              0              0              1  \n\n[5 rows x 43 columns]",
      "text/html": "<div>\n<style scoped>\n    .dataframe tbody tr th:only-of-type {\n        vertical-align: middle;\n    }\n\n    .dataframe tbody tr th {\n        vertical-align: top;\n    }\n\n    .dataframe thead th {\n        text-align: right;\n    }\n</style>\n<table border=\"1\" class=\"dataframe\">\n  <thead>\n    <tr style=\"text-align: right;\">\n      <th></th>\n      <th>ASSETID</th>\n      <th>PRICE</th>\n      <th>CONSTRUCTEDAREA</th>\n      <th>ROOMNUMBER</th>\n      <th>BATHNUMBER</th>\n      <th>AMENITYID</th>\n      <th>HASPARKINGSPACE</th>\n      <th>PARKINGSPACEPRICE</th>\n      <th>HASTERRACE</th>\n      <th>HASLIFT</th>\n      <th>...</th>\n      <th>DISTANCE_TO_METRO</th>\n      <th>DISTANCE_TO_MAIN_STREET</th>\n      <th>LONGITUDE</th>\n      <th>LATITUDE</th>\n      <th>NEIGHBORHOOD</th>\n      <th>ZIP_CODE</th>\n      <th>PERIOD_201803</th>\n      <th>PERIOD_201806</th>\n      <th>PERIOD_201809</th>\n      <th>PERIOD_201812</th>\n    </tr>\n  </thead>\n  <tbody>\n    <tr>\n      <th>0</th>\n      <td>A10000434603646497633</td>\n      <td>126500</td>\n      <td>70</td>\n      <td>2</td>\n      <td>1</td>\n      <td>3</td>\n      <td>0</td>\n      <td>1.0</td>\n      <td>0</td>\n      <td>0</td>\n      <td>...</td>\n      <td>0.734973</td>\n      <td>0.854680</td>\n      <td>-0.330256</td>\n      <td>39.463535</td>\n      <td>El Cabanyal-El Canyamelar</td>\n      <td>46011</td>\n      <td>1</td>\n      <td>0</td>\n      <td>0</td>\n      <td>0</td>\n    </tr>\n    <tr>\n      <th>1</th>\n      <td>A10001334147587469388</td>\n      <td>630000</td>\n      <td>199</td>\n      <td>4</td>\n      <td>2</td>\n      <td>3</td>\n      <td>1</td>\n      <td>1.0</td>\n      <td>1</td>\n      <td>1</td>\n      <td>...</td>\n      <td>0.724361</td>\n      <td>2.102044</td>\n      <td>-0.357513</td>\n      <td>39.456699</td>\n      <td>Ciutat de les Arts i de les Ciencies</td>\n      <td>46005</td>\n      <td>0</td>\n      <td>0</td>\n      <td>0</td>\n      <td>1</td>\n    </tr>\n    <tr>\n      <th>2</th>\n      <td>A10002599312155392987</td>\n      <td>215000</td>\n      <td>100</td>\n      <td>3</td>\n      <td>2</td>\n      <td>3</td>\n      <td>0</td>\n      <td>1.0</td>\n      <td>1</td>\n      <td>1</td>\n      <td>...</td>\n      <td>0.423130</td>\n      <td>0.800718</td>\n      <td>-0.334320</td>\n      <td>39.463025</td>\n      <td>El Grau</td>\n      <td>46022</td>\n      <td>0</td>\n      <td>0</td>\n      <td>0</td>\n      <td>1</td>\n    </tr>\n    <tr>\n      <th>3</th>\n      <td>A10002648121225460937</td>\n      <td>240000</td>\n      <td>112</td>\n      <td>3</td>\n      <td>2</td>\n      <td>1</td>\n      <td>0</td>\n      <td>1.0</td>\n      <td>0</td>\n      <td>1</td>\n      <td>...</td>\n      <td>0.378732</td>\n      <td>3.256303</td>\n      <td>-0.401935</td>\n      <td>39.469964</td>\n      <td>Nou Moles</td>\n      <td>46018</td>\n      <td>0</td>\n      <td>0</td>\n      <td>0</td>\n      <td>1</td>\n    </tr>\n    <tr>\n      <th>4</th>\n      <td>A10002658173109908582</td>\n      <td>1160000</td>\n      <td>289</td>\n      <td>5</td>\n      <td>4</td>\n      <td>2</td>\n      <td>0</td>\n      <td>1.0</td>\n      <td>0</td>\n      <td>0</td>\n      <td>...</td>\n      <td>0.186091</td>\n      <td>0.770513</td>\n      <td>-0.367956</td>\n      <td>39.472377</td>\n      <td>El Pla del Remei</td>\n      <td>46004</td>\n      <td>0</td>\n      <td>0</td>\n      <td>0</td>\n      <td>1</td>\n    </tr>\n  </tbody>\n</table>\n<p>5 rows × 43 columns</p>\n</div>"
     },
     "execution_count": 31,
     "metadata": {},
     "output_type": "execute_result"
    }
   ],
   "source": [
    "data_cleaned.head()"
   ]
  },
  {
   "cell_type": "markdown",
   "id": "b9a55cde474fa0c7",
   "metadata": {},
   "source": [
    "# Write cleaned dataset to csv as input for notebooks 4 - Feature engineering"
   ]
  },
  {
   "cell_type": "code",
   "execution_count": 32,
   "id": "283cf093bf56bc3e",
   "metadata": {
    "ExecuteTime": {
     "end_time": "2024-07-10T08:50:58.866635400Z",
     "start_time": "2024-07-10T08:50:58.440354500Z"
    }
   },
   "outputs": [],
   "source": [
    "if city == \"Madrid\":\n",
    "    data_cleaned.to_csv(\"../../data/4_data_cleaned/madrid_cleaned_base_features.csv\", index=False)\n",
    "elif city == \"Barcelona\":\n",
    "    data_cleaned.to_csv(\"../../data/4_data_cleaned/barcelona_cleaned_base_features.csv\", index=False)\n",
    "elif city == \"Valencia\":\n",
    "    data_cleaned.to_csv(\"../../data/4_data_cleaned/valencia_cleaned_base_features.csv\", index=False)"
   ]
  }
 ],
 "metadata": {
  "kernelspec": {
   "display_name": "Python 3 (ipykernel)",
   "language": "python",
   "name": "python3"
  },
  "language_info": {
   "codemirror_mode": {
    "name": "ipython",
    "version": 3
   },
   "file_extension": ".py",
   "mimetype": "text/x-python",
   "name": "python",
   "nbconvert_exporter": "python",
   "pygments_lexer": "ipython3",
   "version": "3.11.4"
  }
 },
 "nbformat": 4,
 "nbformat_minor": 5
}
